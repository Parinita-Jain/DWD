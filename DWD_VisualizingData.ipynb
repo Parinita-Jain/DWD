{
  "nbformat": 4,
  "nbformat_minor": 0,
  "metadata": {
    "colab": {
      "provenance": [],
      "include_colab_link": true
    },
    "kernelspec": {
      "name": "python3",
      "display_name": "Python 3"
    },
    "language_info": {
      "name": "python"
    }
  },
  "cells": [
    {
      "cell_type": "markdown",
      "metadata": {
        "id": "view-in-github",
        "colab_type": "text"
      },
      "source": [
        "<a href=\"https://colab.research.google.com/github/Parinita-Jain/DWD/blob/main/DWD_VisualizingData.ipynb\" target=\"_parent\"><img src=\"https://colab.research.google.com/assets/colab-badge.svg\" alt=\"Open In Colab\"/></a>"
      ]
    },
    {
      "cell_type": "code",
      "execution_count": null,
      "metadata": {
        "id": "u9BiZBnsYIsC"
      },
      "outputs": [],
      "source": [
        "#to see continuous data,we can useline plot,histogram plots,boxplot,scatterplot or dot plot,etc.\n",
        "#plots to see categorical data- countplot,bar plot,pie plot"
      ]
    },
    {
      "cell_type": "code",
      "source": [
        "#Primary data is data collected by a researcher.For eg. I gave my students task to collect data about hobby of diiferent students and why?\n",
        "#Then comes secondry data-which is working on primary data and finding inferences out of it.\n",
        "#If there is data then only data can be analysed.\n",
        "#Like outof 20 classmates- 8 likes playing games in mobile.3 likes to read book,4like towatch cricket and rest others like to play football."
      ],
      "metadata": {
        "id": "xSNqu-HhYQvx"
      },
      "execution_count": null,
      "outputs": []
    },
    {
      "cell_type": "code",
      "source": [
        "'''\n",
        "#Correlation between 2 variables given by correlation coefficient.- gives relationship between something.\n",
        "# for eg. there is a variable x->y\n",
        "#change in x changes y.Here x is an independent variable and y is a dependent variable.i.e. y depends on x. This is called correlation in statistics.\n",
        "#For eg.\n",
        "#Temp and icecream sale\n",
        " 12         100\n",
        " 15         110\n",
        " 20         200\n",
        " 23         230\n",
        " 30         400\n",
        " #i.e. with the incrase in temp, ice cream sales increase.\n",
        " So, the type of correlation are-\n",
        " 1. perfect +ve corr\n",
        " 2.weak +ve corr\n",
        " 3.perfect -ve corr\n",
        " 4.weak -ve corr\n",
        " 5. No corr\n",
        "\n",
        " Now, corr is always between -1,0,1\n",
        "\n",
        " -1 = negative corr or near to -1\n",
        " 0=no corr\n",
        " 1= positive corr or near to 1\n",
        "\n",
        " We can use scatter plot to see corr.When data is scattered all over, then there is no corr.\n",
        "\n",
        "\n",
        " '''"
      ],
      "metadata": {
        "id": "36Vf9t_8YQyE"
      },
      "execution_count": null,
      "outputs": []
    },
    {
      "cell_type": "code",
      "source": [
        "import numpy as np\n",
        "import pandas as pd\n",
        "import seaborn as sns\n",
        "import matplotlib.pyplot as plt"
      ],
      "metadata": {
        "id": "B65pyzhiYQ0S"
      },
      "execution_count": null,
      "outputs": []
    },
    {
      "cell_type": "code",
      "source": [
        "x=[22,15,11,8,5,-2] #temp\n",
        "y=[2500,1500,800,300,200,90]#ice-cream sales\n",
        "plt.figure(figsize=(6,6))\n",
        "sns.lineplot(x,y)\n",
        "plt.show()"
      ],
      "metadata": {
        "id": "rzkUxW-SYQ2m",
        "colab": {
          "base_uri": "https://localhost:8080/",
          "height": 429
        },
        "outputId": "0f672245-187c-4ce6-a7dc-a871dfb4db32"
      },
      "execution_count": null,
      "outputs": [
        {
          "output_type": "stream",
          "name": "stderr",
          "text": [
            "/usr/local/lib/python3.7/dist-packages/seaborn/_decorators.py:43: FutureWarning: Pass the following variables as keyword args: x, y. From version 0.12, the only valid positional argument will be `data`, and passing other arguments without an explicit keyword will result in an error or misinterpretation.\n",
            "  FutureWarning\n"
          ]
        },
        {
          "output_type": "display_data",
          "data": {
            "text/plain": [
              "<Figure size 432x432 with 1 Axes>"
            ],
            "image/png": "[encoded data removed]"
          },
          "metadata": {
            "needs_background": "light"
          }
        }
      ]
    },
    {
      "cell_type": "code",
      "source": [
        "# formula for corr func is-\n",
        "#corr between x,y i.e r= summation of(x-xmean)(y-ymean)/root(summation of(x-xmean)^2*summation of(y-ymean)^2)"
      ],
      "metadata": {
        "id": "wCSTO3nUYQ88"
      },
      "execution_count": null,
      "outputs": []
    },
    {
      "cell_type": "code",
      "source": [
        "meanx=sum(x)/len(x)\n",
        "meany=sum(y)/len(y)\n",
        "print(\"mean x\",meanx)\n",
        "print(\"mean y\",meany)"
      ],
      "metadata": {
        "id": "4aXllcAuYRAa",
        "colab": {
          "base_uri": "https://localhost:8080/"
        },
        "outputId": "daa96d62-8b55-46f0-c0cf-e789e96d2cf4"
      },
      "execution_count": null,
      "outputs": [
        {
          "output_type": "stream",
          "name": "stdout",
          "text": [
            "mean x 9.833333333333334\n",
            "mean y 898.3333333333334\n"
          ]
        }
      ]
    },
    {
      "cell_type": "code",
      "source": [
        "xdiff=[(i-meanx) for i in x]\n",
        "ydiff=[(i-meany) for i in y]"
      ],
      "metadata": {
        "id": "zWdujxexc-s5"
      },
      "execution_count": null,
      "outputs": []
    },
    {
      "cell_type": "code",
      "source": [
        "xdiffsq=[(i-meanx)**2 for i in x]\n",
        "ydiffsq=[(i-meany)**2 for i in y]"
      ],
      "metadata": {
        "id": "PkmW8GLmYRCj"
      },
      "execution_count": null,
      "outputs": []
    },
    {
      "cell_type": "code",
      "source": [
        "import math\n",
        "mulxydiff=[xdiff[i]*ydiff[i] for i in range(len(xdiff))]"
      ],
      "metadata": {
        "id": "HXAzWlaDYREb"
      },
      "execution_count": null,
      "outputs": []
    },
    {
      "cell_type": "code",
      "source": [
        "sum(mulxydiff)"
      ],
      "metadata": {
        "id": "QJUZvE_5YRGg",
        "colab": {
          "base_uri": "https://localhost:8080/"
        },
        "outputId": "5969ccbe-b3ab-4bd0-8bb0-81201965cb97"
      },
      "execution_count": null,
      "outputs": [
        {
          "output_type": "execute_result",
          "data": {
            "text/plain": [
              "36518.33333333333"
            ]
          },
          "metadata": {},
          "execution_count": 17
        }
      ]
    },
    {
      "cell_type": "code",
      "source": [
        "mulxydiffsq=[xdiffsq[i]*ydiffsq[i] for i in range(len(xdiffsq))]"
      ],
      "metadata": {
        "id": "kT12GlbAYRIY"
      },
      "execution_count": null,
      "outputs": []
    },
    {
      "cell_type": "code",
      "source": [
        "sum(mulxydiffsq)"
      ],
      "metadata": {
        "colab": {
          "base_uri": "https://localhost:8080/"
        },
        "id": "5zf_d-28duBw",
        "outputId": "2efea27b-66ac-45d4-fe0d-f2943f1f7302"
      },
      "execution_count": null,
      "outputs": [
        {
          "output_type": "execute_result",
          "data": {
            "text/plain": [
              "493507954.1666666"
            ]
          },
          "metadata": {},
          "execution_count": 19
        }
      ]
    },
    {
      "cell_type": "code",
      "source": [
        "corr=sum(mulxydiff)/math.sqrt(sum(mulxydiffsq))\n",
        "corr"
      ],
      "metadata": {
        "colab": {
          "base_uri": "https://localhost:8080/"
        },
        "id": "u4xgaEJpduDl",
        "outputId": "178670e1-65a0-475d-8bba-c804196f9181"
      },
      "execution_count": null,
      "outputs": [
        {
          "output_type": "execute_result",
          "data": {
            "text/plain": [
              "1.6438563743556045"
            ]
          },
          "metadata": {},
          "execution_count": 21
        }
      ]
    },
    {
      "cell_type": "code",
      "source": [
        "data={\"temp\":[22,15,11,8,5,-2],\"Icecream Sales\":[2500,1500,800,300,200,90]}\n",
        "df=pd.DataFrame(data,columns=[\"temp\",\"Icecream Sales\"])\n",
        "df"
      ],
      "metadata": {
        "colab": {
          "base_uri": "https://localhost:8080/",
          "height": 238
        },
        "id": "klZ9sS0UduGM",
        "outputId": "309a30c0-a572-4a80-e4ec-c7377de319f0"
      },
      "execution_count": null,
      "outputs": [
        {
          "output_type": "execute_result",
          "data": {
            "text/plain": [
              "   temp  Icecream Sales\n",
              "0    22            2500\n",
              "1    15            1500\n",
              "2    11             800\n",
              "3     8             300\n",
              "4     5             200\n",
              "5    -2              90"
            ],
            "text/html": [
              "\n",
              "  <div id=\"df-df36096d-ebf1-4e64-8147-deb559e41af7\">\n",
              "    <div class=\"colab-df-container\">\n",
              "      <div>\n",
              "<style scoped>\n",
              "    .dataframe tbody tr th:only-of-type {\n",
              "        vertical-align: middle;\n",
              "    }\n",
              "\n",
              "    .dataframe tbody tr th {\n",
              "        vertical-align: top;\n",
              "    }\n",
              "\n",
              "    .dataframe thead th {\n",
              "        text-align: right;\n",
              "    }\n",
              "</style>\n",
              "<table border=\"1\" class=\"dataframe\">\n",
              "  <thead>\n",
              "    <tr style=\"text-align: right;\">\n",
              "      <th></th>\n",
              "      <th>temp</th>\n",
              "      <th>Icecream Sales</th>\n",
              "    </tr>\n",
              "  </thead>\n",
              "  <tbody>\n",
              "    <tr>\n",
              "      <th>0</th>\n",
              "      <td>22</td>\n",
              "      <td>2500</td>\n",
              "    </tr>\n",
              "    <tr>\n",
              "      <th>1</th>\n",
              "      <td>15</td>\n",
              "      <td>1500</td>\n",
              "    </tr>\n",
              "    <tr>\n",
              "      <th>2</th>\n",
              "      <td>11</td>\n",
              "      <td>800</td>\n",
              "    </tr>\n",
              "    <tr>\n",
              "      <th>3</th>\n",
              "      <td>8</td>\n",
              "      <td>300</td>\n",
              "    </tr>\n",
              "    <tr>\n",
              "      <th>4</th>\n",
              "      <td>5</td>\n",
              "      <td>200</td>\n",
              "    </tr>\n",
              "    <tr>\n",
              "      <th>5</th>\n",
              "      <td>-2</td>\n",
              "      <td>90</td>\n",
              "    </tr>\n",
              "  </tbody>\n",
              "</table>\n",
              "</div>\n",
              "      <button class=\"colab-df-convert\" onclick=\"convertToInteractive('df-df36096d-ebf1-4e64-8147-deb559e41af7')\"\n",
              "              title=\"Convert this dataframe to an interactive table.\"\n",
              "              style=\"display:none;\">\n",
              "        \n",
              "  <svg xmlns=\"http://www.w3.org/2000/svg\" height=\"24px\"viewBox=\"0 0 24 24\"\n",
              "       width=\"24px\">\n",
              "    <path d=\"M0 0h24v24H0V0z\" fill=\"none\"/>\n",
              "    <path d=\"M18.56 5.44l.94 2.06.94-2.06 2.06-.94-2.06-.94-.94-2.06-.94 2.06-2.06.94zm-11 1L8.5 8.5l.94-2.06 2.06-.94-2.06-.94L8.5 2.5l-.94 2.06-2.06.94zm10 10l.94 2.06.94-2.06 2.06-.94-2.06-.94-.94-2.06-.94 2.06-2.06.94z\"/><path d=\"M17.41 7.96l-1.37-1.37c-.4-.4-.92-.59-1.43-.59-.52 0-1.04.2-1.43.59L10.3 9.45l-7.72 7.72c-.78.78-.78 2.05 0 2.83L4 21.41c.39.39.9.59 1.41.59.51 0 1.02-.2 1.41-.59l7.78-7.78 2.81-2.81c.8-.78.8-2.07 0-2.86zM5.41 20L4 18.59l7.72-7.72 1.47 1.35L5.41 20z\"/>\n",
              "  </svg>\n",
              "      </button>\n",
              "      \n",
              "  <style>\n",
              "    .colab-df-container {\n",
              "      display:flex;\n",
              "      flex-wrap:wrap;\n",
              "      gap: 12px;\n",
              "    }\n",
              "\n",
              "    .colab-df-convert {\n",
              "      background-color: #E8F0FE;\n",
              "      border: none;\n",
              "      border-radius: 50%;\n",
              "      cursor: pointer;\n",
              "      display: none;\n",
              "      fill: #1967D2;\n",
              "      height: 32px;\n",
              "      padding: 0 0 0 0;\n",
              "      width: 32px;\n",
              "    }\n",
              "\n",
              "    .colab-df-convert:hover {\n",
              "      background-color: #E2EBFA;\n",
              "      box-shadow: 0px 1px 2px rgba(60, 64, 67, 0.3), 0px 1px 3px 1px rgba(60, 64, 67, 0.15);\n",
              "      fill: #174EA6;\n",
              "    }\n",
              "\n",
              "    [theme=dark] .colab-df-convert {\n",
              "      background-color: #3B4455;\n",
              "      fill: #D2E3FC;\n",
              "    }\n",
              "\n",
              "    [theme=dark] .colab-df-convert:hover {\n",
              "      background-color: #434B5C;\n",
              "      box-shadow: 0px 1px 3px 1px rgba(0, 0, 0, 0.15);\n",
              "      filter: drop-shadow(0px 1px 2px rgba(0, 0, 0, 0.3));\n",
              "      fill: #FFFFFF;\n",
              "    }\n",
              "  </style>\n",
              "\n",
              "      <script>\n",
              "        const buttonEl =\n",
              "          document.querySelector('#df-df36096d-ebf1-4e64-8147-deb559e41af7 button.colab-df-convert');\n",
              "        buttonEl.style.display =\n",
              "          google.colab.kernel.accessAllowed ? 'block' : 'none';\n",
              "\n",
              "        async function convertToInteractive(key) {\n",
              "          const element = document.querySelector('#df-df36096d-ebf1-4e64-8147-deb559e41af7');\n",
              "          const dataTable =\n",
              "            await google.colab.kernel.invokeFunction('convertToInteractive',\n",
              "                                                     [key], {});\n",
              "          if (!dataTable) return;\n",
              "\n",
              "          const docLinkHtml = 'Like what you see? Visit the ' +\n",
              "            '<a target=\"_blank\" href=https://colab.research.google.com/notebooks/data_table.ipynb>data table notebook</a>'\n",
              "            + ' to learn more about interactive tables.';\n",
              "          element.innerHTML = '';\n",
              "          dataTable['output_type'] = 'display_data';\n",
              "          await google.colab.output.renderOutput(dataTable, element);\n",
              "          const docLink = document.createElement('div');\n",
              "          docLink.innerHTML = docLinkHtml;\n",
              "          element.appendChild(docLink);\n",
              "        }\n",
              "      </script>\n",
              "    </div>\n",
              "  </div>\n",
              "  "
            ]
          },
          "metadata": {},
          "execution_count": 27
        }
      ]
    },
    {
      "cell_type": "code",
      "source": [
        "corr=df.corr()"
      ],
      "metadata": {
        "id": "3OCX688VduIw"
      },
      "execution_count": null,
      "outputs": []
    },
    {
      "cell_type": "code",
      "source": [
        "plt.figure(figsize=(6,6))\n",
        "sns.heatmap(corr,annot=True)\n",
        "plt.show()"
      ],
      "metadata": {
        "colab": {
          "base_uri": "https://localhost:8080/",
          "height": 378
        },
        "id": "2NHBhkCAduLG",
        "outputId": "a9e083bd-0f12-448d-c9a0-ca71e8b2cfce"
      },
      "execution_count": null,
      "outputs": [
        {
          "output_type": "display_data",
          "data": {
            "text/plain": [
              "<Figure size 432x432 with 2 Axes>"
            ],
            "image/png": "[encoded data removed]"
          },
          "metadata": {
            "needs_background": "light"
          }
        }
      ]
    },
    {
      "cell_type": "code",
      "source": [
        "#DWD_Probability\n",
        "'''\n",
        "1. Introduction to Probability\n",
        "2.Set theory\n",
        "3.Dependent and independent probability\n",
        "4.Conditional Probability\n",
        "5.Bayes Theorem\n",
        "6.Random VAriable\n",
        "7.Probability distribution.\n",
        "'''"
      ],
      "metadata": {
        "id": "j9znWEZRf-4u"
      },
      "execution_count": null,
      "outputs": []
    },
    {
      "cell_type": "code",
      "source": [
        "# Introduction to prob-Probability is simply how likely something is to happen. Whenever we're unsure about the outcome of an event,\n",
        "#we can talk about the probabilities of certain outcomes—how likely they are. The analysis of events governed by probability is called statistics.\n",
        "'''\n",
        "\n",
        "for eg, i have 1 coin , it has 2 sides- H and Tails. The prob of getting h is 1/2 and prob of getting t is 1/2 i.e. 50% chance of getting H and 50%\n",
        "chance of getting T.\n",
        "lly, prob og geeting 3 in dice=1/6 =0.16% chance of getting any side.\n",
        "So formula for prob=no. of ways it can happen/total no. of outcomes'''"
      ],
      "metadata": {
        "id": "EtmPootGf-6j"
      },
      "execution_count": null,
      "outputs": []
    },
    {
      "cell_type": "code",
      "source": [
        "'''\n",
        "prob line is between 0----0.5-----1\n",
        "0 means impossible, 0.5 means even chance,1 means certain\n",
        "0----0.5 is unlikely\n",
        "0.5----1 is likely\n",
        "prob of getting even no. from dice=3/6=0.5 and odd=3/6=0.5\n",
        "prob is just the guideline to find facts from the event.\n",
        "experiment=repeateble procedure like tossing coin\n",
        "sample space=possible outcome toss=(head,tail)\n",
        "event=outcome based on experiment for head (1/2) and tail=(1/2)\n",
        "'''"
      ],
      "metadata": {
        "id": "1Fw13Zn9f-9C"
      },
      "execution_count": null,
      "outputs": []
    },
    {
      "cell_type": "code",
      "source": [
        "# set theory\n",
        "'''\n",
        "In probability sample set is set of data,now to understand sets, we need to dive into set theory of boolean algebra\n",
        "What is set? Set is a unique collection of objects(character,alphabets,symbols,numbers)\n",
        "eg, numset={all the numbers}\n",
        "even set={all even numbers}\n",
        "odd set={all odd numbers}\n",
        "\n",
        "if a={1,2,3,4}\n",
        "b={3,4,5,6}\n",
        "then,aUb={1,2,3,4,5,6}\n",
        "a intersection b={3,4}\n",
        "now, how set theory relates to prob?=\n",
        "experiment={rolling the dice}\n",
        "s={1,2,3,4,5,6}\n",
        "chance of getting no. divisible by 2={2,4,6}=3/6\n",
        "chance of getting prime nos.={2,3,5}=3/6\n",
        "prob of getting even >3={4,6}=2/6\n",
        "E1 intersection E2=2/6\n",
        "\n",
        "Proof of prob-\n",
        "\n",
        "toss coin getting H=1/2\n",
        "toss coin getting T=1/2\n",
        "sum of H and T=0.5+0.5=1\n",
        "\n",
        "\n",
        "'''"
      ],
      "metadata": {
        "id": "2ujf2a4rf-_o"
      },
      "execution_count": null,
      "outputs": []
    },
    {
      "cell_type": "code",
      "source": [
        "'''\n",
        "Dependent and Independent Prob or Conditional Probability-\n",
        "\n",
        "When 2 events outcome doesnot change its prob values, its called independent prob\n",
        "Tossing a coion getting H or T are the eg of Independent prob\n",
        "\n",
        "Note: i.e. events are disconnected from each other.\n",
        "\n",
        "Dependent prob-when the outcome of the first event influences the outcome of the second event.\n",
        "Q. prob of getting 3 aces in a row-\n",
        "P(getting 3 aces in a row)=4/52*3/51*2/50=0.0181%-------This is called Conditional Prob.Dependent prob is also known as Conditional Prob\n",
        "\n",
        "Baye's Theorem-\n",
        "\n",
        "When two events, A and B are dependent, the probability of occurrence of A and B is:\n",
        "\n",
        "P(A and B) = P(A) · P(B|A), or,\n",
        "The probability of simultaneous happening of two events A and B is equal to the probability of A multiplied by\n",
        "the conditional probability of B with respect to A.\n",
        "P(A∩B) = P(B).P(A/B)\n",
        "The probability of simultaneous happening of two events A and B is equal to the probability of B multiplied by\n",
        "the conditional probability of A with respect to B.\n",
        "\n",
        "Q.Shareen has to select two students from a class of 23 girls and 25 boys. What is the probability that both students chosen are boys?\n",
        "\n",
        "Solution: Total number of students = 23 + 25 = 48\n",
        "\n",
        "Probability of choosing the first boy, say Boy 1 = 25/48\n",
        "\n",
        "Probability of choosing the second boy, say Boy 2 = 24/47\n",
        "\n",
        "Now,\n",
        "\n",
        "P(Boy 1 and Boy 2) = P(Boy 1) and P(Boy 2|Boy 1)\n",
        "\n",
        "= (25/48) × (24/47)\n",
        "\n",
        "= 600/2256\n",
        "\n",
        "Two cards are drawn one by one from a pack of 52 cards without replacement. What is the probability that the first card drawn is a king and\n",
        "second is queen?\n",
        "\n",
        "Solution:\n",
        "\n",
        "Let A be the event of drawing a king and B be the event of drawing a queen. Since, the first card, that is, king is not replaced before drawing the second card, that is queen, the two events are dependent.\n",
        "\n",
        "Total number of balls = 52\n",
        "\n",
        "Number of kings = 4\n",
        "\n",
        "Therefore,\n",
        "\n",
        "Probability of drawing a king, P(A) = 4/52\n",
        "\n",
        "The number of cards in the deck now is 52 - 1 = 51\n",
        "\n",
        "Number of queen = 4\n",
        "\n",
        "A queen is drawn given that a king is drawn. Therefore, conditional probability of B given that A has occurred is,\n",
        "\n",
        "P(B/A) = 4/51\n",
        "\n",
        "Now, the probability that events A and B occur simultaneously is given by,\n",
        "\n",
        "P(A∩B) = P(A).P(B/A)\n",
        "\n",
        "Substituting the respective values,\n",
        "\n",
        "P(A∩B) = 4/52\n",
        " × 4/51\n",
        " = 4/663\n",
        "\n",
        "Therefore, the probability that the first card drawn is a king and second is queen is 4/663.\n",
        "'''"
      ],
      "metadata": {
        "id": "2xBkfFtZf_Bw"
      },
      "execution_count": null,
      "outputs": []
    },
    {
      "cell_type": "code",
      "source": [
        "'''\n",
        "Random Variable\n",
        "In probability, a random variable is a real valued function whose domain is the sample space of the random experiment.\n",
        "For example, let us consider an experiment for tossing a coin two times.\n",
        "\n",
        "Hence, the sample space for this experiment is S = {HH, HT, TH, TT}\n",
        "\n",
        "If X is a random variable and it denotes the number of heads obtained, then the values are represented as follows:\n",
        "\n",
        "X(HH) = 2, X(HT) = 1, X(TH) = 1, X(TT) = 0.\n",
        "\n",
        "Similarly, we can define the number of tails obtained using another variable, say Y.\n",
        "\n",
        "(i.e) Y(HH) = 0, Y(HT) = 1, Y(TH) = 1, Y(TT)= 2.\n",
        "'''"
      ],
      "metadata": {
        "id": "BtR8OqQuf_Df"
      },
      "execution_count": null,
      "outputs": []
    },
    {
      "cell_type": "code",
      "source": [
        "# Probability Distribution-\n",
        "'''\n",
        "What is binomial distribution?which kind of graph it produces?Some eg.\n",
        "What is Random variable?\n",
        "What is Probability Distribution?-Outcomes of an experiment when we plot in a bar graph,etc."
      ],
      "metadata": {
        "id": "bfuWCP4Uf_FF"
      },
      "execution_count": null,
      "outputs": []
    },
    {
      "cell_type": "code",
      "source": [
        "\n",
        "'''\n",
        "Homework\n",
        "Random Variable and Distribution (ProbabilityDistribution)\n",
        "Normal Distribution\n",
        "Binomial Distribution\n",
        "Cumulative Distribution\n",
        "Uniform Distribution\n",
        "Multinomial Distribution\n",
        "Continuous Random Variable Distribution\n",
        "\n",
        "\n",
        "'''"
      ],
      "metadata": {
        "id": "lET7TpvKf_G_"
      },
      "execution_count": null,
      "outputs": []
    },
    {
      "cell_type": "code",
      "source": [
        "'''\n",
        "A probability distribution is a function under probability theory and statistics- one that gives us how probable different outcomes\n",
        "are in an experiment.\n",
        "\n",
        "It describes events in terms of their probabilities; this is out of all possible outcomes.\n",
        "Let’s take the probability distribution of a fair coin toss.\n",
        "Here, heads take a value of X=0.5 and tails gets X=0.5 too.\n",
        "Two classes of such a distribution are discrete and continuous.\n",
        "The former represented by a probability mass function and the latter by a probability density function.\n",
        "\n",
        "'''"
      ],
      "metadata": {
        "id": "uCI0Y9oVpSpX"
      },
      "execution_count": null,
      "outputs": []
    },
    {
      "cell_type": "code",
      "source": [
        "# Normal Distribution\n",
        "\n",
        "import numpy as np\n",
        "import matplotlib.pyplot as plt\n",
        "from scipy.stats import norm\n",
        "import statistics\n",
        "\n",
        "# Plot between -10 and 10 with .001 steps.\n",
        "x_axis = np.arange(-20, 20, 0.01)\n",
        "\n",
        "# Calculating mean and standard deviation\n",
        "mean = statistics.mean(x_axis)\n",
        "sd = statistics.stdev(x_axis)\n",
        "\n",
        "plt.plot(x_axis, norm.pdf(x_axis, mean, sd))\n",
        "plt.show()\n",
        "\n",
        "'''\n",
        "The empirical rule in statistics allows researchers to determine the proportion of values that fall within certain distances from the mean.\n",
        "The empirical rule is often referred to as the three-sigma rule or the 68-95-99.7 rule.\n",
        "\n",
        "The Empirical Rule(also called the 68-95-99.7 Rule or the Three Sigma Rule) states that for any normal distribution, we have the following observations :\n",
        "\n",
        "68% of the observed values lie between 1 standard deviation around the mean : (mu-sigma) to (mu+sigma)\n",
        "95% of the observed values lie between 2 standard deviations around the mean : (mu-2*sigma) to (mu+2*sigma)\n",
        "99.7% of the observed values lie between 3 standard deviation around the mean : (mu-3*sigma) to (mu+3*sigma)\n",
        "'''"
      ],
      "metadata": {
        "colab": {
          "base_uri": "https://localhost:8080/",
          "height": 265
        },
        "id": "zwRYI2XfqWlI",
        "outputId": "c4432038-9c57-4cfa-b8c8-cd7bdfa1000b"
      },
      "execution_count": null,
      "outputs": [
        {
          "output_type": "display_data",
          "data": {
            "text/plain": [
              "<Figure size 432x288 with 1 Axes>"
            ],
            "image/png": "[encoded data removed]"
          },
          "metadata": {
            "needs_background": "light"
          }
        }
      ]
    },
    {
      "cell_type": "code",
      "source": [
        "'''\n",
        "Binomial Distribution in Python\n",
        "Python binomial distribution tells us the probability of how often there will be a success in n independent experiments.\n",
        "Such experiments are yes-no questions.\n",
        "\n",
        "There must be only 2 possible outcomes.\n",
        "Each outcome has a fixed probability of occurring. A success has the probability of p, and a failure has the probability of 1 – p.\n",
        "Each trial is completely independent of all others.\n",
        "The binomial random variable represents the number of successes(r) in n successive independent trials of a Bernoulli experiment.\n",
        "\n",
        "Probability of achieving r success and n-r failure is :\n",
        "\n",
        "n*p^r * (1-p)^{n-r}\n",
        "\n",
        "Example 1: If a coin is tossed 5 times, find the probability of:\n",
        "\n",
        "(a) Exactly 2 heads\n",
        "\n",
        "Number of trials: n=5\n",
        "\n",
        "Probability of head: p= 1/2 and hence the probability of tail, q =1/2\n",
        "\n",
        "For exactly two heads:\n",
        "\n",
        "x=2\n",
        "\n",
        "P(x=2) = 5C2 p2 q5-2 = 5! / 2! 3! × (½)2× (½)3\n",
        "\n",
        "P(x=2) = 5/16\n",
        "\n",
        "Calculating distribution table :\n",
        "\n",
        "Approach :\n",
        "\n",
        "Define n and p. n= Required. Specify number of trials, must be >= 0. Floats are also accepted, but they will be truncated to integers.\n",
        "p=Required. Specify probability of success in each trial, must be in range [0, 1]. float or array_like of floats.\n",
        "Define a list of values of r from 0 to n.\n",
        "Get mean and variance.\n",
        "For each r, calculate the pmf and store in a list.\n",
        "\n",
        "'''"
      ],
      "metadata": {
        "id": "I7KjV5zuqqlK"
      },
      "execution_count": null,
      "outputs": []
    },
    {
      "cell_type": "code",
      "source": [
        "import matplotlib.pyplot as plt\n",
        "import numpy as np\n",
        "\n",
        "#fixing the seed for reproducibility\n",
        "#of the result\n",
        "np.random.seed(10)\n",
        "\n",
        "size = 10000\n",
        "#drawing 10000 sample from\n",
        "#binomial distribution\n",
        "sample = np.random.binomial(20, 0.7, size)\n",
        "bin = np.arange(0,20,1)\n",
        "\n",
        "plt.hist(sample, bins=bin, edgecolor='blue')\n",
        "plt.title(\"Binomial Distribution\")\n",
        "plt.show()"
      ],
      "metadata": {
        "colab": {
          "base_uri": "https://localhost:8080/",
          "height": 281
        },
        "id": "1PxSE5X0rekN",
        "outputId": "74878d24-4632-479c-e207-5198066fed05"
      },
      "execution_count": null,
      "outputs": [
        {
          "output_type": "display_data",
          "data": {
            "text/plain": [
              "<Figure size 432x288 with 1 Axes>"
            ],
            "image/png": "[encoded data removed]"
          },
          "metadata": {
            "needs_background": "light"
          }
        }
      ]
    },
    {
      "cell_type": "code",
      "source": [
        "'''\n",
        "Poisson Distribution in Python\n",
        "Python Poisson distribution tells us about how probable it is that a certain number of events happen in a fixed interval of time or space.\n",
        "This assumes that these events happen at a constant rate and also independent of the last event.\n",
        "\n",
        "For example, a Poisson distribution could be used to explain or predict:\n",
        "\n",
        "Text messages per hour\n",
        "Machine malfunctions per year\n",
        "Website visitors per month\n",
        "Influenza cases per year\n",
        "\n",
        "'''"
      ],
      "metadata": {
        "id": "pADRAPLgswBr"
      },
      "execution_count": null,
      "outputs": []
    },
    {
      "cell_type": "code",
      "source": [
        "'''\n",
        "In statistics, uniform distribution refers to a type of probability distribution in which all outcomes are equally likely.\n",
        "A deck of cards has within it uniform distributions because the likelihood of drawing a heart, a club, a diamond, or a spade is equally likely.\n",
        "A coin also has a uniform distribution because the probability of getting either heads or tails in a coin toss is the same.\n",
        "'''"
      ],
      "metadata": {
        "id": "c7Xv_lL2t-6N"
      },
      "execution_count": null,
      "outputs": []
    },
    {
      "cell_type": "code",
      "source": [
        "'''\n",
        "Inferential statistics use laws of probability to make inferences about a population based on information obtained from a sample.\n",
        "'''"
      ],
      "metadata": {
        "id": "c-04exV3uf8y"
      },
      "execution_count": null,
      "outputs": []
    },
    {
      "cell_type": "code",
      "source": [
        "#Inferential Statistics\n",
        "'''\n",
        "Why we need Inferential Statistics?\n",
        "Pre-requisites\n",
        "Sampling Distribution and Central Limit Theorem\n",
        "Hypothesis Testing\n",
        "Types of Error in Hypothesis Testing\n",
        "T-tests\n",
        "Different types of t-test\n",
        "ANOVA\n",
        "Chi-Square\n",
        "\n",
        "\n",
        "\n",
        "1. Why do we need Inferential Statistics?\n",
        "Suppose, you want to know the average salary of Data Science professionals in India. Which of the following methods can be used to calculate it?\n",
        "\n",
        "Meet every Data Science professional in India. Note down their salaries and then calculate the total average?\n",
        "Or hand pick a number of professionals in a city like Gurgaon. Note down their salaries and use it to calculate the Indian average.\n",
        "Well, the first method is not impossible but it would require an enormous amount of resources and time.\n",
        "But today, companies want to make decisions swiftly and in a cost-effective way, so the first method doesn’t stand a chance.\n",
        "\n",
        "On the other hand, second method seems feasible. But, there is a caveat.\n",
        " What if the population of Gurgaon is not reflective of the entire population of India?\n",
        " There are then good chances of you making a very wrong estimate of the salary of Indian Data Science professionals.\n",
        "\n",
        "Now, what method can be used to estimate the average salary of all data scientists across India?\n",
        "\n",
        "Enter Inferential Statistics\n",
        "In simple language, Inferential Statistics is used to draw inferences beyond the immediate data available.\n",
        "\n",
        "With the help of inferential statistics, we can answer the following questions:\n",
        "\n",
        "Making inferences about the population from the sample.\n",
        "Concluding whether a sample is significantly different from the population. For example,\n",
        "let’s say you collected the salary details of Data Science professionals in Bangalore.\n",
        "And you observed that the average salary of Bangalore’s data scientists is more than the average salary across India.\n",
        "Now, we can conclude if the difference is statistically significant.\n",
        "\n",
        "If adding or removing a feature from a model will really help to improve the model.\n",
        "If one model is significantly better than the other?\n",
        "\n",
        "\n",
        "Now, u should must know-\n",
        "\n",
        "Statistic – A Single measure of some attribute of a sample. For eg: Mean/Median/Mode of a sample of Data Scientists in Bangalore.\n",
        "Population Statistic – The statistic of the entire population in context. For eg: Population mean for the salary of the entire population of Data Scientists across India.\n",
        "Sample Statistic – The statistic of a group taken from a population. For eg: Mean of salaries of all Data Scientists in Bangalore.\n",
        "Standard Deviation – It is the amount of variation in the population data. It is given by σ.\n",
        "Standard Error – It is the amount of variation in the sample data. It is related to Standard Deviation as σ/√n, where, n is the sample size.\n",
        "\n",
        "'''"
      ],
      "metadata": {
        "id": "lI73STNuf_JU"
      },
      "execution_count": null,
      "outputs": []
    },
    {
      "cell_type": "code",
      "source": [
        "'''\n",
        "Sampling------\n",
        "What is sampling?\n",
        "Imgine there is a population of shark-10,000\n",
        "whose avg weight is 250kg\n",
        "\n",
        "This is called as a population avg\n",
        "\n",
        "Now,if I take a random sample from population and size of sample is 50 and we get avg of those 50 weight , we get 280kg.\n",
        "\n",
        "So population mean=250\n",
        "and sample mean=280\n",
        "Now, we took onemore sample,and we calculate one more sample of 50 size and we get avg of those 50 weight,275.\n",
        "\n",
        "So,this way if we take samples and its avg weight, then we must get the data distribution normally distributed,\n",
        "Then we can conclude that the avg weight of shark is 250 to 275.\n",
        "\n",
        "i.e in Inferential Statistics , from sample dataset wetry to infer about the population.\n",
        "\n",
        "1.e. based on sample we make some assumption on population.\n",
        "\n",
        "Vaccination drive staarted on sample,and after getting valid results, population vaccination was done.\n",
        "\n",
        "'''"
      ],
      "metadata": {
        "id": "ZTL4dPNqf_Ls"
      },
      "execution_count": null,
      "outputs": []
    },
    {
      "cell_type": "code",
      "source": [
        "'''\n",
        "Sampling Distributions-Sampling Distribution is the graph obtained by plotting sample means.\n",
        "\n",
        "Sampling Distribution helps to estimate the population statistic.\n",
        "But how ?\n",
        "\n",
        "This will be explained using a very important theorem in statistics – The Central Limit Theorem.\n",
        "\n",
        "Central Limit Theorem\n",
        "It states that when plotting a sampling distribution of means, the mean of sample means will be equal to the population mean.\n",
        "And the sampling distribution is equal to  normal distribution with variance equal to σ/√n where\n",
        "σ is the std dev of population and n is the sample size.\n",
        "\n",
        "1.The shape of the Sampling Distribution will remain the same (remember the normal curve- bell shaped).\n",
        "2.The number of samples have to be sufficient (generally more than 50) to satisfactorily achieve a normal curve distribution.\n",
        "Also, care has to be taken to keep the sample size fixed since any change in sample size will change the shape of the sampling distribution and\n",
        "it will no longer be bell shaped.\n",
        "3.As we increase the sample size, the sampling distribution squeezes from both sides giving us a better estimate of the population statistic since\n",
        "it lies somewhere in the middle of the sampling distribution (generally).\n",
        "\n",
        "\n",
        "\n",
        "Now,it is important to know where the population mean lies with respect to a particular sample mean and how confident can we be about it.\n",
        "This brings us to our next topic – Confidence Interval.\n",
        "\n",
        "Confidence Interval\n",
        "The confidence interval is a type of interval estimate from the sampling distribution which gives a range of values in which the\n",
        "population statistic may lie\n",
        "\n",
        "\n",
        "Foreg.wewant toestimate mean weight of certain species of turtlein florida.\n",
        "Now,there are more than 1000,so it will be time consuming togoand checkweight of individual turtle.Instead we will take samples\n",
        "of 50turtles,and calc sample mean.Now,here itsnot guaranteed that the mean ofthis sample will actually reflect population mean.\n",
        "So 1 way can be,takking very heavy weight turtle and least weight turtle and then takeout mean.\n",
        "\n",
        "Now,in order to capture uncertaininty here  we can create confidence interval in a range of values.\n",
        "It can be calculated as-\n",
        "CI=point estimation+-(critical value)*standard error.\n",
        "\n",
        "This formula creates interval between lower bound and upper bound\n",
        "so that,its likely to contain population parameter with certain level of confidence.\n",
        "\n",
        "confidence inteval=[lower bound,upper bound]\n",
        "\n",
        "Here steps are-\n",
        "1. Take randomsamples with extreme values and apply the formula,\n",
        "where criticalvalue is z value, and std error is std deviation.\n",
        "\n",
        "So our final formula is like-\n",
        "CI=sample mean+-z*(sampleStddev/sqrt(sample size))\n",
        "\n",
        "Now, this z value we will use will depend on CI we will choose.\n",
        "Now,tis zvalue is not constant becuse we are only forecasting . It is not necessarythat forecast will be true always.\n",
        "\n",
        "eg\n",
        "sample size=25\n",
        "sample mean=300\n",
        "sampe sd=13.5\n",
        "\n",
        "Now,to calc 90% confidence inerval (this is decide by researcher)for true population mean weight of turtle,\n",
        "\n",
        "The researchers would then utilize the following table to determine their Z value:\n",
        "\n",
        "Confidence Interval\tZ value\n",
        "80%\t1.282\n",
        "85%\t1.440\n",
        "90%\t1.645\n",
        "95%\t1.960\n",
        "99%\t2.576\n",
        "99.5%\t2.807\n",
        "99.9%\t3.291\n",
        "\n",
        "90%CI = 300 +- 1.645*(13.5/sqrt(25)) ==[293.91,306.09]\n",
        "\n",
        "i.e.there is a 90% chance that ,CI of [293.91,306.09]  contains population mean weight of turtle.\n",
        "\n",
        "Hypothesis Estimation-\n",
        "\n",
        "ConfidenceIntervalis estimation of population fromthe sample data.\n",
        "but there is noproof that population will be under given interval only.\n",
        "So we need to provewith scientific method.Which is clled Hypothesis.\n",
        "\n",
        "eg.\n",
        "\n",
        "Class 8th has a mean score of 40 marks out of 100.\n",
        "The principal of the school decided that extra classes are necessary in order to improve the performance of the class.\n",
        "The class scored an average of 45 marks out of 100 after taking extra classes.\n",
        "Can we be sure whether the increase in marks is a result of extra classes or is it just random?\n",
        "\n",
        "Hypothesis testing lets us identify that.\n",
        "It lets a sample statistic to be checked against a population statistic or statistic of another sample to study any intervention etc.\n",
        "Extra classes being the intervention in the above example.\n",
        "\n",
        "Hypothesis testing is defined in two terms – Null Hypothesis and Alternate Hypothesis.\n",
        "\n",
        "Null Hypothesis being the sample statistic to be equal to the population statistic.\n",
        "For eg: The Null Hypothesis for the above example would be that the average marks after extra class are same as that before the classes.\n",
        "Alternate Hypothesis for this example would be that the marks after extra class are significantly different from that before the class.\n",
        "Hypothesis Testing is done on different levels of confidence and makes use of z-score to calculate the probability.\n",
        "So for a 95% Confidence Interval, anything above the z-threshold for 95% would reject the null hypothesis.\n",
        "\n",
        "Points to be noted:\n",
        "\n",
        "We cannot accept the Null hypothesis, only reject it or fail to reject it.\n",
        "As a practical tip, Null hypothesis is generally kept which we want to disprove.\n",
        "For eg: You want to prove that students performed better after taking extra classes on their exam.\n",
        "The Null Hypothesis, in this case, would be that the marks obtained after the classes are same as before the classes.\n",
        "\n",
        "\n",
        "Now, for hypothesis,\n",
        "first state the hypo\n",
        "2 Determine the significance level to use for hypo\n",
        "3 find test statistics\n",
        "4 accept or reject uing p value\n",
        "5 interpret the result from process above\n",
        "\n",
        "Significance level-is the prob that the event could haveoccured by chance.\n",
        "\n",
        "Now,after this 2 types of decision errors ae possible-\n",
        "In statistics, a Type I error is a false positive conclusion, while a Type II error is a false negative conclusion.\n",
        "\n",
        "\n",
        "Null hypo is  True        False\n",
        "true          accept      type1 error-reject a true null hypo\n",
        "false         type 2      accept\n",
        "              accept a\n",
        "              false null\n",
        "              hypo\n",
        "\n",
        "\n",
        "You decide to get tested for COVID-19 based on mild symptoms. There are two errors that could potentially occur:\n",
        "Type I error (false positive): the test result says you have coronavirus, but you actually don’t.\n",
        "Type II error (false negative): the test result says you don’t have coronavirus, but you actually do.\n",
        "\n",
        "\n",
        "------------\n",
        "z-test is a statistical method for the comparison of mean in a sample from the normally distributed population or between two independent samples.\n",
        "\n",
        "z-test is used when:\n",
        "\n",
        "Population variance is unknown\n",
        "Sample size is greater than 30\n",
        "\n",
        "2 types of z-test are:\n",
        "1 tailed z-test: The region of rejection is located either extreme left or extreme right of the distribution\n",
        "2 tailed z-test : A two-sample test is used when we have to compare the mean of two samples.\n",
        "The region of rejection is located on both the extreme (left and right) of the distribution\n",
        "\n",
        "\n",
        "There are 3 steps in Hypothesis Testing:\n",
        "\n",
        "1 State Null and Alternate Hypothesis\n",
        "2 Perform Statistical Test\n",
        "3 Accept or reject the Null Hypothesis\n",
        "\n",
        "Z-scores are measured in standard deviation units.\n",
        "\n",
        "For example, a Z-score of 1.2 shows that your observed value is 1.2 standard deviations from the mean.\n",
        "A Z-score of 2.5 means your observed value is 2.5 standard deviations from the mean and so on.\n",
        "\n",
        "The closer your Z-score is to zero, the closer your value is to the mean. The further away your Z-score is from zero,\n",
        "the further away your value is from the mean. Typically, you will not see Z-scores that are more than 3 standard deviations from the mean.\n",
        "This is because most data points lie within 3 standard deviations of the mean.\n",
        "\n",
        "x. The value for which you want to calculate the Z-score. We sometimes call this the raw score.\n",
        "\n",
        "𝝁. The population mean.\n",
        "\n",
        "𝜎. The population standard deviation.\n",
        "\n",
        "Z-Score= x−μ/σ\n",
        "\n",
        "eg.Your niece has just been born weighing 6.9 pounds, and you want to know if this is a normal weight.\n",
        "\n",
        "Niece’s birth weight (x): 6.9 pounds or 3130 grams\n",
        "Mean birth weight (𝝻): 7.224 pounds or 3276 grams\n",
        "Standard deviation (𝞂): 1.25 pounds or 567 grams\n",
        "\n",
        "Z-score=(3130 - 3276)/567 = -146/567 = -0.26\n",
        "\n",
        "Her birth weight is 0.26 standard deviations below the mean.\n",
        "\n",
        "\n",
        "​A z-statistic, or z-score, is a number representing the result from the z-test\n",
        "\n",
        "1 tailed Z-test: The formula is:\n",
        "\n",
        "Z-Score= x−μ/(σ/sqrt(n))\n",
        "\n",
        "Q is A gym trainer claimed that all the new boys in the gym are above average weight.\n",
        "\n",
        "A random sample of thirty boys weight have a mean score of 112.5 kg and the population mean weight is 100 kg and the standard deviation is 15.\n",
        "\n",
        "Is there a sufficient evidence to support the claim of gym trainer.\n",
        "\n",
        "H0= Equal to avg weight i.e.μ= 100 kg\n",
        "H1=μ>100\n",
        "\n",
        "Z-Score= x−μ/(σ/sqrt(n))= 4.56\n",
        "\n",
        "Now, for accepting or rejecting the null hypothesis, we have significance value=0.05, for which the z-score is 1.64\n",
        "\n",
        "Now, z-score>significance value, we need to reject null hypo.\n",
        "\n",
        "\n",
        "\n",
        "Z-test is a statistically significant test for the hypothesis testing (null and alternative hypotheses)\n",
        " when the sample size is large, and the population parameter (mean and variance) is known.\n",
        "\n",
        "-------------\n",
        "T-tests\n",
        "T-tests are similar to the z-scores, the only difference being that instead of the Population Standard Deviation, we use the Sample Standard Deviation.\n",
        "The rest is same as before, calculating probabilities on basis of t-values.\n",
        "\n",
        "A t-test is a statistical test that is used to compare the means of two groups.\n",
        "\n",
        "You want to know whether the mean petal length of iris flowers differs according to their species.\n",
        "You find two different species of irises growing in a garden and measure 25 petals of each species.\n",
        "You can test the difference between these two groups using a t-test and null and alterative hypotheses.\n",
        "\n",
        "The null hypothesis (H0) is that the true difference between these group means is zero.\n",
        "The alternate hypothesis (Ha) is that the true difference is different from zero.\n",
        "\n",
        "The different type of t-tests are- One-sample, two-sample, or paired t-test\n",
        "\n",
        "If the groups come from a single population (e.g. measuring before and after an experimental treatment), perform a paired t-test.\n",
        "If the groups come from two different populations (e.g. two different species, or people from two separate cities),\n",
        "perform a two-sample t-test (a.k.a. independent t-test).\n",
        "If there is one group being compared against a standard value (e.g. comparing the acidity of a liquid to a neutral pH of 7),\n",
        "perform a one-sample t-test.\n",
        "\n",
        "One-tailed or two-tailed t-test?\n",
        "If you only care whether the two populations are different from one another, perform a two-tailed t-test.\n",
        "If you want to know whether one population mean is greater than or less than the other, perform a one-tailed t-test.\n",
        "\n",
        "In your test of whether petal length differs by species:\n",
        "\n",
        "Your observations come from two separate populations (separate species), so you perform a two-sample t-test.\n",
        "You don’t care about the direction of the difference, only whether there is a difference, so you choose to use a two-tailed t-test.\n",
        "\n",
        "t-test for 1 sample-\n",
        "t-test=(meansample - mean population)/(samplesd/sqrt(samplesize))\n",
        "\n",
        "\n",
        "p-value=degree of freedom\n",
        "\n",
        "whatever sample size we will take,it will be always -1. i.e if we have 40 sample then it's 40-1\n",
        "\n",
        "degree of freedom value we can choose 0.10,0.05 and 0.01\n",
        "\n",
        "for null hypothesis-\n",
        "\n",
        "eg.we have taken turtle sample size of 40,310 pound is the weight of turtle in florida .Thisis our null hypothesis:H0\n",
        "\n",
        "step 1\n",
        "samplesize=40\n",
        "sample value=300\n",
        "sample mean=310\n",
        "samplestd dev=18.5\n",
        "\n",
        "step 2\n",
        "\n",
        "H0:population mean=310\n",
        "H1: population not equalto 310\n",
        "\n",
        "calc t-test:\n",
        "t=300-310/18.5/sqrt(40)\n",
        "t=-3.4187\n",
        "\n",
        "step-4:calc the p-value\n",
        "\n",
        "degree of freedom=40-1=39\n",
        "\n",
        "p-value=0.000745\n",
        "\n",
        "note: p value is always between 0-1\n",
        "\n",
        "p-value<0.05 then, reject nullhypothesis.\n",
        "\n",
        "i.e.as per sample mean,300 pound is notthe weight of the population.\n",
        "\n",
        "-----------------------\n",
        "'''"
      ],
      "metadata": {
        "id": "qSb6plDd7GlX"
      },
      "execution_count": null,
      "outputs": []
    },
    {
      "cell_type": "code",
      "source": [
        "data=[14,14,16,13,12,17,15,14,15,13,15,14]#plant height"
      ],
      "metadata": {
        "id": "Fz98I1MG7Guq"
      },
      "execution_count": null,
      "outputs": []
    },
    {
      "cell_type": "code",
      "source": [
        "import scipy.stats as stats\n",
        "stats.ttest_1samp(a=data,popmean=15)"
      ],
      "metadata": {
        "id": "D9q-PA6Y7GzF",
        "colab": {
          "base_uri": "https://localhost:8080/"
        },
        "outputId": "8caddb49-62f5-46f2-d2af-e3c94962ec64"
      },
      "execution_count": null,
      "outputs": [
        {
          "output_type": "execute_result",
          "data": {
            "text/plain": [
              "Ttest_1sampResult(statistic=-1.6848470783484626, pvalue=0.12014460742498101)"
            ]
          },
          "metadata": {},
          "execution_count": 2
        }
      ]
    },
    {
      "cell_type": "markdown",
      "source": [
        "p_value>0.05 Accept nullhypo"
      ],
      "metadata": {
        "id": "dXQq7NGGJHFs"
      }
    },
    {
      "cell_type": "code",
      "source": [
        "'''When should we use t-test than z-test?\n",
        "\n",
        "If the population standard deviation is known and the sample size is greater than 30, Z-test is recommended to be used.\n",
        "If the population standard deviation is known, and the size of the sample is less than or equal to 30,\n",
        "T-test is recommended. If the population standard deviation is unknown, T-test is recommended\n",
        "'''\n",
        "\n",
        "'''\n",
        "t-test and z-test are for continuous data.\n",
        "\n",
        "'''"
      ],
      "metadata": {
        "id": "CT3tkWPCf_N6"
      },
      "execution_count": null,
      "outputs": []
    },
    {
      "cell_type": "code",
      "source": [
        "'''\n",
        "One-Way ANOVA in Python: One-way ANOVA (also known as “analysis of variance”) is a test that is used to find out whether there exists a statistically\n",
        "significant difference between the mean values of more than one group.\n",
        "\n",
        "Now, the question arises – Why do we need another test for checking the difference of means between independent groups?\n",
        "Why can we not use multiple t-tests to check for the difference in means?\n",
        "\n",
        "The answer is simple. Multiple t-tests will have a compound effect on the error rate of the result.\n",
        "Performing t-test thrice will give an error rate of ~15% which is too high, whereas ANOVA keeps it at 5% for a 95% confidence interval.\n",
        "\n",
        "ANOVA is measured using a statistic known as F-Ratio. It is defined as the ratio of Mean Square (between groups) to the Mean Square (within group).\n",
        "\n",
        "Mean Square (between groups) = Sum of Squares (between groups) / degree of freedom (between groups)\n",
        "\n",
        "Mean Square (within group) = Sum of Squares (within group) / degree of freedom (within group)\n",
        "\n",
        "\n",
        "Steps to perform ANOVA\n",
        "1 Hypothesis Generation\n",
        "2 Null Hypothesis : Means of all the groups are same\n",
        "  Alternate Hypothesis : Mean of at least one group is different\n",
        "3 Calculate within group and between groups variability\n",
        "4 Calculate F-Ratio\n",
        "5 Calculate probability using F-table\n",
        "6 Reject/fail to Reject Null Hypothesis\n",
        "There are various other forms of ANOVA too like Two-way ANOVA, MANOVA, ANCOVA etc. but One-Way ANOVA suffices the requirements of this course.\n",
        "\n",
        "Hypothesis involved:\n",
        "A one-way ANOVA has the below given null and alternative hypotheses:\n",
        "\n",
        "H0 (null hypothesis): μ1 = μ2 = μ3 = … = μk (It implies that the means of all the population are equal)\n",
        "H1 (null hypothesis): It states that there will be at least one population mean that differs from the rest\n",
        "Statement:\n",
        "\n",
        "Researchers took 20 cars of the same to take part in a study. These cars are randomly doped with one of the four-engine oils and\n",
        " allowed to run freely for 100 kilometers each. At the end of the journey, the performance of each of the cars is noted.\n",
        "\n",
        "'''"
      ],
      "metadata": {
        "id": "MSatT2O_Qouv"
      },
      "execution_count": null,
      "outputs": []
    },
    {
      "cell_type": "code",
      "source": [
        "'''\n",
        "\n",
        "Python provides us f_oneway() function from SciPy library using which we can conduct the One-Way ANOVA.\n",
        "'''\n",
        "\n",
        "# Importing library\n",
        "from scipy.stats import f_oneway\n",
        "\n",
        "# Performance when each of the engine\n",
        "# oil is applied\n",
        "performance1 = [89, 89, 88, 78, 79]\n",
        "performance2 = [93, 92, 94, 89, 88]\n",
        "performance3 = [89, 88, 89, 93, 90]\n",
        "performance4 = [81, 78, 81, 92, 82]\n",
        "\n",
        "# Conduct the one-way ANOVA\n",
        "f_oneway(performance1, performance2, performance3, performance4)"
      ],
      "metadata": {
        "colab": {
          "base_uri": "https://localhost:8080/"
        },
        "id": "pvModgh7R8XY",
        "outputId": "69a1a9dc-b48b-4c9d-ccc9-379a9b9766b5"
      },
      "execution_count": null,
      "outputs": [
        {
          "output_type": "execute_result",
          "data": {
            "text/plain": [
              "F_onewayResult(statistic=4.625000000000002, pvalue=0.016336459839780215)"
            ]
          },
          "metadata": {},
          "execution_count": 3
        }
      ]
    },
    {
      "cell_type": "code",
      "source": [
        "'''\n",
        "Analyse the result:\n",
        "\n",
        "The F statistic and p-value turn out to be equal to 4.625 and 0.016336498 respectively. Since the p-value is less than 0.05 hence\n",
        " we would reject the null hypothesis.\n",
        "This implies that we have sufficient proof to say that there exists a difference in the performance among four different engine oils.\n",
        "\n",
        "'''"
      ],
      "metadata": {
        "id": "fTHE5XeCR8Z-"
      },
      "execution_count": null,
      "outputs": []
    },
    {
      "cell_type": "code",
      "source": [
        "'''\n",
        "chi2 hypothesis testing-it is useful for categorical data when we want tocheck two category dependencies.\n",
        "eg.voting vs color of person in US\n",
        "\n",
        "It is also known as test of independence.\n",
        "\n",
        "H0:nullhypothesis\n",
        "H1:alternate hypothesis.\n",
        "\n",
        "x^2=E(observation-estimation)^2/total_estimation\n",
        "\n",
        "E=summation\n",
        "          republic      democrat    independent    total\n",
        "male        120           90          40            250\n",
        "female      110           95          45            250\n",
        "total       230          185          85            500\n",
        "\n",
        "\n",
        "H0: there is link between gender and politicalparty preference\n",
        "\n",
        "'''"
      ],
      "metadata": {
        "id": "iIiiJqCLQ_AT"
      },
      "execution_count": null,
      "outputs": []
    },
    {
      "cell_type": "code",
      "source": [
        "data=[[120,90,40],\n",
        "      [110,95,45]]\n"
      ],
      "metadata": {
        "id": "zfCnpDP8KDne"
      },
      "execution_count": null,
      "outputs": []
    },
    {
      "cell_type": "code",
      "source": [
        "import scipy.stats as stats\n",
        "stats.chi2_contingency(data)"
      ],
      "metadata": {
        "colab": {
          "base_uri": "https://localhost:8080/"
        },
        "id": "7WrKTgecKDq3",
        "outputId": "70ade908-2d9a-474a-a250-a2c9f4705316"
      },
      "execution_count": null,
      "outputs": [
        {
          "output_type": "execute_result",
          "data": {
            "text/plain": [
              "(0.8640353908896108, 0.6491978887380976, 2, array([[115. ,  92.5,  42.5],\n",
              "        [115. ,  92.5,  42.5]]))"
            ]
          },
          "metadata": {},
          "execution_count": 6
        }
      ]
    },
    {
      "cell_type": "code",
      "source": [
        "x=stats.chi2_contingency(data)\n",
        "print(x[0])\n",
        "print(x[1])"
      ],
      "metadata": {
        "colab": {
          "base_uri": "https://localhost:8080/"
        },
        "id": "f4fn2ji0KDu8",
        "outputId": "4e6f6361-4064-42e2-f351-7b048ac1a080"
      },
      "execution_count": null,
      "outputs": [
        {
          "output_type": "stream",
          "name": "stdout",
          "text": [
            "0.8640353908896108\n",
            "0.6491978887380976\n"
          ]
        }
      ]
    },
    {
      "cell_type": "code",
      "source": [
        "'''\n",
        "p-value>0.05-we fail to reject null hypothesis\n",
        "i.e. there is an associaton between gender and political party.\n",
        "\n",
        "'''"
      ],
      "metadata": {
        "id": "-MHEG5wbKD0H"
      },
      "execution_count": null,
      "outputs": []
    },
    {
      "cell_type": "code",
      "source": [
        "'''\n",
        "\n",
        "Sampling as we feed data in to machine learning model,\n",
        "\n",
        "Data Sampling forms the essential part of the majority of research, scientific and data experiments. It is one of the most important factors which determines the accuracy of your research or survey result. If your sample has not been accurately sampled then this might impact significantly the final results and conclusions.\n",
        "There are many sampling techniques that can be used to gather a data sample depending upon the need and situation.\n",
        "\n",
        "random\n",
        "\n",
        "Random Sampling\n",
        "The simplest data sampling technique that creates a random sample from the original population is Random Sampling.\n",
        "In this approach, every sampled observation has the same probability of getting selected during the sample generation process.\n",
        "Random Sampling is usually used when we don’t have any kind of prior information about the target population.\n",
        "\n",
        "For example random selection of 3 individuals from a population of 10 individuals.\n",
        "Here, each individual has an equal chance of getting selected to the sample with a probability of selection of 1/10.\n",
        "\n",
        "\n",
        "systematic\n",
        "Systematic sampling is defined as a probability sampling approach where the elements from a target population are selected from a random starting point\n",
        "and after a fixed sampling interval.\n",
        "We calculate the sampling interval by dividing the entire population size by the desired sample size.\n",
        "\n",
        "\n",
        "cluster\n",
        "Cluster sampling is a probability sampling method in which you divide a population into clusters,\n",
        "such as districts or schools, and then randomly select some of these clusters as your sample..\n",
        "\n",
        "stratified\n",
        "Stratified Sampling is a data sampling approach, where we divide a population into homogeneous subpopulations called strata based on specific characteristics\n",
        "(e.g., age, race, gender identity, location, event type etc.).\n",
        "\n",
        "Every member of the population studied should be in exactly one stratum.\n",
        " Each stratum is then sampled using Cluster Sampling, allowing data scientists to estimate statistical measures for each sub-population.\n",
        " We rely on Stratified Sampling when the populations’ characteristics are diverse and we want to ensure that every\n",
        " characteristic is properly represented in the sample.\n",
        "\n",
        "\n",
        "\n",
        "'''"
      ],
      "metadata": {
        "id": "hJKGKw1tKD5p"
      },
      "execution_count": null,
      "outputs": []
    },
    {
      "cell_type": "code",
      "source": [
        "#https://www.analyticsvidhya.com/blog/2017/01/comprehensive-practical-guide-inferential-statistics-data-science/"
      ],
      "metadata": {
        "id": "5-4HCBDOKD84"
      },
      "execution_count": null,
      "outputs": []
    },
    {
      "cell_type": "code",
      "source": [],
      "metadata": {
        "id": "-w6-degJl9Cv"
      },
      "execution_count": null,
      "outputs": []
    },
    {
      "cell_type": "code",
      "source": [],
      "metadata": {
        "id": "21N9eioNl9Eo"
      },
      "execution_count": null,
      "outputs": []
    },
    {
      "cell_type": "code",
      "source": [],
      "metadata": {
        "id": "l1oxkkHMl9IK"
      },
      "execution_count": null,
      "outputs": []
    },
    {
      "cell_type": "code",
      "source": [],
      "metadata": {
        "id": "vEk_Tx3Cl9Kn"
      },
      "execution_count": null,
      "outputs": []
    },
    {
      "cell_type": "code",
      "source": [],
      "metadata": {
        "id": "jns7iKfel9N5"
      },
      "execution_count": null,
      "outputs": []
    },
    {
      "cell_type": "code",
      "source": [],
      "metadata": {
        "id": "EKMwXEAul9Qj"
      },
      "execution_count": null,
      "outputs": []
    },
    {
      "cell_type": "code",
      "source": [],
      "metadata": {
        "id": "WKFjnv9wl9T1"
      },
      "execution_count": null,
      "outputs": []
    },
    {
      "cell_type": "code",
      "source": [],
      "metadata": {
        "id": "Vnye7noyl9Wf"
      },
      "execution_count": null,
      "outputs": []
    },
    {
      "cell_type": "code",
      "source": [],
      "metadata": {
        "id": "-5K8u8all9Z2"
      },
      "execution_count": null,
      "outputs": []
    },
    {
      "cell_type": "code",
      "source": [],
      "metadata": {
        "id": "6OIzGp2pl9cp"
      },
      "execution_count": null,
      "outputs": []
    },
    {
      "cell_type": "code",
      "source": [
        "l=list()\n",
        "l.append([1,2,[3,4]])\n",
        "l.extend([5,6,7])\n",
        "l"
      ],
      "metadata": {
        "id": "1Vcfqat9l9fl",
        "colab": {
          "base_uri": "https://localhost:8080/"
        },
        "outputId": "02eeca7c-81a4-42a3-9cdc-61872a77dc62"
      },
      "execution_count": null,
      "outputs": [
        {
          "output_type": "execute_result",
          "data": {
            "text/plain": [
              "[[1, 2, [3, 4]], 5, 6, 7]"
            ]
          },
          "metadata": {},
          "execution_count": 1
        }
      ]
    },
    {
      "cell_type": "code",
      "source": [
        "from random import randint\n",
        "#import random\n",
        "for i in range(5):\n",
        "  print(random.randint(1,5))"
      ],
      "metadata": {
        "id": "modr2gfal9jg",
        "colab": {
          "base_uri": "https://localhost:8080/"
        },
        "outputId": "34667d35-5626-4fa4-996c-b7f457fe5727"
      },
      "execution_count": null,
      "outputs": [
        {
          "output_type": "stream",
          "name": "stdout",
          "text": [
            "3\n",
            "5\n",
            "1\n",
            "3\n",
            "5\n"
          ]
        }
      ]
    },
    {
      "cell_type": "code",
      "source": [],
      "metadata": {
        "id": "SahXSGiul9mq"
      },
      "execution_count": null,
      "outputs": []
    }
  ]
}