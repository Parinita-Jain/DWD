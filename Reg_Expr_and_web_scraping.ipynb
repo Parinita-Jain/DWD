{
  "cells": [
    {
      "cell_type": "markdown",
      "metadata": {
        "id": "view-in-github",
        "colab_type": "text"
      },
      "source": [
        "<a href=\"https://colab.research.google.com/github/Parinita-Jain/DWD/blob/main/Reg_Expr_and_web_scraping.ipynb\" target=\"_parent\"><img src=\"https://colab.research.google.com/assets/colab-badge.svg\" alt=\"Open In Colab\"/></a>"
      ]
    },
    {
      "cell_type": "code",
      "execution_count": null,
      "id": "5b573547",
      "metadata": {
        "id": "5b573547"
      },
      "outputs": [],
      "source": [
        "# reg expr inpython can be defined as a sequenceof characters which are used to search for apattern in a string.\n",
        "#for eg pwd  matching, valid emailid,phn no.etc.\n",
        "# it uses re library\n",
        "import re"
      ]
    },
    {
      "cell_type": "code",
      "execution_count": null,
      "id": "27c13739",
      "metadata": {
        "id": "27c13739",
        "outputId": "4770a65e-75cb-4f12-d673-d07fbf1cf70c",
        "colab": {
          "base_uri": "https://localhost:8080/"
        }
      },
      "outputs": [
        {
          "output_type": "stream",
          "name": "stdout",
          "text": [
            "string match\n",
            "Start index : 0\n",
            "End index 3\n"
          ]
        }
      ],
      "source": [
        "# 1.match()--inbuiltmethod ofre.This methd Matches the regex pattern in a string.Returns true else false.\n",
        "# 2.search()\n",
        "\n",
        "str=\"How are you? How is everything ?\"\n",
        "x=re.search(\"How\",str) # re.search(\"word search\",string variable)\n",
        "# returns ans in true or false\n",
        "if x:\n",
        "    print(\"string match\")\n",
        "    print(\"Start index :\",x.start())\n",
        "    print(\"End index\",x.end())\n",
        "else:\n",
        "    print(\"no match\")\n",
        "# now the moment itis getting first how,it is not going into next How."
      ]
    },
    {
      "cell_type": "code",
      "execution_count": null,
      "id": "22eae015",
      "metadata": {
        "id": "22eae015",
        "outputId": "abe68aa5-c9cf-43e8-a62e-0590dc01c813",
        "colab": {
          "base_uri": "https://localhost:8080/"
        }
      },
      "outputs": [
        {
          "output_type": "stream",
          "name": "stdout",
          "text": [
            "string match\n"
          ]
        }
      ],
      "source": [
        "str=\"How are you? How is everything ?\"\n",
        "x=re.findall(\"How\",str) # re.search(\"word search\",string variable)\n",
        "# returns ans in true or false\n",
        "if x:\n",
        "    print(\"string match\")\n",
        "else:\n",
        "    print(\"no match\")"
      ]
    },
    {
      "cell_type": "code",
      "execution_count": null,
      "id": "cc76e3c1",
      "metadata": {
        "id": "cc76e3c1",
        "outputId": "2402d242-573e-469a-bdb9-e015f1da9801",
        "colab": {
          "base_uri": "https://localhost:8080/"
        }
      },
      "outputs": [
        {
          "output_type": "stream",
          "name": "stdout",
          "text": [
            "match\n"
          ]
        }
      ],
      "source": [
        "# checkif the string starts with I and ends with python\n",
        "txt=\"I am learning python\"\n",
        "X=re.search(\"^I.*python$\",txt) # ^ start ,$end ,.* any no.of chars\n",
        "if X:\n",
        "    print(\"match\")\n",
        "else:\n",
        "    print(\"No match\")"
      ]
    },
    {
      "cell_type": "code",
      "execution_count": null,
      "id": "9a8fb08e",
      "metadata": {
        "id": "9a8fb08e",
        "outputId": "73153724-6a4f-4ac2-9f0b-8cf189237be3",
        "colab": {
          "base_uri": "https://localhost:8080/"
        }
      },
      "outputs": [
        {
          "output_type": "stream",
          "name": "stdout",
          "text": [
            "Yes! Space found\n",
            "Position :  2\n",
            "Yes! Space found\n",
            "[' ', ' ', ' ']\n",
            "No.of spaces found :  3\n"
          ]
        }
      ],
      "source": [
        "# search for the first white space char in a string\n",
        "import re\n",
        "txt=\"I am learning python\"\n",
        "X=re.search(\"\\s\",txt)\n",
        "if X:\n",
        "    print('Yes! Space found')\n",
        "    print('Position : ',X.start()+1) #-----since it starts from 0.Hence X.start()+1\n",
        "else:\n",
        "    print(\"No space found\")\n",
        "\n",
        "X=re.findall(\"\\s\",txt)\n",
        "if X:\n",
        "    print('Yes! Space found')\n",
        "    print(X) #-----since it starts from 0.Hence X.start()+1\n",
        "    # if I want tocount no.of spaces---\n",
        "    print(\"No.of spaces found : \",len(X))\n",
        "else:\n",
        "    print(\"No space found\")"
      ]
    },
    {
      "cell_type": "code",
      "execution_count": null,
      "id": "0fa9aa01",
      "metadata": {
        "id": "0fa9aa01",
        "outputId": "5721e39f-3b65-4d98-808e-a44cf7f33d01",
        "colab": {
          "base_uri": "https://localhost:8080/"
        }
      },
      "outputs": [
        {
          "output_type": "stream",
          "name": "stdout",
          "text": [
            "['a', 'm', 'l', 'e', 'a', 'n', 'i', 'n', 'g', 'p', 'h', 'o', 'n']\n"
          ]
        }
      ],
      "source": [
        "import re\n",
        "txt=\"I am learning python\"\n",
        "X=re.findall(\"[a-q]\",txt)\n",
        "print(X)\n"
      ]
    },
    {
      "cell_type": "code",
      "execution_count": null,
      "id": "61e50aa4",
      "metadata": {
        "id": "61e50aa4",
        "outputId": "82b9768b-ef74-4a7d-96ca-ed6e790c3b5e",
        "colab": {
          "base_uri": "https://localhost:8080/"
        }
      },
      "outputs": [
        {
          "output_type": "stream",
          "name": "stdout",
          "text": [
            "['24', '45000']\n"
          ]
        }
      ],
      "source": [
        "#\n",
        "txt=\"Hari is good boy.He is 24 years old.His salary is 45000 per month\"\n",
        "X=re.findall(\"\\d+\",txt)\n",
        "print(X)"
      ]
    },
    {
      "cell_type": "code",
      "execution_count": null,
      "id": "d3a7a70c",
      "metadata": {
        "id": "d3a7a70c",
        "outputId": "71545a7a-a363-4497-c911-32cb30de6a36",
        "colab": {
          "base_uri": "https://localhost:8080/"
        }
      },
      "outputs": [
        {
          "output_type": "stream",
          "name": "stdout",
          "text": [
            "None\n",
            "no match\n"
          ]
        }
      ],
      "source": [
        "pwd=\"abc123\"\n",
        "pattern=\"[a-z]\"\n",
        "x=re.match(pwd,pattern)\n",
        "print(x)\n",
        "if x:\n",
        "    print(\"match\")\n",
        "else:\n",
        "    print(\"no match\")"
      ]
    },
    {
      "cell_type": "code",
      "execution_count": null,
      "id": "7c8aa123",
      "metadata": {
        "id": "7c8aa123",
        "outputId": "27c2070b-565b-4998-ae7d-b4000e1c690b",
        "colab": {
          "base_uri": "https://localhost:8080/"
        }
      },
      "outputs": [
        {
          "output_type": "stream",
          "name": "stdout",
          "text": [
            "Enter string: abc\n",
            "Match\n"
          ]
        }
      ],
      "source": [
        "pattern=\"..c$\"\n",
        "txt=input(\"Enter string: \")\n",
        "if re.match(pattern,txt):\n",
        "    print(\"Match\")\n",
        "else:\n",
        "    print(\"No match\")"
      ]
    },
    {
      "cell_type": "code",
      "execution_count": null,
      "id": "2b2f83fd",
      "metadata": {
        "id": "2b2f83fd",
        "outputId": "d1d4c627-a8e6-451a-b1a4-826b2ebe0224",
        "colab": {
          "base_uri": "https://localhost:8080/"
        }
      },
      "outputs": [
        {
          "output_type": "stream",
          "name": "stdout",
          "text": [
            "Enter string: abc\n",
            "No match\n"
          ]
        }
      ],
      "source": [
        "pattern=\"^p..i$\"\n",
        "txt=input(\"Enter string: \")\n",
        "if re.match(pattern,txt):\n",
        "    print(\"Match\")\n",
        "else:\n",
        "    print(\"No match\")"
      ]
    },
    {
      "cell_type": "code",
      "execution_count": null,
      "id": "1cdd1ceb",
      "metadata": {
        "id": "1cdd1ceb",
        "outputId": "566e7563-cff8-4054-f716-bd6ff63beb9d",
        "colab": {
          "base_uri": "https://localhost:8080/"
        }
      },
      "outputs": [
        {
          "output_type": "execute_result",
          "data": {
            "text/plain": [
              "['I', 'am', 'learning', 'pyton']"
            ]
          },
          "metadata": {},
          "execution_count": 11
        }
      ],
      "source": [
        "txt=\"I am learning pyton\"\n",
        "x=re.split(\"\\s\",txt)\n",
        "x"
      ]
    },
    {
      "cell_type": "code",
      "execution_count": null,
      "id": "98637b12",
      "metadata": {
        "id": "98637b12",
        "outputId": "a0772ad8-18f2-42dd-c4a8-e66daecd84d8",
        "colab": {
          "base_uri": "https://localhost:8080/"
        }
      },
      "outputs": [
        {
          "output_type": "execute_result",
          "data": {
            "text/plain": [
              "['I am learning', ' pyton']"
            ]
          },
          "metadata": {},
          "execution_count": 12
        }
      ],
      "source": [
        "txt=\"I am learning, pyton\"\n",
        "x=re.split(\",\",txt)\n",
        "x"
      ]
    },
    {
      "cell_type": "code",
      "execution_count": null,
      "id": "86482795",
      "metadata": {
        "id": "86482795",
        "outputId": "fb6c7426-0a05-4994-b51e-4f4c865dd7a4",
        "colab": {
          "base_uri": "https://localhost:8080/"
        }
      },
      "outputs": [
        {
          "output_type": "stream",
          "name": "stdout",
          "text": [
            "Enter name and city : parinita mumbai\n",
            "parinita\n",
            "mumbai\n"
          ]
        }
      ],
      "source": [
        "# accept more than 1 i/p from user on runtime from 1 input()\n",
        "name,city=input(\"Enter name and city : \").split()\n",
        "print(name)\n",
        "print(city)\n",
        "#-----so during input give parinita space mumbai"
      ]
    },
    {
      "cell_type": "code",
      "execution_count": null,
      "id": "28c522ed",
      "metadata": {
        "id": "28c522ed",
        "outputId": "cee3049a-38f2-48ea-9775-c5a8e73c90bd",
        "colab": {
          "base_uri": "https://localhost:8080/",
          "height": 218
        }
      },
      "outputs": [
        {
          "output_type": "error",
          "ename": "NameError",
          "evalue": "name 'requests' is not defined",
          "traceback": [
            "\u001b[0;31m---------------------------------------------------------------------------\u001b[0m",
            "\u001b[0;31mNameError\u001b[0m                                 Traceback (most recent call last)",
            "\u001b[0;32m<ipython-input-15-5764ffd74d8a>\u001b[0m in \u001b[0;36m<cell line: 34>\u001b[0;34m()\u001b[0m\n\u001b[1;32m     32\u001b[0m \u001b[0mwikiurl\u001b[0m\u001b[0;34m=\u001b[0m\u001b[0;34m\"https://www.geeksforgeeks.org/python-requests-tutorial/\"\u001b[0m\u001b[0;34m\u001b[0m\u001b[0;34m\u001b[0m\u001b[0m\n\u001b[1;32m     33\u001b[0m \u001b[0;31m#table_class=\"wikitable sortable jquery-tablesorter\"\u001b[0m\u001b[0;34m\u001b[0m\u001b[0;34m\u001b[0m\u001b[0m\n\u001b[0;32m---> 34\u001b[0;31m \u001b[0mresponse\u001b[0m\u001b[0;34m=\u001b[0m\u001b[0mrequests\u001b[0m\u001b[0;34m.\u001b[0m\u001b[0mget\u001b[0m\u001b[0;34m(\u001b[0m\u001b[0mwikiurl\u001b[0m\u001b[0;34m)\u001b[0m\u001b[0;34m\u001b[0m\u001b[0;34m\u001b[0m\u001b[0m\n\u001b[0m\u001b[1;32m     35\u001b[0m \u001b[0mprint\u001b[0m\u001b[0;34m(\u001b[0m\u001b[0mresponse\u001b[0m\u001b[0;34m.\u001b[0m\u001b[0mstatus_code\u001b[0m\u001b[0;34m)\u001b[0m\u001b[0;34m\u001b[0m\u001b[0;34m\u001b[0m\u001b[0m\n\u001b[1;32m     36\u001b[0m \u001b[0;31m# parse data from the html into a beautifulsoup object\u001b[0m\u001b[0;34m\u001b[0m\u001b[0;34m\u001b[0m\u001b[0m\n",
            "\u001b[0;31mNameError\u001b[0m: name 'requests' is not defined"
          ]
        }
      ],
      "source": [
        "\"\"\"\n",
        "Requests Module\n",
        "Requests library is used for making HTTP requests to a specific URL and returns the response.\n",
        "Python requests provide inbuilt functionalities for managing both the request and response.\n",
        "\n",
        "Installation\n",
        "Requests installation depends on the type of operating system, the basic command anywhere would be to open a command terminal and run,\n",
        "pip install requests\n",
        "\n",
        "Making a Request\n",
        "Python requests module has several built-in methods to make HTTP requests to specified URI using GET, POST, PUT, PATCH, or\n",
        "HEAD requests. A HTTP request is meant to either retrieve data from a specified URI or to push data to a server.\n",
        "It works as a request-response protocol between a client and a server. Here we will be using the GET request.\n",
        "\n",
        "GET method is used to retrieve information from the given server using a given URI.\n",
        "The GET method sends the encoded user information appended to the page request.\n",
        "The page and the encoded information are separated by the ‘?’ character.\n",
        "For example:\n",
        "\n",
        "https://www.google.com/search?q=hello\n",
        "\n",
        "How to make GET request through Python Requests\n",
        "Python’s requests module provides in-built method called get() for making a GET request to a specified URI.\n",
        "\n",
        "Syntax –\n",
        "\n",
        "requests.get(url, params={key: value}, args)\n",
        "\"\"\"\n",
        "#<table class=\"math-table\"><thead><tr><th>Method</th><th>Description</th></tr></thead><tbody><tr><td><a href=\"https://www.geeksforgeeks.org/get-method-python-requests/\">GET</a></td><td>GET method is used to retrieve information from the given server using a given URI.</td></tr><tr><td><a href=\"https://www.geeksforgeeks.org/post-method-python-requests/\">POST</a></td><td>POST request method requests that a web server accepts the data enclosed in the body of the request message, most likely for storing it</td></tr><tr><td><a href=\"https://www.geeksforgeeks.org/put-method-python-requests/\">PUT</a></td><td>The PUT method requests that the enclosed entity be stored under the supplied URI. If the URI refers to an already existing resource, it is modified and if the URI does not point to an existing resource, then the server can create the resource with that URI.</td></tr><tr><td><a href=\"https://www.geeksforgeeks.org/delete-method-python-requests/\">DELETE</a></td><td>The DELETE method deletes the specified resource</td></tr><tr><td><a href=\"https://www.geeksforgeeks.org/head-method-python-requests/\">HEAD</a></td><td>The HEAD method asks for a response identical to that of a GET request, but without the response body.</td></tr><tr><td><a href=\"https://www.geeksforgeeks.org/patch-method-python-requests/\">PATCH</a></td><td>It is used for modify capabilities. The PATCH request only needs to contain the changes to the resource, not the complete resource</td></tr></tbody></table>\n",
        "\n",
        "# get the response in the form of html\n",
        "wikiurl=\"https://www.geeksforgeeks.org/python-requests-tutorial/\"\n",
        "#table_class=\"wikitable sortable jquery-tablesorter\"\n",
        "response=requests.get(wikiurl)\n",
        "print(response.status_code)\n",
        "# parse data from the html into a beautifulsoup object\n",
        "soup = BeautifulSoup(response.text, 'html.parser')\n",
        "mathtable=soup.find('table',{'class':\"math-table\"})"
      ]
    },
    {
      "cell_type": "code",
      "execution_count": null,
      "id": "43e79747",
      "metadata": {
        "id": "43e79747"
      },
      "outputs": [],
      "source": [
        "df=pd.read_html(str(mathtable))\n",
        "df\n",
        "# convert list to dataframe\n",
        "df=pd.DataFrame(df[0],)\n",
        "df\n",
        "#GET method is used to retrieve information from the given server using a given URI.\n",
        "#POST request method requests that a web server accepts the data enclosed in the body of the request message,\n",
        "#most likely for storing it\n",
        "#The PUT method requests that the enclosed entity be stored under the supplied URI.\n",
        "#If the URI refers to an already existing resource, it is modified and if the URI does not point to an existing resource,\n",
        "#then the server can create the resource with that URI.\n",
        "#The DELETE method deletes the specified resource\n",
        "#The HEAD method asks for a response identical to that of a GET request, but without the response body.\n",
        "#It is used for modify capabilities. The PATCH request only needs to contain the changes to the resource,\n",
        "#not the complete resource"
      ]
    },
    {
      "cell_type": "code",
      "execution_count": null,
      "id": "eafcbd83",
      "metadata": {
        "id": "eafcbd83"
      },
      "outputs": [],
      "source": [
        "#https://medium.com/analytics-vidhya/web-scraping-a-wikipedia-table-into-a-dataframe-c52617e1f451"
      ]
    },
    {
      "cell_type": "code",
      "execution_count": null,
      "id": "c9b00d62",
      "metadata": {
        "id": "c9b00d62"
      },
      "outputs": [],
      "source": []
    },
    {
      "cell_type": "code",
      "execution_count": null,
      "id": "50e5d111",
      "metadata": {
        "id": "50e5d111"
      },
      "outputs": [],
      "source": [
        "\"\"\"\n",
        "The task of extracting data from websites is called Web Scraping.\n",
        "It is one of the most popular methods of collecting data from the internet along with APIs.\n",
        "Some websites do not provide APIs to collect their data so we use data scraping technique.\n",
        "Some of the best programming languages for scraping purpose are Node.js, C , C++, PHP and Python.\n",
        "\n",
        "We use Python for this particular task. But why Python?\n",
        "\n",
        "It is the most popular language for web scraping.\n",
        "BeautifulSoup is among the widely used frameworks based on Python that makes scraping using this language such an easy route to take.\n",
        "These highly evolved web scraping libraries make Python the best language for web scraping.\n",
        "You need to have some basic knowledge of HTML pages to understand web scraping. We also need some python libraries like BeautifulSoup, Requests and Pandas.\n",
        "\n",
        "Following are the steps to scrape a Wikipedia table and convert it into a Python Dataframe.\n",
        "Install BeautifulSoup : pip install beautifulsoup4 (Go to the terminal and use this pip command to install it)\n",
        "Import required libraries : Requests, Pandas, BeautifulSoup.\n",
        "Requests is a Python module that you can use to send all kinds of HTTP requests. It is an easy-to-use library with a lot of features ranging from passing parameters in URLs to sending custom headers and SSL Verification.\n",
        "\n",
        "Pandas is a data analysis tool for the python programming language. We use Pandas Dataframe is a 2-dimensional labeled data structure with columns of potentially different types. You can think of it like a spreadsheet or SQL table, or a dict of Series objects. It is generally the most commonly used pandas object.\n",
        "\n",
        "import pandas as pd # library for data analysis\n",
        "import requests # library to handle requests\n",
        "from bs4 import BeautifulSoup # library to parse HTML documents\n",
        "3. Request for the HTML response using the URL : We send a GET request to the Wikipedia URL whose table needs to be scraped and store the HTML response in a variable. It is not legal to scrape any website, so we check the status code. 200 shows that you can go ahead and download it.\n",
        "\n",
        "# get the response in the form of html\n",
        "wikiurl=\"https://en.wikipedia.org/wiki/List_of_cities_in_India_by_population\"\n",
        "table_class=\"wikitable sortable jquery-tablesorter\"\n",
        "response=requests.get(wikiurl)\n",
        "print(response.status_code)\n",
        "4. Inspect page : In order to scrape the data from the website, we place our cursor on the data ,right click and Inspect. This gives us the HTML content through which we can find the tags inside which our data is stored. It is obvious that a table is stored inside the <table> tag in HTML.\n",
        "\n",
        "5. Parse data from the HTML : Next we create a BeautifulSoup object and using the find() method extract the relevant information,which in our case is the <table> tag. There can be many tables in a single Wikipedia page, so to specify the table we also pass the “class” or the “id” attribute of the <table> tag.\n",
        "\n",
        "6. Convert Wikipedia Table into a Python Dataframe : We read the HTML table into a list of dataframe object using read_html(). This returns a list. Next we convert the list into a DataFrame.\n",
        "\n",
        "df=pd.read_html(str(indiatable))\n",
        "# convert list to dataframe\n",
        "df=pd.DataFrame(df[0])\n",
        "print(df.head())\n",
        "\n",
        "7. Clean the Data : We only need the city name,state and population(2011) from this dataframe. So we drop the other columns from the dataframe and rename the columns for a better understanding.\n",
        "\n",
        "# drop the unwanted columns\n",
        "data = df.drop([\"Rank\", \"Population(2001)\"], axis=1)\n",
        "# rename columns for ease\n",
        "data = data.rename(columns={\"State or union territory\": \"State\",\"Population(2011)[3]\": \"Population\"})\n",
        "print(data.head())\n",
        "\n",
        "\"\"\""
      ]
    },
    {
      "cell_type": "code",
      "execution_count": null,
      "id": "eb561e09",
      "metadata": {
        "id": "eb561e09"
      },
      "outputs": [],
      "source": [
        "#pip install beautifulsoup4"
      ]
    },
    {
      "cell_type": "code",
      "source": [
        "!pip install lxml"
      ],
      "metadata": {
        "colab": {
          "base_uri": "https://localhost:8080/"
        },
        "id": "4dujkOigFefd",
        "outputId": "1b0bdcae-d8e6-41f0-ee74-8444f244a93d"
      },
      "id": "4dujkOigFefd",
      "execution_count": null,
      "outputs": [
        {
          "output_type": "stream",
          "name": "stdout",
          "text": [
            "Requirement already satisfied: lxml in /usr/local/lib/python3.10/dist-packages (4.9.4)\n"
          ]
        }
      ]
    },
    {
      "cell_type": "code",
      "execution_count": null,
      "id": "7c31a37c",
      "metadata": {
        "id": "7c31a37c"
      },
      "outputs": [],
      "source": [
        "import pandas as pd # library for data analysis\n",
        "import requests # library to handle requests\n",
        "from bs4 import BeautifulSoup # library to parse HTML documents"
      ]
    },
    {
      "cell_type": "code",
      "execution_count": null,
      "id": "c0420c6e",
      "metadata": {
        "id": "c0420c6e",
        "outputId": "904696bf-cf67-4e7a-f33a-3d1b256072b8",
        "colab": {
          "base_uri": "https://localhost:8080/"
        }
      },
      "outputs": [
        {
          "output_type": "stream",
          "name": "stdout",
          "text": [
            "200\n"
          ]
        }
      ],
      "source": [
        "# get the response in the form of html\n",
        "\n",
        "\n",
        "wikiurl=\"https://en.wikipedia.org/wiki/List_of_cities_in_India_by_population\"\n",
        "table_class=\"wikitable sortable jquery-tablesorter\"\n",
        "response=requests.get(wikiurl)\n",
        "print(response.status_code)"
      ]
    },
    {
      "cell_type": "code",
      "execution_count": null,
      "id": "921cc73b",
      "metadata": {
        "id": "921cc73b"
      },
      "outputs": [],
      "source": [
        "# parse data from the html into a beautifulsoup object\n",
        "soup = BeautifulSoup(response.text, 'html.parser')\n",
        "indiatable=soup.find('table',{'class':\"wikitable\"})"
      ]
    },
    {
      "cell_type": "code",
      "execution_count": null,
      "id": "a93b2065",
      "metadata": {
        "id": "a93b2065",
        "outputId": "86e824b1-edab-4530-d281-ad3a3e7081a9",
        "colab": {
          "base_uri": "https://localhost:8080/"
        }
      },
      "outputs": [
        {
          "output_type": "execute_result",
          "data": {
            "text/plain": [
              "str"
            ]
          },
          "metadata": {},
          "execution_count": 55
        }
      ],
      "source": [
        "type(indiatable.prettify())"
      ]
    },
    {
      "cell_type": "markdown",
      "source": [
        "<table class=\"sortable wikitable sticky-header static-row-numbers col1left col4left\" style=\"text-align:right\">\n",
        "<tbody><tr>\n",
        "<th>City\n",
        "</th>\n",
        "<th>Population<br/>(2011)<sup class=\"reference\" id=\"cite_ref-class_i_2011_3-0\"><a href=\"#cite_note-class_i_2011-3\">[3]</a></sup>\n",
        "</th>\n",
        "<th>Population<br/>(2001)<sup class=\"reference\" id=\"cite_ref-class_i_2011_3-1\"><a href=\"#cite_note-class_i_2011-3\">[3]</a></sup><sup class=\"reference\" id=\"cite_ref-4\"><a href=\"#cite_note-4\">[a]</a></sup>\n",
        "</th>\n",
        "<th>State or union<br/>territory\n",
        "</th>\n",
        "<th>Ref\n",
        "</th></tr>\n",
        "<tr>\n",
        "<td><b><a href=\"/wiki/Mumbai\" title=\"Mumbai\">Mumbai</a></b></td>\n",
        "<td>12,442,373</td>\n",
        "<td>11,978,450</td>\n",
        "<td><a href=\"/wiki/Maharashtra\" title=\"Maharashtra\">Maharashtra</a></td>\n",
        "<td><sup class=\"reference\" id=\"cite_ref-class_i_2011_3-2\"><a href=\"#cite_note-class_i_2011-3\">[3]</a></sup>\n",
        "</td></tr>\n",
        "<tr>\n",
        "<td><b><a href=\"/wiki/Delhi\" title=\"Delhi\">Delhi</a></b></td>\n",
        "<td>11,034,555</td>\n",
        "<td>9,879,172</td>\n",
        "<td><a href=\"/wiki/Delhi\" title=\"Delhi\">Delhi</a></td>\n",
        "<td><sup class=\"reference\" id=\"cite_ref-class_i_2011_3-3\"><a href=\"#cite_note-class_i_2011-3\">[3]</a></sup>\n",
        "</td></tr>\n",
        "<tr>\n",
        "<td><b><a href=\"/wiki/Bangalore\" title=\"Bangalore\">Bangalore</a></b></td>\n",
        "<td>8,443,675</td>\n",
        "<td>5,682,293</td>\n",
        "<td><a href=\"/wiki/Karnataka\" title=\"Karnataka\">Karnataka</a></td>\n",
        "<td><sup class=\"reference\" id=\"cite_ref-class_i_2011_3-4\"><a href=\"#cite_note-class_i_2011-3\">[3]</a></sup>\n",
        "</td></tr>\n",
        "<tr>\n",
        "<td><b><a href=\"/wiki/Hyderabad\" title=\"Hyderabad\">Hyderabad</a></b></td>\n",
        "<td>6,993,262</td>\n",
        "<td>5,496,960</td>\n",
        "<td><a href=\"/wiki/Telangana\" title=\"Telangana\">Telangana</a></td>\n",
        "<td><sup class=\"reference\" id=\"cite_ref-class_i_2011_3-5\"><a href=\"#cite_note-class_i_2011-3\">[3]</a></sup>\n",
        "</td></tr>\n",
        "<tr>\n",
        "<td><a href=\"/wiki/Ahmedabad\" title=\"Ahmedabad\">Ahmedabad</a></td>\n",
        "<td>5,577,940</td>\n",
        "<td>4,470,006</td>\n",
        "<td><a href=\"/wiki/Gujarat\" title=\"Gujarat\">Gujarat</a></td>\n",
        "<td><sup class=\"reference\" id=\"cite_ref-class_i_2011_3-6\"><a href=\"#cite_note-class_i_2011-3\">[3]</a></sup>\n",
        "</td></tr>\n",
        "<tr>\n",
        "<td><b><a href=\"/wiki/Chennai\" title=\"Chennai\">Chennai</a></b></td>\n",
        "<td>4,646,732</td>\n",
        "<td>4,343,645</td>\n",
        "<td><a href=\"/wiki/Tamil_Nadu\" title=\"Tamil Nadu\">Tamil Nadu</a></td>\n",
        "<td><sup class=\"reference\" id=\"cite_ref-class_i_2011_3-7\"><a href=\"#cite_note-class_i_2011-3\">[3]</a></sup>\n",
        "</td></tr>\n",
        "<tr>\n",
        "<td><b><a href=\"/wiki/Kolkata\" title=\"Kolkata\">Kolkata</a> </b></td>\n",
        "<td>4,496,694</td>\n",
        "<td>4,580,546</td>\n",
        "<td><a href=\"/wiki/West_Bengal\" title=\"West Bengal\">West Bengal</a></td>\n",
        "<td><sup class=\"reference\" id=\"cite_ref-class_i_2011_3-8\"><a href=\"#cite_note-class_i_2011-3\">[3]</a></sup>\n",
        "</td></tr>\n",
        "<tr>\n",
        "<td><a href=\"/wiki/Surat\" title=\"Surat\">Surat</a></td>\n",
        "<td>4,467,797</td>\n",
        "<td>2,788,126</td>\n",
        "<td><a href=\"/wiki/Gujarat\" title=\"Gujarat\">Gujarat</a></td>\n",
        "<td><sup class=\"reference\" id=\"cite_ref-class_i_2011_3-9\"><a href=\"#cite_note-class_i_2011-3\">[3]</a></sup>\n",
        "</td></tr>\n",
        "<tr>\n",
        "<td><a href=\"/wiki/Pune\" title=\"Pune\">Pune</a></td>\n",
        "<td>3,124,458</td>\n",
        "<td>2,538,473</td>\n",
        "<td><a href=\"/wiki/Maharashtra\" title=\"Maharashtra\">Maharashtra</a></td>\n",
        "<td><sup class=\"reference\" id=\"cite_ref-class_i_2011_3-10\"><a href=\"#cite_note-class_i_2011-3\">[3]</a></sup>\n",
        "</td></tr>\n",
        "<tr>\n",
        "<td><b><a href=\"/wiki/Jaipur\" title=\"Jaipur\">Jaipur</a></b></td>\n",
        "<td>3,046,163</td>\n",
        "<td>2,322,575</td>\n",
        "<td><a href=\"/wiki/Rajasthan\" title=\"Rajasthan\">Rajasthan</a></td>\n",
        "<td><sup class=\"reference\" id=\"cite_ref-class_i_2011_3-11\"><a href=\"#cite_note-class_i_2011-3\">[3]</a></sup>\n",
        "</td></tr>\n",
        "<tr>\n",
        "<td><b><a href=\"/wiki/Lucknow\" title=\"Lucknow\">Lucknow</a></b></td>\n",
        "<td>2,817,105</td>\n",
        "<td>2,185,927</td>\n",
        "<td><a href=\"/wiki/Uttar_Pradesh\" title=\"Uttar Pradesh\">Uttar Pradesh</a></td>\n",
        "<td><sup class=\"reference\" id=\"cite_ref-class_i_2011_3-12\"><a href=\"#cite_note-class_i_2011-3\">[3]</a></sup>\n",
        "</td></tr>\n",
        "<tr>\n",
        "<td><a href=\"/wiki/Kanpur\" title=\"Kanpur\">Kanpur</a></td>\n",
        "<td>2,765,348</td>\n",
        "<td>2,551,337</td>\n",
        "<td><a href=\"/wiki/Uttar_Pradesh\" title=\"Uttar Pradesh\">Uttar Pradesh</a></td>\n",
        "<td><sup class=\"reference\" id=\"cite_ref-class_i_2011_3-13\"><a href=\"#cite_note-class_i_2011-3\">[3]</a></sup>\n",
        "</td></tr>\n",
        "<tr>\n",
        "<td><a href=\"/wiki/Nagpur\" title=\"Nagpur\">Nagpur</a></td>\n",
        "<td>2,405,665</td>\n",
        "<td>2,052,066</td>\n",
        "<td><a href=\"/wiki/Maharashtra\" title=\"Maharashtra\">Maharashtra</a></td>\n",
        "<td><sup class=\"reference\" id=\"cite_ref-class_i_2011_3-14\"><a href=\"#cite_note-class_i_2011-3\">[3]</a></sup>\n",
        "</td></tr>\n",
        "<tr>\n",
        "<td><a href=\"/wiki/Indore\" title=\"Indore\">Indore</a></td>\n",
        "<td>1,964,086</td>\n",
        "<td>1,503,237</td>\n",
        "<td><a href=\"/wiki/Madhya_Pradesh\" title=\"Madhya Pradesh\">Madhya Pradesh</a></td>\n",
        "<td><sup class=\"reference\" id=\"cite_ref-class_i_2011_3-15\"><a href=\"#cite_note-class_i_2011-3\">[3]</a></sup>\n",
        "</td></tr>\n",
        "<tr>\n",
        "<td><a href=\"/wiki/Thane\" title=\"Thane\">Thane</a></td>\n",
        "<td>1,841,488</td>\n",
        "<td>1,262,551</td>\n",
        "<td><a href=\"/wiki/Maharashtra\" title=\"Maharashtra\">Maharashtra</a></td>\n",
        "<td><sup class=\"reference\" id=\"cite_ref-class_i_2011_3-16\"><a href=\"#cite_note-class_i_2011-3\">[3]</a></sup>\n",
        "</td></tr>\n",
        "<tr>\n",
        "<td><b><a href=\"/wiki/Bhopal\" title=\"Bhopal\">Bhopal</a></b></td>\n",
        "<td>1,798,218</td>\n",
        "<td>1,458,416</td>\n",
        "<td><a href=\"/wiki/Madhya_Pradesh\" title=\"Madhya Pradesh\">Madhya Pradesh</a></td>\n",
        "<td><sup class=\"reference\" id=\"cite_ref-class_i_2011_3-17\"><a href=\"#cite_note-class_i_2011-3\">[3]</a></sup>\n",
        "</td></tr>\n",
        "<tr>\n",
        "<td><a href=\"/wiki/Visakhapatnam\" title=\"Visakhapatnam\">Visakhapatnam</a></td>\n",
        "<td>1,728,128</td>\n",
        "<td>1,345,938</td>\n",
        "<td><a href=\"/wiki/Andhra_Pradesh\" title=\"Andhra Pradesh\">Andhra Pradesh</a></td>\n",
        "<td><sup class=\"reference\" id=\"cite_ref-class_i_2011_3-18\"><a href=\"#cite_note-class_i_2011-3\">[3]</a></sup><sup class=\"reference\" id=\"cite_ref-fn1_6-0\"><a href=\"#cite_note-fn1-6\">[b]</a></sup>\n",
        "</td></tr>\n",
        "<tr>\n",
        "<td><a href=\"/wiki/Pimpri-Chinchwad\" title=\"Pimpri-Chinchwad\">Pimpri-Chinchwad</a></td>\n",
        "<td>1,727,692</td>\n",
        "<td>1,020,448</td>\n",
        "<td><a href=\"/wiki/Maharashtra\" title=\"Maharashtra\">Maharashtra</a></td>\n",
        "<td><sup class=\"reference\" id=\"cite_ref-class_i_2011_3-19\"><a href=\"#cite_note-class_i_2011-3\">[3]</a></sup>\n",
        "</td></tr>\n",
        "<tr>\n",
        "<td><b><a href=\"/wiki/Patna\" title=\"Patna\">Patna</a></b></td>\n",
        "<td>1,684,222</td>\n",
        "<td>1,431,477</td>\n",
        "<td><a href=\"/wiki/Bihar\" title=\"Bihar\">Bihar</a></td>\n",
        "<td><sup class=\"reference\" id=\"cite_ref-class_i_2011_3-20\"><a href=\"#cite_note-class_i_2011-3\">[3]</a></sup>\n",
        "</td></tr>\n",
        "<tr>\n",
        "<td><a href=\"/wiki/Vadodara\" title=\"Vadodara\">Vadodara</a></td>\n",
        "<td>1,670,806</td>\n",
        "<td>1,338,244</td>\n",
        "<td><a href=\"/wiki/Gujarat\" title=\"Gujarat\">Gujarat</a></td>\n",
        "<td><sup class=\"reference\" id=\"cite_ref-class_i_2011_3-21\"><a href=\"#cite_note-class_i_2011-3\">[3]</a></sup>\n",
        "</td></tr>\n",
        "<tr>\n",
        "<td><a class=\"mw-redirect\" href=\"/wiki/Ghaziabad,_India\" title=\"Ghaziabad, India\">Ghaziabad</a></td>\n",
        "<td>1,648,643</td>\n",
        "<td>968,256</td>\n",
        "<td><a href=\"/wiki/Uttar_Pradesh\" title=\"Uttar Pradesh\">Uttar Pradesh</a></td>\n",
        "<td><sup class=\"reference\" id=\"cite_ref-class_i_2011_3-22\"><a href=\"#cite_note-class_i_2011-3\">[3]</a></sup>\n",
        "</td></tr>\n",
        "<tr>\n",
        "<td><a href=\"/wiki/Ludhiana\" title=\"Ludhiana\">Ludhiana</a></td>\n",
        "<td>1,618,879</td>\n",
        "<td>1,398,467</td>\n",
        "<td><a class=\"mw-redirect\" href=\"/wiki/Punjab_(India)\" title=\"Punjab (India)\">Punjab</a></td>\n",
        "<td><sup class=\"reference\" id=\"cite_ref-class_i_2011_3-23\"><a href=\"#cite_note-class_i_2011-3\">[3]</a></sup>\n",
        "</td></tr>\n",
        "<tr>\n",
        "<td><a href=\"/wiki/Agra\" title=\"Agra\">Agra</a></td>\n",
        "<td>1,585,704</td>\n",
        "<td>1,275,134</td>\n",
        "<td><a href=\"/wiki/Uttar_Pradesh\" title=\"Uttar Pradesh\">Uttar Pradesh</a></td>\n",
        "<td><sup class=\"reference\" id=\"cite_ref-class_i_2011_3-24\"><a href=\"#cite_note-class_i_2011-3\">[3]</a></sup>\n",
        "</td></tr>\n",
        "<tr>\n",
        "<td><a href=\"/wiki/Nashik\" title=\"Nashik\">Nashik</a></td>\n",
        "<td>1,486,053</td>\n",
        "<td>1,077,236</td>\n",
        "<td><a href=\"/wiki/Maharashtra\" title=\"Maharashtra\">Maharashtra</a></td>\n",
        "<td><sup class=\"reference\" id=\"cite_ref-class_i_2011_3-25\"><a href=\"#cite_note-class_i_2011-3\">[3]</a></sup>\n",
        "</td></tr>\n",
        "<tr>\n",
        "<td><a href=\"/wiki/Faridabad\" title=\"Faridabad\">Faridabad</a></td>\n",
        "<td>1,414,050</td>\n",
        "<td>1,055,938</td>\n",
        "<td><a href=\"/wiki/Haryana\" title=\"Haryana\">Haryana</a></td>\n",
        "<td><sup class=\"reference\" id=\"cite_ref-class_i_2011_3-26\"><a href=\"#cite_note-class_i_2011-3\">[3]</a></sup>\n",
        "</td></tr>\n",
        "<tr>\n",
        "<td><a href=\"/wiki/Meerut\" title=\"Meerut\">Meerut</a></td>\n",
        "<td>1,305,429</td>\n",
        "<td>1,068,772</td>\n",
        "<td><a href=\"/wiki/Uttar_Pradesh\" title=\"Uttar Pradesh\">Uttar Pradesh</a></td>\n",
        "<td><sup class=\"reference\" id=\"cite_ref-class_i_2011_3-27\"><a href=\"#cite_note-class_i_2011-3\">[3]</a></sup>\n",
        "</td></tr>\n",
        "<tr>\n",
        "<td><a href=\"/wiki/Rajkot\" title=\"Rajkot\">Rajkot</a></td>\n",
        "<td>1,286,678</td>\n",
        "<td>967,476</td>\n",
        "<td><a href=\"/wiki/Gujarat\" title=\"Gujarat\">Gujarat</a></td>\n",
        "<td><sup class=\"reference\" id=\"cite_ref-class_i_2011_3-28\"><a href=\"#cite_note-class_i_2011-3\">[3]</a></sup>\n",
        "</td></tr>\n",
        "<tr>\n",
        "<td><a class=\"mw-redirect\" href=\"/wiki/Kalyan-Dombivali\" title=\"Kalyan-Dombivali\">Kalyan-Dombivali</a></td>\n",
        "<td>1,247,327</td>\n",
        "<td>1,193,512</td>\n",
        "<td><a href=\"/wiki/Maharashtra\" title=\"Maharashtra\">Maharashtra</a></td>\n",
        "<td><sup class=\"reference\" id=\"cite_ref-class_i_2011_3-29\"><a href=\"#cite_note-class_i_2011-3\">[3]</a></sup>\n",
        "</td></tr>\n",
        "<tr>\n",
        "<td><a href=\"/wiki/Vasai-Virar\" title=\"Vasai-Virar\">Vasai-Virar</a></td>\n",
        "<td>1,222,390</td>\n",
        "<td>518,601</td>\n",
        "<td><a href=\"/wiki/Maharashtra\" title=\"Maharashtra\">Maharashtra</a></td>\n",
        "<td><sup class=\"reference\" id=\"cite_ref-class_i_2011_3-30\"><a href=\"#cite_note-class_i_2011-3\">[3]</a></sup>\n",
        "</td></tr>\n",
        "<tr>\n",
        "<td><a href=\"/wiki/Varanasi\" title=\"Varanasi\">Varanasi</a></td>\n",
        "<td>1,198,491</td>\n",
        "<td>1,103,952</td>\n",
        "<td><a href=\"/wiki/Uttar_Pradesh\" title=\"Uttar Pradesh\">Uttar Pradesh</a></td>\n",
        "<td><sup class=\"reference\" id=\"cite_ref-class_i_2011_3-31\"><a href=\"#cite_note-class_i_2011-3\">[3]</a></sup>\n",
        "</td></tr>\n",
        "<tr>\n",
        "<td><b><a href=\"/wiki/Srinagar\" title=\"Srinagar\">Srinagar</a></b></td>\n",
        "<td>1,180,570</td>\n",
        "<td>935,764</td>\n",
        "<td><a href=\"/wiki/Jammu_and_Kashmir_(union_territory)\" title=\"Jammu and Kashmir (union territory)\">Jammu and Kashmir</a></td>\n",
        "<td><sup class=\"reference\" id=\"cite_ref-class_i_2011_3-32\"><a href=\"#cite_note-class_i_2011-3\">[3]</a></sup>\n",
        "</td></tr>\n",
        "<tr>\n",
        "<td><a class=\"mw-redirect\" href=\"/wiki/Aurangabad,_Maharashtra\" title=\"Aurangabad, Maharashtra\">Aurangabad</a></td>\n",
        "<td>1,175,116</td>\n",
        "<td>873,311</td>\n",
        "<td><a href=\"/wiki/Maharashtra\" title=\"Maharashtra\">Maharashtra</a></td>\n",
        "<td><sup class=\"reference\" id=\"cite_ref-class_i_2011_3-33\"><a href=\"#cite_note-class_i_2011-3\">[3]</a></sup>\n",
        "</td></tr>\n",
        "<tr>\n",
        "<td><a href=\"/wiki/Dhanbad\" title=\"Dhanbad\">Dhanbad</a></td>\n",
        "<td>1,162,472</td>\n",
        "<td>1,031,523</td>\n",
        "<td><a href=\"/wiki/Jharkhand\" title=\"Jharkhand\">Jharkhand</a></td>\n",
        "<td><sup class=\"reference\" id=\"cite_ref-class_i_2011_3-34\"><a href=\"#cite_note-class_i_2011-3\">[3]</a></sup>\n",
        "</td></tr>\n",
        "<tr>\n",
        "<td><a href=\"/wiki/Amritsar\" title=\"Amritsar\">Amritsar</a></td>\n",
        "<td>1,132,383</td>\n",
        "<td>979,801</td>\n",
        "<td><a class=\"mw-redirect\" href=\"/wiki/Punjab_(India)\" title=\"Punjab (India)\">Punjab</a></td>\n",
        "<td><sup class=\"reference\" id=\"cite_ref-class_i_2011_3-35\"><a href=\"#cite_note-class_i_2011-3\">[3]</a></sup>\n",
        "</td></tr>\n",
        "<tr>\n",
        "<td><a href=\"/wiki/Navi_Mumbai\" title=\"Navi Mumbai\">Navi Mumbai</a></td>\n",
        "<td>1,120,547</td>\n",
        "<td>704,002</td>\n",
        "<td><a href=\"/wiki/Maharashtra\" title=\"Maharashtra\">Maharashtra</a></td>\n",
        "<td><sup class=\"reference\" id=\"cite_ref-class_i_2011_3-36\"><a href=\"#cite_note-class_i_2011-3\">[3]</a></sup>\n",
        "</td></tr>\n",
        "<tr>\n",
        "<td><a href=\"/wiki/Prayagraj\" title=\"Prayagraj\">Prayagraj</a></td>\n",
        "<td>1,112,544</td>\n",
        "<td>975,393</td>\n",
        "<td><a href=\"/wiki/Uttar_Pradesh\" title=\"Uttar Pradesh\">Uttar Pradesh</a></td>\n",
        "<td><sup class=\"reference\" id=\"cite_ref-class_i_2011_3-37\"><a href=\"#cite_note-class_i_2011-3\">[3]</a></sup>\n",
        "</td></tr>\n",
        "<tr>\n",
        "<td><a href=\"/wiki/Howrah\" title=\"Howrah\">Howrah</a></td>\n",
        "<td>1,077,075</td>\n",
        "<td>1,007,532</td>\n",
        "<td><a href=\"/wiki/West_Bengal\" title=\"West Bengal\">West Bengal</a></td>\n",
        "<td><sup class=\"reference\" id=\"cite_ref-class_i_2011_3-38\"><a href=\"#cite_note-class_i_2011-3\">[3]</a></sup>\n",
        "</td></tr>\n",
        "<tr>\n",
        "<td><b><a href=\"/wiki/Ranchi\" title=\"Ranchi\">Ranchi</a></b></td>\n",
        "<td>1,073,427</td>\n",
        "<td>847,093</td>\n",
        "<td><a href=\"/wiki/Jharkhand\" title=\"Jharkhand\">Jharkhand</a></td>\n",
        "<td><sup class=\"reference\" id=\"cite_ref-class_i_2011_3-39\"><a href=\"#cite_note-class_i_2011-3\">[3]</a></sup>\n",
        "</td></tr>\n",
        "<tr>\n",
        "<td><a href=\"/wiki/Jabalpur\" title=\"Jabalpur\">Jabalpur</a></td>\n",
        "<td>1,055,525</td>\n",
        "<td>951,472</td>\n",
        "<td><a href=\"/wiki/Madhya_Pradesh\" title=\"Madhya Pradesh\">Madhya Pradesh</a></td>\n",
        "<td><sup class=\"reference\" id=\"cite_ref-class_i_2011_3-40\"><a href=\"#cite_note-class_i_2011-3\">[3]</a></sup>\n",
        "</td></tr>\n",
        "<tr>\n",
        "<td><a href=\"/wiki/Gwalior\" title=\"Gwalior\">Gwalior</a></td>\n",
        "<td>1,054,420</td>\n",
        "<td>827,026</td>\n",
        "<td><a href=\"/wiki/Madhya_Pradesh\" title=\"Madhya Pradesh\">Madhya Pradesh</a></td>\n",
        "<td><sup class=\"reference\" id=\"cite_ref-class_i_2011_3-41\"><a href=\"#cite_note-class_i_2011-3\">[3]</a></sup>\n",
        "</td></tr>\n",
        "<tr>\n",
        "<td><a href=\"/wiki/Coimbatore\" title=\"Coimbatore\">Coimbatore</a></td>\n",
        "<td>1,050,721</td>\n",
        "<td>930,882</td>\n",
        "<td><a href=\"/wiki/Tamil_Nadu\" title=\"Tamil Nadu\">Tamil Nadu</a></td>\n",
        "<td><sup class=\"reference\" id=\"cite_ref-class_i_2011_3-42\"><a href=\"#cite_note-class_i_2011-3\">[3]</a></sup>\n",
        "</td></tr>\n",
        "<tr>\n",
        "<td><a href=\"/wiki/Vijayawada\" title=\"Vijayawada\">Vijayawada</a></td>\n",
        "<td>1,034,358</td>\n",
        "<td>941,760</td>\n",
        "<td><a href=\"/wiki/Andhra_Pradesh\" title=\"Andhra Pradesh\">Andhra Pradesh</a></td>\n",
        "<td><sup class=\"reference\" id=\"cite_ref-class_i_2011_3-43\"><a href=\"#cite_note-class_i_2011-3\">[3]</a></sup>\n",
        "</td></tr>\n",
        "<tr>\n",
        "<td><a href=\"/wiki/Jodhpur\" title=\"Jodhpur\">Jodhpur</a></td>\n",
        "<td>1,033,756</td>\n",
        "<td>856,525</td>\n",
        "<td><a href=\"/wiki/Rajasthan\" title=\"Rajasthan\">Rajasthan</a></td>\n",
        "<td><sup class=\"reference\" id=\"cite_ref-class_i_2011_3-44\"><a href=\"#cite_note-class_i_2011-3\">[3]</a></sup>\n",
        "</td></tr>\n",
        "<tr>\n",
        "<td><a href=\"/wiki/Madurai\" title=\"Madurai\">Madurai</a></td>\n",
        "<td>1,017,865</td>\n",
        "<td>928,869</td>\n",
        "<td><a href=\"/wiki/Tamil_Nadu\" title=\"Tamil Nadu\">Tamil Nadu</a></td>\n",
        "<td><sup class=\"reference\" id=\"cite_ref-class_i_2011_3-45\"><a href=\"#cite_note-class_i_2011-3\">[3]</a></sup>\n",
        "</td></tr>\n",
        "<tr>\n",
        "<td><b><a href=\"/wiki/Raipur\" title=\"Raipur\">Raipur</a></b></td>\n",
        "<td>1,010,433</td>\n",
        "<td>707,469</td>\n",
        "<td><a href=\"/wiki/Chhattisgarh\" title=\"Chhattisgarh\">Chhattisgarh</a></td>\n",
        "<td><sup class=\"reference\" id=\"cite_ref-class_i_2011_3-46\"><a href=\"#cite_note-class_i_2011-3\">[3]</a></sup>\n",
        "</td></tr>\n",
        "<tr>\n",
        "<td><a href=\"/wiki/Kota,_Rajasthan\" title=\"Kota, Rajasthan\">Kota</a></td>\n",
        "<td>1,001,694</td>\n",
        "<td>703,150</td>\n",
        "<td><a href=\"/wiki/Rajasthan\" title=\"Rajasthan\">Rajasthan</a></td>\n",
        "<td><sup class=\"reference\" id=\"cite_ref-class_i_2011_3-47\"><a href=\"#cite_note-class_i_2011-3\">[3]</a></sup>\n",
        "</td></tr></tbody></table>"
      ],
      "metadata": {
        "id": "2ON9ZosMGmxA"
      },
      "id": "2ON9ZosMGmxA"
    },
    {
      "cell_type": "code",
      "execution_count": null,
      "id": "fa5e15c0",
      "metadata": {
        "id": "fa5e15c0",
        "outputId": "c895cb42-8b32-46a9-888e-f5d7d4719872",
        "colab": {
          "base_uri": "https://localhost:8080/",
          "height": 1000
        }
      },
      "outputs": [
        {
          "output_type": "execute_result",
          "data": {
            "text/plain": [
              "                City  Population  (2011)  [3]  Population  (2001)  [3]  [a]  \\\n",
              "0             Mumbai                 12442373                      11978450   \n",
              "1              Delhi                 11034555                       9879172   \n",
              "2          Bangalore                  8443675                       5682293   \n",
              "3          Hyderabad                  6993262                       5496960   \n",
              "4          Ahmedabad                  5577940                       4470006   \n",
              "5            Chennai                  4646732                       4343645   \n",
              "6            Kolkata                  4496694                       4580546   \n",
              "7              Surat                  4467797                       2788126   \n",
              "8               Pune                  3124458                       2538473   \n",
              "9             Jaipur                  3046163                       2322575   \n",
              "10           Lucknow                  2817105                       2185927   \n",
              "11            Kanpur                  2765348                       2551337   \n",
              "12            Nagpur                  2405665                       2052066   \n",
              "13            Indore                  1964086                       1503237   \n",
              "14             Thane                  1841488                       1262551   \n",
              "15            Bhopal                  1798218                       1458416   \n",
              "16     Visakhapatnam                  1728128                       1345938   \n",
              "17  Pimpri-Chinchwad                  1727692                       1020448   \n",
              "18             Patna                  1684222                       1431477   \n",
              "19          Vadodara                  1670806                       1338244   \n",
              "20         Ghaziabad                  1648643                        968256   \n",
              "21          Ludhiana                  1618879                       1398467   \n",
              "22              Agra                  1585704                       1275134   \n",
              "23            Nashik                  1486053                       1077236   \n",
              "24         Faridabad                  1414050                       1055938   \n",
              "25            Meerut                  1305429                       1068772   \n",
              "26            Rajkot                  1286678                        967476   \n",
              "27  Kalyan-Dombivali                  1247327                       1193512   \n",
              "28       Vasai-Virar                  1222390                        518601   \n",
              "29          Varanasi                  1198491                       1103952   \n",
              "30          Srinagar                  1180570                        935764   \n",
              "31        Aurangabad                  1175116                        873311   \n",
              "32           Dhanbad                  1162472                       1031523   \n",
              "33          Amritsar                  1132383                        979801   \n",
              "34       Navi Mumbai                  1120547                        704002   \n",
              "35         Prayagraj                  1112544                        975393   \n",
              "36            Howrah                  1077075                       1007532   \n",
              "37            Ranchi                  1073427                        847093   \n",
              "38          Jabalpur                  1055525                        951472   \n",
              "39           Gwalior                  1054420                        827026   \n",
              "40        Coimbatore                  1050721                        930882   \n",
              "41        Vijayawada                  1034358                        941760   \n",
              "42           Jodhpur                  1033756                        856525   \n",
              "43           Madurai                  1017865                        928869   \n",
              "44            Raipur                  1010433                        707469   \n",
              "45              Kota                  1001694                        703150   \n",
              "\n",
              "   State or union  territory       Ref  \n",
              "0                Maharashtra       [3]  \n",
              "1                      Delhi       [3]  \n",
              "2                  Karnataka       [3]  \n",
              "3                  Telangana       [3]  \n",
              "4                    Gujarat       [3]  \n",
              "5                 Tamil Nadu       [3]  \n",
              "6                West Bengal       [3]  \n",
              "7                    Gujarat       [3]  \n",
              "8                Maharashtra       [3]  \n",
              "9                  Rajasthan       [3]  \n",
              "10             Uttar Pradesh       [3]  \n",
              "11             Uttar Pradesh       [3]  \n",
              "12               Maharashtra       [3]  \n",
              "13            Madhya Pradesh       [3]  \n",
              "14               Maharashtra       [3]  \n",
              "15            Madhya Pradesh       [3]  \n",
              "16            Andhra Pradesh  [3]  [b]  \n",
              "17               Maharashtra       [3]  \n",
              "18                     Bihar       [3]  \n",
              "19                   Gujarat       [3]  \n",
              "20             Uttar Pradesh       [3]  \n",
              "21                    Punjab       [3]  \n",
              "22             Uttar Pradesh       [3]  \n",
              "23               Maharashtra       [3]  \n",
              "24                   Haryana       [3]  \n",
              "25             Uttar Pradesh       [3]  \n",
              "26                   Gujarat       [3]  \n",
              "27               Maharashtra       [3]  \n",
              "28               Maharashtra       [3]  \n",
              "29             Uttar Pradesh       [3]  \n",
              "30         Jammu and Kashmir       [3]  \n",
              "31               Maharashtra       [3]  \n",
              "32                 Jharkhand       [3]  \n",
              "33                    Punjab       [3]  \n",
              "34               Maharashtra       [3]  \n",
              "35             Uttar Pradesh       [3]  \n",
              "36               West Bengal       [3]  \n",
              "37                 Jharkhand       [3]  \n",
              "38            Madhya Pradesh       [3]  \n",
              "39            Madhya Pradesh       [3]  \n",
              "40                Tamil Nadu       [3]  \n",
              "41            Andhra Pradesh       [3]  \n",
              "42                 Rajasthan       [3]  \n",
              "43                Tamil Nadu       [3]  \n",
              "44              Chhattisgarh       [3]  \n",
              "45                 Rajasthan       [3]  "
            ],
            "text/html": [
              "\n",
              "  <div id=\"df-9b8e8ead-dd27-45c0-99bd-5b5bc51193d6\" class=\"colab-df-container\">\n",
              "    <div>\n",
              "<style scoped>\n",
              "    .dataframe tbody tr th:only-of-type {\n",
              "        vertical-align: middle;\n",
              "    }\n",
              "\n",
              "    .dataframe tbody tr th {\n",
              "        vertical-align: top;\n",
              "    }\n",
              "\n",
              "    .dataframe thead th {\n",
              "        text-align: right;\n",
              "    }\n",
              "</style>\n",
              "<table border=\"1\" class=\"dataframe\">\n",
              "  <thead>\n",
              "    <tr style=\"text-align: right;\">\n",
              "      <th></th>\n",
              "      <th>City</th>\n",
              "      <th>Population  (2011)  [3]</th>\n",
              "      <th>Population  (2001)  [3]  [a]</th>\n",
              "      <th>State or union  territory</th>\n",
              "      <th>Ref</th>\n",
              "    </tr>\n",
              "  </thead>\n",
              "  <tbody>\n",
              "    <tr>\n",
              "      <th>0</th>\n",
              "      <td>Mumbai</td>\n",
              "      <td>12442373</td>\n",
              "      <td>11978450</td>\n",
              "      <td>Maharashtra</td>\n",
              "      <td>[3]</td>\n",
              "    </tr>\n",
              "    <tr>\n",
              "      <th>1</th>\n",
              "      <td>Delhi</td>\n",
              "      <td>11034555</td>\n",
              "      <td>9879172</td>\n",
              "      <td>Delhi</td>\n",
              "      <td>[3]</td>\n",
              "    </tr>\n",
              "    <tr>\n",
              "      <th>2</th>\n",
              "      <td>Bangalore</td>\n",
              "      <td>8443675</td>\n",
              "      <td>5682293</td>\n",
              "      <td>Karnataka</td>\n",
              "      <td>[3]</td>\n",
              "    </tr>\n",
              "    <tr>\n",
              "      <th>3</th>\n",
              "      <td>Hyderabad</td>\n",
              "      <td>6993262</td>\n",
              "      <td>5496960</td>\n",
              "      <td>Telangana</td>\n",
              "      <td>[3]</td>\n",
              "    </tr>\n",
              "    <tr>\n",
              "      <th>4</th>\n",
              "      <td>Ahmedabad</td>\n",
              "      <td>5577940</td>\n",
              "      <td>4470006</td>\n",
              "      <td>Gujarat</td>\n",
              "      <td>[3]</td>\n",
              "    </tr>\n",
              "    <tr>\n",
              "      <th>5</th>\n",
              "      <td>Chennai</td>\n",
              "      <td>4646732</td>\n",
              "      <td>4343645</td>\n",
              "      <td>Tamil Nadu</td>\n",
              "      <td>[3]</td>\n",
              "    </tr>\n",
              "    <tr>\n",
              "      <th>6</th>\n",
              "      <td>Kolkata</td>\n",
              "      <td>4496694</td>\n",
              "      <td>4580546</td>\n",
              "      <td>West Bengal</td>\n",
              "      <td>[3]</td>\n",
              "    </tr>\n",
              "    <tr>\n",
              "      <th>7</th>\n",
              "      <td>Surat</td>\n",
              "      <td>4467797</td>\n",
              "      <td>2788126</td>\n",
              "      <td>Gujarat</td>\n",
              "      <td>[3]</td>\n",
              "    </tr>\n",
              "    <tr>\n",
              "      <th>8</th>\n",
              "      <td>Pune</td>\n",
              "      <td>3124458</td>\n",
              "      <td>2538473</td>\n",
              "      <td>Maharashtra</td>\n",
              "      <td>[3]</td>\n",
              "    </tr>\n",
              "    <tr>\n",
              "      <th>9</th>\n",
              "      <td>Jaipur</td>\n",
              "      <td>3046163</td>\n",
              "      <td>2322575</td>\n",
              "      <td>Rajasthan</td>\n",
              "      <td>[3]</td>\n",
              "    </tr>\n",
              "    <tr>\n",
              "      <th>10</th>\n",
              "      <td>Lucknow</td>\n",
              "      <td>2817105</td>\n",
              "      <td>2185927</td>\n",
              "      <td>Uttar Pradesh</td>\n",
              "      <td>[3]</td>\n",
              "    </tr>\n",
              "    <tr>\n",
              "      <th>11</th>\n",
              "      <td>Kanpur</td>\n",
              "      <td>2765348</td>\n",
              "      <td>2551337</td>\n",
              "      <td>Uttar Pradesh</td>\n",
              "      <td>[3]</td>\n",
              "    </tr>\n",
              "    <tr>\n",
              "      <th>12</th>\n",
              "      <td>Nagpur</td>\n",
              "      <td>2405665</td>\n",
              "      <td>2052066</td>\n",
              "      <td>Maharashtra</td>\n",
              "      <td>[3]</td>\n",
              "    </tr>\n",
              "    <tr>\n",
              "      <th>13</th>\n",
              "      <td>Indore</td>\n",
              "      <td>1964086</td>\n",
              "      <td>1503237</td>\n",
              "      <td>Madhya Pradesh</td>\n",
              "      <td>[3]</td>\n",
              "    </tr>\n",
              "    <tr>\n",
              "      <th>14</th>\n",
              "      <td>Thane</td>\n",
              "      <td>1841488</td>\n",
              "      <td>1262551</td>\n",
              "      <td>Maharashtra</td>\n",
              "      <td>[3]</td>\n",
              "    </tr>\n",
              "    <tr>\n",
              "      <th>15</th>\n",
              "      <td>Bhopal</td>\n",
              "      <td>1798218</td>\n",
              "      <td>1458416</td>\n",
              "      <td>Madhya Pradesh</td>\n",
              "      <td>[3]</td>\n",
              "    </tr>\n",
              "    <tr>\n",
              "      <th>16</th>\n",
              "      <td>Visakhapatnam</td>\n",
              "      <td>1728128</td>\n",
              "      <td>1345938</td>\n",
              "      <td>Andhra Pradesh</td>\n",
              "      <td>[3]  [b]</td>\n",
              "    </tr>\n",
              "    <tr>\n",
              "      <th>17</th>\n",
              "      <td>Pimpri-Chinchwad</td>\n",
              "      <td>1727692</td>\n",
              "      <td>1020448</td>\n",
              "      <td>Maharashtra</td>\n",
              "      <td>[3]</td>\n",
              "    </tr>\n",
              "    <tr>\n",
              "      <th>18</th>\n",
              "      <td>Patna</td>\n",
              "      <td>1684222</td>\n",
              "      <td>1431477</td>\n",
              "      <td>Bihar</td>\n",
              "      <td>[3]</td>\n",
              "    </tr>\n",
              "    <tr>\n",
              "      <th>19</th>\n",
              "      <td>Vadodara</td>\n",
              "      <td>1670806</td>\n",
              "      <td>1338244</td>\n",
              "      <td>Gujarat</td>\n",
              "      <td>[3]</td>\n",
              "    </tr>\n",
              "    <tr>\n",
              "      <th>20</th>\n",
              "      <td>Ghaziabad</td>\n",
              "      <td>1648643</td>\n",
              "      <td>968256</td>\n",
              "      <td>Uttar Pradesh</td>\n",
              "      <td>[3]</td>\n",
              "    </tr>\n",
              "    <tr>\n",
              "      <th>21</th>\n",
              "      <td>Ludhiana</td>\n",
              "      <td>1618879</td>\n",
              "      <td>1398467</td>\n",
              "      <td>Punjab</td>\n",
              "      <td>[3]</td>\n",
              "    </tr>\n",
              "    <tr>\n",
              "      <th>22</th>\n",
              "      <td>Agra</td>\n",
              "      <td>1585704</td>\n",
              "      <td>1275134</td>\n",
              "      <td>Uttar Pradesh</td>\n",
              "      <td>[3]</td>\n",
              "    </tr>\n",
              "    <tr>\n",
              "      <th>23</th>\n",
              "      <td>Nashik</td>\n",
              "      <td>1486053</td>\n",
              "      <td>1077236</td>\n",
              "      <td>Maharashtra</td>\n",
              "      <td>[3]</td>\n",
              "    </tr>\n",
              "    <tr>\n",
              "      <th>24</th>\n",
              "      <td>Faridabad</td>\n",
              "      <td>1414050</td>\n",
              "      <td>1055938</td>\n",
              "      <td>Haryana</td>\n",
              "      <td>[3]</td>\n",
              "    </tr>\n",
              "    <tr>\n",
              "      <th>25</th>\n",
              "      <td>Meerut</td>\n",
              "      <td>1305429</td>\n",
              "      <td>1068772</td>\n",
              "      <td>Uttar Pradesh</td>\n",
              "      <td>[3]</td>\n",
              "    </tr>\n",
              "    <tr>\n",
              "      <th>26</th>\n",
              "      <td>Rajkot</td>\n",
              "      <td>1286678</td>\n",
              "      <td>967476</td>\n",
              "      <td>Gujarat</td>\n",
              "      <td>[3]</td>\n",
              "    </tr>\n",
              "    <tr>\n",
              "      <th>27</th>\n",
              "      <td>Kalyan-Dombivali</td>\n",
              "      <td>1247327</td>\n",
              "      <td>1193512</td>\n",
              "      <td>Maharashtra</td>\n",
              "      <td>[3]</td>\n",
              "    </tr>\n",
              "    <tr>\n",
              "      <th>28</th>\n",
              "      <td>Vasai-Virar</td>\n",
              "      <td>1222390</td>\n",
              "      <td>518601</td>\n",
              "      <td>Maharashtra</td>\n",
              "      <td>[3]</td>\n",
              "    </tr>\n",
              "    <tr>\n",
              "      <th>29</th>\n",
              "      <td>Varanasi</td>\n",
              "      <td>1198491</td>\n",
              "      <td>1103952</td>\n",
              "      <td>Uttar Pradesh</td>\n",
              "      <td>[3]</td>\n",
              "    </tr>\n",
              "    <tr>\n",
              "      <th>30</th>\n",
              "      <td>Srinagar</td>\n",
              "      <td>1180570</td>\n",
              "      <td>935764</td>\n",
              "      <td>Jammu and Kashmir</td>\n",
              "      <td>[3]</td>\n",
              "    </tr>\n",
              "    <tr>\n",
              "      <th>31</th>\n",
              "      <td>Aurangabad</td>\n",
              "      <td>1175116</td>\n",
              "      <td>873311</td>\n",
              "      <td>Maharashtra</td>\n",
              "      <td>[3]</td>\n",
              "    </tr>\n",
              "    <tr>\n",
              "      <th>32</th>\n",
              "      <td>Dhanbad</td>\n",
              "      <td>1162472</td>\n",
              "      <td>1031523</td>\n",
              "      <td>Jharkhand</td>\n",
              "      <td>[3]</td>\n",
              "    </tr>\n",
              "    <tr>\n",
              "      <th>33</th>\n",
              "      <td>Amritsar</td>\n",
              "      <td>1132383</td>\n",
              "      <td>979801</td>\n",
              "      <td>Punjab</td>\n",
              "      <td>[3]</td>\n",
              "    </tr>\n",
              "    <tr>\n",
              "      <th>34</th>\n",
              "      <td>Navi Mumbai</td>\n",
              "      <td>1120547</td>\n",
              "      <td>704002</td>\n",
              "      <td>Maharashtra</td>\n",
              "      <td>[3]</td>\n",
              "    </tr>\n",
              "    <tr>\n",
              "      <th>35</th>\n",
              "      <td>Prayagraj</td>\n",
              "      <td>1112544</td>\n",
              "      <td>975393</td>\n",
              "      <td>Uttar Pradesh</td>\n",
              "      <td>[3]</td>\n",
              "    </tr>\n",
              "    <tr>\n",
              "      <th>36</th>\n",
              "      <td>Howrah</td>\n",
              "      <td>1077075</td>\n",
              "      <td>1007532</td>\n",
              "      <td>West Bengal</td>\n",
              "      <td>[3]</td>\n",
              "    </tr>\n",
              "    <tr>\n",
              "      <th>37</th>\n",
              "      <td>Ranchi</td>\n",
              "      <td>1073427</td>\n",
              "      <td>847093</td>\n",
              "      <td>Jharkhand</td>\n",
              "      <td>[3]</td>\n",
              "    </tr>\n",
              "    <tr>\n",
              "      <th>38</th>\n",
              "      <td>Jabalpur</td>\n",
              "      <td>1055525</td>\n",
              "      <td>951472</td>\n",
              "      <td>Madhya Pradesh</td>\n",
              "      <td>[3]</td>\n",
              "    </tr>\n",
              "    <tr>\n",
              "      <th>39</th>\n",
              "      <td>Gwalior</td>\n",
              "      <td>1054420</td>\n",
              "      <td>827026</td>\n",
              "      <td>Madhya Pradesh</td>\n",
              "      <td>[3]</td>\n",
              "    </tr>\n",
              "    <tr>\n",
              "      <th>40</th>\n",
              "      <td>Coimbatore</td>\n",
              "      <td>1050721</td>\n",
              "      <td>930882</td>\n",
              "      <td>Tamil Nadu</td>\n",
              "      <td>[3]</td>\n",
              "    </tr>\n",
              "    <tr>\n",
              "      <th>41</th>\n",
              "      <td>Vijayawada</td>\n",
              "      <td>1034358</td>\n",
              "      <td>941760</td>\n",
              "      <td>Andhra Pradesh</td>\n",
              "      <td>[3]</td>\n",
              "    </tr>\n",
              "    <tr>\n",
              "      <th>42</th>\n",
              "      <td>Jodhpur</td>\n",
              "      <td>1033756</td>\n",
              "      <td>856525</td>\n",
              "      <td>Rajasthan</td>\n",
              "      <td>[3]</td>\n",
              "    </tr>\n",
              "    <tr>\n",
              "      <th>43</th>\n",
              "      <td>Madurai</td>\n",
              "      <td>1017865</td>\n",
              "      <td>928869</td>\n",
              "      <td>Tamil Nadu</td>\n",
              "      <td>[3]</td>\n",
              "    </tr>\n",
              "    <tr>\n",
              "      <th>44</th>\n",
              "      <td>Raipur</td>\n",
              "      <td>1010433</td>\n",
              "      <td>707469</td>\n",
              "      <td>Chhattisgarh</td>\n",
              "      <td>[3]</td>\n",
              "    </tr>\n",
              "    <tr>\n",
              "      <th>45</th>\n",
              "      <td>Kota</td>\n",
              "      <td>1001694</td>\n",
              "      <td>703150</td>\n",
              "      <td>Rajasthan</td>\n",
              "      <td>[3]</td>\n",
              "    </tr>\n",
              "  </tbody>\n",
              "</table>\n",
              "</div>\n",
              "    <div class=\"colab-df-buttons\">\n",
              "\n",
              "  <div class=\"colab-df-container\">\n",
              "    <button class=\"colab-df-convert\" onclick=\"convertToInteractive('df-9b8e8ead-dd27-45c0-99bd-5b5bc51193d6')\"\n",
              "            title=\"Convert this dataframe to an interactive table.\"\n",
              "            style=\"display:none;\">\n",
              "\n",
              "  <svg xmlns=\"http://www.w3.org/2000/svg\" height=\"24px\" viewBox=\"0 -960 960 960\">\n",
              "    <path d=\"M120-120v-720h720v720H120Zm60-500h600v-160H180v160Zm220 220h160v-160H400v160Zm0 220h160v-160H400v160ZM180-400h160v-160H180v160Zm440 0h160v-160H620v160ZM180-180h160v-160H180v160Zm440 0h160v-160H620v160Z\"/>\n",
              "  </svg>\n",
              "    </button>\n",
              "\n",
              "  <style>\n",
              "    .colab-df-container {\n",
              "      display:flex;\n",
              "      gap: 12px;\n",
              "    }\n",
              "\n",
              "    .colab-df-convert {\n",
              "      background-color: #E8F0FE;\n",
              "      border: none;\n",
              "      border-radius: 50%;\n",
              "      cursor: pointer;\n",
              "      display: none;\n",
              "      fill: #1967D2;\n",
              "      height: 32px;\n",
              "      padding: 0 0 0 0;\n",
              "      width: 32px;\n",
              "    }\n",
              "\n",
              "    .colab-df-convert:hover {\n",
              "      background-color: #E2EBFA;\n",
              "      box-shadow: 0px 1px 2px rgba(60, 64, 67, 0.3), 0px 1px 3px 1px rgba(60, 64, 67, 0.15);\n",
              "      fill: #174EA6;\n",
              "    }\n",
              "\n",
              "    .colab-df-buttons div {\n",
              "      margin-bottom: 4px;\n",
              "    }\n",
              "\n",
              "    [theme=dark] .colab-df-convert {\n",
              "      background-color: #3B4455;\n",
              "      fill: #D2E3FC;\n",
              "    }\n",
              "\n",
              "    [theme=dark] .colab-df-convert:hover {\n",
              "      background-color: #434B5C;\n",
              "      box-shadow: 0px 1px 3px 1px rgba(0, 0, 0, 0.15);\n",
              "      filter: drop-shadow(0px 1px 2px rgba(0, 0, 0, 0.3));\n",
              "      fill: #FFFFFF;\n",
              "    }\n",
              "  </style>\n",
              "\n",
              "    <script>\n",
              "      const buttonEl =\n",
              "        document.querySelector('#df-9b8e8ead-dd27-45c0-99bd-5b5bc51193d6 button.colab-df-convert');\n",
              "      buttonEl.style.display =\n",
              "        google.colab.kernel.accessAllowed ? 'block' : 'none';\n",
              "\n",
              "      async function convertToInteractive(key) {\n",
              "        const element = document.querySelector('#df-9b8e8ead-dd27-45c0-99bd-5b5bc51193d6');\n",
              "        const dataTable =\n",
              "          await google.colab.kernel.invokeFunction('convertToInteractive',\n",
              "                                                    [key], {});\n",
              "        if (!dataTable) return;\n",
              "\n",
              "        const docLinkHtml = 'Like what you see? Visit the ' +\n",
              "          '<a target=\"_blank\" href=https://colab.research.google.com/notebooks/data_table.ipynb>data table notebook</a>'\n",
              "          + ' to learn more about interactive tables.';\n",
              "        element.innerHTML = '';\n",
              "        dataTable['output_type'] = 'display_data';\n",
              "        await google.colab.output.renderOutput(dataTable, element);\n",
              "        const docLink = document.createElement('div');\n",
              "        docLink.innerHTML = docLinkHtml;\n",
              "        element.appendChild(docLink);\n",
              "      }\n",
              "    </script>\n",
              "  </div>\n",
              "\n",
              "\n",
              "<div id=\"df-4961f0d6-05f5-47d4-b2bd-49a8c3fe73c0\">\n",
              "  <button class=\"colab-df-quickchart\" onclick=\"quickchart('df-4961f0d6-05f5-47d4-b2bd-49a8c3fe73c0')\"\n",
              "            title=\"Suggest charts\"\n",
              "            style=\"display:none;\">\n",
              "\n",
              "<svg xmlns=\"http://www.w3.org/2000/svg\" height=\"24px\"viewBox=\"0 0 24 24\"\n",
              "     width=\"24px\">\n",
              "    <g>\n",
              "        <path d=\"M19 3H5c-1.1 0-2 .9-2 2v14c0 1.1.9 2 2 2h14c1.1 0 2-.9 2-2V5c0-1.1-.9-2-2-2zM9 17H7v-7h2v7zm4 0h-2V7h2v10zm4 0h-2v-4h2v4z\"/>\n",
              "    </g>\n",
              "</svg>\n",
              "  </button>\n",
              "\n",
              "<style>\n",
              "  .colab-df-quickchart {\n",
              "      --bg-color: #E8F0FE;\n",
              "      --fill-color: #1967D2;\n",
              "      --hover-bg-color: #E2EBFA;\n",
              "      --hover-fill-color: #174EA6;\n",
              "      --disabled-fill-color: #AAA;\n",
              "      --disabled-bg-color: #DDD;\n",
              "  }\n",
              "\n",
              "  [theme=dark] .colab-df-quickchart {\n",
              "      --bg-color: #3B4455;\n",
              "      --fill-color: #D2E3FC;\n",
              "      --hover-bg-color: #434B5C;\n",
              "      --hover-fill-color: #FFFFFF;\n",
              "      --disabled-bg-color: #3B4455;\n",
              "      --disabled-fill-color: #666;\n",
              "  }\n",
              "\n",
              "  .colab-df-quickchart {\n",
              "    background-color: var(--bg-color);\n",
              "    border: none;\n",
              "    border-radius: 50%;\n",
              "    cursor: pointer;\n",
              "    display: none;\n",
              "    fill: var(--fill-color);\n",
              "    height: 32px;\n",
              "    padding: 0;\n",
              "    width: 32px;\n",
              "  }\n",
              "\n",
              "  .colab-df-quickchart:hover {\n",
              "    background-color: var(--hover-bg-color);\n",
              "    box-shadow: 0 1px 2px rgba(60, 64, 67, 0.3), 0 1px 3px 1px rgba(60, 64, 67, 0.15);\n",
              "    fill: var(--button-hover-fill-color);\n",
              "  }\n",
              "\n",
              "  .colab-df-quickchart-complete:disabled,\n",
              "  .colab-df-quickchart-complete:disabled:hover {\n",
              "    background-color: var(--disabled-bg-color);\n",
              "    fill: var(--disabled-fill-color);\n",
              "    box-shadow: none;\n",
              "  }\n",
              "\n",
              "  .colab-df-spinner {\n",
              "    border: 2px solid var(--fill-color);\n",
              "    border-color: transparent;\n",
              "    border-bottom-color: var(--fill-color);\n",
              "    animation:\n",
              "      spin 1s steps(1) infinite;\n",
              "  }\n",
              "\n",
              "  @keyframes spin {\n",
              "    0% {\n",
              "      border-color: transparent;\n",
              "      border-bottom-color: var(--fill-color);\n",
              "      border-left-color: var(--fill-color);\n",
              "    }\n",
              "    20% {\n",
              "      border-color: transparent;\n",
              "      border-left-color: var(--fill-color);\n",
              "      border-top-color: var(--fill-color);\n",
              "    }\n",
              "    30% {\n",
              "      border-color: transparent;\n",
              "      border-left-color: var(--fill-color);\n",
              "      border-top-color: var(--fill-color);\n",
              "      border-right-color: var(--fill-color);\n",
              "    }\n",
              "    40% {\n",
              "      border-color: transparent;\n",
              "      border-right-color: var(--fill-color);\n",
              "      border-top-color: var(--fill-color);\n",
              "    }\n",
              "    60% {\n",
              "      border-color: transparent;\n",
              "      border-right-color: var(--fill-color);\n",
              "    }\n",
              "    80% {\n",
              "      border-color: transparent;\n",
              "      border-right-color: var(--fill-color);\n",
              "      border-bottom-color: var(--fill-color);\n",
              "    }\n",
              "    90% {\n",
              "      border-color: transparent;\n",
              "      border-bottom-color: var(--fill-color);\n",
              "    }\n",
              "  }\n",
              "</style>\n",
              "\n",
              "  <script>\n",
              "    async function quickchart(key) {\n",
              "      const quickchartButtonEl =\n",
              "        document.querySelector('#' + key + ' button');\n",
              "      quickchartButtonEl.disabled = true;  // To prevent multiple clicks.\n",
              "      quickchartButtonEl.classList.add('colab-df-spinner');\n",
              "      try {\n",
              "        const charts = await google.colab.kernel.invokeFunction(\n",
              "            'suggestCharts', [key], {});\n",
              "      } catch (error) {\n",
              "        console.error('Error during call to suggestCharts:', error);\n",
              "      }\n",
              "      quickchartButtonEl.classList.remove('colab-df-spinner');\n",
              "      quickchartButtonEl.classList.add('colab-df-quickchart-complete');\n",
              "    }\n",
              "    (() => {\n",
              "      let quickchartButtonEl =\n",
              "        document.querySelector('#df-4961f0d6-05f5-47d4-b2bd-49a8c3fe73c0 button');\n",
              "      quickchartButtonEl.style.display =\n",
              "        google.colab.kernel.accessAllowed ? 'block' : 'none';\n",
              "    })();\n",
              "  </script>\n",
              "</div>\n",
              "    </div>\n",
              "  </div>\n"
            ],
            "application/vnd.google.colaboratory.intrinsic+json": {
              "type": "dataframe",
              "variable_name": "df",
              "summary": "{\n  \"name\": \"df\",\n  \"rows\": 46,\n  \"fields\": [\n    {\n      \"column\": \"City\",\n      \"properties\": {\n        \"dtype\": \"string\",\n        \"num_unique_values\": 46,\n        \"samples\": [\n          \"Gwalior\",\n          \"Meerut\",\n          \"Rajkot\"\n        ],\n        \"semantic_type\": \"\",\n        \"description\": \"\"\n      }\n    },\n    {\n      \"column\": \"Population  (2011)  [3]\",\n      \"properties\": {\n        \"dtype\": \"number\",\n        \"std\": 2574966,\n        \"min\": 1001694,\n        \"max\": 12442373,\n        \"num_unique_values\": 46,\n        \"samples\": [\n          1054420,\n          1305429,\n          1286678\n        ],\n        \"semantic_type\": \"\",\n        \"description\": \"\"\n      }\n    },\n    {\n      \"column\": \"Population  (2001)  [3]  [a]\",\n      \"properties\": {\n        \"dtype\": \"number\",\n        \"std\": 2306139,\n        \"min\": 518601,\n        \"max\": 11978450,\n        \"num_unique_values\": 46,\n        \"samples\": [\n          827026,\n          1068772,\n          967476\n        ],\n        \"semantic_type\": \"\",\n        \"description\": \"\"\n      }\n    },\n    {\n      \"column\": \"State or union  territory\",\n      \"properties\": {\n        \"dtype\": \"category\",\n        \"num_unique_values\": 17,\n        \"samples\": [\n          \"Maharashtra\",\n          \"Delhi\",\n          \"Tamil Nadu\"\n        ],\n        \"semantic_type\": \"\",\n        \"description\": \"\"\n      }\n    },\n    {\n      \"column\": \"Ref\",\n      \"properties\": {\n        \"dtype\": \"category\",\n        \"num_unique_values\": 2,\n        \"samples\": [\n          \"[3]  [b]\",\n          \"[3]\"\n        ],\n        \"semantic_type\": \"\",\n        \"description\": \"\"\n      }\n    }\n  ]\n}"
            }
          },
          "metadata": {},
          "execution_count": 58
        }
      ],
      "source": [
        "import pandas as pd\n",
        "df=pd.read_html(indiatable.prettify())\n",
        "df\n",
        "# convert list to dataframe\n",
        "df=pd.DataFrame(df[0],)\n",
        "df\n",
        "#print(df.head())"
      ]
    },
    {
      "cell_type": "code",
      "source": [],
      "metadata": {
        "id": "PE5jv1IAHE1Q"
      },
      "id": "PE5jv1IAHE1Q",
      "execution_count": null,
      "outputs": []
    },
    {
      "cell_type": "code",
      "execution_count": null,
      "id": "15f4c8e0",
      "metadata": {
        "id": "15f4c8e0"
      },
      "outputs": [],
      "source": [
        "# drop the unwanted columns\n",
        "data = df.drop([\"Rank\", \"Population(2001)\"], axis=1)\n",
        "# rename columns for ease\n",
        "data = data.rename(columns={\"State or union territory\": \"State\",\"Population(2011)[3]\": \"Population\"})\n",
        "print(data.head())"
      ]
    },
    {
      "cell_type": "code",
      "execution_count": null,
      "id": "e6e93cb8",
      "metadata": {
        "id": "e6e93cb8",
        "outputId": "c35f425a-d773-42bc-d73a-c13ac50fbe51",
        "colab": {
          "base_uri": "https://localhost:8080/"
        }
      },
      "outputs": [
        {
          "output_type": "stream",
          "name": "stdout",
          "text": [
            "200\n"
          ]
        }
      ],
      "source": [
        "#list of countries of the world with their population\n",
        "\n",
        "# get the response in the form of html\n",
        "wikiurl=\"https://www.worldometers.info/world-population/population-by-country/\"\n",
        "table_class=\"table table-striped table-bordered dataTable no-footer\"\n",
        "response=requests.get(wikiurl)\n",
        "print(response.status_code)"
      ]
    },
    {
      "cell_type": "code",
      "execution_count": null,
      "id": "de576ed1",
      "metadata": {
        "id": "de576ed1"
      },
      "outputs": [],
      "source": [
        "#<table id=\"example2\" class=\"table table-striped table-bordered dataTable no-footer\" cellspacing=\"0\" width=\"100%\" style=\"width: 100%;\"> <thead> <tr role=\"row\"><th class=\"sorting_asc\" tabindex=\"0\" aria-controls=\"example2\" rowspan=\"1\" colspan=\"1\" aria-sort=\"ascending\" aria-label=\"#: activate to sort column descending\" style=\"width: 9.0566px;\">#</th><th class=\"sorting\" tabindex=\"0\" aria-controls=\"example2\" rowspan=\"1\" colspan=\"1\" aria-label=\"Country (or dependency): activate to sort column ascending\" style=\"width: 92.0566px;\">Country (or dependency)</th><th class=\"sorting\" tabindex=\"0\" aria-controls=\"example2\" rowspan=\"1\" colspan=\"1\" aria-label=\"Population (2020): activate to sort column ascending\" style=\"width: 77.0566px;\">Population<br> (2020)</th><th class=\"sorting\" tabindex=\"0\" aria-controls=\"example2\" rowspan=\"1\" colspan=\"1\" aria-label=\"Yearly Change: activate to sort column ascending\" style=\"width: 53.0566px;\">Yearly<br> Change</th><th class=\"sorting\" tabindex=\"0\" aria-controls=\"example2\" rowspan=\"1\" colspan=\"1\" aria-label=\"Net Change: activate to sort column ascending\" style=\"width: 53.0566px;\">Net<br> Change</th><th class=\"sorting\" tabindex=\"0\" aria-controls=\"example2\" rowspan=\"1\" colspan=\"1\" aria-label=\"Density (P/Km²): activate to sort column ascending\" style=\"width: 54.0566px;\">Density<br> (P/Km²)</th><th class=\"sorting\" tabindex=\"0\" aria-controls=\"example2\" rowspan=\"1\" colspan=\"1\" aria-label=\"Land Area (Km²): activate to sort column ascending\" style=\"width: 50.0566px;\">Land Area<br> (Km²)</th><th class=\"sorting\" tabindex=\"0\" aria-controls=\"example2\" rowspan=\"1\" colspan=\"1\" aria-label=\"Migrants (net): activate to sort column ascending\" style=\"width: 63.0566px;\">Migrants<br> (net)</th><th class=\"sorting\" tabindex=\"0\" aria-controls=\"example2\" rowspan=\"1\" colspan=\"1\" aria-label=\"Fert. Rate: activate to sort column ascending\" style=\"width: 33.0566px;\">Fert.<br> Rate</th><th class=\"sorting\" tabindex=\"0\" aria-controls=\"example2\" rowspan=\"1\" colspan=\"1\" aria-label=\"Med. Age: activate to sort column ascending\" style=\"width: 35.0566px;\">Med.<br> Age</th><th class=\"sorting\" tabindex=\"0\" aria-controls=\"example2\" rowspan=\"1\" colspan=\"1\" aria-label=\"Urban Pop %: activate to sort column ascending\" style=\"width: 44.0566px;\">Urban<br> Pop %</th><th class=\"sorting\" tabindex=\"0\" aria-controls=\"example2\" rowspan=\"1\" colspan=\"1\" aria-label=\"World Share: activate to sort column ascending\" style=\"width: 42px;\">World<br> Share</th></tr> </thead> <tbody>                                                                                                                                                                                                                                            <tr role=\"row\" class=\"odd\"> <td class=\"sorting_1\">1</td> <td style=\"font-weight: bold; font-size:15px; text-align:left\"><a href=\"/world-population/china-population/\">China</a></td> <td style=\"font-weight: bold;\">1,439,323,776</td> <td>0.39 %</td> <td>5,540,090</td> <td>153</td> <td>9,388,211</td> <td>-348,399</td> <td>1.7</td> <td>38</td> <td>61 %</td> <td>18.47 %</td> </tr><tr role=\"row\" class=\"even\"> <td class=\"sorting_1\">2</td> <td style=\"font-weight: bold; font-size:15px; text-align:left\"><a href=\"/world-population/india-population/\">India</a></td> <td style=\"font-weight: bold;\">1,380,004,385</td> <td>0.99 %</td> <td>13,586,631</td> <td>464</td> <td>2,973,190</td> <td>-532,687</td> <td>2.2</td> <td>28</td> <td>35 %</td> <td>17.70 %</td> </tr><tr role=\"row\" class=\"odd\"> <td class=\"sorting_1\">3</td> <td style=\"font-weight: bold; font-size:15px; text-align:left\"><a href=\"/world-population/us-population/\">United States</a></td> <td style=\"font-weight: bold;\">331,002,651</td> <td>0.59 %</td> <td>1,937,734</td> <td>36</td> <td>9,147,420</td> <td>954,806</td> <td>1.8</td> <td>38</td> <td>83 %</td> <td>4.25 %</td> </tr><tr role=\"row\" class=\"even\"> <td class=\"sorting_1\">4</td> <td style=\"font-weight: bold; font-size:15px; text-align:left\"><a href=\"/world-population/indonesia-population/\">Indonesia</a></td> <td style=\"font-weight: bold;\">273,523,615</td> <td>1.07 %</td> <td>2,898,047</td> <td>151</td> <td>1,811,570</td> <td>-98,955</td> <td>2.3</td> <td>30</td> <td>56 %</td> <td>3.51 %</td> </tr><tr role=\"row\" class=\"odd\"> <td class=\"sorting_1\">5</td> <td style=\"font-weight: bold; font-size:15px; text-align:left\"><a href=\"/world-population/pakistan-population/\">Pakistan</a></td> <td style=\"font-weight: bold;\">220,892,340</td> <td>2.00 %</td> <td>4,327,022</td> <td>287</td> <td>770,880</td> <td>-233,379</td> <td>3.6</td> <td>23</td> <td>35 %</td> <td>2.83 %</td> </tr><tr role=\"row\" class=\"even\"> <td class=\"sorting_1\">6</td> <td style=\"font-weight: bold; font-size:15px; text-align:left\"><a href=\"/world-population/brazil-population/\">Brazil</a></td> <td style=\"font-weight: bold;\">212,559,417</td> <td>0.72 %</td> <td>1,509,890</td> <td>25</td> <td>8,358,140</td> <td>21,200</td> <td>1.7</td> <td>33</td> <td>88 %</td> <td>2.73 %</td> </tr><tr role=\"row\" class=\"odd\"> <td class=\"sorting_1\">7</td> <td style=\"font-weight: bold; font-size:15px; text-align:left\"><a href=\"/world-population/nigeria-population/\">Nigeria</a></td> <td style=\"font-weight: bold;\">206,139,589</td> <td>2.58 %</td> <td>5,175,990</td> <td>226</td> <td>910,770</td> <td>-60,000</td> <td>5.4</td> <td>18</td> <td>52 %</td> <td>2.64 %</td> </tr><tr role=\"row\" class=\"even\"> <td class=\"sorting_1\">8</td> <td style=\"font-weight: bold; font-size:15px; text-align:left\"><a href=\"/world-population/bangladesh-population/\">Bangladesh</a></td> <td style=\"font-weight: bold;\">164,689,383</td> <td>1.01 %</td> <td>1,643,222</td> <td>1,265</td> <td>130,170</td> <td>-369,501</td> <td>2.1</td> <td>28</td> <td>39 %</td> <td>2.11 %</td> </tr><tr role=\"row\" class=\"odd\"> <td class=\"sorting_1\">9</td> <td style=\"font-weight: bold; font-size:15px; text-align:left\"><a href=\"/world-population/russia-population/\">Russia</a></td> <td style=\"font-weight: bold;\">145,934,462</td> <td>0.04 %</td> <td>62,206</td> <td>9</td> <td>16,376,870</td> <td>182,456</td> <td>1.8</td> <td>40</td> <td>74 %</td> <td>1.87 %</td> </tr><tr role=\"row\" class=\"even\"> <td class=\"sorting_1\">10</td> <td style=\"font-weight: bold; font-size:15px; text-align:left\"><a href=\"/world-population/mexico-population/\">Mexico</a></td> <td style=\"font-weight: bold;\">128,932,753</td> <td>1.06 %</td> <td>1,357,224</td> <td>66</td> <td>1,943,950</td> <td>-60,000</td> <td>2.1</td> <td>29</td> <td>84 %</td> <td>1.65 %</td> </tr><tr role=\"row\" class=\"odd\"> <td class=\"sorting_1\">11</td> <td style=\"font-weight: bold; font-size:15px; text-align:left\"><a href=\"/world-population/japan-population/\">Japan</a></td> <td style=\"font-weight: bold;\">126,476,461</td> <td>-0.30 %</td> <td>-383,840</td> <td>347</td> <td>364,555</td> <td>71,560</td> <td>1.4</td> <td>48</td> <td>92 %</td> <td>1.62 %</td> </tr><tr role=\"row\" class=\"even\"> <td class=\"sorting_1\">12</td> <td style=\"font-weight: bold; font-size:15px; text-align:left\"><a href=\"/world-population/ethiopia-population/\">Ethiopia</a></td> <td style=\"font-weight: bold;\">114,963,588</td> <td>2.57 %</td> <td>2,884,858</td> <td>115</td> <td>1,000,000</td> <td>30,000</td> <td>4.3</td> <td>19</td> <td>21 %</td> <td>1.47 %</td> </tr><tr role=\"row\" class=\"odd\"> <td class=\"sorting_1\">13</td> <td style=\"font-weight: bold; font-size:15px; text-align:left\"><a href=\"/world-population/philippines-population/\">Philippines</a></td> <td style=\"font-weight: bold;\">109,581,078</td> <td>1.35 %</td> <td>1,464,463</td> <td>368</td> <td>298,170</td> <td>-67,152</td> <td>2.6</td> <td>26</td> <td>47 %</td> <td>1.41 %</td> </tr><tr role=\"row\" class=\"even\"> <td class=\"sorting_1\">14</td> <td style=\"font-weight: bold; font-size:15px; text-align:left\"><a href=\"/world-population/egypt-population/\">Egypt</a></td> <td style=\"font-weight: bold;\">102,334,404</td> <td>1.94 %</td> <td>1,946,331</td> <td>103</td> <td>995,450</td> <td>-38,033</td> <td>3.3</td> <td>25</td> <td>43 %</td> <td>1.31 %</td> </tr><tr role=\"row\" class=\"odd\"> <td class=\"sorting_1\">15</td> <td style=\"font-weight: bold; font-size:15px; text-align:left\"><a href=\"/world-population/vietnam-population/\">Vietnam</a></td> <td style=\"font-weight: bold;\">97,338,579</td> <td>0.91 %</td> <td>876,473</td> <td>314</td> <td>310,070</td> <td>-80,000</td> <td>2.1</td> <td>32</td> <td>38 %</td> <td>1.25 %</td> </tr><tr role=\"row\" class=\"even\"> <td class=\"sorting_1\">16</td> <td style=\"font-weight: bold; font-size:15px; text-align:left\"><a href=\"/world-population/democratic-republic-of-the-congo-population/\">DR Congo</a></td> <td style=\"font-weight: bold;\">89,561,403</td> <td>3.19 %</td> <td>2,770,836</td> <td>40</td> <td>2,267,050</td> <td>23,861</td> <td>6.0</td> <td>17</td> <td>46 %</td> <td>1.15 %</td> </tr><tr role=\"row\" class=\"odd\"> <td class=\"sorting_1\">17</td> <td style=\"font-weight: bold; font-size:15px; text-align:left\"><a href=\"/world-population/turkey-population/\">Turkey</a></td> <td style=\"font-weight: bold;\">84,339,067</td> <td>1.09 %</td> <td>909,452</td> <td>110</td> <td>769,630</td> <td>283,922</td> <td>2.1</td> <td>32</td> <td>76 %</td> <td>1.08 %</td> </tr><tr role=\"row\" class=\"even\"> <td class=\"sorting_1\">18</td> <td style=\"font-weight: bold; font-size:15px; text-align:left\"><a href=\"/world-population/iran-population/\">Iran</a></td> <td style=\"font-weight: bold;\">83,992,949</td> <td>1.30 %</td> <td>1,079,043</td> <td>52</td> <td>1,628,550</td> <td>-55,000</td> <td>2.2</td> <td>32</td> <td>76 %</td> <td>1.08 %</td> </tr><tr role=\"row\" class=\"odd\"> <td class=\"sorting_1\">19</td> <td style=\"font-weight: bold; font-size:15px; text-align:left\"><a href=\"/world-population/germany-population/\">Germany</a></td> <td style=\"font-weight: bold;\">83,783,942</td> <td>0.32 %</td> <td>266,897</td> <td>240</td> <td>348,560</td> <td>543,822</td> <td>1.6</td> <td>46</td> <td>76 %</td> <td>1.07 %</td> </tr><tr role=\"row\" class=\"even\"> <td class=\"sorting_1\">20</td> <td style=\"font-weight: bold; font-size:15px; text-align:left\"><a href=\"/world-population/thailand-population/\">Thailand</a></td> <td style=\"font-weight: bold;\">69,799,978</td> <td>0.25 %</td> <td>174,396</td> <td>137</td> <td>510,890</td> <td>19,444</td> <td>1.5</td> <td>40</td> <td>51 %</td> <td>0.90 %</td> </tr><tr role=\"row\" class=\"odd\"> <td class=\"sorting_1\">21</td> <td style=\"font-weight: bold; font-size:15px; text-align:left\"><a href=\"/world-population/uk-population/\">United Kingdom</a></td> <td style=\"font-weight: bold;\">67,886,011</td> <td>0.53 %</td> <td>355,839</td> <td>281</td> <td>241,930</td> <td>260,650</td> <td>1.8</td> <td>40</td> <td>83 %</td> <td>0.87 %</td> </tr><tr role=\"row\" class=\"even\"> <td class=\"sorting_1\">22</td> <td style=\"font-weight: bold; font-size:15px; text-align:left\"><a href=\"/world-population/france-population/\">France</a></td> <td style=\"font-weight: bold;\">65,273,511</td> <td>0.22 %</td> <td>143,783</td> <td>119</td> <td>547,557</td> <td>36,527</td> <td>1.9</td> <td>42</td> <td>82 %</td> <td>0.84 %</td> </tr><tr role=\"row\" class=\"odd\"> <td class=\"sorting_1\">23</td> <td style=\"font-weight: bold; font-size:15px; text-align:left\"><a href=\"/world-population/italy-population/\">Italy</a></td> <td style=\"font-weight: bold;\">60,461,826</td> <td>-0.15 %</td> <td>-88,249</td> <td>206</td> <td>294,140</td> <td>148,943</td> <td>1.3</td> <td>47</td> <td>69 %</td> <td>0.78 %</td> </tr><tr role=\"row\" class=\"even\"> <td class=\"sorting_1\">24</td> <td style=\"font-weight: bold; font-size:15px; text-align:left\"><a href=\"/world-population/tanzania-population/\">Tanzania</a></td> <td style=\"font-weight: bold;\">59,734,218</td> <td>2.98 %</td> <td>1,728,755</td> <td>67</td> <td>885,800</td> <td>-40,076</td> <td>4.9</td> <td>18</td> <td>37 %</td> <td>0.77 %</td> </tr><tr role=\"row\" class=\"odd\"> <td class=\"sorting_1\">25</td> <td style=\"font-weight: bold; font-size:15px; text-align:left\"><a href=\"/world-population/south-africa-population/\">South Africa</a></td> <td style=\"font-weight: bold;\">59,308,690</td> <td>1.28 %</td> <td>750,420</td> <td>49</td> <td>1,213,090</td> <td>145,405</td> <td>2.4</td> <td>28</td> <td>67 %</td> <td>0.76 %</td> </tr><tr role=\"row\" class=\"even\"> <td class=\"sorting_1\">26</td> <td style=\"font-weight: bold; font-size:15px; text-align:left\"><a href=\"/world-population/myanmar-population/\">Myanmar</a></td> <td style=\"font-weight: bold;\">54,409,800</td> <td>0.67 %</td> <td>364,380</td> <td>83</td> <td>653,290</td> <td>-163,313</td> <td>2.2</td> <td>29</td> <td>31 %</td> <td>0.70 %</td> </tr><tr role=\"row\" class=\"odd\"> <td class=\"sorting_1\">27</td> <td style=\"font-weight: bold; font-size:15px; text-align:left\"><a href=\"/world-population/kenya-population/\">Kenya</a></td> <td style=\"font-weight: bold;\">53,771,296</td> <td>2.28 %</td> <td>1,197,323</td> <td>94</td> <td>569,140</td> <td>-10,000</td> <td>3.5</td> <td>20</td> <td>28 %</td> <td>0.69 %</td> </tr><tr role=\"row\" class=\"even\"> <td class=\"sorting_1\">28</td> <td style=\"font-weight: bold; font-size:15px; text-align:left\"><a href=\"/world-population/south-korea-population/\">South Korea</a></td> <td style=\"font-weight: bold;\">51,269,185</td> <td>0.09 %</td> <td>43,877</td> <td>527</td> <td>97,230</td> <td>11,731</td> <td>1.1</td> <td>44</td> <td>82 %</td> <td>0.66 %</td> </tr><tr role=\"row\" class=\"odd\"> <td class=\"sorting_1\">29</td> <td style=\"font-weight: bold; font-size:15px; text-align:left\"><a href=\"/world-population/colombia-population/\">Colombia</a></td> <td style=\"font-weight: bold;\">50,882,891</td> <td>1.08 %</td> <td>543,448</td> <td>46</td> <td>1,109,500</td> <td>204,796</td> <td>1.8</td> <td>31</td> <td>80 %</td> <td>0.65 %</td> </tr><tr role=\"row\" class=\"even\"> <td class=\"sorting_1\">30</td> <td style=\"font-weight: bold; font-size:15px; text-align:left\"><a href=\"/world-population/spain-population/\">Spain</a></td> <td style=\"font-weight: bold;\">46,754,778</td> <td>0.04 %</td> <td>18,002</td> <td>94</td> <td>498,800</td> <td>40,000</td> <td>1.3</td> <td>45</td> <td>80 %</td> <td>0.60 %</td> </tr><tr role=\"row\" class=\"odd\"> <td class=\"sorting_1\">31</td> <td style=\"font-weight: bold; font-size:15px; text-align:left\"><a href=\"/world-population/uganda-population/\">Uganda</a></td> <td style=\"font-weight: bold;\">45,741,007</td> <td>3.32 %</td> <td>1,471,413</td> <td>229</td> <td>199,810</td> <td>168,694</td> <td>5.0</td> <td>17</td> <td>26 %</td> <td>0.59 %</td> </tr><tr role=\"row\" class=\"even\"> <td class=\"sorting_1\">32</td> <td style=\"font-weight: bold; font-size:15px; text-align:left\"><a href=\"/world-population/argentina-population/\">Argentina</a></td> <td style=\"font-weight: bold;\">45,195,774</td> <td>0.93 %</td> <td>415,097</td> <td>17</td> <td>2,736,690</td> <td>4,800</td> <td>2.3</td> <td>32</td> <td>93 %</td> <td>0.58 %</td> </tr><tr role=\"row\" class=\"odd\"> <td class=\"sorting_1\">33</td> <td style=\"font-weight: bold; font-size:15px; text-align:left\"><a href=\"/world-population/algeria-population/\">Algeria</a></td> <td style=\"font-weight: bold;\">43,851,044</td> <td>1.85 %</td> <td>797,990</td> <td>18</td> <td>2,381,740</td> <td>-10,000</td> <td>3.1</td> <td>29</td> <td>73 %</td> <td>0.56 %</td> </tr><tr role=\"row\" class=\"even\"> <td class=\"sorting_1\">34</td> <td style=\"font-weight: bold; font-size:15px; text-align:left\"><a href=\"/world-population/sudan-population/\">Sudan</a></td> <td style=\"font-weight: bold;\">43,849,260</td> <td>2.42 %</td> <td>1,036,022</td> <td>25</td> <td>1,765,048</td> <td>-50,000</td> <td>4.4</td> <td>20</td> <td>35 %</td> <td>0.56 %</td> </tr><tr role=\"row\" class=\"odd\"> <td class=\"sorting_1\">35</td> <td style=\"font-weight: bold; font-size:15px; text-align:left\"><a href=\"/world-population/ukraine-population/\">Ukraine</a></td> <td style=\"font-weight: bold;\">43,733,762</td> <td>-0.59 %</td> <td>-259,876</td> <td>75</td> <td>579,320</td> <td>10,000</td> <td>1.4</td> <td>41</td> <td>69 %</td> <td>0.56 %</td> </tr><tr role=\"row\" class=\"even\"> <td class=\"sorting_1\">36</td> <td style=\"font-weight: bold; font-size:15px; text-align:left\"><a href=\"/world-population/iraq-population/\">Iraq</a></td> <td style=\"font-weight: bold;\">40,222,493</td> <td>2.32 %</td> <td>912,710</td> <td>93</td> <td>434,320</td> <td>7,834</td> <td>3.7</td> <td>21</td> <td>73 %</td> <td>0.52 %</td> </tr><tr role=\"row\" class=\"odd\"> <td class=\"sorting_1\">37</td> <td style=\"font-weight: bold; font-size:15px; text-align:left\"><a href=\"/world-population/afghanistan-population/\">Afghanistan</a></td> <td style=\"font-weight: bold;\">38,928,346</td> <td>2.33 %</td> <td>886,592</td> <td>60</td> <td>652,860</td> <td>-62,920</td> <td>4.6</td> <td>18</td> <td>25 %</td> <td>0.50 %</td> </tr><tr role=\"row\" class=\"even\"> <td class=\"sorting_1\">38</td> <td style=\"font-weight: bold; font-size:15px; text-align:left\"><a href=\"/world-population/poland-population/\">Poland</a></td> <td style=\"font-weight: bold;\">37,846,611</td> <td>-0.11 %</td> <td>-41,157</td> <td>124</td> <td>306,230</td> <td>-29,395</td> <td>1.4</td> <td>42</td> <td>60 %</td> <td>0.49 %</td> </tr><tr role=\"row\" class=\"odd\"> <td class=\"sorting_1\">39</td> <td style=\"font-weight: bold; font-size:15px; text-align:left\"><a href=\"/world-population/canada-population/\">Canada</a></td> <td style=\"font-weight: bold;\">37,742,154</td> <td>0.89 %</td> <td>331,107</td> <td>4</td> <td>9,093,510</td> <td>242,032</td> <td>1.5</td> <td>41</td> <td>81 %</td> <td>0.48 %</td> </tr><tr role=\"row\" class=\"even\"> <td class=\"sorting_1\">40</td> <td style=\"font-weight: bold; font-size:15px; text-align:left\"><a href=\"/world-population/morocco-population/\">Morocco</a></td> <td style=\"font-weight: bold;\">36,910,560</td> <td>1.20 %</td> <td>438,791</td> <td>83</td> <td>446,300</td> <td>-51,419</td> <td>2.4</td> <td>30</td> <td>64 %</td> <td>0.47 %</td> </tr><tr role=\"row\" class=\"odd\"> <td class=\"sorting_1\">41</td> <td style=\"font-weight: bold; font-size:15px; text-align:left\"><a href=\"/world-population/saudi-arabia-population/\">Saudi Arabia</a></td> <td style=\"font-weight: bold;\">34,813,871</td> <td>1.59 %</td> <td>545,343</td> <td>16</td> <td>2,149,690</td> <td>134,979</td> <td>2.3</td> <td>32</td> <td>84 %</td> <td>0.45 %</td> </tr><tr role=\"row\" class=\"even\"> <td class=\"sorting_1\">42</td> <td style=\"font-weight: bold; font-size:15px; text-align:left\"><a href=\"/world-population/uzbekistan-population/\">Uzbekistan</a></td> <td style=\"font-weight: bold;\">33,469,203</td> <td>1.48 %</td> <td>487,487</td> <td>79</td> <td>425,400</td> <td>-8,863</td> <td>2.4</td> <td>28</td> <td>50 %</td> <td>0.43 %</td> </tr><tr role=\"row\" class=\"odd\"> <td class=\"sorting_1\">43</td> <td style=\"font-weight: bold; font-size:15px; text-align:left\"><a href=\"/world-population/peru-population/\">Peru</a></td> <td style=\"font-weight: bold;\">32,971,854</td> <td>1.42 %</td> <td>461,401</td> <td>26</td> <td>1,280,000</td> <td>99,069</td> <td>2.3</td> <td>31</td> <td>79 %</td> <td>0.42 %</td> </tr><tr role=\"row\" class=\"even\"> <td class=\"sorting_1\">44</td> <td style=\"font-weight: bold; font-size:15px; text-align:left\"><a href=\"/world-population/angola-population/\">Angola</a></td> <td style=\"font-weight: bold;\">32,866,272</td> <td>3.27 %</td> <td>1,040,977</td> <td>26</td> <td>1,246,700</td> <td>6,413</td> <td>5.6</td> <td>17</td> <td>67 %</td> <td>0.42 %</td> </tr><tr role=\"row\" class=\"odd\"> <td class=\"sorting_1\">45</td> <td style=\"font-weight: bold; font-size:15px; text-align:left\"><a href=\"/world-population/malaysia-population/\">Malaysia</a></td> <td style=\"font-weight: bold;\">32,365,999</td> <td>1.30 %</td> <td>416,222</td> <td>99</td> <td>328,550</td> <td>50,000</td> <td>2.0</td> <td>30</td> <td>78 %</td> <td>0.42 %</td> </tr><tr role=\"row\" class=\"even\"> <td class=\"sorting_1\">46</td> <td style=\"font-weight: bold; font-size:15px; text-align:left\"><a href=\"/world-population/mozambique-population/\">Mozambique</a></td> <td style=\"font-weight: bold;\">31,255,435</td> <td>2.93 %</td> <td>889,399</td> <td>40</td> <td>786,380</td> <td>-5,000</td> <td>4.9</td> <td>18</td> <td>38 %</td> <td>0.40 %</td> </tr><tr role=\"row\" class=\"odd\"> <td class=\"sorting_1\">47</td> <td style=\"font-weight: bold; font-size:15px; text-align:left\"><a href=\"/world-population/ghana-population/\">Ghana</a></td> <td style=\"font-weight: bold;\">31,072,940</td> <td>2.15 %</td> <td>655,084</td> <td>137</td> <td>227,540</td> <td>-10,000</td> <td>3.9</td> <td>22</td> <td>57 %</td> <td>0.40 %</td> </tr><tr role=\"row\" class=\"even\"> <td class=\"sorting_1\">48</td> <td style=\"font-weight: bold; font-size:15px; text-align:left\"><a href=\"/world-population/yemen-population/\">Yemen</a></td> <td style=\"font-weight: bold;\">29,825,964</td> <td>2.28 %</td> <td>664,042</td> <td>56</td> <td>527,970</td> <td>-30,000</td> <td>3.8</td> <td>20</td> <td>38 %</td> <td>0.38 %</td> </tr><tr role=\"row\" class=\"odd\"> <td class=\"sorting_1\">49</td> <td style=\"font-weight: bold; font-size:15px; text-align:left\"><a href=\"/world-population/nepal-population/\">Nepal</a></td> <td style=\"font-weight: bold;\">29,136,808</td> <td>1.85 %</td> <td>528,098</td> <td>203</td> <td>143,350</td> <td>41,710</td> <td>1.9</td> <td>25</td> <td>21 %</td> <td>0.37 %</td> </tr><tr role=\"row\" class=\"even\"> <td class=\"sorting_1\">50</td> <td style=\"font-weight: bold; font-size:15px; text-align:left\"><a href=\"/world-population/venezuela-population/\">Venezuela</a></td> <td style=\"font-weight: bold;\">28,435,940</td> <td>-0.28 %</td> <td>-79,889</td> <td>32</td> <td>882,050</td> <td>-653,249</td> <td>2.3</td> <td>30</td> <td>N.A.</td> <td>0.36 %</td> </tr><tr role=\"row\" class=\"odd\"> <td class=\"sorting_1\">51</td> <td style=\"font-weight: bold; font-size:15px; text-align:left\"><a href=\"/world-population/madagascar-population/\">Madagascar</a></td> <td style=\"font-weight: bold;\">27,691,018</td> <td>2.68 %</td> <td>721,711</td> <td>48</td> <td>581,795</td> <td>-1,500</td> <td>4.1</td> <td>20</td> <td>39 %</td> <td>0.36 %</td> </tr><tr role=\"row\" class=\"even\"> <td class=\"sorting_1\">52</td> <td style=\"font-weight: bold; font-size:15px; text-align:left\"><a href=\"/world-population/cameroon-population/\">Cameroon</a></td> <td style=\"font-weight: bold;\">26,545,863</td> <td>2.59 %</td> <td>669,483</td> <td>56</td> <td>472,710</td> <td>-4,800</td> <td>4.6</td> <td>19</td> <td>56 %</td> <td>0.34 %</td> </tr><tr role=\"row\" class=\"odd\"> <td class=\"sorting_1\">53</td> <td style=\"font-weight: bold; font-size:15px; text-align:left\"><a href=\"/world-population/cote-d-ivoire-population/\">Côte d'Ivoire</a></td> <td style=\"font-weight: bold;\">26,378,274</td> <td>2.57 %</td> <td>661,730</td> <td>83</td> <td>318,000</td> <td>-8,000</td> <td>4.7</td> <td>19</td> <td>51 %</td> <td>0.34 %</td> </tr><tr role=\"row\" class=\"even\"> <td class=\"sorting_1\">54</td> <td style=\"font-weight: bold; font-size:15px; text-align:left\"><a href=\"/world-population/north-korea-population/\">North Korea</a></td> <td style=\"font-weight: bold;\">25,778,816</td> <td>0.44 %</td> <td>112,655</td> <td>214</td> <td>120,410</td> <td>-5,403</td> <td>1.9</td> <td>35</td> <td>63 %</td> <td>0.33 %</td> </tr><tr role=\"row\" class=\"odd\"> <td class=\"sorting_1\">55</td> <td style=\"font-weight: bold; font-size:15px; text-align:left\"><a href=\"/world-population/australia-population/\">Australia</a></td> <td style=\"font-weight: bold;\">25,499,884</td> <td>1.18 %</td> <td>296,686</td> <td>3</td> <td>7,682,300</td> <td>158,246</td> <td>1.8</td> <td>38</td> <td>86 %</td> <td>0.33 %</td> </tr><tr role=\"row\" class=\"even\"> <td class=\"sorting_1\">56</td> <td style=\"font-weight: bold; font-size:15px; text-align:left\"><a href=\"/world-population/niger-population/\">Niger</a></td> <td style=\"font-weight: bold;\">24,206,644</td> <td>3.84 %</td> <td>895,929</td> <td>19</td> <td>1,266,700</td> <td>4,000</td> <td>7.0</td> <td>15</td> <td>17 %</td> <td>0.31 %</td> </tr><tr role=\"row\" class=\"odd\"> <td class=\"sorting_1\">57</td> <td style=\"font-weight: bold; font-size:15px; text-align:left\"><a href=\"/world-population/taiwan-population/\">Taiwan</a></td> <td style=\"font-weight: bold;\">23,816,775</td> <td>0.18 %</td> <td>42,899</td> <td>673</td> <td>35,410</td> <td>30,001</td> <td>1.2</td> <td>42</td> <td>79 %</td> <td>0.31 %</td> </tr><tr role=\"row\" class=\"even\"> <td class=\"sorting_1\">58</td> <td style=\"font-weight: bold; font-size:15px; text-align:left\"><a href=\"/world-population/sri-lanka-population/\">Sri Lanka</a></td> <td style=\"font-weight: bold;\">21,413,249</td> <td>0.42 %</td> <td>89,516</td> <td>341</td> <td>62,710</td> <td>-97,986</td> <td>2.2</td> <td>34</td> <td>18 %</td> <td>0.27 %</td> </tr><tr role=\"row\" class=\"odd\"> <td class=\"sorting_1\">59</td> <td style=\"font-weight: bold; font-size:15px; text-align:left\"><a href=\"/world-population/burkina-faso-population/\">Burkina Faso</a></td> <td style=\"font-weight: bold;\">20,903,273</td> <td>2.86 %</td> <td>581,895</td> <td>76</td> <td>273,600</td> <td>-25,000</td> <td>5.2</td> <td>18</td> <td>31 %</td> <td>0.27 %</td> </tr><tr role=\"row\" class=\"even\"> <td class=\"sorting_1\">60</td> <td style=\"font-weight: bold; font-size:15px; text-align:left\"><a href=\"/world-population/mali-population/\">Mali</a></td> <td style=\"font-weight: bold;\">20,250,833</td> <td>3.02 %</td> <td>592,802</td> <td>17</td> <td>1,220,190</td> <td>-40,000</td> <td>5.9</td> <td>16</td> <td>44 %</td> <td>0.26 %</td> </tr><tr role=\"row\" class=\"odd\"> <td class=\"sorting_1\">61</td> <td style=\"font-weight: bold; font-size:15px; text-align:left\"><a href=\"/world-population/romania-population/\">Romania</a></td> <td style=\"font-weight: bold;\">19,237,691</td> <td>-0.66 %</td> <td>-126,866</td> <td>84</td> <td>230,170</td> <td>-73,999</td> <td>1.6</td> <td>43</td> <td>55 %</td> <td>0.25 %</td> </tr><tr role=\"row\" class=\"even\"> <td class=\"sorting_1\">62</td> <td style=\"font-weight: bold; font-size:15px; text-align:left\"><a href=\"/world-population/malawi-population/\">Malawi</a></td> <td style=\"font-weight: bold;\">19,129,952</td> <td>2.69 %</td> <td>501,205</td> <td>203</td> <td>94,280</td> <td>-16,053</td> <td>4.3</td> <td>18</td> <td>18 %</td> <td>0.25 %</td> </tr><tr role=\"row\" class=\"odd\"> <td class=\"sorting_1\">63</td> <td style=\"font-weight: bold; font-size:15px; text-align:left\"><a href=\"/world-population/chile-population/\">Chile</a></td> <td style=\"font-weight: bold;\">19,116,201</td> <td>0.87 %</td> <td>164,163</td> <td>26</td> <td>743,532</td> <td>111,708</td> <td>1.7</td> <td>35</td> <td>85 %</td> <td>0.25 %</td> </tr><tr role=\"row\" class=\"even\"> <td class=\"sorting_1\">64</td> <td style=\"font-weight: bold; font-size:15px; text-align:left\"><a href=\"/world-population/kazakhstan-population/\">Kazakhstan</a></td> <td style=\"font-weight: bold;\">18,776,707</td> <td>1.21 %</td> <td>225,280</td> <td>7</td> <td>2,699,700</td> <td>-18,000</td> <td>2.8</td> <td>31</td> <td>58 %</td> <td>0.24 %</td> </tr><tr role=\"row\" class=\"odd\"> <td class=\"sorting_1\">65</td> <td style=\"font-weight: bold; font-size:15px; text-align:left\"><a href=\"/world-population/zambia-population/\">Zambia</a></td> <td style=\"font-weight: bold;\">18,383,955</td> <td>2.93 %</td> <td>522,925</td> <td>25</td> <td>743,390</td> <td>-8,000</td> <td>4.7</td> <td>18</td> <td>45 %</td> <td>0.24 %</td> </tr><tr role=\"row\" class=\"even\"> <td class=\"sorting_1\">66</td> <td style=\"font-weight: bold; font-size:15px; text-align:left\"><a href=\"/world-population/guatemala-population/\">Guatemala</a></td> <td style=\"font-weight: bold;\">17,915,568</td> <td>1.90 %</td> <td>334,096</td> <td>167</td> <td>107,160</td> <td>-9,215</td> <td>2.9</td> <td>23</td> <td>52 %</td> <td>0.23 %</td> </tr><tr role=\"row\" class=\"odd\"> <td class=\"sorting_1\">67</td> <td style=\"font-weight: bold; font-size:15px; text-align:left\"><a href=\"/world-population/ecuador-population/\">Ecuador</a></td> <td style=\"font-weight: bold;\">17,643,054</td> <td>1.55 %</td> <td>269,392</td> <td>71</td> <td>248,360</td> <td>36,400</td> <td>2.4</td> <td>28</td> <td>63 %</td> <td>0.23 %</td> </tr><tr role=\"row\" class=\"even\"> <td class=\"sorting_1\">68</td> <td style=\"font-weight: bold; font-size:15px; text-align:left\"><a href=\"/world-population/syria-population/\">Syria</a></td> <td style=\"font-weight: bold;\">17,500,658</td> <td>2.52 %</td> <td>430,523</td> <td>95</td> <td>183,630</td> <td>-427,391</td> <td>2.8</td> <td>26</td> <td>60 %</td> <td>0.22 %</td> </tr><tr role=\"row\" class=\"odd\"> <td class=\"sorting_1\">69</td> <td style=\"font-weight: bold; font-size:15px; text-align:left\"><a href=\"/world-population/netherlands-population/\">Netherlands</a></td> <td style=\"font-weight: bold;\">17,134,872</td> <td>0.22 %</td> <td>37,742</td> <td>508</td> <td>33,720</td> <td>16,000</td> <td>1.7</td> <td>43</td> <td>92 %</td> <td>0.22 %</td> </tr><tr role=\"row\" class=\"even\"> <td class=\"sorting_1\">70</td> <td style=\"font-weight: bold; font-size:15px; text-align:left\"><a href=\"/world-population/senegal-population/\">Senegal</a></td> <td style=\"font-weight: bold;\">16,743,927</td> <td>2.75 %</td> <td>447,563</td> <td>87</td> <td>192,530</td> <td>-20,000</td> <td>4.7</td> <td>19</td> <td>49 %</td> <td>0.21 %</td> </tr><tr role=\"row\" class=\"odd\"> <td class=\"sorting_1\">71</td> <td style=\"font-weight: bold; font-size:15px; text-align:left\"><a href=\"/world-population/cambodia-population/\">Cambodia</a></td> <td style=\"font-weight: bold;\">16,718,965</td> <td>1.41 %</td> <td>232,423</td> <td>95</td> <td>176,520</td> <td>-30,000</td> <td>2.5</td> <td>26</td> <td>24 %</td> <td>0.21 %</td> </tr><tr role=\"row\" class=\"even\"> <td class=\"sorting_1\">72</td> <td style=\"font-weight: bold; font-size:15px; text-align:left\"><a href=\"/world-population/chad-population/\">Chad</a></td> <td style=\"font-weight: bold;\">16,425,864</td> <td>3.00 %</td> <td>478,988</td> <td>13</td> <td>1,259,200</td> <td>2,000</td> <td>5.8</td> <td>17</td> <td>23 %</td> <td>0.21 %</td> </tr><tr role=\"row\" class=\"odd\"> <td class=\"sorting_1\">73</td> <td style=\"font-weight: bold; font-size:15px; text-align:left\"><a href=\"/world-population/somalia-population/\">Somalia</a></td> <td style=\"font-weight: bold;\">15,893,222</td> <td>2.92 %</td> <td>450,317</td> <td>25</td> <td>627,340</td> <td>-40,000</td> <td>6.1</td> <td>17</td> <td>47 %</td> <td>0.20 %</td> </tr><tr role=\"row\" class=\"even\"> <td class=\"sorting_1\">74</td> <td style=\"font-weight: bold; font-size:15px; text-align:left\"><a href=\"/world-population/zimbabwe-population/\">Zimbabwe</a></td> <td style=\"font-weight: bold;\">14,862,924</td> <td>1.48 %</td> <td>217,456</td> <td>38</td> <td>386,850</td> <td>-116,858</td> <td>3.6</td> <td>19</td> <td>38 %</td> <td>0.19 %</td> </tr><tr role=\"row\" class=\"odd\"> <td class=\"sorting_1\">75</td> <td style=\"font-weight: bold; font-size:15px; text-align:left\"><a href=\"/world-population/guinea-population/\">Guinea</a></td> <td style=\"font-weight: bold;\">13,132,795</td> <td>2.83 %</td> <td>361,549</td> <td>53</td> <td>245,720</td> <td>-4,000</td> <td>4.7</td> <td>18</td> <td>39 %</td> <td>0.17 %</td> </tr><tr role=\"row\" class=\"even\"> <td class=\"sorting_1\">76</td> <td style=\"font-weight: bold; font-size:15px; text-align:left\"><a href=\"/world-population/rwanda-population/\">Rwanda</a></td> <td style=\"font-weight: bold;\">12,952,218</td> <td>2.58 %</td> <td>325,268</td> <td>525</td> <td>24,670</td> <td>-9,000</td> <td>4.1</td> <td>20</td> <td>18 %</td> <td>0.17 %</td> </tr><tr role=\"row\" class=\"odd\"> <td class=\"sorting_1\">77</td> <td style=\"font-weight: bold; font-size:15px; text-align:left\"><a href=\"/world-population/benin-population/\">Benin</a></td> <td style=\"font-weight: bold;\">12,123,200</td> <td>2.73 %</td> <td>322,049</td> <td>108</td> <td>112,760</td> <td>-2,000</td> <td>4.9</td> <td>19</td> <td>48 %</td> <td>0.16 %</td> </tr><tr role=\"row\" class=\"even\"> <td class=\"sorting_1\">78</td> <td style=\"font-weight: bold; font-size:15px; text-align:left\"><a href=\"/world-population/burundi-population/\">Burundi</a></td> <td style=\"font-weight: bold;\">11,890,784</td> <td>3.12 %</td> <td>360,204</td> <td>463</td> <td>25,680</td> <td>2,001</td> <td>5.5</td> <td>17</td> <td>14 %</td> <td>0.15 %</td> </tr><tr role=\"row\" class=\"odd\"> <td class=\"sorting_1\">79</td> <td style=\"font-weight: bold; font-size:15px; text-align:left\"><a href=\"/world-population/tunisia-population/\">Tunisia</a></td> <td style=\"font-weight: bold;\">11,818,619</td> <td>1.06 %</td> <td>123,900</td> <td>76</td> <td>155,360</td> <td>-4,000</td> <td>2.2</td> <td>33</td> <td>70 %</td> <td>0.15 %</td> </tr><tr role=\"row\" class=\"even\"> <td class=\"sorting_1\">80</td> <td style=\"font-weight: bold; font-size:15px; text-align:left\"><a href=\"/world-population/bolivia-population/\">Bolivia</a></td> <td style=\"font-weight: bold;\">11,673,021</td> <td>1.39 %</td> <td>159,921</td> <td>11</td> <td>1,083,300</td> <td>-9,504</td> <td>2.8</td> <td>26</td> <td>69 %</td> <td>0.15 %</td> </tr><tr role=\"row\" class=\"odd\"> <td class=\"sorting_1\">81</td> <td style=\"font-weight: bold; font-size:15px; text-align:left\"><a href=\"/world-population/belgium-population/\">Belgium</a></td> <td style=\"font-weight: bold;\">11,589,623</td> <td>0.44 %</td> <td>50,295</td> <td>383</td> <td>30,280</td> <td>48,000</td> <td>1.7</td> <td>42</td> <td>98 %</td> <td>0.15 %</td> </tr><tr role=\"row\" class=\"even\"> <td class=\"sorting_1\">82</td> <td style=\"font-weight: bold; font-size:15px; text-align:left\"><a href=\"/world-population/haiti-population/\">Haiti</a></td> <td style=\"font-weight: bold;\">11,402,528</td> <td>1.24 %</td> <td>139,451</td> <td>414</td> <td>27,560</td> <td>-35,000</td> <td>3.0</td> <td>24</td> <td>57 %</td> <td>0.15 %</td> </tr><tr role=\"row\" class=\"odd\"> <td class=\"sorting_1\">83</td> <td style=\"font-weight: bold; font-size:15px; text-align:left\"><a href=\"/world-population/cuba-population/\">Cuba</a></td> <td style=\"font-weight: bold;\">11,326,616</td> <td>-0.06 %</td> <td>-6,867</td> <td>106</td> <td>106,440</td> <td>-14,400</td> <td>1.6</td> <td>42</td> <td>78 %</td> <td>0.15 %</td> </tr><tr role=\"row\" class=\"even\"> <td class=\"sorting_1\">84</td> <td style=\"font-weight: bold; font-size:15px; text-align:left\"><a href=\"/world-population/south-sudan-population/\">South Sudan</a></td> <td style=\"font-weight: bold;\">11,193,725</td> <td>1.19 %</td> <td>131,612</td> <td>18</td> <td>610,952</td> <td>-174,200</td> <td>4.7</td> <td>19</td> <td>25 %</td> <td>0.14 %</td> </tr><tr role=\"row\" class=\"odd\"> <td class=\"sorting_1\">85</td> <td style=\"font-weight: bold; font-size:15px; text-align:left\"><a href=\"/world-population/dominican-republic-population/\">Dominican Republic</a></td> <td style=\"font-weight: bold;\">10,847,910</td> <td>1.01 %</td> <td>108,952</td> <td>225</td> <td>48,320</td> <td>-30,000</td> <td>2.4</td> <td>28</td> <td>85 %</td> <td>0.14 %</td> </tr><tr role=\"row\" class=\"even\"> <td class=\"sorting_1\">86</td> <td style=\"font-weight: bold; font-size:15px; text-align:left\"><a href=\"/world-population/czech-republic-population/\">Czech Republic (Czechia)</a></td> <td style=\"font-weight: bold;\">10,708,981</td> <td>0.18 %</td> <td>19,772</td> <td>139</td> <td>77,240</td> <td>22,011</td> <td>1.6</td> <td>43</td> <td>74 %</td> <td>0.14 %</td> </tr><tr role=\"row\" class=\"odd\"> <td class=\"sorting_1\">87</td> <td style=\"font-weight: bold; font-size:15px; text-align:left\"><a href=\"/world-population/greece-population/\">Greece</a></td> <td style=\"font-weight: bold;\">10,423,054</td> <td>-0.48 %</td> <td>-50,401</td> <td>81</td> <td>128,900</td> <td>-16,000</td> <td>1.3</td> <td>46</td> <td>85 %</td> <td>0.13 %</td> </tr><tr role=\"row\" class=\"even\"> <td class=\"sorting_1\">88</td> <td style=\"font-weight: bold; font-size:15px; text-align:left\"><a href=\"/world-population/jordan-population/\">Jordan</a></td> <td style=\"font-weight: bold;\">10,203,134</td> <td>1.00 %</td> <td>101,440</td> <td>115</td> <td>88,780</td> <td>10,220</td> <td>2.8</td> <td>24</td> <td>91 %</td> <td>0.13 %</td> </tr><tr role=\"row\" class=\"odd\"> <td class=\"sorting_1\">89</td> <td style=\"font-weight: bold; font-size:15px; text-align:left\"><a href=\"/world-population/portugal-population/\">Portugal</a></td> <td style=\"font-weight: bold;\">10,196,709</td> <td>-0.29 %</td> <td>-29,478</td> <td>111</td> <td>91,590</td> <td>-6,000</td> <td>1.3</td> <td>46</td> <td>66 %</td> <td>0.13 %</td> </tr><tr role=\"row\" class=\"even\"> <td class=\"sorting_1\">90</td> <td style=\"font-weight: bold; font-size:15px; text-align:left\"><a href=\"/world-population/azerbaijan-population/\">Azerbaijan</a></td> <td style=\"font-weight: bold;\">10,139,177</td> <td>0.91 %</td> <td>91,459</td> <td>123</td> <td>82,658</td> <td>1,200</td> <td>2.1</td> <td>32</td> <td>56 %</td> <td>0.13 %</td> </tr><tr role=\"row\" class=\"odd\"> <td class=\"sorting_1\">91</td> <td style=\"font-weight: bold; font-size:15px; text-align:left\"><a href=\"/world-population/sweden-population/\">Sweden</a></td> <td style=\"font-weight: bold;\">10,099,265</td> <td>0.63 %</td> <td>62,886</td> <td>25</td> <td>410,340</td> <td>40,000</td> <td>1.9</td> <td>41</td> <td>88 %</td> <td>0.13 %</td> </tr><tr role=\"row\" class=\"even\"> <td class=\"sorting_1\">92</td> <td style=\"font-weight: bold; font-size:15px; text-align:left\"><a href=\"/world-population/honduras-population/\">Honduras</a></td> <td style=\"font-weight: bold;\">9,904,607</td> <td>1.63 %</td> <td>158,490</td> <td>89</td> <td>111,890</td> <td>-6,800</td> <td>2.5</td> <td>24</td> <td>57 %</td> <td>0.13 %</td> </tr><tr role=\"row\" class=\"odd\"> <td class=\"sorting_1\">93</td> <td style=\"font-weight: bold; font-size:15px; text-align:left\"><a href=\"/world-population/united-arab-emirates-population/\">United Arab Emirates</a></td> <td style=\"font-weight: bold;\">9,890,402</td> <td>1.23 %</td> <td>119,873</td> <td>118</td> <td>83,600</td> <td>40,000</td> <td>1.4</td> <td>33</td> <td>86 %</td> <td>0.13 %</td> </tr><tr role=\"row\" class=\"even\"> <td class=\"sorting_1\">94</td> <td style=\"font-weight: bold; font-size:15px; text-align:left\"><a href=\"/world-population/hungary-population/\">Hungary</a></td> <td style=\"font-weight: bold;\">9,660,351</td> <td>-0.25 %</td> <td>-24,328</td> <td>107</td> <td>90,530</td> <td>6,000</td> <td>1.5</td> <td>43</td> <td>72 %</td> <td>0.12 %</td> </tr><tr role=\"row\" class=\"odd\"> <td class=\"sorting_1\">95</td> <td style=\"font-weight: bold; font-size:15px; text-align:left\"><a href=\"/world-population/tajikistan-population/\">Tajikistan</a></td> <td style=\"font-weight: bold;\">9,537,645</td> <td>2.32 %</td> <td>216,627</td> <td>68</td> <td>139,960</td> <td>-20,000</td> <td>3.6</td> <td>22</td> <td>27 %</td> <td>0.12 %</td> </tr><tr role=\"row\" class=\"even\"> <td class=\"sorting_1\">96</td> <td style=\"font-weight: bold; font-size:15px; text-align:left\"><a href=\"/world-population/belarus-population/\">Belarus</a></td> <td style=\"font-weight: bold;\">9,449,323</td> <td>-0.03 %</td> <td>-3,088</td> <td>47</td> <td>202,910</td> <td>8,730</td> <td>1.7</td> <td>40</td> <td>79 %</td> <td>0.12 %</td> </tr><tr role=\"row\" class=\"odd\"> <td class=\"sorting_1\">97</td> <td style=\"font-weight: bold; font-size:15px; text-align:left\"><a href=\"/world-population/austria-population/\">Austria</a></td> <td style=\"font-weight: bold;\">9,006,398</td> <td>0.57 %</td> <td>51,296</td> <td>109</td> <td>82,409</td> <td>65,000</td> <td>1.5</td> <td>43</td> <td>57 %</td> <td>0.12 %</td> </tr><tr role=\"row\" class=\"even\"> <td class=\"sorting_1\">98</td> <td style=\"font-weight: bold; font-size:15px; text-align:left\"><a href=\"/world-population/papua-new-guinea-population/\">Papua New Guinea</a></td> <td style=\"font-weight: bold;\">8,947,024</td> <td>1.95 %</td> <td>170,915</td> <td>20</td> <td>452,860</td> <td>-800</td> <td>3.6</td> <td>22</td> <td>13 %</td> <td>0.11 %</td> </tr><tr role=\"row\" class=\"odd\"> <td class=\"sorting_1\">99</td> <td style=\"font-weight: bold; font-size:15px; text-align:left\"><a href=\"/world-population/serbia-population/\">Serbia</a></td> <td style=\"font-weight: bold;\">8,737,371</td> <td>-0.40 %</td> <td>-34,864</td> <td>100</td> <td>87,460</td> <td>4,000</td> <td>1.5</td> <td>42</td> <td>56 %</td> <td>0.11 %</td> </tr><tr role=\"row\" class=\"even\"> <td class=\"sorting_1\">100</td> <td style=\"font-weight: bold; font-size:15px; text-align:left\"><a href=\"/world-population/israel-population/\">Israel</a></td> <td style=\"font-weight: bold;\">8,655,535</td> <td>1.60 %</td> <td>136,158</td> <td>400</td> <td>21,640</td> <td>10,000</td> <td>3.0</td> <td>30</td> <td>93 %</td> <td>0.11 %</td> </tr><tr role=\"row\" class=\"odd\"> <td class=\"sorting_1\">101</td> <td style=\"font-weight: bold; font-size:15px; text-align:left\"><a href=\"/world-population/switzerland-population/\">Switzerland</a></td> <td style=\"font-weight: bold;\">8,654,622</td> <td>0.74 %</td> <td>63,257</td> <td>219</td> <td>39,516</td> <td>52,000</td> <td>1.5</td> <td>43</td> <td>74 %</td> <td>0.11 %</td> </tr><tr role=\"row\" class=\"even\"> <td class=\"sorting_1\">102</td> <td style=\"font-weight: bold; font-size:15px; text-align:left\"><a href=\"/world-population/togo-population/\">Togo</a></td> <td style=\"font-weight: bold;\">8,278,724</td> <td>2.43 %</td> <td>196,358</td> <td>152</td> <td>54,390</td> <td>-2,000</td> <td>4.4</td> <td>19</td> <td>43 %</td> <td>0.11 %</td> </tr><tr role=\"row\" class=\"odd\"> <td class=\"sorting_1\">103</td> <td style=\"font-weight: bold; font-size:15px; text-align:left\"><a href=\"/world-population/sierra-leone-population/\">Sierra Leone</a></td> <td style=\"font-weight: bold;\">7,976,983</td> <td>2.10 %</td> <td>163,768</td> <td>111</td> <td>72,180</td> <td>-4,200</td> <td>4.3</td> <td>19</td> <td>43 %</td> <td>0.10 %</td> </tr><tr role=\"row\" class=\"even\"> <td class=\"sorting_1\">104</td> <td style=\"font-weight: bold; font-size:15px; text-align:left\"><a href=\"/world-population/china-hong-kong-sar-population/\">Hong Kong</a></td> <td style=\"font-weight: bold;\">7,496,981</td> <td>0.82 %</td> <td>60,827</td> <td>7,140</td> <td>1,050</td> <td>29,308</td> <td>1.3</td> <td>45</td> <td>N.A.</td> <td>0.10 %</td> </tr><tr role=\"row\" class=\"odd\"> <td class=\"sorting_1\">105</td> <td style=\"font-weight: bold; font-size:15px; text-align:left\"><a href=\"/world-population/laos-population/\">Laos</a></td> <td style=\"font-weight: bold;\">7,275,560</td> <td>1.48 %</td> <td>106,105</td> <td>32</td> <td>230,800</td> <td>-14,704</td> <td>2.7</td> <td>24</td> <td>36 %</td> <td>0.09 %</td> </tr><tr role=\"row\" class=\"even\"> <td class=\"sorting_1\">106</td> <td style=\"font-weight: bold; font-size:15px; text-align:left\"><a href=\"/world-population/paraguay-population/\">Paraguay</a></td> <td style=\"font-weight: bold;\">7,132,538</td> <td>1.25 %</td> <td>87,902</td> <td>18</td> <td>397,300</td> <td>-16,556</td> <td>2.4</td> <td>26</td> <td>62 %</td> <td>0.09 %</td> </tr><tr role=\"row\" class=\"odd\"> <td class=\"sorting_1\">107</td> <td style=\"font-weight: bold; font-size:15px; text-align:left\"><a href=\"/world-population/bulgaria-population/\">Bulgaria</a></td> <td style=\"font-weight: bold;\">6,948,445</td> <td>-0.74 %</td> <td>-51,674</td> <td>64</td> <td>108,560</td> <td>-4,800</td> <td>1.6</td> <td>45</td> <td>76 %</td> <td>0.09 %</td> </tr><tr role=\"row\" class=\"even\"> <td class=\"sorting_1\">108</td> <td style=\"font-weight: bold; font-size:15px; text-align:left\"><a href=\"/world-population/libya-population/\">Libya</a></td> <td style=\"font-weight: bold;\">6,871,292</td> <td>1.38 %</td> <td>93,840</td> <td>4</td> <td>1,759,540</td> <td>-1,999</td> <td>2.3</td> <td>29</td> <td>78 %</td> <td>0.09 %</td> </tr><tr role=\"row\" class=\"odd\"> <td class=\"sorting_1\">109</td> <td style=\"font-weight: bold; font-size:15px; text-align:left\"><a href=\"/world-population/lebanon-population/\">Lebanon</a></td> <td style=\"font-weight: bold;\">6,825,445</td> <td>-0.44 %</td> <td>-30,268</td> <td>667</td> <td>10,230</td> <td>-30,012</td> <td>2.1</td> <td>30</td> <td>78 %</td> <td>0.09 %</td> </tr><tr role=\"row\" class=\"even\"> <td class=\"sorting_1\">110</td> <td style=\"font-weight: bold; font-size:15px; text-align:left\"><a href=\"/world-population/nicaragua-population/\">Nicaragua</a></td> <td style=\"font-weight: bold;\">6,624,554</td> <td>1.21 %</td> <td>79,052</td> <td>55</td> <td>120,340</td> <td>-21,272</td> <td>2.4</td> <td>26</td> <td>57 %</td> <td>0.08 %</td> </tr><tr role=\"row\" class=\"odd\"> <td class=\"sorting_1\">111</td> <td style=\"font-weight: bold; font-size:15px; text-align:left\"><a href=\"/world-population/kyrgyzstan-population/\">Kyrgyzstan</a></td> <td style=\"font-weight: bold;\">6,524,195</td> <td>1.69 %</td> <td>108,345</td> <td>34</td> <td>191,800</td> <td>-4,000</td> <td>3.0</td> <td>26</td> <td>36 %</td> <td>0.08 %</td> </tr><tr role=\"row\" class=\"even\"> <td class=\"sorting_1\">112</td> <td style=\"font-weight: bold; font-size:15px; text-align:left\"><a href=\"/world-population/el-salvador-population/\">El Salvador</a></td> <td style=\"font-weight: bold;\">6,486,205</td> <td>0.51 %</td> <td>32,652</td> <td>313</td> <td>20,720</td> <td>-40,539</td> <td>2.1</td> <td>28</td> <td>73 %</td> <td>0.08 %</td> </tr><tr role=\"row\" class=\"odd\"> <td class=\"sorting_1\">113</td> <td style=\"font-weight: bold; font-size:15px; text-align:left\"><a href=\"/world-population/turkmenistan-population/\">Turkmenistan</a></td> <td style=\"font-weight: bold;\">6,031,200</td> <td>1.50 %</td> <td>89,111</td> <td>13</td> <td>469,930</td> <td>-5,000</td> <td>2.8</td> <td>27</td> <td>53 %</td> <td>0.08 %</td> </tr><tr role=\"row\" class=\"even\"> <td class=\"sorting_1\">114</td> <td style=\"font-weight: bold; font-size:15px; text-align:left\"><a href=\"/world-population/singapore-population/\">Singapore</a></td> <td style=\"font-weight: bold;\">5,850,342</td> <td>0.79 %</td> <td>46,005</td> <td>8,358</td> <td>700</td> <td>27,028</td> <td>1.2</td> <td>42</td> <td>N.A.</td> <td>0.08 %</td> </tr><tr role=\"row\" class=\"odd\"> <td class=\"sorting_1\">115</td> <td style=\"font-weight: bold; font-size:15px; text-align:left\"><a href=\"/world-population/denmark-population/\">Denmark</a></td> <td style=\"font-weight: bold;\">5,792,202</td> <td>0.35 %</td> <td>20,326</td> <td>137</td> <td>42,430</td> <td>15,200</td> <td>1.8</td> <td>42</td> <td>88 %</td> <td>0.07 %</td> </tr><tr role=\"row\" class=\"even\"> <td class=\"sorting_1\">116</td> <td style=\"font-weight: bold; font-size:15px; text-align:left\"><a href=\"/world-population/finland-population/\">Finland</a></td> <td style=\"font-weight: bold;\">5,540,720</td> <td>0.15 %</td> <td>8,564</td> <td>18</td> <td>303,890</td> <td>14,000</td> <td>1.5</td> <td>43</td> <td>86 %</td> <td>0.07 %</td> </tr><tr role=\"row\" class=\"odd\"> <td class=\"sorting_1\">117</td> <td style=\"font-weight: bold; font-size:15px; text-align:left\"><a href=\"/world-population/congo-population/\">Congo</a></td> <td style=\"font-weight: bold;\">5,518,087</td> <td>2.56 %</td> <td>137,579</td> <td>16</td> <td>341,500</td> <td>-4,000</td> <td>4.5</td> <td>19</td> <td>70 %</td> <td>0.07 %</td> </tr><tr role=\"row\" class=\"even\"> <td class=\"sorting_1\">118</td> <td style=\"font-weight: bold; font-size:15px; text-align:left\"><a href=\"/world-population/slovakia-population/\">Slovakia</a></td> <td style=\"font-weight: bold;\">5,459,642</td> <td>0.05 %</td> <td>2,629</td> <td>114</td> <td>48,088</td> <td>1,485</td> <td>1.5</td> <td>41</td> <td>54 %</td> <td>0.07 %</td> </tr><tr role=\"row\" class=\"odd\"> <td class=\"sorting_1\">119</td> <td style=\"font-weight: bold; font-size:15px; text-align:left\"><a href=\"/world-population/norway-population/\">Norway</a></td> <td style=\"font-weight: bold;\">5,421,241</td> <td>0.79 %</td> <td>42,384</td> <td>15</td> <td>365,268</td> <td>28,000</td> <td>1.7</td> <td>40</td> <td>83 %</td> <td>0.07 %</td> </tr><tr role=\"row\" class=\"even\"> <td class=\"sorting_1\">120</td> <td style=\"font-weight: bold; font-size:15px; text-align:left\"><a href=\"/world-population/oman-population/\">Oman</a></td> <td style=\"font-weight: bold;\">5,106,626</td> <td>2.65 %</td> <td>131,640</td> <td>16</td> <td>309,500</td> <td>87,400</td> <td>2.9</td> <td>31</td> <td>87 %</td> <td>0.07 %</td> </tr><tr role=\"row\" class=\"odd\"> <td class=\"sorting_1\">121</td> <td style=\"font-weight: bold; font-size:15px; text-align:left\"><a href=\"/world-population/state-of-palestine-population/\">State of Palestine</a></td> <td style=\"font-weight: bold;\">5,101,414</td> <td>2.41 %</td> <td>119,994</td> <td>847</td> <td>6,020</td> <td>-10,563</td> <td>3.7</td> <td>21</td> <td>80 %</td> <td>0.07 %</td> </tr><tr role=\"row\" class=\"even\"> <td class=\"sorting_1\">122</td> <td style=\"font-weight: bold; font-size:15px; text-align:left\"><a href=\"/world-population/costa-rica-population/\">Costa Rica</a></td> <td style=\"font-weight: bold;\">5,094,118</td> <td>0.92 %</td> <td>46,557</td> <td>100</td> <td>51,060</td> <td>4,200</td> <td>1.8</td> <td>33</td> <td>80 %</td> <td>0.07 %</td> </tr><tr role=\"row\" class=\"odd\"> <td class=\"sorting_1\">123</td> <td style=\"font-weight: bold; font-size:15px; text-align:left\"><a href=\"/world-population/liberia-population/\">Liberia</a></td> <td style=\"font-weight: bold;\">5,057,681</td> <td>2.44 %</td> <td>120,307</td> <td>53</td> <td>96,320</td> <td>-5,000</td> <td>4.4</td> <td>19</td> <td>53 %</td> <td>0.06 %</td> </tr><tr role=\"row\" class=\"even\"> <td class=\"sorting_1\">124</td> <td style=\"font-weight: bold; font-size:15px; text-align:left\"><a href=\"/world-population/ireland-population/\">Ireland</a></td> <td style=\"font-weight: bold;\">4,937,786</td> <td>1.13 %</td> <td>55,291</td> <td>72</td> <td>68,890</td> <td>23,604</td> <td>1.8</td> <td>38</td> <td>63 %</td> <td>0.06 %</td> </tr><tr role=\"row\" class=\"odd\"> <td class=\"sorting_1\">125</td> <td style=\"font-weight: bold; font-size:15px; text-align:left\"><a href=\"/world-population/central-african-republic-population/\">Central African Republic</a></td> <td style=\"font-weight: bold;\">4,829,767</td> <td>1.78 %</td> <td>84,582</td> <td>8</td> <td>622,980</td> <td>-40,000</td> <td>4.8</td> <td>18</td> <td>43 %</td> <td>0.06 %</td> </tr><tr role=\"row\" class=\"even\"> <td class=\"sorting_1\">126</td> <td style=\"font-weight: bold; font-size:15px; text-align:left\"><a href=\"/world-population/new-zealand-population/\">New Zealand</a></td> <td style=\"font-weight: bold;\">4,822,233</td> <td>0.82 %</td> <td>39,170</td> <td>18</td> <td>263,310</td> <td>14,881</td> <td>1.9</td> <td>38</td> <td>87 %</td> <td>0.06 %</td> </tr><tr role=\"row\" class=\"odd\"> <td class=\"sorting_1\">127</td> <td style=\"font-weight: bold; font-size:15px; text-align:left\"><a href=\"/world-population/mauritania-population/\">Mauritania</a></td> <td style=\"font-weight: bold;\">4,649,658</td> <td>2.74 %</td> <td>123,962</td> <td>5</td> <td>1,030,700</td> <td>5,000</td> <td>4.6</td> <td>20</td> <td>57 %</td> <td>0.06 %</td> </tr><tr role=\"row\" class=\"even\"> <td class=\"sorting_1\">128</td> <td style=\"font-weight: bold; font-size:15px; text-align:left\"><a href=\"/world-population/panama-population/\">Panama</a></td> <td style=\"font-weight: bold;\">4,314,767</td> <td>1.61 %</td> <td>68,328</td> <td>58</td> <td>74,340</td> <td>11,200</td> <td>2.5</td> <td>30</td> <td>68 %</td> <td>0.06 %</td> </tr><tr role=\"row\" class=\"odd\"> <td class=\"sorting_1\">129</td> <td style=\"font-weight: bold; font-size:15px; text-align:left\"><a href=\"/world-population/kuwait-population/\">Kuwait</a></td> <td style=\"font-weight: bold;\">4,270,571</td> <td>1.51 %</td> <td>63,488</td> <td>240</td> <td>17,820</td> <td>39,520</td> <td>2.1</td> <td>37</td> <td>N.A.</td> <td>0.05 %</td> </tr><tr role=\"row\" class=\"even\"> <td class=\"sorting_1\">130</td> <td style=\"font-weight: bold; font-size:15px; text-align:left\"><a href=\"/world-population/croatia-population/\">Croatia</a></td> <td style=\"font-weight: bold;\">4,105,267</td> <td>-0.61 %</td> <td>-25,037</td> <td>73</td> <td>55,960</td> <td>-8,001</td> <td>1.4</td> <td>44</td> <td>58 %</td> <td>0.05 %</td> </tr><tr role=\"row\" class=\"odd\"> <td class=\"sorting_1\">131</td> <td style=\"font-weight: bold; font-size:15px; text-align:left\"><a href=\"/world-population/moldova-population/\">Moldova</a></td> <td style=\"font-weight: bold;\">4,033,963</td> <td>-0.23 %</td> <td>-9,300</td> <td>123</td> <td>32,850</td> <td>-1,387</td> <td>1.3</td> <td>38</td> <td>43 %</td> <td>0.05 %</td> </tr><tr role=\"row\" class=\"even\"> <td class=\"sorting_1\">132</td> <td style=\"font-weight: bold; font-size:15px; text-align:left\"><a href=\"/world-population/georgia-population/\">Georgia</a></td> <td style=\"font-weight: bold;\">3,989,167</td> <td>-0.19 %</td> <td>-7,598</td> <td>57</td> <td>69,490</td> <td>-10,000</td> <td>2.1</td> <td>38</td> <td>58 %</td> <td>0.05 %</td> </tr><tr role=\"row\" class=\"odd\"> <td class=\"sorting_1\">133</td> <td style=\"font-weight: bold; font-size:15px; text-align:left\"><a href=\"/world-population/eritrea-population/\">Eritrea</a></td> <td style=\"font-weight: bold;\">3,546,421</td> <td>1.41 %</td> <td>49,304</td> <td>35</td> <td>101,000</td> <td>-39,858</td> <td>4.1</td> <td>19</td> <td>63 %</td> <td>0.05 %</td> </tr><tr role=\"row\" class=\"even\"> <td class=\"sorting_1\">134</td> <td style=\"font-weight: bold; font-size:15px; text-align:left\"><a href=\"/world-population/uruguay-population/\">Uruguay</a></td> <td style=\"font-weight: bold;\">3,473,730</td> <td>0.35 %</td> <td>11,996</td> <td>20</td> <td>175,020</td> <td>-3,000</td> <td>2.0</td> <td>36</td> <td>96 %</td> <td>0.04 %</td> </tr><tr role=\"row\" class=\"odd\"> <td class=\"sorting_1\">135</td> <td style=\"font-weight: bold; font-size:15px; text-align:left\"><a href=\"/world-population/bosnia-and-herzegovina-population/\">Bosnia and Herzegovina</a></td> <td style=\"font-weight: bold;\">3,280,819</td> <td>-0.61 %</td> <td>-20,181</td> <td>64</td> <td>51,000</td> <td>-21,585</td> <td>1.3</td> <td>43</td> <td>52 %</td> <td>0.04 %</td> </tr><tr role=\"row\" class=\"even\"> <td class=\"sorting_1\">136</td> <td style=\"font-weight: bold; font-size:15px; text-align:left\"><a href=\"/world-population/mongolia-population/\">Mongolia</a></td> <td style=\"font-weight: bold;\">3,278,290</td> <td>1.65 %</td> <td>53,123</td> <td>2</td> <td>1,553,560</td> <td>-852</td> <td>2.9</td> <td>28</td> <td>67 %</td> <td>0.04 %</td> </tr><tr role=\"row\" class=\"odd\"> <td class=\"sorting_1\">137</td> <td style=\"font-weight: bold; font-size:15px; text-align:left\"><a href=\"/world-population/armenia-population/\">Armenia</a></td> <td style=\"font-weight: bold;\">2,963,243</td> <td>0.19 %</td> <td>5,512</td> <td>104</td> <td>28,470</td> <td>-4,998</td> <td>1.8</td> <td>35</td> <td>63 %</td> <td>0.04 %</td> </tr><tr role=\"row\" class=\"even\"> <td class=\"sorting_1\">138</td> <td style=\"font-weight: bold; font-size:15px; text-align:left\"><a href=\"/world-population/jamaica-population/\">Jamaica</a></td> <td style=\"font-weight: bold;\">2,961,167</td> <td>0.44 %</td> <td>12,888</td> <td>273</td> <td>10,830</td> <td>-11,332</td> <td>2.0</td> <td>31</td> <td>55 %</td> <td>0.04 %</td> </tr><tr role=\"row\" class=\"odd\"> <td class=\"sorting_1\">139</td> <td style=\"font-weight: bold; font-size:15px; text-align:left\"><a href=\"/world-population/qatar-population/\">Qatar</a></td> <td style=\"font-weight: bold;\">2,881,053</td> <td>1.73 %</td> <td>48,986</td> <td>248</td> <td>11,610</td> <td>40,000</td> <td>1.9</td> <td>32</td> <td>96 %</td> <td>0.04 %</td> </tr><tr role=\"row\" class=\"even\"> <td class=\"sorting_1\">140</td> <td style=\"font-weight: bold; font-size:15px; text-align:left\"><a href=\"/world-population/albania-population/\">Albania</a></td> <td style=\"font-weight: bold;\">2,877,797</td> <td>-0.11 %</td> <td>-3,120</td> <td>105</td> <td>27,400</td> <td>-14,000</td> <td>1.6</td> <td>36</td> <td>63 %</td> <td>0.04 %</td> </tr><tr role=\"row\" class=\"odd\"> <td class=\"sorting_1\">141</td> <td style=\"font-weight: bold; font-size:15px; text-align:left\"><a href=\"/world-population/puerto-rico-population/\">Puerto Rico</a></td> <td style=\"font-weight: bold;\">2,860,853</td> <td>-2.47 %</td> <td>-72,555</td> <td>323</td> <td>8,870</td> <td>-97,986</td> <td>1.2</td> <td>44</td> <td>N.A.</td> <td>0.04 %</td> </tr><tr role=\"row\" class=\"even\"> <td class=\"sorting_1\">142</td> <td style=\"font-weight: bold; font-size:15px; text-align:left\"><a href=\"/world-population/lithuania-population/\">Lithuania</a></td> <td style=\"font-weight: bold;\">2,722,289</td> <td>-1.35 %</td> <td>-37,338</td> <td>43</td> <td>62,674</td> <td>-32,780</td> <td>1.7</td> <td>45</td> <td>71 %</td> <td>0.03 %</td> </tr><tr role=\"row\" class=\"odd\"> <td class=\"sorting_1\">143</td> <td style=\"font-weight: bold; font-size:15px; text-align:left\"><a href=\"/world-population/namibia-population/\">Namibia</a></td> <td style=\"font-weight: bold;\">2,540,905</td> <td>1.86 %</td> <td>46,375</td> <td>3</td> <td>823,290</td> <td>-4,806</td> <td>3.4</td> <td>22</td> <td>55 %</td> <td>0.03 %</td> </tr><tr role=\"row\" class=\"even\"> <td class=\"sorting_1\">144</td> <td style=\"font-weight: bold; font-size:15px; text-align:left\"><a href=\"/world-population/gambia-population/\">Gambia</a></td> <td style=\"font-weight: bold;\">2,416,668</td> <td>2.94 %</td> <td>68,962</td> <td>239</td> <td>10,120</td> <td>-3,087</td> <td>5.3</td> <td>18</td> <td>59 %</td> <td>0.03 %</td> </tr><tr role=\"row\" class=\"odd\"> <td class=\"sorting_1\">145</td> <td style=\"font-weight: bold; font-size:15px; text-align:left\"><a href=\"/world-population/botswana-population/\">Botswana</a></td> <td style=\"font-weight: bold;\">2,351,627</td> <td>2.08 %</td> <td>47,930</td> <td>4</td> <td>566,730</td> <td>3,000</td> <td>2.9</td> <td>24</td> <td>73 %</td> <td>0.03 %</td> </tr><tr role=\"row\" class=\"even\"> <td class=\"sorting_1\">146</td> <td style=\"font-weight: bold; font-size:15px; text-align:left\"><a href=\"/world-population/gabon-population/\">Gabon</a></td> <td style=\"font-weight: bold;\">2,225,734</td> <td>2.45 %</td> <td>53,155</td> <td>9</td> <td>257,670</td> <td>3,260</td> <td>4.0</td> <td>23</td> <td>87 %</td> <td>0.03 %</td> </tr><tr role=\"row\" class=\"odd\"> <td class=\"sorting_1\">147</td> <td style=\"font-weight: bold; font-size:15px; text-align:left\"><a href=\"/world-population/lesotho-population/\">Lesotho</a></td> <td style=\"font-weight: bold;\">2,142,249</td> <td>0.80 %</td> <td>16,981</td> <td>71</td> <td>30,360</td> <td>-10,047</td> <td>3.2</td> <td>24</td> <td>31 %</td> <td>0.03 %</td> </tr><tr role=\"row\" class=\"even\"> <td class=\"sorting_1\">148</td> <td style=\"font-weight: bold; font-size:15px; text-align:left\"><a href=\"/world-population/macedonia-population/\">North Macedonia</a></td> <td style=\"font-weight: bold;\">2,083,374</td> <td>0.00 %</td> <td>-85</td> <td>83</td> <td>25,220</td> <td>-1,000</td> <td>1.5</td> <td>39</td> <td>59 %</td> <td>0.03 %</td> </tr><tr role=\"row\" class=\"odd\"> <td class=\"sorting_1\">149</td> <td style=\"font-weight: bold; font-size:15px; text-align:left\"><a href=\"/world-population/slovenia-population/\">Slovenia</a></td> <td style=\"font-weight: bold;\">2,078,938</td> <td>0.01 %</td> <td>284</td> <td>103</td> <td>20,140</td> <td>2,000</td> <td>1.6</td> <td>45</td> <td>55 %</td> <td>0.03 %</td> </tr><tr role=\"row\" class=\"even\"> <td class=\"sorting_1\">150</td> <td style=\"font-weight: bold; font-size:15px; text-align:left\"><a href=\"/world-population/guinea-bissau-population/\">Guinea-Bissau</a></td> <td style=\"font-weight: bold;\">1,968,001</td> <td>2.45 %</td> <td>47,079</td> <td>70</td> <td>28,120</td> <td>-1,399</td> <td>4.5</td> <td>19</td> <td>45 %</td> <td>0.03 %</td> </tr><tr role=\"row\" class=\"odd\"> <td class=\"sorting_1\">151</td> <td style=\"font-weight: bold; font-size:15px; text-align:left\"><a href=\"/world-population/latvia-population/\">Latvia</a></td> <td style=\"font-weight: bold;\">1,886,198</td> <td>-1.08 %</td> <td>-20,545</td> <td>30</td> <td>62,200</td> <td>-14,837</td> <td>1.7</td> <td>44</td> <td>69 %</td> <td>0.02 %</td> </tr><tr role=\"row\" class=\"even\"> <td class=\"sorting_1\">152</td> <td style=\"font-weight: bold; font-size:15px; text-align:left\"><a href=\"/world-population/bahrain-population/\">Bahrain</a></td> <td style=\"font-weight: bold;\">1,701,575</td> <td>3.68 %</td> <td>60,403</td> <td>2,239</td> <td>760</td> <td>47,800</td> <td>2.0</td> <td>32</td> <td>89 %</td> <td>0.02 %</td> </tr><tr role=\"row\" class=\"odd\"> <td class=\"sorting_1\">153</td> <td style=\"font-weight: bold; font-size:15px; text-align:left\"><a href=\"/world-population/equatorial-guinea-population/\">Equatorial Guinea</a></td> <td style=\"font-weight: bold;\">1,402,985</td> <td>3.47 %</td> <td>46,999</td> <td>50</td> <td>28,050</td> <td>16,000</td> <td>4.6</td> <td>22</td> <td>73 %</td> <td>0.02 %</td> </tr><tr role=\"row\" class=\"even\"> <td class=\"sorting_1\">154</td> <td style=\"font-weight: bold; font-size:15px; text-align:left\"><a href=\"/world-population/trinidad-and-tobago-population/\">Trinidad and Tobago</a></td> <td style=\"font-weight: bold;\">1,399,488</td> <td>0.32 %</td> <td>4,515</td> <td>273</td> <td>5,130</td> <td>-800</td> <td>1.7</td> <td>36</td> <td>52 %</td> <td>0.02 %</td> </tr><tr role=\"row\" class=\"odd\"> <td class=\"sorting_1\">155</td> <td style=\"font-weight: bold; font-size:15px; text-align:left\"><a href=\"/world-population/estonia-population/\">Estonia</a></td> <td style=\"font-weight: bold;\">1,326,535</td> <td>0.07 %</td> <td>887</td> <td>31</td> <td>42,390</td> <td>3,911</td> <td>1.6</td> <td>42</td> <td>68 %</td> <td>0.02 %</td> </tr><tr role=\"row\" class=\"even\"> <td class=\"sorting_1\">156</td> <td style=\"font-weight: bold; font-size:15px; text-align:left\"><a href=\"/world-population/timor-leste-population/\">Timor-Leste</a></td> <td style=\"font-weight: bold;\">1,318,445</td> <td>1.96 %</td> <td>25,326</td> <td>89</td> <td>14,870</td> <td>-5,385</td> <td>4.1</td> <td>21</td> <td>33 %</td> <td>0.02 %</td> </tr><tr role=\"row\" class=\"odd\"> <td class=\"sorting_1\">157</td> <td style=\"font-weight: bold; font-size:15px; text-align:left\"><a href=\"/world-population/mauritius-population/\">Mauritius</a></td> <td style=\"font-weight: bold;\">1,271,768</td> <td>0.17 %</td> <td>2,100</td> <td>626</td> <td>2,030</td> <td>0</td> <td>1.4</td> <td>37</td> <td>41 %</td> <td>0.02 %</td> </tr><tr role=\"row\" class=\"even\"> <td class=\"sorting_1\">158</td> <td style=\"font-weight: bold; font-size:15px; text-align:left\"><a href=\"/world-population/cyprus-population/\">Cyprus</a></td> <td style=\"font-weight: bold;\">1,207,359</td> <td>0.73 %</td> <td>8,784</td> <td>131</td> <td>9,240</td> <td>5,000</td> <td>1.3</td> <td>37</td> <td>67 %</td> <td>0.02 %</td> </tr><tr role=\"row\" class=\"odd\"> <td class=\"sorting_1\">159</td> <td style=\"font-weight: bold; font-size:15px; text-align:left\"><a href=\"/world-population/swaziland-population/\">Eswatini</a></td> <td style=\"font-weight: bold;\">1,160,164</td> <td>1.05 %</td> <td>12,034</td> <td>67</td> <td>17,200</td> <td>-8,353</td> <td>3.0</td> <td>21</td> <td>30 %</td> <td>0.01 %</td> </tr><tr role=\"row\" class=\"even\"> <td class=\"sorting_1\">160</td> <td style=\"font-weight: bold; font-size:15px; text-align:left\"><a href=\"/world-population/djibouti-population/\">Djibouti</a></td> <td style=\"font-weight: bold;\">988,000</td> <td>1.48 %</td> <td>14,440</td> <td>43</td> <td>23,180</td> <td>900</td> <td>2.8</td> <td>27</td> <td>79 %</td> <td>0.01 %</td> </tr><tr role=\"row\" class=\"odd\"> <td class=\"sorting_1\">161</td> <td style=\"font-weight: bold; font-size:15px; text-align:left\"><a href=\"/world-population/fiji-population/\">Fiji</a></td> <td style=\"font-weight: bold;\">896,445</td> <td>0.73 %</td> <td>6,492</td> <td>49</td> <td>18,270</td> <td>-6,202</td> <td>2.8</td> <td>28</td> <td>59 %</td> <td>0.01 %</td> </tr><tr role=\"row\" class=\"even\"> <td class=\"sorting_1\">162</td> <td style=\"font-weight: bold; font-size:15px; text-align:left\"><a href=\"/world-population/reunion-population/\">Réunion</a></td> <td style=\"font-weight: bold;\">895,312</td> <td>0.72 %</td> <td>6,385</td> <td>358</td> <td>2,500</td> <td>-1,256</td> <td>2.3</td> <td>36</td> <td>100 %</td> <td>0.01 %</td> </tr><tr role=\"row\" class=\"odd\"> <td class=\"sorting_1\">163</td> <td style=\"font-weight: bold; font-size:15px; text-align:left\"><a href=\"/world-population/comoros-population/\">Comoros</a></td> <td style=\"font-weight: bold;\">869,601</td> <td>2.20 %</td> <td>18,715</td> <td>467</td> <td>1,861</td> <td>-2,000</td> <td>4.2</td> <td>20</td> <td>29 %</td> <td>0.01 %</td> </tr><tr role=\"row\" class=\"even\"> <td class=\"sorting_1\">164</td> <td style=\"font-weight: bold; font-size:15px; text-align:left\"><a href=\"/world-population/guyana-population/\">Guyana</a></td> <td style=\"font-weight: bold;\">786,552</td> <td>0.48 %</td> <td>3,786</td> <td>4</td> <td>196,850</td> <td>-6,000</td> <td>2.5</td> <td>27</td> <td>27 %</td> <td>0.01 %</td> </tr><tr role=\"row\" class=\"odd\"> <td class=\"sorting_1\">165</td> <td style=\"font-weight: bold; font-size:15px; text-align:left\"><a href=\"/world-population/bhutan-population/\">Bhutan</a></td> <td style=\"font-weight: bold;\">771,608</td> <td>1.12 %</td> <td>8,516</td> <td>20</td> <td>38,117</td> <td>320</td> <td>2.0</td> <td>28</td> <td>46 %</td> <td>0.01 %</td> </tr><tr role=\"row\" class=\"even\"> <td class=\"sorting_1\">166</td> <td style=\"font-weight: bold; font-size:15px; text-align:left\"><a href=\"/world-population/solomon-islands-population/\">Solomon Islands</a></td> <td style=\"font-weight: bold;\">686,884</td> <td>2.55 %</td> <td>17,061</td> <td>25</td> <td>27,990</td> <td>-1,600</td> <td>4.4</td> <td>20</td> <td>23 %</td> <td>0.01 %</td> </tr><tr role=\"row\" class=\"odd\"> <td class=\"sorting_1\">167</td> <td style=\"font-weight: bold; font-size:15px; text-align:left\"><a href=\"/world-population/china-macao-sar-population/\">Macao</a></td> <td style=\"font-weight: bold;\">649,335</td> <td>1.39 %</td> <td>8,890</td> <td>21,645</td> <td>30</td> <td>5,000</td> <td>1.2</td> <td>39</td> <td>N.A.</td> <td>0.01 %</td> </tr><tr role=\"row\" class=\"even\"> <td class=\"sorting_1\">168</td> <td style=\"font-weight: bold; font-size:15px; text-align:left\"><a href=\"/world-population/montenegro-population/\">Montenegro</a></td> <td style=\"font-weight: bold;\">628,066</td> <td>0.01 %</td> <td>79</td> <td>47</td> <td>13,450</td> <td>-480</td> <td>1.8</td> <td>39</td> <td>68 %</td> <td>0.01 %</td> </tr><tr role=\"row\" class=\"odd\"> <td class=\"sorting_1\">169</td> <td style=\"font-weight: bold; font-size:15px; text-align:left\"><a href=\"/world-population/luxembourg-population/\">Luxembourg</a></td> <td style=\"font-weight: bold;\">625,978</td> <td>1.66 %</td> <td>10,249</td> <td>242</td> <td>2,590</td> <td>9,741</td> <td>1.5</td> <td>40</td> <td>88 %</td> <td>0.01 %</td> </tr><tr role=\"row\" class=\"even\"> <td class=\"sorting_1\">170</td> <td style=\"font-weight: bold; font-size:15px; text-align:left\"><a href=\"/world-population/western-sahara-population/\">Western Sahara</a></td> <td style=\"font-weight: bold;\">597,339</td> <td>2.55 %</td> <td>14,876</td> <td>2</td> <td>266,000</td> <td>5,582</td> <td>2.4</td> <td>28</td> <td>87 %</td> <td>0.01 %</td> </tr><tr role=\"row\" class=\"odd\"> <td class=\"sorting_1\">171</td> <td style=\"font-weight: bold; font-size:15px; text-align:left\"><a href=\"/world-population/suriname-population/\">Suriname</a></td> <td style=\"font-weight: bold;\">586,632</td> <td>0.90 %</td> <td>5,260</td> <td>4</td> <td>156,000</td> <td>-1,000</td> <td>2.4</td> <td>29</td> <td>65 %</td> <td>0.01 %</td> </tr><tr role=\"row\" class=\"even\"> <td class=\"sorting_1\">172</td> <td style=\"font-weight: bold; font-size:15px; text-align:left\"><a href=\"/world-population/cabo-verde-population/\">Cabo Verde</a></td> <td style=\"font-weight: bold;\">555,987</td> <td>1.10 %</td> <td>6,052</td> <td>138</td> <td>4,030</td> <td>-1,342</td> <td>2.3</td> <td>28</td> <td>68 %</td> <td>0.01 %</td> </tr><tr role=\"row\" class=\"odd\"> <td class=\"sorting_1\">173</td> <td style=\"font-weight: bold; font-size:15px; text-align:left\"><a href=\"/world-population/micronesia-population/\">Micronesia</a></td> <td style=\"font-weight: bold;\">548,914</td> <td>1.00 %</td> <td>5,428</td> <td>784</td> <td>700</td> <td>-2,957</td> <td>2.9</td> <td>27</td> <td>68 %</td> <td>0.01 %</td> </tr><tr role=\"row\" class=\"even\"> <td class=\"sorting_1\">174</td> <td style=\"font-weight: bold; font-size:15px; text-align:left\"><a href=\"/world-population/maldives-population/\">Maldives</a></td> <td style=\"font-weight: bold;\">540,544</td> <td>1.81 %</td> <td>9,591</td> <td>1,802</td> <td>300</td> <td>11,370</td> <td>1.9</td> <td>30</td> <td>35 %</td> <td>0.01 %</td> </tr><tr role=\"row\" class=\"odd\"> <td class=\"sorting_1\">175</td> <td style=\"font-weight: bold; font-size:15px; text-align:left\"><a href=\"/world-population/malta-population/\">Malta</a></td> <td style=\"font-weight: bold;\">441,543</td> <td>0.27 %</td> <td>1,171</td> <td>1,380</td> <td>320</td> <td>900</td> <td>1.5</td> <td>43</td> <td>93 %</td> <td>0.01 %</td> </tr><tr role=\"row\" class=\"even\"> <td class=\"sorting_1\">176</td> <td style=\"font-weight: bold; font-size:15px; text-align:left\"><a href=\"/world-population/brunei-darussalam-population/\">Brunei </a></td> <td style=\"font-weight: bold;\">437,479</td> <td>0.97 %</td> <td>4,194</td> <td>83</td> <td>5,270</td> <td>0</td> <td>1.8</td> <td>32</td> <td>80 %</td> <td>0.01 %</td> </tr><tr role=\"row\" class=\"odd\"> <td class=\"sorting_1\">177</td> <td style=\"font-weight: bold; font-size:15px; text-align:left\"><a href=\"/world-population/guadeloupe-population/\">Guadeloupe</a></td> <td style=\"font-weight: bold;\">400,124</td> <td>0.02 %</td> <td>68</td> <td>237</td> <td>1,690</td> <td>-1,440</td> <td>2.2</td> <td>44</td> <td>N.A.</td> <td>0.01 %</td> </tr><tr role=\"row\" class=\"even\"> <td class=\"sorting_1\">178</td> <td style=\"font-weight: bold; font-size:15px; text-align:left\"><a href=\"/world-population/belize-population/\">Belize</a></td> <td style=\"font-weight: bold;\">397,628</td> <td>1.86 %</td> <td>7,275</td> <td>17</td> <td>22,810</td> <td>1,200</td> <td>2.3</td> <td>25</td> <td>46 %</td> <td>0.01 %</td> </tr><tr role=\"row\" class=\"odd\"> <td class=\"sorting_1\">179</td> <td style=\"font-weight: bold; font-size:15px; text-align:left\"><a href=\"/world-population/bahamas-population/\">Bahamas</a></td> <td style=\"font-weight: bold;\">393,244</td> <td>0.97 %</td> <td>3,762</td> <td>39</td> <td>10,010</td> <td>1,000</td> <td>1.8</td> <td>32</td> <td>86 %</td> <td>0.01 %</td> </tr><tr role=\"row\" class=\"even\"> <td class=\"sorting_1\">180</td> <td style=\"font-weight: bold; font-size:15px; text-align:left\"><a href=\"/world-population/martinique-population/\">Martinique</a></td> <td style=\"font-weight: bold;\">375,265</td> <td>-0.08 %</td> <td>-289</td> <td>354</td> <td>1,060</td> <td>-960</td> <td>1.9</td> <td>47</td> <td>92 %</td> <td>0.00 %</td> </tr><tr role=\"row\" class=\"odd\"> <td class=\"sorting_1\">181</td> <td style=\"font-weight: bold; font-size:15px; text-align:left\"><a href=\"/world-population/iceland-population/\">Iceland</a></td> <td style=\"font-weight: bold;\">341,243</td> <td>0.65 %</td> <td>2,212</td> <td>3</td> <td>100,250</td> <td>380</td> <td>1.8</td> <td>37</td> <td>94 %</td> <td>0.00 %</td> </tr><tr role=\"row\" class=\"even\"> <td class=\"sorting_1\">182</td> <td style=\"font-weight: bold; font-size:15px; text-align:left\"><a href=\"/world-population/vanuatu-population/\">Vanuatu</a></td> <td style=\"font-weight: bold;\">307,145</td> <td>2.42 %</td> <td>7,263</td> <td>25</td> <td>12,190</td> <td>120</td> <td>3.8</td> <td>21</td> <td>24 %</td> <td>0.00 %</td> </tr><tr role=\"row\" class=\"odd\"> <td class=\"sorting_1\">183</td> <td style=\"font-weight: bold; font-size:15px; text-align:left\"><a href=\"/world-population/french-guiana-population/\">French Guiana</a></td> <td style=\"font-weight: bold;\">298,682</td> <td>2.70 %</td> <td>7,850</td> <td>4</td> <td>82,200</td> <td>1,200</td> <td>3.4</td> <td>25</td> <td>87 %</td> <td>0.00 %</td> </tr><tr role=\"row\" class=\"even\"> <td class=\"sorting_1\">184</td> <td style=\"font-weight: bold; font-size:15px; text-align:left\"><a href=\"/world-population/barbados-population/\">Barbados</a></td> <td style=\"font-weight: bold;\">287,375</td> <td>0.12 %</td> <td>350</td> <td>668</td> <td>430</td> <td>-79</td> <td>1.6</td> <td>40</td> <td>31 %</td> <td>0.00 %</td> </tr><tr role=\"row\" class=\"odd\"> <td class=\"sorting_1\">185</td> <td style=\"font-weight: bold; font-size:15px; text-align:left\"><a href=\"/world-population/new-caledonia-population/\">New Caledonia</a></td> <td style=\"font-weight: bold;\">285,498</td> <td>0.97 %</td> <td>2,748</td> <td>16</td> <td>18,280</td> <td>502</td> <td>2.0</td> <td>34</td> <td>72 %</td> <td>0.00 %</td> </tr><tr role=\"row\" class=\"even\"> <td class=\"sorting_1\">186</td> <td style=\"font-weight: bold; font-size:15px; text-align:left\"><a href=\"/world-population/french-polynesia-population/\">French Polynesia</a></td> <td style=\"font-weight: bold;\">280,908</td> <td>0.58 %</td> <td>1,621</td> <td>77</td> <td>3,660</td> <td>-1,000</td> <td>2.0</td> <td>34</td> <td>64 %</td> <td>0.00 %</td> </tr><tr role=\"row\" class=\"odd\"> <td class=\"sorting_1\">187</td> <td style=\"font-weight: bold; font-size:15px; text-align:left\"><a href=\"/world-population/mayotte-population/\">Mayotte</a></td> <td style=\"font-weight: bold;\">272,815</td> <td>2.50 %</td> <td>6,665</td> <td>728</td> <td>375</td> <td>0</td> <td>3.7</td> <td>20</td> <td>46 %</td> <td>0.00 %</td> </tr><tr role=\"row\" class=\"even\"> <td class=\"sorting_1\">188</td> <td style=\"font-weight: bold; font-size:15px; text-align:left\"><a href=\"/world-population/sao-tome-and-principe-population/\">Sao Tome &amp; Principe</a></td> <td style=\"font-weight: bold;\">219,159</td> <td>1.91 %</td> <td>4,103</td> <td>228</td> <td>960</td> <td>-1,680</td> <td>4.4</td> <td>19</td> <td>74 %</td> <td>0.00 %</td> </tr><tr role=\"row\" class=\"odd\"> <td class=\"sorting_1\">189</td> <td style=\"font-weight: bold; font-size:15px; text-align:left\"><a href=\"/world-population/samoa-population/\">Samoa</a></td> <td style=\"font-weight: bold;\">198,414</td> <td>0.67 %</td> <td>1,317</td> <td>70</td> <td>2,830</td> <td>-2,803</td> <td>3.9</td> <td>22</td> <td>18 %</td> <td>0.00 %</td> </tr><tr role=\"row\" class=\"even\"> <td class=\"sorting_1\">190</td> <td style=\"font-weight: bold; font-size:15px; text-align:left\"><a href=\"/world-population/saint-lucia-population/\">Saint Lucia</a></td> <td style=\"font-weight: bold;\">183,627</td> <td>0.46 %</td> <td>837</td> <td>301</td> <td>610</td> <td>0</td> <td>1.4</td> <td>34</td> <td>19 %</td> <td>0.00 %</td> </tr><tr role=\"row\" class=\"odd\"> <td class=\"sorting_1\">191</td> <td style=\"font-weight: bold; font-size:15px; text-align:left\"><a href=\"/world-population/channel-islands-population/\">Channel Islands</a></td> <td style=\"font-weight: bold;\">173,863</td> <td>0.93 %</td> <td>1,604</td> <td>915</td> <td>190</td> <td>1,351</td> <td>1.5</td> <td>43</td> <td>30 %</td> <td>0.00 %</td> </tr><tr role=\"row\" class=\"even\"> <td class=\"sorting_1\">192</td> <td style=\"font-weight: bold; font-size:15px; text-align:left\"><a href=\"/world-population/guam-population/\">Guam</a></td> <td style=\"font-weight: bold;\">168,775</td> <td>0.89 %</td> <td>1,481</td> <td>313</td> <td>540</td> <td>-506</td> <td>2.3</td> <td>31</td> <td>95 %</td> <td>0.00 %</td> </tr><tr role=\"row\" class=\"odd\"> <td class=\"sorting_1\">193</td> <td style=\"font-weight: bold; font-size:15px; text-align:left\"><a href=\"/world-population/curacao-population/\">Curaçao</a></td> <td style=\"font-weight: bold;\">164,093</td> <td>0.41 %</td> <td>669</td> <td>370</td> <td>444</td> <td>515</td> <td>1.8</td> <td>42</td> <td>89 %</td> <td>0.00 %</td> </tr><tr role=\"row\" class=\"even\"> <td class=\"sorting_1\">194</td> <td style=\"font-weight: bold; font-size:15px; text-align:left\"><a href=\"/world-population/kiribati-population/\">Kiribati</a></td> <td style=\"font-weight: bold;\">119,449</td> <td>1.57 %</td> <td>1,843</td> <td>147</td> <td>810</td> <td>-800</td> <td>3.6</td> <td>23</td> <td>57 %</td> <td>0.00 %</td> </tr><tr role=\"row\" class=\"odd\"> <td class=\"sorting_1\">195</td> <td style=\"font-weight: bold; font-size:15px; text-align:left\"><a href=\"/world-population/grenada-population/\">Grenada</a></td> <td style=\"font-weight: bold;\">112,523</td> <td>0.46 %</td> <td>520</td> <td>331</td> <td>340</td> <td>-200</td> <td>2.1</td> <td>32</td> <td>35 %</td> <td>0.00 %</td> </tr><tr role=\"row\" class=\"even\"> <td class=\"sorting_1\">196</td> <td style=\"font-weight: bold; font-size:15px; text-align:left\"><a href=\"/world-population/saint-vincent-and-the-grenadines-population/\">St. Vincent &amp; Grenadines</a></td> <td style=\"font-weight: bold;\">110,940</td> <td>0.32 %</td> <td>351</td> <td>284</td> <td>390</td> <td>-200</td> <td>1.9</td> <td>33</td> <td>53 %</td> <td>0.00 %</td> </tr><tr role=\"row\" class=\"odd\"> <td class=\"sorting_1\">197</td> <td style=\"font-weight: bold; font-size:15px; text-align:left\"><a href=\"/world-population/aruba-population/\">Aruba</a></td> <td style=\"font-weight: bold;\">106,766</td> <td>0.43 %</td> <td>452</td> <td>593</td> <td>180</td> <td>201</td> <td>1.9</td> <td>41</td> <td>44 %</td> <td>0.00 %</td> </tr><tr role=\"row\" class=\"even\"> <td class=\"sorting_1\">198</td> <td style=\"font-weight: bold; font-size:15px; text-align:left\"><a href=\"/world-population/tonga-population/\">Tonga</a></td> <td style=\"font-weight: bold;\">105,695</td> <td>1.15 %</td> <td>1,201</td> <td>147</td> <td>720</td> <td>-800</td> <td>3.6</td> <td>22</td> <td>24 %</td> <td>0.00 %</td> </tr><tr role=\"row\" class=\"odd\"> <td class=\"sorting_1\">199</td> <td style=\"font-weight: bold; font-size:15px; text-align:left\"><a href=\"/world-population/united-states-virgin-islands-population/\">U.S. Virgin Islands</a></td> <td style=\"font-weight: bold;\">104,425</td> <td>-0.15 %</td> <td>-153</td> <td>298</td> <td>350</td> <td>-451</td> <td>2.0</td> <td>43</td> <td>96 %</td> <td>0.00 %</td> </tr><tr role=\"row\" class=\"even\"> <td class=\"sorting_1\">200</td> <td style=\"font-weight: bold; font-size:15px; text-align:left\"><a href=\"/world-population/seychelles-population/\">Seychelles</a></td> <td style=\"font-weight: bold;\">98,347</td> <td>0.62 %</td> <td>608</td> <td>214</td> <td>460</td> <td>-200</td> <td>2.5</td> <td>34</td> <td>56 %</td> <td>0.00 %</td> </tr><tr role=\"row\" class=\"odd\"> <td class=\"sorting_1\">201</td> <td style=\"font-weight: bold; font-size:15px; text-align:left\"><a href=\"/world-population/antigua-and-barbuda-population/\">Antigua and Barbuda</a></td> <td style=\"font-weight: bold;\">97,929</td> <td>0.84 %</td> <td>811</td> <td>223</td> <td>440</td> <td>0</td> <td>2.0</td> <td>34</td> <td>26 %</td> <td>0.00 %</td> </tr><tr role=\"row\" class=\"even\"> <td class=\"sorting_1\">202</td> <td style=\"font-weight: bold; font-size:15px; text-align:left\"><a href=\"/world-population/isle-of-man-population/\">Isle of Man</a></td> <td style=\"font-weight: bold;\">85,033</td> <td>0.53 %</td> <td>449</td> <td>149</td> <td>570</td> <td> </td> <td>N.A.</td> <td>N.A.</td> <td>53 %</td> <td>0.00 %</td> </tr><tr role=\"row\" class=\"odd\"> <td class=\"sorting_1\">203</td> <td style=\"font-weight: bold; font-size:15px; text-align:left\"><a href=\"/world-population/andorra-population/\">Andorra</a></td> <td style=\"font-weight: bold;\">77,265</td> <td>0.16 %</td> <td>123</td> <td>164</td> <td>470</td> <td> </td> <td>N.A.</td> <td>N.A.</td> <td>88 %</td> <td>0.00 %</td> </tr><tr role=\"row\" class=\"even\"> <td class=\"sorting_1\">204</td> <td style=\"font-weight: bold; font-size:15px; text-align:left\"><a href=\"/world-population/dominica-population/\">Dominica</a></td> <td style=\"font-weight: bold;\">71,986</td> <td>0.25 %</td> <td>178</td> <td>96</td> <td>750</td> <td> </td> <td>N.A.</td> <td>N.A.</td> <td>74 %</td> <td>0.00 %</td> </tr><tr role=\"row\" class=\"odd\"> <td class=\"sorting_1\">205</td> <td style=\"font-weight: bold; font-size:15px; text-align:left\"><a href=\"/world-population/cayman-islands-population/\">Cayman Islands</a></td> <td style=\"font-weight: bold;\">65,722</td> <td>1.19 %</td> <td>774</td> <td>274</td> <td>240</td> <td> </td> <td>N.A.</td> <td>N.A.</td> <td>97 %</td> <td>0.00 %</td> </tr><tr role=\"row\" class=\"even\"> <td class=\"sorting_1\">206</td> <td style=\"font-weight: bold; font-size:15px; text-align:left\"><a href=\"/world-population/bermuda-population/\">Bermuda</a></td> <td style=\"font-weight: bold;\">62,278</td> <td>-0.36 %</td> <td>-228</td> <td>1,246</td> <td>50</td> <td> </td> <td>N.A.</td> <td>N.A.</td> <td>97 %</td> <td>0.00 %</td> </tr><tr role=\"row\" class=\"odd\"> <td class=\"sorting_1\">207</td> <td style=\"font-weight: bold; font-size:15px; text-align:left\"><a href=\"/world-population/marshall-islands-population/\">Marshall Islands</a></td> <td style=\"font-weight: bold;\">59,190</td> <td>0.68 %</td> <td>399</td> <td>329</td> <td>180</td> <td> </td> <td>N.A.</td> <td>N.A.</td> <td>70 %</td> <td>0.00 %</td> </tr><tr role=\"row\" class=\"even\"> <td class=\"sorting_1\">208</td> <td style=\"font-weight: bold; font-size:15px; text-align:left\"><a href=\"/world-population/northern-mariana-islands-population/\">Northern Mariana Islands</a></td> <td style=\"font-weight: bold;\">57,559</td> <td>0.60 %</td> <td>343</td> <td>125</td> <td>460</td> <td> </td> <td>N.A.</td> <td>N.A.</td> <td>88 %</td> <td>0.00 %</td> </tr><tr role=\"row\" class=\"odd\"> <td class=\"sorting_1\">209</td> <td style=\"font-weight: bold; font-size:15px; text-align:left\"><a href=\"/world-population/greenland-population/\">Greenland</a></td> <td style=\"font-weight: bold;\">56,770</td> <td>0.17 %</td> <td>98</td> <td>0</td> <td>410,450</td> <td> </td> <td>N.A.</td> <td>N.A.</td> <td>87 %</td> <td>0.00 %</td> </tr><tr role=\"row\" class=\"even\"> <td class=\"sorting_1\">210</td> <td style=\"font-weight: bold; font-size:15px; text-align:left\"><a href=\"/world-population/american-samoa-population/\">American Samoa</a></td> <td style=\"font-weight: bold;\">55,191</td> <td>-0.22 %</td> <td>-121</td> <td>276</td> <td>200</td> <td> </td> <td>N.A.</td> <td>N.A.</td> <td>88 %</td> <td>0.00 %</td> </tr><tr role=\"row\" class=\"odd\"> <td class=\"sorting_1\">211</td> <td style=\"font-weight: bold; font-size:15px; text-align:left\"><a href=\"/world-population/saint-kitts-and-nevis-population/\">Saint Kitts &amp; Nevis</a></td> <td style=\"font-weight: bold;\">53,199</td> <td>0.71 %</td> <td>376</td> <td>205</td> <td>260</td> <td> </td> <td>N.A.</td> <td>N.A.</td> <td>33 %</td> <td>0.00 %</td> </tr><tr role=\"row\" class=\"even\"> <td class=\"sorting_1\">212</td> <td style=\"font-weight: bold; font-size:15px; text-align:left\"><a href=\"/world-population/faeroe-islands-population/\">Faeroe Islands</a></td> <td style=\"font-weight: bold;\">48,863</td> <td>0.38 %</td> <td>185</td> <td>35</td> <td>1,396</td> <td> </td> <td>N.A.</td> <td>N.A.</td> <td>43 %</td> <td>0.00 %</td> </tr><tr role=\"row\" class=\"odd\"> <td class=\"sorting_1\">213</td> <td style=\"font-weight: bold; font-size:15px; text-align:left\"><a href=\"/world-population/sint-maarten-population/\">Sint Maarten</a></td> <td style=\"font-weight: bold;\">42,876</td> <td>1.15 %</td> <td>488</td> <td>1,261</td> <td>34</td> <td> </td> <td>N.A.</td> <td>N.A.</td> <td>96 %</td> <td>0.00 %</td> </tr><tr role=\"row\" class=\"even\"> <td class=\"sorting_1\">214</td> <td style=\"font-weight: bold; font-size:15px; text-align:left\"><a href=\"/world-population/monaco-population/\">Monaco</a></td> <td style=\"font-weight: bold;\">39,242</td> <td>0.71 %</td> <td>278</td> <td>26,337</td> <td>1</td> <td> </td> <td>N.A.</td> <td>N.A.</td> <td>N.A.</td> <td>0.00 %</td> </tr><tr role=\"row\" class=\"odd\"> <td class=\"sorting_1\">215</td> <td style=\"font-weight: bold; font-size:15px; text-align:left\"><a href=\"/world-population/turks-and-caicos-islands-population/\">Turks and Caicos</a></td> <td style=\"font-weight: bold;\">38,717</td> <td>1.38 %</td> <td>526</td> <td>41</td> <td>950</td> <td> </td> <td>N.A.</td> <td>N.A.</td> <td>89 %</td> <td>0.00 %</td> </tr><tr role=\"row\" class=\"even\"> <td class=\"sorting_1\">216</td> <td style=\"font-weight: bold; font-size:15px; text-align:left\"><a href=\"/world-population/saint-martin-population/\">Saint Martin</a></td> <td style=\"font-weight: bold;\">38,666</td> <td>1.75 %</td> <td>664</td> <td>730</td> <td>53</td> <td> </td> <td>N.A.</td> <td>N.A.</td> <td>0 %</td> <td>0.00 %</td> </tr><tr role=\"row\" class=\"odd\"> <td class=\"sorting_1\">217</td> <td style=\"font-weight: bold; font-size:15px; text-align:left\"><a href=\"/world-population/liechtenstein-population/\">Liechtenstein</a></td> <td style=\"font-weight: bold;\">38,128</td> <td>0.29 %</td> <td>109</td> <td>238</td> <td>160</td> <td> </td> <td>N.A.</td> <td>N.A.</td> <td>15 %</td> <td>0.00 %</td> </tr><tr role=\"row\" class=\"even\"> <td class=\"sorting_1\">218</td> <td style=\"font-weight: bold; font-size:15px; text-align:left\"><a href=\"/world-population/san-marino-population/\">San Marino</a></td> <td style=\"font-weight: bold;\">33,931</td> <td>0.21 %</td> <td>71</td> <td>566</td> <td>60</td> <td> </td> <td>N.A.</td> <td>N.A.</td> <td>97 %</td> <td>0.00 %</td> </tr><tr role=\"row\" class=\"odd\"> <td class=\"sorting_1\">219</td> <td style=\"font-weight: bold; font-size:15px; text-align:left\"><a href=\"/world-population/gibraltar-population/\">Gibraltar</a></td> <td style=\"font-weight: bold;\">33,691</td> <td>-0.03 %</td> <td>-10</td> <td>3,369</td> <td>10</td> <td> </td> <td>N.A.</td> <td>N.A.</td> <td>N.A.</td> <td>0.00 %</td> </tr><tr role=\"row\" class=\"even\"> <td class=\"sorting_1\">220</td> <td style=\"font-weight: bold; font-size:15px; text-align:left\"><a href=\"/world-population/british-virgin-islands-population/\">British Virgin Islands</a></td> <td style=\"font-weight: bold;\">30,231</td> <td>0.67 %</td> <td>201</td> <td>202</td> <td>150</td> <td> </td> <td>N.A.</td> <td>N.A.</td> <td>52 %</td> <td>0.00 %</td> </tr><tr role=\"row\" class=\"odd\"> <td class=\"sorting_1\">221</td> <td style=\"font-weight: bold; font-size:15px; text-align:left\"><a href=\"/world-population/caribbean-netherlands-population/\">Caribbean Netherlands</a></td> <td style=\"font-weight: bold;\">26,223</td> <td>0.94 %</td> <td>244</td> <td>80</td> <td>328</td> <td> </td> <td>N.A.</td> <td>N.A.</td> <td>75 %</td> <td>0.00 %</td> </tr><tr role=\"row\" class=\"even\"> <td class=\"sorting_1\">222</td> <td style=\"font-weight: bold; font-size:15px; text-align:left\"><a href=\"/world-population/palau-population/\">Palau</a></td> <td style=\"font-weight: bold;\">18,094</td> <td>0.48 %</td> <td>86</td> <td>39</td> <td>460</td> <td> </td> <td>N.A.</td> <td>N.A.</td> <td>N.A.</td> <td>0.00 %</td> </tr><tr role=\"row\" class=\"odd\"> <td class=\"sorting_1\">223</td> <td style=\"font-weight: bold; font-size:15px; text-align:left\"><a href=\"/world-population/cook-islands-population/\">Cook Islands</a></td> <td style=\"font-weight: bold;\">17,564</td> <td>0.09 %</td> <td>16</td> <td>73</td> <td>240</td> <td> </td> <td>N.A.</td> <td>N.A.</td> <td>75 %</td> <td>0.00 %</td> </tr><tr role=\"row\" class=\"even\"> <td class=\"sorting_1\">224</td> <td style=\"font-weight: bold; font-size:15px; text-align:left\"><a href=\"/world-population/anguilla-population/\">Anguilla</a></td> <td style=\"font-weight: bold;\">15,003</td> <td>0.90 %</td> <td>134</td> <td>167</td> <td>90</td> <td> </td> <td>N.A.</td> <td>N.A.</td> <td>N.A.</td> <td>0.00 %</td> </tr><tr role=\"row\" class=\"odd\"> <td class=\"sorting_1\">225</td> <td style=\"font-weight: bold; font-size:15px; text-align:left\"><a href=\"/world-population/tuvalu-population/\">Tuvalu</a></td> <td style=\"font-weight: bold;\">11,792</td> <td>1.25 %</td> <td>146</td> <td>393</td> <td>30</td> <td> </td> <td>N.A.</td> <td>N.A.</td> <td>62 %</td> <td>0.00 %</td> </tr><tr role=\"row\" class=\"even\"> <td class=\"sorting_1\">226</td> <td style=\"font-weight: bold; font-size:15px; text-align:left\"><a href=\"/world-population/wallis-and-futuna-islands-population/\">Wallis &amp; Futuna</a></td> <td style=\"font-weight: bold;\">11,239</td> <td>-1.69 %</td> <td>-193</td> <td>80</td> <td>140</td> <td> </td> <td>N.A.</td> <td>N.A.</td> <td>0 %</td> <td>0.00 %</td> </tr><tr role=\"row\" class=\"odd\"> <td class=\"sorting_1\">227</td> <td style=\"font-weight: bold; font-size:15px; text-align:left\"><a href=\"/world-population/nauru-population/\">Nauru</a></td> <td style=\"font-weight: bold;\">10,824</td> <td>0.63 %</td> <td>68</td> <td>541</td> <td>20</td> <td> </td> <td>N.A.</td> <td>N.A.</td> <td>N.A.</td> <td>0.00 %</td> </tr><tr role=\"row\" class=\"even\"> <td class=\"sorting_1\">228</td> <td style=\"font-weight: bold; font-size:15px; text-align:left\"><a href=\"/world-population/saint-barthelemy-population/\">Saint Barthelemy</a></td> <td style=\"font-weight: bold;\">9,877</td> <td>0.30 %</td> <td>30</td> <td>470</td> <td>21</td> <td> </td> <td>N.A.</td> <td>N.A.</td> <td>0 %</td> <td>0.00 %</td> </tr><tr role=\"row\" class=\"odd\"> <td class=\"sorting_1\">229</td> <td style=\"font-weight: bold; font-size:15px; text-align:left\"><a href=\"/world-population/saint-helena-population/\">Saint Helena</a></td> <td style=\"font-weight: bold;\">6,077</td> <td>0.30 %</td> <td>18</td> <td>16</td> <td>390</td> <td> </td> <td>N.A.</td> <td>N.A.</td> <td>27 %</td> <td>0.00 %</td> </tr><tr role=\"row\" class=\"even\"> <td class=\"sorting_1\">230</td> <td style=\"font-weight: bold; font-size:15px; text-align:left\"><a href=\"/world-population/saint-pierre-and-miquelon-population/\">Saint Pierre &amp; Miquelon</a></td> <td style=\"font-weight: bold;\">5,794</td> <td>-0.48 %</td> <td>-28</td> <td>25</td> <td>230</td> <td> </td> <td>N.A.</td> <td>N.A.</td> <td>100 %</td> <td>0.00 %</td> </tr><tr role=\"row\" class=\"odd\"> <td class=\"sorting_1\">231</td> <td style=\"font-weight: bold; font-size:15px; text-align:left\"><a href=\"/world-population/montserrat-population/\">Montserrat</a></td> <td style=\"font-weight: bold;\">4,992</td> <td>0.06 %</td> <td>3</td> <td>50</td> <td>100</td> <td> </td> <td>N.A.</td> <td>N.A.</td> <td>10 %</td> <td>0.00 %</td> </tr><tr role=\"row\" class=\"even\"> <td class=\"sorting_1\">232</td> <td style=\"font-weight: bold; font-size:15px; text-align:left\"><a href=\"/world-population/falkland-islands-malvinas-population/\">Falkland Islands</a></td> <td style=\"font-weight: bold;\">3,480</td> <td>3.05 %</td> <td>103</td> <td>0</td> <td>12,170</td> <td> </td> <td>N.A.</td> <td>N.A.</td> <td>66 %</td> <td>0.00 %</td> </tr><tr role=\"row\" class=\"odd\"> <td class=\"sorting_1\">233</td> <td style=\"font-weight: bold; font-size:15px; text-align:left\"><a href=\"/world-population/niue-population/\">Niue</a></td> <td style=\"font-weight: bold;\">1,626</td> <td>0.68 %</td> <td>11</td> <td>6</td> <td>260</td> <td> </td> <td>N.A.</td> <td>N.A.</td> <td>46 %</td> <td>0.00 %</td> </tr><tr role=\"row\" class=\"even\"> <td class=\"sorting_1\">234</td> <td style=\"font-weight: bold; font-size:15px; text-align:left\"><a href=\"/world-population/tokelau-population/\">Tokelau</a></td> <td style=\"font-weight: bold;\">1,357</td> <td>1.27 %</td> <td>17</td> <td>136</td> <td>10</td> <td> </td> <td>N.A.</td> <td>N.A.</td> <td>0 %</td> <td>0.00 %</td> </tr><tr role=\"row\" class=\"odd\"> <td class=\"sorting_1\">235</td> <td style=\"font-weight: bold; font-size:15px; text-align:left\"><a href=\"/world-population/holy-see-population/\">Holy See</a></td> <td style=\"font-weight: bold;\">801</td> <td>0.25 %</td> <td>2</td> <td>2,003</td> <td>0</td> <td> </td> <td>N.A.</td> <td>N.A.</td> <td>N.A.</td> <td>0.00 %</td> </tr></tbody></table>"
      ]
    },
    {
      "cell_type": "code",
      "execution_count": null,
      "id": "1afe4cac",
      "metadata": {
        "id": "1afe4cac"
      },
      "outputs": [],
      "source": [
        "# parse data from the html into a beautifulsoup object\n",
        "soup = BeautifulSoup(response.text, 'html.parser')\n",
        "worldtable=soup.find('table',{\"id\":\"example2\"})"
      ]
    },
    {
      "cell_type": "code",
      "execution_count": null,
      "id": "ad0b4a5f",
      "metadata": {
        "id": "ad0b4a5f",
        "outputId": "050892c9-4eac-43a7-ae1a-2cc9181ad8a4",
        "colab": {
          "base_uri": "https://localhost:8080/"
        }
      },
      "outputs": [
        {
          "output_type": "execute_result",
          "data": {
            "text/plain": [
              "<table cellspacing=\"0\" class=\"table table-striped table-bordered\" id=\"example2\" width=\"100%\"> <thead> <tr> <th>#</th> <th>Country (or dependency)</th> <th>Population<br/> (2023)</th> <th>Yearly<br/> Change</th> <th>Net<br/> Change</th> <th>Density<br/> (P/Km²)</th> <th>Land Area<br/> (Km²)</th> <th>Migrants<br/> (net)</th> <th>Fert.<br/> Rate</th> <th>Med.<br/> Age</th> <th>Urban<br/> Pop %</th> <th>World<br/> Share</th> </tr> </thead> <tbody> <tr> <td>1</td> <td style=\"font-weight: bold; font-size:15px; text-align:left\"><a href=\"/world-population/india-population/\">India</a></td> <td style=\"font-weight: bold;\">1,428,627,663</td> <td>0.81 %</td> <td>11,454,490</td> <td>481</td> <td>2,973,190</td> <td>-486,136</td> <td>2.0</td> <td>28</td> <td>36 %</td> <td>17.76 %</td> </tr> <tr> <td>2</td> <td style=\"font-weight: bold; font-size:15px; text-align:left\"><a href=\"/world-population/china-population/\">China</a></td> <td style=\"font-weight: bold;\">1,425,671,352</td> <td>-0.02 %</td> <td>-215,985</td> <td>152</td> <td>9,388,211</td> <td>-310,220</td> <td>1.2</td> <td>39</td> <td>65 %</td> <td>17.72 %</td> </tr> <tr> <td>3</td> <td style=\"font-weight: bold; font-size:15px; text-align:left\"><a href=\"/world-population/us-population/\">United States</a></td> <td style=\"font-weight: bold;\">339,996,563</td> <td>0.50 %</td> <td>1,706,706</td> <td>37</td> <td>9,147,420</td> <td>999,700</td> <td>1.7</td> <td>38</td> <td>83 %</td> <td>4.23 %</td> </tr> <tr> <td>4</td> <td style=\"font-weight: bold; font-size:15px; text-align:left\"><a href=\"/world-population/indonesia-population/\">Indonesia</a></td> <td style=\"font-weight: bold;\">277,534,122</td> <td>0.74 %</td> <td>2,032,783</td> <td>153</td> <td>1,811,570</td> <td>-49,997</td> <td>2.1</td> <td>30</td> <td>59 %</td> <td>3.45 %</td> </tr> <tr> <td>5</td> <td style=\"font-weight: bold; font-size:15px; text-align:left\"><a href=\"/world-population/pakistan-population/\">Pakistan</a></td> <td style=\"font-weight: bold;\">240,485,658</td> <td>1.98 %</td> <td>4,660,796</td> <td>312</td> <td>770,880</td> <td>-165,988</td> <td>3.3</td> <td>21</td> <td>35 %</td> <td>2.99 %</td> </tr> <tr> <td>6</td> <td style=\"font-weight: bold; font-size:15px; text-align:left\"><a href=\"/world-population/nigeria-population/\">Nigeria</a></td> <td style=\"font-weight: bold;\">223,804,632</td> <td>2.41 %</td> <td>5,263,420</td> <td>246</td> <td>910,770</td> <td>-59,996</td> <td>5.1</td> <td>17</td> <td>54 %</td> <td>2.78 %</td> </tr> <tr> <td>7</td> <td style=\"font-weight: bold; font-size:15px; text-align:left\"><a href=\"/world-population/brazil-population/\">Brazil</a></td> <td style=\"font-weight: bold;\">216,422,446</td> <td>0.52 %</td> <td>1,108,948</td> <td>26</td> <td>8,358,140</td> <td>6,000</td> <td>1.6</td> <td>34</td> <td>88 %</td> <td>2.69 %</td> </tr> <tr> <td>8</td> <td style=\"font-weight: bold; font-size:15px; text-align:left\"><a href=\"/world-population/bangladesh-population/\">Bangladesh</a></td> <td style=\"font-weight: bold;\">172,954,319</td> <td>1.03 %</td> <td>1,767,947</td> <td>1,329</td> <td>130,170</td> <td>-309,977</td> <td>1.9</td> <td>27</td> <td>41 %</td> <td>2.15 %</td> </tr> <tr> <td>9</td> <td style=\"font-weight: bold; font-size:15px; text-align:left\"><a href=\"/world-population/russia-population/\">Russia</a></td> <td style=\"font-weight: bold;\">144,444,359</td> <td>-0.19 %</td> <td>-268,955</td> <td>9</td> <td>16,376,870</td> <td>-136,414</td> <td>1.5</td> <td>39</td> <td>75 %</td> <td>1.80 %</td> </tr> <tr> <td>10</td> <td style=\"font-weight: bold; font-size:15px; text-align:left\"><a href=\"/world-population/mexico-population/\">Mexico</a></td> <td style=\"font-weight: bold;\">128,455,567</td> <td>0.75 %</td> <td>951,442</td> <td>66</td> <td>1,943,950</td> <td>-50,239</td> <td>1.8</td> <td>30</td> <td>88 %</td> <td>1.60 %</td> </tr> <tr> <td>11</td> <td style=\"font-weight: bold; font-size:15px; text-align:left\"><a href=\"/world-population/ethiopia-population/\">Ethiopia</a></td> <td style=\"font-weight: bold;\">126,527,060</td> <td>2.55 %</td> <td>3,147,136</td> <td>127</td> <td>1,000,000</td> <td>-11,999</td> <td>4.0</td> <td>19</td> <td>22 %</td> <td>1.57 %</td> </tr> <tr> <td>12</td> <td style=\"font-weight: bold; font-size:15px; text-align:left\"><a href=\"/world-population/japan-population/\">Japan</a></td> <td style=\"font-weight: bold;\">123,294,513</td> <td>-0.53 %</td> <td>-657,179</td> <td>338</td> <td>364,555</td> <td>99,994</td> <td>1.3</td> <td>49</td> <td>94 %</td> <td>1.53 %</td> </tr> <tr> <td>13</td> <td style=\"font-weight: bold; font-size:15px; text-align:left\"><a href=\"/world-population/philippines-population/\">Philippines</a></td> <td style=\"font-weight: bold;\">117,337,368</td> <td>1.54 %</td> <td>1,778,359</td> <td>394</td> <td>298,170</td> <td>-69,996</td> <td>2.7</td> <td>25</td> <td>47 %</td> <td>1.46 %</td> </tr> <tr> <td>14</td> <td style=\"font-weight: bold; font-size:15px; text-align:left\"><a href=\"/world-population/egypt-population/\">Egypt</a></td> <td style=\"font-weight: bold;\">112,716,598</td> <td>1.56 %</td> <td>1,726,495</td> <td>113</td> <td>995,450</td> <td>-29,998</td> <td>2.8</td> <td>24</td> <td>41 %</td> <td>1.40 %</td> </tr> <tr> <td>15</td> <td style=\"font-weight: bold; font-size:15px; text-align:left\"><a href=\"/world-population/democratic-republic-of-the-congo-population/\">DR Congo</a></td> <td style=\"font-weight: bold;\">102,262,808</td> <td>3.29 %</td> <td>3,252,596</td> <td>45</td> <td>2,267,050</td> <td>-14,999</td> <td>6.1</td> <td>16</td> <td>46 %</td> <td>1.27 %</td> </tr> <tr> <td>16</td> <td style=\"font-weight: bold; font-size:15px; text-align:left\"><a href=\"/world-population/vietnam-population/\">Vietnam</a></td> <td style=\"font-weight: bold;\">98,858,950</td> <td>0.68 %</td> <td>672,094</td> <td>319</td> <td>310,070</td> <td>-82,700</td> <td>1.9</td> <td>33</td> <td>40 %</td> <td>1.23 %</td> </tr> <tr> <td>17</td> <td style=\"font-weight: bold; font-size:15px; text-align:left\"><a href=\"/world-population/iran-population/\">Iran</a></td> <td style=\"font-weight: bold;\">89,172,767</td> <td>0.70 %</td> <td>622,197</td> <td>55</td> <td>1,628,550</td> <td>-39,998</td> <td>1.7</td> <td>33</td> <td>74 %</td> <td>1.11 %</td> </tr> <tr> <td>18</td> <td style=\"font-weight: bold; font-size:15px; text-align:left\"><a href=\"/world-population/turkey-population/\">Turkey</a></td> <td style=\"font-weight: bold;\">85,816,199</td> <td>0.56 %</td> <td>474,958</td> <td>112</td> <td>769,630</td> <td>-318,067</td> <td>1.9</td> <td>32</td> <td>77 %</td> <td>1.07 %</td> </tr> <tr> <td>19</td> <td style=\"font-weight: bold; font-size:15px; text-align:left\"><a href=\"/world-population/germany-population/\">Germany</a></td> <td style=\"font-weight: bold;\">83,294,633</td> <td>-0.09 %</td> <td>-75,210</td> <td>239</td> <td>348,560</td> <td>155,751</td> <td>1.5</td> <td>45</td> <td>77 %</td> <td>1.04 %</td> </tr> <tr> <td>20</td> <td style=\"font-weight: bold; font-size:15px; text-align:left\"><a href=\"/world-population/thailand-population/\">Thailand</a></td> <td style=\"font-weight: bold;\">71,801,279</td> <td>0.15 %</td> <td>104,249</td> <td>141</td> <td>510,890</td> <td>18,999</td> <td>1.3</td> <td>40</td> <td>52 %</td> <td>0.89 %</td> </tr> <tr> <td>21</td> <td style=\"font-weight: bold; font-size:15px; text-align:left\"><a href=\"/world-population/uk-population/\">United Kingdom</a></td> <td style=\"font-weight: bold;\">67,736,802</td> <td>0.34 %</td> <td>227,866</td> <td>280</td> <td>241,930</td> <td>165,790</td> <td>1.6</td> <td>40</td> <td>85 %</td> <td>0.84 %</td> </tr> <tr> <td>22</td> <td style=\"font-weight: bold; font-size:15px; text-align:left\"><a href=\"/world-population/tanzania-population/\">Tanzania</a></td> <td style=\"font-weight: bold;\">67,438,106</td> <td>2.96 %</td> <td>1,940,358</td> <td>76</td> <td>885,800</td> <td>-39,997</td> <td>4.6</td> <td>17</td> <td>38 %</td> <td>0.84 %</td> </tr> <tr> <td>23</td> <td style=\"font-weight: bold; font-size:15px; text-align:left\"><a href=\"/world-population/france-population/\">France</a></td> <td style=\"font-weight: bold;\">64,756,584</td> <td>0.20 %</td> <td>129,956</td> <td>118</td> <td>547,557</td> <td>67,761</td> <td>1.8</td> <td>42</td> <td>84 %</td> <td>0.80 %</td> </tr> <tr> <td>24</td> <td style=\"font-weight: bold; font-size:15px; text-align:left\"><a href=\"/world-population/south-africa-population/\">South Africa</a></td> <td style=\"font-weight: bold;\">60,414,495</td> <td>0.87 %</td> <td>520,610</td> <td>50</td> <td>1,213,090</td> <td>58,496</td> <td>2.3</td> <td>28</td> <td>69 %</td> <td>0.75 %</td> </tr> <tr> <td>25</td> <td style=\"font-weight: bold; font-size:15px; text-align:left\"><a href=\"/world-population/italy-population/\">Italy</a></td> <td style=\"font-weight: bold;\">58,870,762</td> <td>-0.28 %</td> <td>-166,712</td> <td>200</td> <td>294,140</td> <td>58,496</td> <td>1.3</td> <td>48</td> <td>72 %</td> <td>0.73 %</td> </tr> <tr> <td>26</td> <td style=\"font-weight: bold; font-size:15px; text-align:left\"><a href=\"/world-population/kenya-population/\">Kenya</a></td> <td style=\"font-weight: bold;\">55,100,586</td> <td>1.99 %</td> <td>1,073,099</td> <td>97</td> <td>569,140</td> <td>-10,000</td> <td>3.2</td> <td>20</td> <td>31 %</td> <td>0.68 %</td> </tr> <tr> <td>27</td> <td style=\"font-weight: bold; font-size:15px; text-align:left\"><a href=\"/world-population/myanmar-population/\">Myanmar</a></td> <td style=\"font-weight: bold;\">54,577,997</td> <td>0.74 %</td> <td>398,691</td> <td>84</td> <td>653,290</td> <td>-34,998</td> <td>2.1</td> <td>30</td> <td>33 %</td> <td>0.68 %</td> </tr> <tr> <td>28</td> <td style=\"font-weight: bold; font-size:15px; text-align:left\"><a href=\"/world-population/colombia-population/\">Colombia</a></td> <td style=\"font-weight: bold;\">52,085,168</td> <td>0.41 %</td> <td>211,144</td> <td>47</td> <td>1,109,500</td> <td>-175,051</td> <td>1.7</td> <td>32</td> <td>81 %</td> <td>0.65 %</td> </tr> <tr> <td>29</td> <td style=\"font-weight: bold; font-size:15px; text-align:left\"><a href=\"/world-population/south-korea-population/\">South Korea</a></td> <td style=\"font-weight: bold;\">51,784,059</td> <td>-0.06 %</td> <td>-31,751</td> <td>533</td> <td>97,230</td> <td>29,998</td> <td>0.9</td> <td>44</td> <td>82 %</td> <td>0.64 %</td> </tr> <tr> <td>30</td> <td style=\"font-weight: bold; font-size:15px; text-align:left\"><a href=\"/world-population/uganda-population/\">Uganda</a></td> <td style=\"font-weight: bold;\">48,582,334</td> <td>2.82 %</td> <td>1,332,749</td> <td>243</td> <td>199,810</td> <td>-126,181</td> <td>4.4</td> <td>16</td> <td>29 %</td> <td>0.60 %</td> </tr> <tr> <td>31</td> <td style=\"font-weight: bold; font-size:15px; text-align:left\"><a href=\"/world-population/sudan-population/\">Sudan</a></td> <td style=\"font-weight: bold;\">48,109,006</td> <td>2.63 %</td> <td>1,234,802</td> <td>27</td> <td>1,765,048</td> <td>-9,999</td> <td>4.3</td> <td>19</td> <td>35 %</td> <td>0.60 %</td> </tr> <tr> <td>32</td> <td style=\"font-weight: bold; font-size:15px; text-align:left\"><a href=\"/world-population/spain-population/\">Spain</a></td> <td style=\"font-weight: bold;\">47,519,628</td> <td>-0.08 %</td> <td>-39,002</td> <td>95</td> <td>498,800</td> <td>39,998</td> <td>1.3</td> <td>45</td> <td>80 %</td> <td>0.59 %</td> </tr> <tr> <td>33</td> <td style=\"font-weight: bold; font-size:15px; text-align:left\"><a href=\"/world-population/argentina-population/\">Argentina</a></td> <td style=\"font-weight: bold;\">45,773,884</td> <td>0.58 %</td> <td>263,566</td> <td>17</td> <td>2,736,690</td> <td>3,718</td> <td>1.9</td> <td>32</td> <td>94 %</td> <td>0.57 %</td> </tr> <tr> <td>34</td> <td style=\"font-weight: bold; font-size:15px; text-align:left\"><a href=\"/world-population/algeria-population/\">Algeria</a></td> <td style=\"font-weight: bold;\">45,606,480</td> <td>1.57 %</td> <td>703,255</td> <td>19</td> <td>2,381,740</td> <td>-9,999</td> <td>2.8</td> <td>28</td> <td>75 %</td> <td>0.57 %</td> </tr> <tr> <td>35</td> <td style=\"font-weight: bold; font-size:15px; text-align:left\"><a href=\"/world-population/iraq-population/\">Iraq</a></td> <td style=\"font-weight: bold;\">45,504,560</td> <td>2.27 %</td> <td>1,008,438</td> <td>105</td> <td>434,320</td> <td>-6,000</td> <td>3.4</td> <td>20</td> <td>71 %</td> <td>0.57 %</td> </tr> <tr> <td>36</td> <td style=\"font-weight: bold; font-size:15px; text-align:left\"><a href=\"/world-population/afghanistan-population/\">Afghanistan</a></td> <td style=\"font-weight: bold;\">42,239,854</td> <td>2.70 %</td> <td>1,111,083</td> <td>65</td> <td>652,860</td> <td>-65,846</td> <td>4.4</td> <td>17</td> <td>26 %</td> <td>0.53 %</td> </tr> <tr> <td>37</td> <td style=\"font-weight: bold; font-size:15px; text-align:left\"><a href=\"/world-population/poland-population/\">Poland</a></td> <td style=\"font-weight: bold;\">41,026,067</td> <td>2.93 %</td> <td>1,168,922</td> <td>134</td> <td>306,230</td> <td>-910,475</td> <td>1.5</td> <td>40</td> <td>55 %</td> <td>0.51 %</td> </tr> <tr> <td>38</td> <td style=\"font-weight: bold; font-size:15px; text-align:left\"><a href=\"/world-population/canada-population/\">Canada</a></td> <td style=\"font-weight: bold;\">38,781,291</td> <td>0.85 %</td> <td>326,964</td> <td>4</td> <td>9,093,510</td> <td>249,746</td> <td>1.5</td> <td>41</td> <td>81 %</td> <td>0.48 %</td> </tr> <tr> <td>39</td> <td style=\"font-weight: bold; font-size:15px; text-align:left\"><a href=\"/world-population/morocco-population/\">Morocco</a></td> <td style=\"font-weight: bold;\">37,840,044</td> <td>1.02 %</td> <td>382,073</td> <td>85</td> <td>446,300</td> <td>-39,998</td> <td>2.3</td> <td>29</td> <td>66 %</td> <td>0.47 %</td> </tr> <tr> <td>40</td> <td style=\"font-weight: bold; font-size:15px; text-align:left\"><a href=\"/world-population/saudi-arabia-population/\">Saudi Arabia</a></td> <td style=\"font-weight: bold;\">36,947,025</td> <td>1.48 %</td> <td>538,205</td> <td>17</td> <td>2,149,690</td> <td>28,998</td> <td>2.4</td> <td>31</td> <td>83 %</td> <td>0.46 %</td> </tr> <tr> <td>41</td> <td style=\"font-weight: bold; font-size:15px; text-align:left\"><a href=\"/world-population/ukraine-population/\">Ukraine</a></td> <td style=\"font-weight: bold;\">36,744,634</td> <td>-7.45 %</td> <td>-2,957,105</td> <td>63</td> <td>579,320</td> <td>1,784,718</td> <td>1.3</td> <td>45</td> <td>82 %</td> <td>0.46 %</td> </tr> <tr> <td>42</td> <td style=\"font-weight: bold; font-size:15px; text-align:left\"><a href=\"/world-population/angola-population/\">Angola</a></td> <td style=\"font-weight: bold;\">36,684,202</td> <td>3.08 %</td> <td>1,095,215</td> <td>29</td> <td>1,246,700</td> <td>-1,000</td> <td>5.1</td> <td>16</td> <td>68 %</td> <td>0.46 %</td> </tr> <tr> <td>43</td> <td style=\"font-weight: bold; font-size:15px; text-align:left\"><a href=\"/world-population/uzbekistan-population/\">Uzbekistan</a></td> <td style=\"font-weight: bold;\">35,163,944</td> <td>1.55 %</td> <td>536,292</td> <td>83</td> <td>425,400</td> <td>-19,999</td> <td>2.8</td> <td>27</td> <td>49 %</td> <td>0.44 %</td> </tr> <tr> <td>44</td> <td style=\"font-weight: bold; font-size:15px; text-align:left\"><a href=\"/world-population/yemen-population/\">Yemen</a></td> <td style=\"font-weight: bold;\">34,449,825</td> <td>2.24 %</td> <td>753,211</td> <td>65</td> <td>527,970</td> <td>-29,914</td> <td>3.6</td> <td>19</td> <td>37 %</td> <td>0.43 %</td> </tr> <tr> <td>45</td> <td style=\"font-weight: bold; font-size:15px; text-align:left\"><a href=\"/world-population/peru-population/\">Peru</a></td> <td style=\"font-weight: bold;\">34,352,719</td> <td>0.89 %</td> <td>303,131</td> <td>27</td> <td>1,280,000</td> <td>-61,442</td> <td>2.1</td> <td>29</td> <td>79 %</td> <td>0.43 %</td> </tr> <tr> <td>46</td> <td style=\"font-weight: bold; font-size:15px; text-align:left\"><a href=\"/world-population/malaysia-population/\">Malaysia</a></td> <td style=\"font-weight: bold;\">34,308,525</td> <td>1.09 %</td> <td>370,304</td> <td>104</td> <td>328,550</td> <td>48,997</td> <td>1.8</td> <td>31</td> <td>78 %</td> <td>0.43 %</td> </tr> <tr> <td>47</td> <td style=\"font-weight: bold; font-size:15px; text-align:left\"><a href=\"/world-population/ghana-population/\">Ghana</a></td> <td style=\"font-weight: bold;\">34,121,985</td> <td>1.93 %</td> <td>646,115</td> <td>150</td> <td>227,540</td> <td>-9,999</td> <td>3.5</td> <td>21</td> <td>57 %</td> <td>0.42 %</td> </tr> <tr> <td>48</td> <td style=\"font-weight: bold; font-size:15px; text-align:left\"><a href=\"/world-population/mozambique-population/\">Mozambique</a></td> <td style=\"font-weight: bold;\">33,897,354</td> <td>2.81 %</td> <td>927,836</td> <td>43</td> <td>786,380</td> <td>-5,000</td> <td>4.5</td> <td>17</td> <td>40 %</td> <td>0.42 %</td> </tr> <tr> <td>49</td> <td style=\"font-weight: bold; font-size:15px; text-align:left\"><a href=\"/world-population/nepal-population/\">Nepal</a></td> <td style=\"font-weight: bold;\">30,896,590</td> <td>1.14 %</td> <td>349,010</td> <td>216</td> <td>143,350</td> <td>-62,012</td> <td>2.0</td> <td>24</td> <td>22 %</td> <td>0.38 %</td> </tr> <tr> <td>50</td> <td style=\"font-weight: bold; font-size:15px; text-align:left\"><a href=\"/world-population/madagascar-population/\">Madagascar</a></td> <td style=\"font-weight: bold;\">30,325,732</td> <td>2.41 %</td> <td>714,018</td> <td>52</td> <td>581,795</td> <td>-1,500</td> <td>3.7</td> <td>19</td> <td>40 %</td> <td>0.38 %</td> </tr> <tr> <td>51</td> <td style=\"font-weight: bold; font-size:15px; text-align:left\"><a href=\"/world-population/cote-d-ivoire-population/\">Côte d'Ivoire</a></td> <td style=\"font-weight: bold;\">28,873,034</td> <td>2.53 %</td> <td>712,492</td> <td>91</td> <td>318,000</td> <td>6,000</td> <td>4.3</td> <td>18</td> <td>52 %</td> <td>0.36 %</td> </tr> <tr> <td>52</td> <td style=\"font-weight: bold; font-size:15px; text-align:left\"><a href=\"/world-population/venezuela-population/\">Venezuela</a></td> <td style=\"font-weight: bold;\">28,838,499</td> <td>1.90 %</td> <td>536,803</td> <td>33</td> <td>882,050</td> <td>321,106</td> <td>2.2</td> <td>28</td> <td>N.A.</td> <td>0.36 %</td> </tr> <tr> <td>53</td> <td style=\"font-weight: bold; font-size:15px; text-align:left\"><a href=\"/world-population/cameroon-population/\">Cameroon</a></td> <td style=\"font-weight: bold;\">28,647,293</td> <td>2.63 %</td> <td>732,757</td> <td>61</td> <td>472,710</td> <td>-4,800</td> <td>4.3</td> <td>18</td> <td>58 %</td> <td>0.36 %</td> </tr> <tr> <td>54</td> <td style=\"font-weight: bold; font-size:15px; text-align:left\"><a href=\"/world-population/niger-population/\">Niger</a></td> <td style=\"font-weight: bold;\">27,202,843</td> <td>3.80 %</td> <td>994,866</td> <td>21</td> <td>1,266,700</td> <td>1,000</td> <td>6.7</td> <td>15</td> <td>17 %</td> <td>0.34 %</td> </tr> <tr> <td>55</td> <td style=\"font-weight: bold; font-size:15px; text-align:left\"><a href=\"/world-population/australia-population/\">Australia</a></td> <td style=\"font-weight: bold;\">26,439,111</td> <td>1.00 %</td> <td>261,698</td> <td>3</td> <td>7,682,300</td> <td>139,991</td> <td>1.6</td> <td>38</td> <td>86 %</td> <td>0.33 %</td> </tr> <tr> <td>56</td> <td style=\"font-weight: bold; font-size:15px; text-align:left\"><a href=\"/world-population/north-korea-population/\">North Korea</a></td> <td style=\"font-weight: bold;\">26,160,821</td> <td>0.35 %</td> <td>91,405</td> <td>217</td> <td>120,410</td> <td>-2,000</td> <td>1.8</td> <td>36</td> <td>63 %</td> <td>0.33 %</td> </tr> <tr> <td>57</td> <td style=\"font-weight: bold; font-size:15px; text-align:left\"><a href=\"/world-population/taiwan-population/\">Taiwan</a></td> <td style=\"font-weight: bold;\">23,923,276</td> <td>0.13 %</td> <td>29,882</td> <td>676</td> <td>35,410</td> <td>23,999</td> <td>1.2</td> <td>42</td> <td>80 %</td> <td>0.30 %</td> </tr> <tr> <td>58</td> <td style=\"font-weight: bold; font-size:15px; text-align:left\"><a href=\"/world-population/mali-population/\">Mali</a></td> <td style=\"font-weight: bold;\">23,293,698</td> <td>3.10 %</td> <td>700,108</td> <td>19</td> <td>1,220,190</td> <td>-39,998</td> <td>5.8</td> <td>15</td> <td>44 %</td> <td>0.29 %</td> </tr> <tr> <td>59</td> <td style=\"font-weight: bold; font-size:15px; text-align:left\"><a href=\"/world-population/burkina-faso-population/\">Burkina Faso</a></td> <td style=\"font-weight: bold;\">23,251,485</td> <td>2.55 %</td> <td>577,723</td> <td>85</td> <td>273,600</td> <td>-24,998</td> <td>4.6</td> <td>17</td> <td>32 %</td> <td>0.29 %</td> </tr> <tr> <td>60</td> <td style=\"font-weight: bold; font-size:15px; text-align:left\"><a href=\"/world-population/syria-population/\">Syria</a></td> <td style=\"font-weight: bold;\">23,227,014</td> <td>4.98 %</td> <td>1,101,765</td> <td>126</td> <td>183,630</td> <td>757,103</td> <td>2.7</td> <td>22</td> <td>53 %</td> <td>0.29 %</td> </tr> <tr> <td>61</td> <td style=\"font-weight: bold; font-size:15px; text-align:left\"><a href=\"/world-population/sri-lanka-population/\">Sri Lanka</a></td> <td style=\"font-weight: bold;\">21,893,579</td> <td>0.28 %</td> <td>61,436</td> <td>349</td> <td>62,710</td> <td>-77,495</td> <td>2.0</td> <td>33</td> <td>19 %</td> <td>0.27 %</td> </tr> <tr> <td>62</td> <td style=\"font-weight: bold; font-size:15px; text-align:left\"><a href=\"/world-population/malawi-population/\">Malawi</a></td> <td style=\"font-weight: bold;\">20,931,751</td> <td>2.58 %</td> <td>526,434</td> <td>222</td> <td>94,280</td> <td>-6,000</td> <td>3.8</td> <td>17</td> <td>19 %</td> <td>0.26 %</td> </tr> <tr> <td>63</td> <td style=\"font-weight: bold; font-size:15px; text-align:left\"><a href=\"/world-population/zambia-population/\">Zambia</a></td> <td style=\"font-weight: bold;\">20,569,737</td> <td>2.76 %</td> <td>552,062</td> <td>28</td> <td>743,390</td> <td>-5,000</td> <td>4.2</td> <td>17</td> <td>46 %</td> <td>0.26 %</td> </tr> <tr> <td>64</td> <td style=\"font-weight: bold; font-size:15px; text-align:left\"><a href=\"/world-population/romania-population/\">Romania</a></td> <td style=\"font-weight: bold;\">19,892,812</td> <td>1.19 %</td> <td>233,545</td> <td>86</td> <td>230,170</td> <td>-254,616</td> <td>1.7</td> <td>41</td> <td>53 %</td> <td>0.25 %</td> </tr> <tr> <td>65</td> <td style=\"font-weight: bold; font-size:15px; text-align:left\"><a href=\"/world-population/chile-population/\">Chile</a></td> <td style=\"font-weight: bold;\">19,629,590</td> <td>0.13 %</td> <td>25,857</td> <td>26</td> <td>743,532</td> <td>-71,205</td> <td>1.5</td> <td>36</td> <td>85 %</td> <td>0.24 %</td> </tr> <tr> <td>66</td> <td style=\"font-weight: bold; font-size:15px; text-align:left\"><a href=\"/world-population/kazakhstan-population/\">Kazakhstan</a></td> <td style=\"font-weight: bold;\">19,606,633</td> <td>1.08 %</td> <td>208,635</td> <td>7</td> <td>2,699,700</td> <td>0</td> <td>3.0</td> <td>30</td> <td>57 %</td> <td>0.24 %</td> </tr> <tr> <td>67</td> <td style=\"font-weight: bold; font-size:15px; text-align:left\"><a href=\"/world-population/chad-population/\">Chad</a></td> <td style=\"font-weight: bold;\">18,278,568</td> <td>3.13 %</td> <td>555,253</td> <td>15</td> <td>1,259,200</td> <td>-2,000</td> <td>6.1</td> <td>15</td> <td>24 %</td> <td>0.23 %</td> </tr> <tr> <td>68</td> <td style=\"font-weight: bold; font-size:15px; text-align:left\"><a href=\"/world-population/ecuador-population/\">Ecuador</a></td> <td style=\"font-weight: bold;\">18,190,484</td> <td>1.05 %</td> <td>189,484</td> <td>73</td> <td>248,360</td> <td>-21,525</td> <td>2.0</td> <td>28</td> <td>64 %</td> <td>0.23 %</td> </tr> <tr> <td>69</td> <td style=\"font-weight: bold; font-size:15px; text-align:left\"><a href=\"/world-population/somalia-population/\">Somalia</a></td> <td style=\"font-weight: bold;\">18,143,378</td> <td>3.10 %</td> <td>545,867</td> <td>29</td> <td>627,340</td> <td>-30,000</td> <td>6.1</td> <td>15</td> <td>46 %</td> <td>0.23 %</td> </tr> <tr> <td>70</td> <td style=\"font-weight: bold; font-size:15px; text-align:left\"><a href=\"/world-population/guatemala-population/\">Guatemala</a></td> <td style=\"font-weight: bold;\">18,092,026</td> <td>1.39 %</td> <td>248,118</td> <td>169</td> <td>107,160</td> <td>-9,110</td> <td>2.3</td> <td>23</td> <td>55 %</td> <td>0.22 %</td> </tr> <tr> <td>71</td> <td style=\"font-weight: bold; font-size:15px; text-align:left\"><a href=\"/world-population/senegal-population/\">Senegal</a></td> <td style=\"font-weight: bold;\">17,763,163</td> <td>2.58 %</td> <td>446,714</td> <td>92</td> <td>192,530</td> <td>-19,999</td> <td>4.3</td> <td>18</td> <td>52 %</td> <td>0.22 %</td> </tr> <tr> <td>72</td> <td style=\"font-weight: bold; font-size:15px; text-align:left\"><a href=\"/world-population/netherlands-population/\">Netherlands</a></td> <td style=\"font-weight: bold;\">17,618,299</td> <td>0.31 %</td> <td>54,285</td> <td>522</td> <td>33,720</td> <td>29,998</td> <td>1.6</td> <td>42</td> <td>92 %</td> <td>0.22 %</td> </tr> <tr> <td>73</td> <td style=\"font-weight: bold; font-size:15px; text-align:left\"><a href=\"/world-population/cambodia-population/\">Cambodia</a></td> <td style=\"font-weight: bold;\">16,944,826</td> <td>1.06 %</td> <td>176,984</td> <td>96</td> <td>176,520</td> <td>-29,998</td> <td>2.3</td> <td>27</td> <td>26 %</td> <td>0.21 %</td> </tr> <tr> <td>74</td> <td style=\"font-weight: bold; font-size:15px; text-align:left\"><a href=\"/world-population/zimbabwe-population/\">Zimbabwe</a></td> <td style=\"font-weight: bold;\">16,665,409</td> <td>2.11 %</td> <td>344,872</td> <td>43</td> <td>386,850</td> <td>-9,999</td> <td>3.4</td> <td>18</td> <td>37 %</td> <td>0.21 %</td> </tr> <tr> <td>75</td> <td style=\"font-weight: bold; font-size:15px; text-align:left\"><a href=\"/world-population/guinea-population/\">Guinea</a></td> <td style=\"font-weight: bold;\">14,190,612</td> <td>2.39 %</td> <td>331,271</td> <td>58</td> <td>245,720</td> <td>-4,000</td> <td>4.2</td> <td>18</td> <td>40 %</td> <td>0.18 %</td> </tr> <tr> <td>76</td> <td style=\"font-weight: bold; font-size:15px; text-align:left\"><a href=\"/world-population/rwanda-population/\">Rwanda</a></td> <td style=\"font-weight: bold;\">14,094,683</td> <td>2.31 %</td> <td>317,985</td> <td>571</td> <td>24,670</td> <td>-8,999</td> <td>3.7</td> <td>19</td> <td>18 %</td> <td>0.18 %</td> </tr> <tr> <td>77</td> <td style=\"font-weight: bold; font-size:15px; text-align:left\"><a href=\"/world-population/benin-population/\">Benin</a></td> <td style=\"font-weight: bold;\">13,712,828</td> <td>2.70 %</td> <td>359,964</td> <td>122</td> <td>112,760</td> <td>-200</td> <td>4.8</td> <td>18</td> <td>48 %</td> <td>0.17 %</td> </tr> <tr> <td>78</td> <td style=\"font-weight: bold; font-size:15px; text-align:left\"><a href=\"/world-population/burundi-population/\">Burundi</a></td> <td style=\"font-weight: bold;\">13,238,559</td> <td>2.71 %</td> <td>348,983</td> <td>516</td> <td>25,680</td> <td>2,000</td> <td>4.9</td> <td>16</td> <td>15 %</td> <td>0.16 %</td> </tr> <tr> <td>79</td> <td style=\"font-weight: bold; font-size:15px; text-align:left\"><a href=\"/world-population/tunisia-population/\">Tunisia</a></td> <td style=\"font-weight: bold;\">12,458,223</td> <td>0.83 %</td> <td>102,106</td> <td>80</td> <td>155,360</td> <td>-4,000</td> <td>2.0</td> <td>32</td> <td>69 %</td> <td>0.15 %</td> </tr> <tr> <td>80</td> <td style=\"font-weight: bold; font-size:15px; text-align:left\"><a href=\"/world-population/bolivia-population/\">Bolivia</a></td> <td style=\"font-weight: bold;\">12,388,571</td> <td>1.35 %</td> <td>164,461</td> <td>11</td> <td>1,083,300</td> <td>-3,000</td> <td>2.5</td> <td>24</td> <td>69 %</td> <td>0.15 %</td> </tr> <tr> <td>81</td> <td style=\"font-weight: bold; font-size:15px; text-align:left\"><a href=\"/world-population/haiti-population/\">Haiti</a></td> <td style=\"font-weight: bold;\">11,724,763</td> <td>1.21 %</td> <td>139,767</td> <td>425</td> <td>27,560</td> <td>-31,811</td> <td>2.7</td> <td>23</td> <td>60 %</td> <td>0.15 %</td> </tr> <tr> <td>82</td> <td style=\"font-weight: bold; font-size:15px; text-align:left\"><a href=\"/world-population/belgium-population/\">Belgium</a></td> <td style=\"font-weight: bold;\">11,686,140</td> <td>0.26 %</td> <td>30,210</td> <td>386</td> <td>30,280</td> <td>23,999</td> <td>1.6</td> <td>41</td> <td>99 %</td> <td>0.15 %</td> </tr> <tr> <td>83</td> <td style=\"font-weight: bold; font-size:15px; text-align:left\"><a href=\"/world-population/jordan-population/\">Jordan</a></td> <td style=\"font-weight: bold;\">11,337,052</td> <td>0.45 %</td> <td>51,183</td> <td>128</td> <td>88,780</td> <td>-157,392</td> <td>2.7</td> <td>24</td> <td>85 %</td> <td>0.14 %</td> </tr> <tr> <td>84</td> <td style=\"font-weight: bold; font-size:15px; text-align:left\"><a href=\"/world-population/dominican-republic-population/\">Dominican Republic</a></td> <td style=\"font-weight: bold;\">11,332,972</td> <td>0.93 %</td> <td>104,151</td> <td>235</td> <td>48,320</td> <td>-29,099</td> <td>2.2</td> <td>28</td> <td>85 %</td> <td>0.14 %</td> </tr> <tr> <td>85</td> <td style=\"font-weight: bold; font-size:15px; text-align:left\"><a href=\"/world-population/cuba-population/\">Cuba</a></td> <td style=\"font-weight: bold;\">11,194,449</td> <td>-0.16 %</td> <td>-17,742</td> <td>105</td> <td>106,440</td> <td>-6,000</td> <td>1.5</td> <td>41</td> <td>80 %</td> <td>0.14 %</td> </tr> <tr> <td>86</td> <td style=\"font-weight: bold; font-size:15px; text-align:left\"><a href=\"/world-population/south-sudan-population/\">South Sudan</a></td> <td style=\"font-weight: bold;\">11,088,796</td> <td>1.61 %</td> <td>175,632</td> <td>18</td> <td>610,952</td> <td>-23,291</td> <td>4.3</td> <td>17</td> <td>28 %</td> <td>0.14 %</td> </tr> <tr> <td>87</td> <td style=\"font-weight: bold; font-size:15px; text-align:left\"><a href=\"/world-population/sweden-population/\">Sweden</a></td> <td style=\"font-weight: bold;\">10,612,086</td> <td>0.59 %</td> <td>62,739</td> <td>26</td> <td>410,340</td> <td>39,998</td> <td>1.7</td> <td>40</td> <td>86 %</td> <td>0.13 %</td> </tr> <tr> <td>88</td> <td style=\"font-weight: bold; font-size:15px; text-align:left\"><a href=\"/world-population/honduras-population/\">Honduras</a></td> <td style=\"font-weight: bold;\">10,593,798</td> <td>1.54 %</td> <td>160,938</td> <td>95</td> <td>111,890</td> <td>-5,034</td> <td>2.3</td> <td>24</td> <td>58 %</td> <td>0.13 %</td> </tr> <tr> <td>89</td> <td style=\"font-weight: bold; font-size:15px; text-align:left\"><a href=\"/world-population/czech-republic-population/\">Czech Republic (Czechia)</a></td> <td style=\"font-weight: bold;\">10,495,295</td> <td>0.01 %</td> <td>1,309</td> <td>136</td> <td>77,240</td> <td>22,011</td> <td>1.7</td> <td>43</td> <td>75 %</td> <td>0.13 %</td> </tr> <tr> <td>90</td> <td style=\"font-weight: bold; font-size:15px; text-align:left\"><a href=\"/world-population/azerbaijan-population/\">Azerbaijan</a></td> <td style=\"font-weight: bold;\">10,412,651</td> <td>0.53 %</td> <td>54,577</td> <td>126</td> <td>82,658</td> <td>0</td> <td>1.7</td> <td>32</td> <td>57 %</td> <td>0.13 %</td> </tr> <tr> <td>91</td> <td style=\"font-weight: bold; font-size:15px; text-align:left\"><a href=\"/world-population/greece-population/\">Greece</a></td> <td style=\"font-weight: bold;\">10,341,277</td> <td>-0.42 %</td> <td>-43,694</td> <td>80</td> <td>128,900</td> <td>5,000</td> <td>1.4</td> <td>45</td> <td>86 %</td> <td>0.13 %</td> </tr> <tr> <td>92</td> <td style=\"font-weight: bold; font-size:15px; text-align:left\"><a href=\"/world-population/papua-new-guinea-population/\">Papua New Guinea</a></td> <td style=\"font-weight: bold;\">10,329,931</td> <td>1.85 %</td> <td>187,312</td> <td>23</td> <td>452,860</td> <td>-800</td> <td>3.1</td> <td>22</td> <td>12 %</td> <td>0.13 %</td> </tr> <tr> <td>93</td> <td style=\"font-weight: bold; font-size:15px; text-align:left\"><a href=\"/world-population/portugal-population/\">Portugal</a></td> <td style=\"font-weight: bold;\">10,247,605</td> <td>-0.23 %</td> <td>-23,260</td> <td>112</td> <td>91,590</td> <td>9,999</td> <td>1.4</td> <td>46</td> <td>67 %</td> <td>0.13 %</td> </tr> <tr> <td>94</td> <td style=\"font-weight: bold; font-size:15px; text-align:left\"><a href=\"/world-population/hungary-population/\">Hungary</a></td> <td style=\"font-weight: bold;\">10,156,239</td> <td>1.90 %</td> <td>188,931</td> <td>112</td> <td>90,530</td> <td>-156,677</td> <td>1.6</td> <td>42</td> <td>68 %</td> <td>0.13 %</td> </tr> <tr> <td>95</td> <td style=\"font-weight: bold; font-size:15px; text-align:left\"><a href=\"/world-population/tajikistan-population/\">Tajikistan</a></td> <td style=\"font-weight: bold;\">10,143,543</td> <td>1.92 %</td> <td>190,756</td> <td>72</td> <td>139,960</td> <td>-19,999</td> <td>3.1</td> <td>22</td> <td>28 %</td> <td>0.13 %</td> </tr> <tr> <td>96</td> <td style=\"font-weight: bold; font-size:15px; text-align:left\"><a href=\"/world-population/united-arab-emirates-population/\">United Arab Emirates</a></td> <td style=\"font-weight: bold;\">9,516,871</td> <td>0.80 %</td> <td>75,742</td> <td>114</td> <td>83,600</td> <td>0</td> <td>1.4</td> <td>34</td> <td>94 %</td> <td>0.12 %</td> </tr> <tr> <td>97</td> <td style=\"font-weight: bold; font-size:15px; text-align:left\"><a href=\"/world-population/belarus-population/\">Belarus</a></td> <td style=\"font-weight: bold;\">9,498,238</td> <td>-0.39 %</td> <td>-36,716</td> <td>47</td> <td>202,910</td> <td>-4,282</td> <td>1.5</td> <td>41</td> <td>80 %</td> <td>0.12 %</td> </tr> <tr> <td>98</td> <td style=\"font-weight: bold; font-size:15px; text-align:left\"><a href=\"/world-population/israel-population/\">Israel</a></td> <td style=\"font-weight: bold;\">9,174,520</td> <td>1.51 %</td> <td>136,211</td> <td>424</td> <td>21,640</td> <td>9,999</td> <td>2.9</td> <td>29</td> <td>92 %</td> <td>0.11 %</td> </tr> <tr> <td>99</td> <td style=\"font-weight: bold; font-size:15px; text-align:left\"><a href=\"/world-population/togo-population/\">Togo</a></td> <td style=\"font-weight: bold;\">9,053,799</td> <td>2.32 %</td> <td>205,100</td> <td>166</td> <td>54,390</td> <td>-2,000</td> <td>4.1</td> <td>19</td> <td>44 %</td> <td>0.11 %</td> </tr> <tr> <td>100</td> <td style=\"font-weight: bold; font-size:15px; text-align:left\"><a href=\"/world-population/austria-population/\">Austria</a></td> <td style=\"font-weight: bold;\">8,958,960</td> <td>0.22 %</td> <td>19,343</td> <td>109</td> <td>82,409</td> <td>19,999</td> <td>1.5</td> <td>43</td> <td>59 %</td> <td>0.11 %</td> </tr> <tr> <td>101</td> <td style=\"font-weight: bold; font-size:15px; text-align:left\"><a href=\"/world-population/switzerland-population/\">Switzerland</a></td> <td style=\"font-weight: bold;\">8,796,669</td> <td>0.64 %</td> <td>56,197</td> <td>223</td> <td>39,516</td> <td>39,998</td> <td>1.5</td> <td>42</td> <td>75 %</td> <td>0.11 %</td> </tr> <tr> <td>102</td> <td style=\"font-weight: bold; font-size:15px; text-align:left\"><a href=\"/world-population/sierra-leone-population/\">Sierra Leone</a></td> <td style=\"font-weight: bold;\">8,791,092</td> <td>2.15 %</td> <td>185,374</td> <td>122</td> <td>72,180</td> <td>-4,000</td> <td>3.8</td> <td>19</td> <td>43 %</td> <td>0.11 %</td> </tr> <tr> <td>103</td> <td style=\"font-weight: bold; font-size:15px; text-align:left\"><a href=\"/world-population/laos-population/\">Laos</a></td> <td style=\"font-weight: bold;\">7,633,779</td> <td>1.39 %</td> <td>104,304</td> <td>33</td> <td>230,800</td> <td>-9,999</td> <td>2.4</td> <td>24</td> <td>37 %</td> <td>0.09 %</td> </tr> <tr> <td>104</td> <td style=\"font-weight: bold; font-size:15px; text-align:left\"><a href=\"/world-population/china-hong-kong-sar-population/\">Hong Kong</a></td> <td style=\"font-weight: bold;\">7,491,609</td> <td>0.04 %</td> <td>2,744</td> <td>7,135</td> <td>1,050</td> <td>19,999</td> <td>0.8</td> <td>46</td> <td>N.A.</td> <td>0.09 %</td> </tr> <tr> <td>105</td> <td style=\"font-weight: bold; font-size:15px; text-align:left\"><a href=\"/world-population/serbia-population/\">Serbia</a></td> <td style=\"font-weight: bold;\">7,149,077</td> <td>-1.00 %</td> <td>-72,288</td> <td>82</td> <td>87,460</td> <td>-9,999</td> <td>1.5</td> <td>43</td> <td>69 %</td> <td>0.09 %</td> </tr> <tr> <td>106</td> <td style=\"font-weight: bold; font-size:15px; text-align:left\"><a href=\"/world-population/nicaragua-population/\">Nicaragua</a></td> <td style=\"font-weight: bold;\">7,046,310</td> <td>1.41 %</td> <td>97,918</td> <td>59</td> <td>120,340</td> <td>-8,000</td> <td>2.3</td> <td>25</td> <td>56 %</td> <td>0.09 %</td> </tr> <tr> <td>107</td> <td style=\"font-weight: bold; font-size:15px; text-align:left\"><a href=\"/world-population/libya-population/\">Libya</a></td> <td style=\"font-weight: bold;\">6,888,388</td> <td>1.12 %</td> <td>76,047</td> <td>4</td> <td>1,759,540</td> <td>-2,000</td> <td>2.4</td> <td>27</td> <td>82 %</td> <td>0.09 %</td> </tr> <tr> <td>108</td> <td style=\"font-weight: bold; font-size:15px; text-align:left\"><a href=\"/world-population/paraguay-population/\">Paraguay</a></td> <td style=\"font-weight: bold;\">6,861,524</td> <td>1.19 %</td> <td>80,780</td> <td>17</td> <td>397,300</td> <td>-12,499</td> <td>2.4</td> <td>26</td> <td>67 %</td> <td>0.09 %</td> </tr> <tr> <td>109</td> <td style=\"font-weight: bold; font-size:15px; text-align:left\"><a href=\"/world-population/kyrgyzstan-population/\">Kyrgyzstan</a></td> <td style=\"font-weight: bold;\">6,735,347</td> <td>1.58 %</td> <td>104,724</td> <td>35</td> <td>191,800</td> <td>-9,999</td> <td>2.9</td> <td>24</td> <td>37 %</td> <td>0.08 %</td> </tr> <tr> <td>110</td> <td style=\"font-weight: bold; font-size:15px; text-align:left\"><a href=\"/world-population/bulgaria-population/\">Bulgaria</a></td> <td style=\"font-weight: bold;\">6,687,717</td> <td>-1.39 %</td> <td>-94,236</td> <td>62</td> <td>108,560</td> <td>-4,800</td> <td>1.6</td> <td>45</td> <td>78 %</td> <td>0.08 %</td> </tr> <tr> <td>111</td> <td style=\"font-weight: bold; font-size:15px; text-align:left\"><a href=\"/world-population/turkmenistan-population/\">Turkmenistan</a></td> <td style=\"font-weight: bold;\">6,516,100</td> <td>1.33 %</td> <td>85,330</td> <td>14</td> <td>469,930</td> <td>-4,000</td> <td>2.6</td> <td>26</td> <td>52 %</td> <td>0.08 %</td> </tr> <tr> <td>112</td> <td style=\"font-weight: bold; font-size:15px; text-align:left\"><a href=\"/world-population/el-salvador-population/\">El Salvador</a></td> <td style=\"font-weight: bold;\">6,364,943</td> <td>0.45 %</td> <td>28,551</td> <td>307</td> <td>20,720</td> <td>-23,249</td> <td>1.8</td> <td>27</td> <td>78 %</td> <td>0.08 %</td> </tr> <tr> <td>113</td> <td style=\"font-weight: bold; font-size:15px; text-align:left\"><a href=\"/world-population/congo-population/\">Congo</a></td> <td style=\"font-weight: bold;\">6,106,869</td> <td>2.29 %</td> <td>136,445</td> <td>18</td> <td>341,500</td> <td>-1,000</td> <td>4.0</td> <td>18</td> <td>70 %</td> <td>0.08 %</td> </tr> <tr> <td>114</td> <td style=\"font-weight: bold; font-size:15px; text-align:left\"><a href=\"/world-population/singapore-population/\">Singapore</a></td> <td style=\"font-weight: bold;\">6,014,723</td> <td>0.65 %</td> <td>39,034</td> <td>8,592</td> <td>700</td> <td>26,998</td> <td>1.0</td> <td>43</td> <td>N.A.</td> <td>0.07 %</td> </tr> <tr> <td>115</td> <td style=\"font-weight: bold; font-size:15px; text-align:left\"><a href=\"/world-population/denmark-population/\">Denmark</a></td> <td style=\"font-weight: bold;\">5,910,913</td> <td>0.49 %</td> <td>28,652</td> <td>139</td> <td>42,430</td> <td>19,999</td> <td>1.7</td> <td>41</td> <td>88 %</td> <td>0.07 %</td> </tr> <tr> <td>116</td> <td style=\"font-weight: bold; font-size:15px; text-align:left\"><a href=\"/world-population/slovakia-population/\">Slovakia</a></td> <td style=\"font-weight: bold;\">5,795,199</td> <td>2.69 %</td> <td>151,746</td> <td>121</td> <td>48,088</td> <td>-112,067</td> <td>1.6</td> <td>40</td> <td>51 %</td> <td>0.07 %</td> </tr> <tr> <td>117</td> <td style=\"font-weight: bold; font-size:15px; text-align:left\"><a href=\"/world-population/central-african-republic-population/\">Central African Republic</a></td> <td style=\"font-weight: bold;\">5,742,315</td> <td>2.92 %</td> <td>163,171</td> <td>9</td> <td>622,980</td> <td>-14,716</td> <td>5.8</td> <td>15</td> <td>40 %</td> <td>0.07 %</td> </tr> <tr> <td>118</td> <td style=\"font-weight: bold; font-size:15px; text-align:left\"><a href=\"/world-population/finland-population/\">Finland</a></td> <td style=\"font-weight: bold;\">5,545,475</td> <td>0.09 %</td> <td>4,730</td> <td>18</td> <td>303,890</td> <td>13,999</td> <td>1.4</td> <td>43</td> <td>87 %</td> <td>0.07 %</td> </tr> <tr> <td>119</td> <td style=\"font-weight: bold; font-size:15px; text-align:left\"><a href=\"/world-population/norway-population/\">Norway</a></td> <td style=\"font-weight: bold;\">5,474,360</td> <td>0.74 %</td> <td>40,041</td> <td>15</td> <td>365,268</td> <td>27,998</td> <td>1.5</td> <td>40</td> <td>86 %</td> <td>0.07 %</td> </tr> <tr> <td>120</td> <td style=\"font-weight: bold; font-size:15px; text-align:left\"><a href=\"/world-population/liberia-population/\">Liberia</a></td> <td style=\"font-weight: bold;\">5,418,377</td> <td>2.18 %</td> <td>115,696</td> <td>56</td> <td>96,320</td> <td>-5,000</td> <td>4.0</td> <td>18</td> <td>54 %</td> <td>0.07 %</td> </tr> <tr> <td>121</td> <td style=\"font-weight: bold; font-size:15px; text-align:left\"><a href=\"/world-population/state-of-palestine-population/\">State of Palestine</a></td> <td style=\"font-weight: bold;\">5,371,230</td> <td>2.31 %</td> <td>121,158</td> <td>892</td> <td>6,020</td> <td>-5,000</td> <td>3.4</td> <td>20</td> <td>83 %</td> <td>0.07 %</td> </tr> <tr> <td>122</td> <td style=\"font-weight: bold; font-size:15px; text-align:left\"><a href=\"/world-population/lebanon-population/\">Lebanon</a></td> <td style=\"font-weight: bold;\">5,353,930</td> <td>-2.47 %</td> <td>-135,809</td> <td>523</td> <td>10,230</td> <td>-177,331</td> <td>2.1</td> <td>29</td> <td>97 %</td> <td>0.07 %</td> </tr> <tr> <td>123</td> <td style=\"font-weight: bold; font-size:15px; text-align:left\"><a href=\"/world-population/new-zealand-population/\">New Zealand</a></td> <td style=\"font-weight: bold;\">5,228,100</td> <td>0.83 %</td> <td>42,812</td> <td>20</td> <td>263,310</td> <td>12,999</td> <td>1.8</td> <td>37</td> <td>82 %</td> <td>0.06 %</td> </tr> <tr> <td>124</td> <td style=\"font-weight: bold; font-size:15px; text-align:left\"><a href=\"/world-population/costa-rica-population/\">Costa Rica</a></td> <td style=\"font-weight: bold;\">5,212,173</td> <td>0.60 %</td> <td>31,344</td> <td>102</td> <td>51,060</td> <td>3,750</td> <td>1.5</td> <td>34</td> <td>82 %</td> <td>0.06 %</td> </tr> <tr> <td>125</td> <td style=\"font-weight: bold; font-size:15px; text-align:left\"><a href=\"/world-population/ireland-population/\">Ireland</a></td> <td style=\"font-weight: bold;\">5,056,935</td> <td>0.67 %</td> <td>33,826</td> <td>73</td> <td>68,890</td> <td>9,999</td> <td>1.8</td> <td>38</td> <td>64 %</td> <td>0.06 %</td> </tr> <tr> <td>126</td> <td style=\"font-weight: bold; font-size:15px; text-align:left\"><a href=\"/world-population/mauritania-population/\">Mauritania</a></td> <td style=\"font-weight: bold;\">4,862,989</td> <td>2.68 %</td> <td>126,850</td> <td>5</td> <td>1,030,700</td> <td>3,000</td> <td>4.3</td> <td>18</td> <td>61 %</td> <td>0.06 %</td> </tr> <tr> <td>127</td> <td style=\"font-weight: bold; font-size:15px; text-align:left\"><a href=\"/world-population/oman-population/\">Oman</a></td> <td style=\"font-weight: bold;\">4,644,384</td> <td>1.49 %</td> <td>68,086</td> <td>15</td> <td>309,500</td> <td>0</td> <td>2.5</td> <td>29</td> <td>N.A.</td> <td>0.06 %</td> </tr> <tr> <td>128</td> <td style=\"font-weight: bold; font-size:15px; text-align:left\"><a href=\"/world-population/panama-population/\">Panama</a></td> <td style=\"font-weight: bold;\">4,468,087</td> <td>1.35 %</td> <td>59,506</td> <td>60</td> <td>74,340</td> <td>7,262</td> <td>2.3</td> <td>29</td> <td>70 %</td> <td>0.06 %</td> </tr> <tr> <td>129</td> <td style=\"font-weight: bold; font-size:15px; text-align:left\"><a href=\"/world-population/kuwait-population/\">Kuwait</a></td> <td style=\"font-weight: bold;\">4,310,108</td> <td>0.97 %</td> <td>41,235</td> <td>242</td> <td>17,820</td> <td>11,999</td> <td>2.1</td> <td>40</td> <td>N.A.</td> <td>0.05 %</td> </tr> <tr> <td>130</td> <td style=\"font-weight: bold; font-size:15px; text-align:left\"><a href=\"/world-population/croatia-population/\">Croatia</a></td> <td style=\"font-weight: bold;\">4,008,617</td> <td>-0.54 %</td> <td>-21,741</td> <td>72</td> <td>55,960</td> <td>-2,000</td> <td>1.4</td> <td>44</td> <td>59 %</td> <td>0.05 %</td> </tr> <tr> <td>131</td> <td style=\"font-weight: bold; font-size:15px; text-align:left\"><a href=\"/world-population/eritrea-population/\">Eritrea</a></td> <td style=\"font-weight: bold;\">3,748,901</td> <td>1.76 %</td> <td>64,869</td> <td>37</td> <td>101,000</td> <td>-15,297</td> <td>3.7</td> <td>19</td> <td>67 %</td> <td>0.05 %</td> </tr> <tr> <td>132</td> <td style=\"font-weight: bold; font-size:15px; text-align:left\"><a href=\"/world-population/georgia-population/\">Georgia</a></td> <td style=\"font-weight: bold;\">3,728,282</td> <td>-0.43 %</td> <td>-16,103</td> <td>54</td> <td>69,490</td> <td>-9,999</td> <td>2.1</td> <td>37</td> <td>63 %</td> <td>0.05 %</td> </tr> <tr> <td>133</td> <td style=\"font-weight: bold; font-size:15px; text-align:left\"><a href=\"/world-population/mongolia-population/\">Mongolia</a></td> <td style=\"font-weight: bold;\">3,447,157</td> <td>1.44 %</td> <td>48,791</td> <td>2</td> <td>1,553,560</td> <td>-850</td> <td>2.7</td> <td>27</td> <td>67 %</td> <td>0.04 %</td> </tr> <tr> <td>134</td> <td style=\"font-weight: bold; font-size:15px; text-align:left\"><a href=\"/world-population/moldova-population/\">Moldova</a></td> <td style=\"font-weight: bold;\">3,435,931</td> <td>4.98 %</td> <td>162,935</td> <td>105</td> <td>32,850</td> <td>-125,204</td> <td>1.8</td> <td>35</td> <td>50 %</td> <td>0.04 %</td> </tr> <tr> <td>135</td> <td style=\"font-weight: bold; font-size:15px; text-align:left\"><a href=\"/world-population/uruguay-population/\">Uruguay</a></td> <td style=\"font-weight: bold;\">3,423,108</td> <td>0.01 %</td> <td>314</td> <td>20</td> <td>175,020</td> <td>-1,500</td> <td>1.5</td> <td>36</td> <td>99 %</td> <td>0.04 %</td> </tr> <tr> <td>136</td> <td style=\"font-weight: bold; font-size:15px; text-align:left\"><a href=\"/world-population/puerto-rico-population/\">Puerto Rico</a></td> <td style=\"font-weight: bold;\">3,260,314</td> <td>0.24 %</td> <td>7,907</td> <td>368</td> <td>8,870</td> <td>19,835</td> <td>1.3</td> <td>44</td> <td>N.A.</td> <td>0.04 %</td> </tr> <tr> <td>137</td> <td style=\"font-weight: bold; font-size:15px; text-align:left\"><a href=\"/world-population/bosnia-and-herzegovina-population/\">Bosnia and Herzegovina</a></td> <td style=\"font-weight: bold;\">3,210,847</td> <td>-0.70 %</td> <td>-22,679</td> <td>63</td> <td>51,000</td> <td>-500</td> <td>1.3</td> <td>42</td> <td>54 %</td> <td>0.04 %</td> </tr> <tr> <td>138</td> <td style=\"font-weight: bold; font-size:15px; text-align:left\"><a href=\"/world-population/albania-population/\">Albania</a></td> <td style=\"font-weight: bold;\">2,832,439</td> <td>-0.35 %</td> <td>-9,882</td> <td>103</td> <td>27,400</td> <td>-8,000</td> <td>1.4</td> <td>38</td> <td>67 %</td> <td>0.04 %</td> </tr> <tr> <td>139</td> <td style=\"font-weight: bold; font-size:15px; text-align:left\"><a href=\"/world-population/jamaica-population/\">Jamaica</a></td> <td style=\"font-weight: bold;\">2,825,544</td> <td>-0.06 %</td> <td>-1,833</td> <td>261</td> <td>10,830</td> <td>-10,999</td> <td>1.3</td> <td>32</td> <td>59 %</td> <td>0.04 %</td> </tr> <tr> <td>140</td> <td style=\"font-weight: bold; font-size:15px; text-align:left\"><a href=\"/world-population/armenia-population/\">Armenia</a></td> <td style=\"font-weight: bold;\">2,777,970</td> <td>-0.09 %</td> <td>-2,499</td> <td>98</td> <td>28,470</td> <td>-5,000</td> <td>1.6</td> <td>35</td> <td>67 %</td> <td>0.03 %</td> </tr> <tr> <td>141</td> <td style=\"font-weight: bold; font-size:15px; text-align:left\"><a href=\"/world-population/gambia-population/\">Gambia</a></td> <td style=\"font-weight: bold;\">2,773,168</td> <td>2.48 %</td> <td>67,176</td> <td>274</td> <td>10,120</td> <td>-3,000</td> <td>4.5</td> <td>17</td> <td>58 %</td> <td>0.03 %</td> </tr> <tr> <td>142</td> <td style=\"font-weight: bold; font-size:15px; text-align:left\"><a href=\"/world-population/lithuania-population/\">Lithuania</a></td> <td style=\"font-weight: bold;\">2,718,352</td> <td>-1.15 %</td> <td>-31,703</td> <td>43</td> <td>62,674</td> <td>-13,128</td> <td>1.6</td> <td>44</td> <td>71 %</td> <td>0.03 %</td> </tr> <tr> <td>143</td> <td style=\"font-weight: bold; font-size:15px; text-align:left\"><a href=\"/world-population/qatar-population/\">Qatar</a></td> <td style=\"font-weight: bold;\">2,716,391</td> <td>0.79 %</td> <td>21,269</td> <td>234</td> <td>11,610</td> <td>0</td> <td>1.8</td> <td>34</td> <td>N.A.</td> <td>0.03 %</td> </tr> <tr> <td>144</td> <td style=\"font-weight: bold; font-size:15px; text-align:left\"><a href=\"/world-population/botswana-population/\">Botswana</a></td> <td style=\"font-weight: bold;\">2,675,352</td> <td>1.71 %</td> <td>45,056</td> <td>5</td> <td>566,730</td> <td>3,000</td> <td>2.7</td> <td>24</td> <td>69 %</td> <td>0.03 %</td> </tr> <tr> <td>145</td> <td style=\"font-weight: bold; font-size:15px; text-align:left\"><a href=\"/world-population/namibia-population/\">Namibia</a></td> <td style=\"font-weight: bold;\">2,604,172</td> <td>1.45 %</td> <td>37,160</td> <td>3</td> <td>823,290</td> <td>-3,916</td> <td>3.2</td> <td>21</td> <td>60 %</td> <td>0.03 %</td> </tr> <tr> <td>146</td> <td style=\"font-weight: bold; font-size:15px; text-align:left\"><a href=\"/world-population/gabon-population/\">Gabon</a></td> <td style=\"font-weight: bold;\">2,436,566</td> <td>1.99 %</td> <td>47,574</td> <td>9</td> <td>257,670</td> <td>1,000</td> <td>3.4</td> <td>22</td> <td>85 %</td> <td>0.03 %</td> </tr> <tr> <td>147</td> <td style=\"font-weight: bold; font-size:15px; text-align:left\"><a href=\"/world-population/lesotho-population/\">Lesotho</a></td> <td style=\"font-weight: bold;\">2,330,318</td> <td>1.06 %</td> <td>24,493</td> <td>77</td> <td>30,360</td> <td>-4,000</td> <td>2.9</td> <td>22</td> <td>31 %</td> <td>0.03 %</td> </tr> <tr> <td>148</td> <td style=\"font-weight: bold; font-size:15px; text-align:left\"><a href=\"/world-population/guinea-bissau-population/\">Guinea-Bissau</a></td> <td style=\"font-weight: bold;\">2,150,842</td> <td>2.15 %</td> <td>45,276</td> <td>76</td> <td>28,120</td> <td>-1,400</td> <td>3.8</td> <td>19</td> <td>45 %</td> <td>0.03 %</td> </tr> <tr> <td>149</td> <td style=\"font-weight: bold; font-size:15px; text-align:left\"><a href=\"/world-population/slovenia-population/\">Slovenia</a></td> <td style=\"font-weight: bold;\">2,119,675</td> <td>-0.01 %</td> <td>-169</td> <td>105</td> <td>20,140</td> <td>2,000</td> <td>1.6</td> <td>44</td> <td>55 %</td> <td>0.03 %</td> </tr> <tr> <td>150</td> <td style=\"font-weight: bold; font-size:15px; text-align:left\"><a href=\"/world-population/macedonia-population/\">North Macedonia</a></td> <td style=\"font-weight: bold;\">2,085,679</td> <td>-0.38 %</td> <td>-7,920</td> <td>83</td> <td>25,220</td> <td>-1,000</td> <td>1.4</td> <td>39</td> <td>60 %</td> <td>0.03 %</td> </tr> <tr> <td>151</td> <td style=\"font-weight: bold; font-size:15px; text-align:left\"><a href=\"/world-population/latvia-population/\">Latvia</a></td> <td style=\"font-weight: bold;\">1,830,211</td> <td>-1.10 %</td> <td>-20,440</td> <td>29</td> <td>62,200</td> <td>-7,630</td> <td>1.6</td> <td>44</td> <td>69 %</td> <td>0.02 %</td> </tr> <tr> <td>152</td> <td style=\"font-weight: bold; font-size:15px; text-align:left\"><a href=\"/world-population/equatorial-guinea-population/\">Equatorial Guinea</a></td> <td style=\"font-weight: bold;\">1,714,671</td> <td>2.37 %</td> <td>39,763</td> <td>61</td> <td>28,050</td> <td>4,000</td> <td>4.1</td> <td>21</td> <td>67 %</td> <td>0.02 %</td> </tr> <tr> <td>153</td> <td style=\"font-weight: bold; font-size:15px; text-align:left\"><a href=\"/world-population/trinidad-and-tobago-population/\">Trinidad and Tobago</a></td> <td style=\"font-weight: bold;\">1,534,937</td> <td>0.25 %</td> <td>3,893</td> <td>299</td> <td>5,130</td> <td>-800</td> <td>1.6</td> <td>36</td> <td>48 %</td> <td>0.02 %</td> </tr> <tr> <td>154</td> <td style=\"font-weight: bold; font-size:15px; text-align:left\"><a href=\"/world-population/bahrain-population/\">Bahrain</a></td> <td style=\"font-weight: bold;\">1,485,509</td> <td>0.90 %</td> <td>13,276</td> <td>1,955</td> <td>760</td> <td>0</td> <td>1.8</td> <td>34</td> <td>N.A.</td> <td>0.02 %</td> </tr> <tr> <td>155</td> <td style=\"font-weight: bold; font-size:15px; text-align:left\"><a href=\"/world-population/timor-leste-population/\">Timor-Leste</a></td> <td style=\"font-weight: bold;\">1,360,596</td> <td>1.44 %</td> <td>19,300</td> <td>91</td> <td>14,870</td> <td>-5,000</td> <td>3.0</td> <td>21</td> <td>35 %</td> <td>0.02 %</td> </tr> <tr> <td>156</td> <td style=\"font-weight: bold; font-size:15px; text-align:left\"><a href=\"/world-population/estonia-population/\">Estonia</a></td> <td style=\"font-weight: bold;\">1,322,765</td> <td>-0.25 %</td> <td>-3,297</td> <td>31</td> <td>42,390</td> <td>-1,000</td> <td>1.7</td> <td>42</td> <td>68 %</td> <td>0.02 %</td> </tr> <tr> <td>157</td> <td style=\"font-weight: bold; font-size:15px; text-align:left\"><a href=\"/world-population/mauritius-population/\">Mauritius</a></td> <td style=\"font-weight: bold;\">1,300,557</td> <td>0.08 %</td> <td>1,088</td> <td>641</td> <td>2,030</td> <td>0</td> <td>1.4</td> <td>37</td> <td>40 %</td> <td>0.02 %</td> </tr> <tr> <td>158</td> <td style=\"font-weight: bold; font-size:15px; text-align:left\"><a href=\"/world-population/cyprus-population/\">Cyprus</a></td> <td style=\"font-weight: bold;\">1,260,138</td> <td>0.69 %</td> <td>8,650</td> <td>136</td> <td>9,240</td> <td>5,000</td> <td>1.3</td> <td>39</td> <td>65 %</td> <td>0.02 %</td> </tr> <tr> <td>159</td> <td style=\"font-weight: bold; font-size:15px; text-align:left\"><a href=\"/world-population/swaziland-population/\">Eswatini</a></td> <td style=\"font-weight: bold;\">1,210,822</td> <td>0.76 %</td> <td>9,152</td> <td>70</td> <td>17,200</td> <td>-5,268</td> <td>2.8</td> <td>22</td> <td>31 %</td> <td>0.02 %</td> </tr> <tr> <td>160</td> <td style=\"font-weight: bold; font-size:15px; text-align:left\"><a href=\"/world-population/djibouti-population/\">Djibouti</a></td> <td style=\"font-weight: bold;\">1,136,455</td> <td>1.39 %</td> <td>15,606</td> <td>49</td> <td>23,180</td> <td>900</td> <td>2.7</td> <td>24</td> <td>72 %</td> <td>0.01 %</td> </tr> <tr> <td>161</td> <td style=\"font-weight: bold; font-size:15px; text-align:left\"><a href=\"/world-population/reunion-population/\">Réunion</a></td> <td style=\"font-weight: bold;\">981,796</td> <td>0.80 %</td> <td>7,744</td> <td>393</td> <td>2,500</td> <td>-630</td> <td>2.2</td> <td>34</td> <td>93 %</td> <td>0.01 %</td> </tr> <tr> <td>162</td> <td style=\"font-weight: bold; font-size:15px; text-align:left\"><a href=\"/world-population/fiji-population/\">Fiji</a></td> <td style=\"font-weight: bold;\">936,375</td> <td>0.71 %</td> <td>6,609</td> <td>51</td> <td>18,270</td> <td>-3,289</td> <td>2.4</td> <td>27</td> <td>59 %</td> <td>0.01 %</td> </tr> <tr> <td>163</td> <td style=\"font-weight: bold; font-size:15px; text-align:left\"><a href=\"/world-population/comoros-population/\">Comoros</a></td> <td style=\"font-weight: bold;\">852,075</td> <td>1.83 %</td> <td>15,301</td> <td>458</td> <td>1,861</td> <td>-2,000</td> <td>3.8</td> <td>20</td> <td>33 %</td> <td>0.01 %</td> </tr> <tr> <td>164</td> <td style=\"font-weight: bold; font-size:15px; text-align:left\"><a href=\"/world-population/guyana-population/\">Guyana</a></td> <td style=\"font-weight: bold;\">813,834</td> <td>0.63 %</td> <td>5,108</td> <td>4</td> <td>196,850</td> <td>-3,900</td> <td>2.3</td> <td>26</td> <td>27 %</td> <td>0.01 %</td> </tr> <tr> <td>165</td> <td style=\"font-weight: bold; font-size:15px; text-align:left\"><a href=\"/world-population/bhutan-population/\">Bhutan</a></td> <td style=\"font-weight: bold;\">787,424</td> <td>0.64 %</td> <td>4,969</td> <td>21</td> <td>38,117</td> <td>300</td> <td>1.4</td> <td>29</td> <td>49 %</td> <td>0.01 %</td> </tr> <tr> <td>166</td> <td style=\"font-weight: bold; font-size:15px; text-align:left\"><a href=\"/world-population/solomon-islands-population/\">Solomon Islands</a></td> <td style=\"font-weight: bold;\">740,424</td> <td>2.23 %</td> <td>16,151</td> <td>26</td> <td>27,990</td> <td>-1,600</td> <td>3.9</td> <td>19</td> <td>24 %</td> <td>0.01 %</td> </tr> <tr> <td>167</td> <td style=\"font-weight: bold; font-size:15px; text-align:left\"><a href=\"/world-population/china-macao-sar-population/\">Macao</a></td> <td style=\"font-weight: bold;\">704,149</td> <td>1.29 %</td> <td>8,981</td> <td>23,472</td> <td>30</td> <td>5,000</td> <td>1.1</td> <td>39</td> <td>97 %</td> <td>0.01 %</td> </tr> <tr> <td>168</td> <td style=\"font-weight: bold; font-size:15px; text-align:left\"><a href=\"/world-population/luxembourg-population/\">Luxembourg</a></td> <td style=\"font-weight: bold;\">654,768</td> <td>1.11 %</td> <td>7,169</td> <td>253</td> <td>2,590</td> <td>4,883</td> <td>1.4</td> <td>39</td> <td>88 %</td> <td>0.01 %</td> </tr> <tr> <td>169</td> <td style=\"font-weight: bold; font-size:15px; text-align:left\"><a href=\"/world-population/montenegro-population/\">Montenegro</a></td> <td style=\"font-weight: bold;\">626,485</td> <td>-0.10 %</td> <td>-597</td> <td>47</td> <td>13,450</td> <td>-480</td> <td>1.7</td> <td>39</td> <td>69 %</td> <td>0.01 %</td> </tr> <tr> <td>170</td> <td style=\"font-weight: bold; font-size:15px; text-align:left\"><a href=\"/world-population/suriname-population/\">Suriname</a></td> <td style=\"font-weight: bold;\">623,236</td> <td>0.84 %</td> <td>5,196</td> <td>4</td> <td>156,000</td> <td>-1,000</td> <td>2.3</td> <td>28</td> <td>63 %</td> <td>0.01 %</td> </tr> <tr> <td>171</td> <td style=\"font-weight: bold; font-size:15px; text-align:left\"><a href=\"/world-population/cabo-verde-population/\">Cabo Verde</a></td> <td style=\"font-weight: bold;\">598,682</td> <td>0.93 %</td> <td>5,533</td> <td>149</td> <td>4,030</td> <td>-1,227</td> <td>1.9</td> <td>27</td> <td>67 %</td> <td>0.01 %</td> </tr> <tr> <td>172</td> <td style=\"font-weight: bold; font-size:15px; text-align:left\"><a href=\"/world-population/western-sahara-population/\">Western Sahara</a></td> <td style=\"font-weight: bold;\">587,259</td> <td>1.96 %</td> <td>11,273</td> <td>2</td> <td>266,000</td> <td>5,600</td> <td>2.2</td> <td>32</td> <td>95 %</td> <td>0.01 %</td> </tr> <tr> <td>173</td> <td style=\"font-weight: bold; font-size:15px; text-align:left\"><a href=\"/world-population/micronesia-population/\">Micronesia</a></td> <td style=\"font-weight: bold;\">544,321</td> <td>0.98 %</td> <td>5,308</td> <td>778</td> <td>700</td> <td>-1,642</td> <td>2.7</td> <td>26</td> <td>71 %</td> <td>0.01 %</td> </tr> <tr> <td>174</td> <td style=\"font-weight: bold; font-size:15px; text-align:left\"><a href=\"/world-population/malta-population/\">Malta</a></td> <td style=\"font-weight: bold;\">535,064</td> <td>0.33 %</td> <td>1,778</td> <td>1,672</td> <td>320</td> <td>850</td> <td>1.2</td> <td>40</td> <td>78 %</td> <td>0.01 %</td> </tr> <tr> <td>175</td> <td style=\"font-weight: bold; font-size:15px; text-align:left\"><a href=\"/world-population/maldives-population/\">Maldives</a></td> <td style=\"font-weight: bold;\">521,021</td> <td>-0.53 %</td> <td>-2,766</td> <td>1,737</td> <td>300</td> <td>-8,652</td> <td>1.7</td> <td>32</td> <td>39 %</td> <td>0.01 %</td> </tr> <tr> <td>176</td> <td style=\"font-weight: bold; font-size:15px; text-align:left\"><a href=\"/world-population/brunei-darussalam-population/\">Brunei </a></td> <td style=\"font-weight: bold;\">452,524</td> <td>0.78 %</td> <td>3,522</td> <td>86</td> <td>5,270</td> <td>0</td> <td>1.7</td> <td>33</td> <td>80 %</td> <td>0.01 %</td> </tr> <tr> <td>177</td> <td style=\"font-weight: bold; font-size:15px; text-align:left\"><a href=\"/world-population/bahamas-population/\">Bahamas</a></td> <td style=\"font-weight: bold;\">412,623</td> <td>0.64 %</td> <td>2,639</td> <td>41</td> <td>10,010</td> <td>1,000</td> <td>1.4</td> <td>33</td> <td>85 %</td> <td>0.01 %</td> </tr> <tr> <td>178</td> <td style=\"font-weight: bold; font-size:15px; text-align:left\"><a href=\"/world-population/belize-population/\">Belize</a></td> <td style=\"font-weight: bold;\">410,825</td> <td>1.37 %</td> <td>5,553</td> <td>18</td> <td>22,810</td> <td>600</td> <td>2.0</td> <td>26</td> <td>48 %</td> <td>0.01 %</td> </tr> <tr> <td>179</td> <td style=\"font-weight: bold; font-size:15px; text-align:left\"><a href=\"/world-population/guadeloupe-population/\">Guadeloupe</a></td> <td style=\"font-weight: bold;\">395,839</td> <td>0.02 %</td> <td>87</td> <td>234</td> <td>1,690</td> <td>-800</td> <td>2.0</td> <td>42</td> <td>N.A.</td> <td>0.00 %</td> </tr> <tr> <td>180</td> <td style=\"font-weight: bold; font-size:15px; text-align:left\"><a href=\"/world-population/iceland-population/\">Iceland</a></td> <td style=\"font-weight: bold;\">375,318</td> <td>0.65 %</td> <td>2,419</td> <td>4</td> <td>100,250</td> <td>380</td> <td>1.7</td> <td>36</td> <td>88 %</td> <td>0.00 %</td> </tr> <tr> <td>181</td> <td style=\"font-weight: bold; font-size:15px; text-align:left\"><a href=\"/world-population/martinique-population/\">Martinique</a></td> <td style=\"font-weight: bold;\">366,981</td> <td>-0.14 %</td> <td>-526</td> <td>346</td> <td>1,060</td> <td>-650</td> <td>1.9</td> <td>47</td> <td>94 %</td> <td>0.00 %</td> </tr> <tr> <td>182</td> <td style=\"font-weight: bold; font-size:15px; text-align:left\"><a href=\"/world-population/mayotte-population/\">Mayotte</a></td> <td style=\"font-weight: bold;\">335,995</td> <td>3.03 %</td> <td>9,894</td> <td>896</td> <td>375</td> <td>0</td> <td>4.3</td> <td>17</td> <td>40 %</td> <td>0.00 %</td> </tr> <tr> <td>183</td> <td style=\"font-weight: bold; font-size:15px; text-align:left\"><a href=\"/world-population/vanuatu-population/\">Vanuatu</a></td> <td style=\"font-weight: bold;\">334,506</td> <td>2.38 %</td> <td>7,766</td> <td>27</td> <td>12,190</td> <td>0</td> <td>3.7</td> <td>20</td> <td>24 %</td> <td>0.00 %</td> </tr> <tr> <td>184</td> <td style=\"font-weight: bold; font-size:15px; text-align:left\"><a href=\"/world-population/french-guiana-population/\">French Guiana</a></td> <td style=\"font-weight: bold;\">312,155</td> <td>2.49 %</td> <td>7,598</td> <td>4</td> <td>82,200</td> <td>1,200</td> <td>3.4</td> <td>24</td> <td>90 %</td> <td>0.00 %</td> </tr> <tr> <td>185</td> <td style=\"font-weight: bold; font-size:15px; text-align:left\"><a href=\"/world-population/french-polynesia-population/\">French Polynesia</a></td> <td style=\"font-weight: bold;\">308,872</td> <td>0.85 %</td> <td>2,593</td> <td>84</td> <td>3,660</td> <td>-100</td> <td>1.7</td> <td>34</td> <td>59 %</td> <td>0.00 %</td> </tr> <tr> <td>186</td> <td style=\"font-weight: bold; font-size:15px; text-align:left\"><a href=\"/world-population/new-caledonia-population/\">New Caledonia</a></td> <td style=\"font-weight: bold;\">292,991</td> <td>1.05 %</td> <td>3,041</td> <td>16</td> <td>18,280</td> <td>500</td> <td>2.0</td> <td>34</td> <td>74 %</td> <td>0.00 %</td> </tr> <tr> <td>187</td> <td style=\"font-weight: bold; font-size:15px; text-align:left\"><a href=\"/world-population/barbados-population/\">Barbados</a></td> <td style=\"font-weight: bold;\">281,995</td> <td>0.13 %</td> <td>360</td> <td>656</td> <td>430</td> <td>-80</td> <td>1.6</td> <td>40</td> <td>32 %</td> <td>0.00 %</td> </tr> <tr> <td>188</td> <td style=\"font-weight: bold; font-size:15px; text-align:left\"><a href=\"/world-population/sao-tome-and-principe-population/\">Sao Tome &amp; Principe</a></td> <td style=\"font-weight: bold;\">231,856</td> <td>1.97 %</td> <td>4,476</td> <td>242</td> <td>960</td> <td>-600</td> <td>3.7</td> <td>19</td> <td>77 %</td> <td>0.00 %</td> </tr> <tr> <td>189</td> <td style=\"font-weight: bold; font-size:15px; text-align:left\"><a href=\"/world-population/samoa-population/\">Samoa</a></td> <td style=\"font-weight: bold;\">225,681</td> <td>1.48 %</td> <td>3,299</td> <td>80</td> <td>2,830</td> <td>-1,500</td> <td>3.8</td> <td>21</td> <td>16 %</td> <td>0.00 %</td> </tr> <tr> <td>190</td> <td style=\"font-weight: bold; font-size:15px; text-align:left\"><a href=\"/world-population/curacao-population/\">Curaçao</a></td> <td style=\"font-weight: bold;\">192,077</td> <td>0.48 %</td> <td>914</td> <td>433</td> <td>444</td> <td>515</td> <td>1.6</td> <td>36</td> <td>77 %</td> <td>0.00 %</td> </tr> <tr> <td>191</td> <td style=\"font-weight: bold; font-size:15px; text-align:left\"><a href=\"/world-population/saint-lucia-population/\">Saint Lucia</a></td> <td style=\"font-weight: bold;\">180,251</td> <td>0.22 %</td> <td>394</td> <td>295</td> <td>610</td> <td>0</td> <td>1.4</td> <td>34</td> <td>19 %</td> <td>0.00 %</td> </tr> <tr> <td>192</td> <td style=\"font-weight: bold; font-size:15px; text-align:left\"><a href=\"/world-population/guam-population/\">Guam</a></td> <td style=\"font-weight: bold;\">172,952</td> <td>0.69 %</td> <td>1,178</td> <td>320</td> <td>540</td> <td>-500</td> <td>2.5</td> <td>30</td> <td>95 %</td> <td>0.00 %</td> </tr> <tr> <td>193</td> <td style=\"font-weight: bold; font-size:15px; text-align:left\"><a href=\"/world-population/kiribati-population/\">Kiribati</a></td> <td style=\"font-weight: bold;\">133,515</td> <td>1.74 %</td> <td>2,283</td> <td>165</td> <td>810</td> <td>-400</td> <td>3.2</td> <td>22</td> <td>56 %</td> <td>0.00 %</td> </tr> <tr> <td>194</td> <td style=\"font-weight: bold; font-size:15px; text-align:left\"><a href=\"/world-population/grenada-population/\">Grenada</a></td> <td style=\"font-weight: bold;\">126,183</td> <td>0.59 %</td> <td>745</td> <td>371</td> <td>340</td> <td>-200</td> <td>2.0</td> <td>32</td> <td>32 %</td> <td>0.00 %</td> </tr> <tr> <td>195</td> <td style=\"font-weight: bold; font-size:15px; text-align:left\"><a href=\"/world-population/tonga-population/\">Tonga</a></td> <td style=\"font-weight: bold;\">107,773</td> <td>0.86 %</td> <td>915</td> <td>150</td> <td>720</td> <td>-800</td> <td>3.2</td> <td>22</td> <td>24 %</td> <td>0.00 %</td> </tr> <tr> <td>196</td> <td style=\"font-weight: bold; font-size:15px; text-align:left\"><a href=\"/world-population/seychelles-population/\">Seychelles</a></td> <td style=\"font-weight: bold;\">107,660</td> <td>0.51 %</td> <td>542</td> <td>234</td> <td>460</td> <td>-200</td> <td>2.3</td> <td>33</td> <td>53 %</td> <td>0.00 %</td> </tr> <tr> <td>197</td> <td style=\"font-weight: bold; font-size:15px; text-align:left\"><a href=\"/world-population/aruba-population/\">Aruba</a></td> <td style=\"font-weight: bold;\">106,277</td> <td>-0.16 %</td> <td>-168</td> <td>590</td> <td>180</td> <td>157</td> <td>1.2</td> <td>42</td> <td>45 %</td> <td>0.00 %</td> </tr> <tr> <td>198</td> <td style=\"font-weight: bold; font-size:15px; text-align:left\"><a href=\"/world-population/saint-vincent-and-the-grenadines-population/\">St. Vincent &amp; Grenadines</a></td> <td style=\"font-weight: bold;\">103,698</td> <td>-0.24 %</td> <td>-250</td> <td>266</td> <td>390</td> <td>-200</td> <td>1.8</td> <td>33</td> <td>58 %</td> <td>0.00 %</td> </tr> <tr> <td>199</td> <td style=\"font-weight: bold; font-size:15px; text-align:left\"><a href=\"/world-population/united-states-virgin-islands-population/\">U.S. Virgin Islands</a></td> <td style=\"font-weight: bold;\">98,750</td> <td>-0.72 %</td> <td>-715</td> <td>282</td> <td>350</td> <td>-450</td> <td>2.1</td> <td>43</td> <td>N.A.</td> <td>0.00 %</td> </tr> <tr> <td>200</td> <td style=\"font-weight: bold; font-size:15px; text-align:left\"><a href=\"/world-population/antigua-and-barbuda-population/\">Antigua and Barbuda</a></td> <td style=\"font-weight: bold;\">94,298</td> <td>0.57 %</td> <td>535</td> <td>214</td> <td>440</td> <td>0</td> <td>1.6</td> <td>36</td> <td>28 %</td> <td>0.00 %</td> </tr> <tr> <td>201</td> <td style=\"font-weight: bold; font-size:15px; text-align:left\"><a href=\"/world-population/isle-of-man-population/\">Isle of Man</a></td> <td style=\"font-weight: bold;\">84,710</td> <td>0.23 %</td> <td>191</td> <td>149</td> <td>570</td> <td>340</td> <td>1.6</td> <td>46</td> <td>55 %</td> <td>0.00 %</td> </tr> <tr> <td>202</td> <td style=\"font-weight: bold; font-size:15px; text-align:left\"><a href=\"/world-population/andorra-population/\">Andorra</a></td> <td style=\"font-weight: bold;\">80,088</td> <td>0.33 %</td> <td>264</td> <td>170</td> <td>470</td> <td>200</td> <td>1.1</td> <td>43</td> <td>85 %</td> <td>0.00 %</td> </tr> <tr> <td>203</td> <td style=\"font-weight: bold; font-size:15px; text-align:left\"><a href=\"/world-population/dominica-population/\">Dominica</a></td> <td style=\"font-weight: bold;\">73,040</td> <td>0.42 %</td> <td>303</td> <td>97</td> <td>750</td> <td>-40</td> <td>1.6</td> <td>32</td> <td>75 %</td> <td>0.00 %</td> </tr> <tr> <td>204</td> <td style=\"font-weight: bold; font-size:15px; text-align:left\"><a href=\"/world-population/cayman-islands-population/\">Cayman Islands</a></td> <td style=\"font-weight: bold;\">69,310</td> <td>0.88 %</td> <td>604</td> <td>289</td> <td>240</td> <td>400</td> <td>1.2</td> <td>38</td> <td>95 %</td> <td>0.00 %</td> </tr> <tr> <td>205</td> <td style=\"font-weight: bold; font-size:15px; text-align:left\"><a href=\"/world-population/bermuda-population/\">Bermuda</a></td> <td style=\"font-weight: bold;\">64,069</td> <td>-0.18 %</td> <td>-115</td> <td>1,281</td> <td>50</td> <td>0</td> <td>1.4</td> <td>46</td> <td>94 %</td> <td>0.00 %</td> </tr> <tr> <td>206</td> <td style=\"font-weight: bold; font-size:15px; text-align:left\"><a href=\"/world-population/greenland-population/\">Greenland</a></td> <td style=\"font-weight: bold;\">56,643</td> <td>0.31 %</td> <td>177</td> <td>0</td> <td>410,450</td> <td>-100</td> <td>1.9</td> <td>35</td> <td>89 %</td> <td>0.00 %</td> </tr> <tr> <td>207</td> <td style=\"font-weight: bold; font-size:15px; text-align:left\"><a href=\"/world-population/faeroe-islands-population/\">Faeroe Islands</a></td> <td style=\"font-weight: bold;\">53,270</td> <td>0.34 %</td> <td>180</td> <td>38</td> <td>1,396</td> <td>0</td> <td>2.7</td> <td>38</td> <td>41 %</td> <td>0.00 %</td> </tr> <tr> <td>208</td> <td style=\"font-weight: bold; font-size:15px; text-align:left\"><a href=\"/world-population/northern-mariana-islands-population/\">Northern Mariana Islands</a></td> <td style=\"font-weight: bold;\">49,796</td> <td>0.49 %</td> <td>245</td> <td>108</td> <td>460</td> <td>-50</td> <td>2.1</td> <td>38</td> <td>N.A.</td> <td>0.00 %</td> </tr> <tr> <td>209</td> <td style=\"font-weight: bold; font-size:15px; text-align:left\"><a href=\"/world-population/saint-kitts-and-nevis-population/\">Saint Kitts &amp; Nevis</a></td> <td style=\"font-weight: bold;\">47,755</td> <td>0.21 %</td> <td>98</td> <td>184</td> <td>260</td> <td>20</td> <td>1.5</td> <td>35</td> <td>38 %</td> <td>0.00 %</td> </tr> <tr> <td>210</td> <td style=\"font-weight: bold; font-size:15px; text-align:left\"><a href=\"/world-population/turks-and-caicos-islands-population/\">Turks and Caicos</a></td> <td style=\"font-weight: bold;\">46,062</td> <td>0.79 %</td> <td>359</td> <td>48</td> <td>950</td> <td>200</td> <td>1.6</td> <td>38</td> <td>79 %</td> <td>0.00 %</td> </tr> <tr> <td>211</td> <td style=\"font-weight: bold; font-size:15px; text-align:left\"><a href=\"/world-population/sint-maarten-population/\">Sint Maarten</a></td> <td style=\"font-weight: bold;\">44,222</td> <td>0.11 %</td> <td>47</td> <td>1,301</td> <td>34</td> <td>0</td> <td>1.6</td> <td>48</td> <td>97 %</td> <td>0.00 %</td> </tr> <tr> <td>212</td> <td style=\"font-weight: bold; font-size:15px; text-align:left\"><a href=\"/world-population/american-samoa-population/\">American Samoa</a></td> <td style=\"font-weight: bold;\">43,914</td> <td>-0.81 %</td> <td>-359</td> <td>220</td> <td>200</td> <td>-790</td> <td>2.2</td> <td>29</td> <td>N.A.</td> <td>0.00 %</td> </tr> <tr> <td>213</td> <td style=\"font-weight: bold; font-size:15px; text-align:left\"><a href=\"/world-population/marshall-islands-population/\">Marshall Islands</a></td> <td style=\"font-weight: bold;\">41,996</td> <td>1.03 %</td> <td>427</td> <td>233</td> <td>180</td> <td>0</td> <td>2.6</td> <td>26</td> <td>N.A.</td> <td>0.00 %</td> </tr> <tr> <td>214</td> <td style=\"font-weight: bold; font-size:15px; text-align:left\"><a href=\"/world-population/liechtenstein-population/\">Liechtenstein</a></td> <td style=\"font-weight: bold;\">39,584</td> <td>0.65 %</td> <td>257</td> <td>247</td> <td>160</td> <td>150</td> <td>1.5</td> <td>44</td> <td>15 %</td> <td>0.00 %</td> </tr> <tr> <td>215</td> <td style=\"font-weight: bold; font-size:15px; text-align:left\"><a href=\"/world-population/monaco-population/\">Monaco</a></td> <td style=\"font-weight: bold;\">36,297</td> <td>-0.47 %</td> <td>-172</td> <td>24,360</td> <td>1</td> <td>200</td> <td>2.1</td> <td>54</td> <td>N.A.</td> <td>0.00 %</td> </tr> <tr> <td>216</td> <td style=\"font-weight: bold; font-size:15px; text-align:left\"><a href=\"/world-population/san-marino-population/\">San Marino</a></td> <td style=\"font-weight: bold;\">33,642</td> <td>-0.05 %</td> <td>-18</td> <td>561</td> <td>60</td> <td>100</td> <td>1.1</td> <td>47</td> <td>99 %</td> <td>0.00 %</td> </tr> <tr> <td>217</td> <td style=\"font-weight: bold; font-size:15px; text-align:left\"><a href=\"/world-population/gibraltar-population/\">Gibraltar</a></td> <td style=\"font-weight: bold;\">32,688</td> <td>0.12 %</td> <td>39</td> <td>3,269</td> <td>10</td> <td>-24</td> <td>1.8</td> <td>42</td> <td>N.A.</td> <td>0.00 %</td> </tr> <tr> <td>218</td> <td style=\"font-weight: bold; font-size:15px; text-align:left\"><a href=\"/world-population/saint-martin-population/\">Saint Martin</a></td> <td style=\"font-weight: bold;\">32,077</td> <td>0.90 %</td> <td>286</td> <td>605</td> <td>53</td> <td>0</td> <td>2.4</td> <td>39</td> <td>0 %</td> <td>0.00 %</td> </tr> <tr> <td>219</td> <td style=\"font-weight: bold; font-size:15px; text-align:left\"><a href=\"/world-population/british-virgin-islands-population/\">British Virgin Islands</a></td> <td style=\"font-weight: bold;\">31,538</td> <td>0.74 %</td> <td>233</td> <td>210</td> <td>150</td> <td>200</td> <td>1.0</td> <td>39</td> <td>53 %</td> <td>0.00 %</td> </tr> <tr> <td>220</td> <td style=\"font-weight: bold; font-size:15px; text-align:left\"><a href=\"/world-population/caribbean-netherlands-population/\">Caribbean Netherlands</a></td> <td style=\"font-weight: bold;\">27,148</td> <td>0.45 %</td> <td>122</td> <td>83</td> <td>328</td> <td>100</td> <td>1.6</td> <td>40</td> <td>74 %</td> <td>0.00 %</td> </tr> <tr> <td>221</td> <td style=\"font-weight: bold; font-size:15px; text-align:left\"><a href=\"/world-population/palau-population/\">Palau</a></td> <td style=\"font-weight: bold;\">18,058</td> <td>0.02 %</td> <td>3</td> <td>39</td> <td>460</td> <td>-20</td> <td>2.3</td> <td>36</td> <td>N.A.</td> <td>0.00 %</td> </tr> <tr> <td>222</td> <td style=\"font-weight: bold; font-size:15px; text-align:left\"><a href=\"/world-population/cook-islands-population/\">Cook Islands</a></td> <td style=\"font-weight: bold;\">17,044</td> <td>0.19 %</td> <td>33</td> <td>71</td> <td>240</td> <td>-93</td> <td>2.2</td> <td>33</td> <td>79 %</td> <td>0.00 %</td> </tr> <tr> <td>223</td> <td style=\"font-weight: bold; font-size:15px; text-align:left\"><a href=\"/world-population/anguilla-population/\">Anguilla</a></td> <td style=\"font-weight: bold;\">15,899</td> <td>0.26 %</td> <td>42</td> <td>177</td> <td>90</td> <td>0</td> <td>1.3</td> <td>38</td> <td>98 %</td> <td>0.00 %</td> </tr> <tr> <td>224</td> <td style=\"font-weight: bold; font-size:15px; text-align:left\"><a href=\"/world-population/nauru-population/\">Nauru</a></td> <td style=\"font-weight: bold;\">12,780</td> <td>0.88 %</td> <td>112</td> <td>639</td> <td>20</td> <td>-140</td> <td>3.4</td> <td>20</td> <td>88 %</td> <td>0.00 %</td> </tr> <tr> <td>225</td> <td style=\"font-weight: bold; font-size:15px; text-align:left\"><a href=\"/world-population/wallis-and-futuna-islands-population/\">Wallis &amp; Futuna</a></td> <td style=\"font-weight: bold;\">11,502</td> <td>-0.60 %</td> <td>-70</td> <td>82</td> <td>140</td> <td>-119</td> <td>1.9</td> <td>37</td> <td>0 %</td> <td>0.00 %</td> </tr> <tr> <td>226</td> <td style=\"font-weight: bold; font-size:15px; text-align:left\"><a href=\"/world-population/tuvalu-population/\">Tuvalu</a></td> <td style=\"font-weight: bold;\">11,396</td> <td>0.74 %</td> <td>84</td> <td>380</td> <td>30</td> <td>-60</td> <td>3.1</td> <td>25</td> <td>69 %</td> <td>0.00 %</td> </tr> <tr> <td>227</td> <td style=\"font-weight: bold; font-size:15px; text-align:left\"><a href=\"/world-population/saint-barthelemy-population/\">Saint Barthelemy</a></td> <td style=\"font-weight: bold;\">10,994</td> <td>0.25 %</td> <td>27</td> <td>524</td> <td>21</td> <td>0</td> <td>1.0</td> <td>40</td> <td>0 %</td> <td>0.00 %</td> </tr> <tr> <td>228</td> <td style=\"font-weight: bold; font-size:15px; text-align:left\"><a href=\"/world-population/saint-pierre-and-miquelon-population/\">Saint Pierre &amp; Miquelon</a></td> <td style=\"font-weight: bold;\">5,840</td> <td>-0.38 %</td> <td>-22</td> <td>25</td> <td>230</td> <td>0</td> <td>1.6</td> <td>44</td> <td>N.A.</td> <td>0.00 %</td> </tr> <tr> <td>229</td> <td style=\"font-weight: bold; font-size:15px; text-align:left\"><a href=\"/world-population/saint-helena-population/\">Saint Helena</a></td> <td style=\"font-weight: bold;\">5,314</td> <td>-1.12 %</td> <td>-60</td> <td>14</td> <td>390</td> <td>0</td> <td>1.6</td> <td>53</td> <td>32 %</td> <td>0.00 %</td> </tr> <tr> <td>230</td> <td style=\"font-weight: bold; font-size:15px; text-align:left\"><a href=\"/world-population/montserrat-population/\">Montserrat</a></td> <td style=\"font-weight: bold;\">4,386</td> <td>-0.09 %</td> <td>-4</td> <td>44</td> <td>100</td> <td>0</td> <td>1.6</td> <td>44</td> <td>11 %</td> <td>0.00 %</td> </tr> <tr> <td>231</td> <td style=\"font-weight: bold; font-size:15px; text-align:left\"><a href=\"/world-population/falkland-islands-malvinas-population/\">Falkland Islands</a></td> <td style=\"font-weight: bold;\">3,791</td> <td>0.29 %</td> <td>11</td> <td>0</td> <td>12,170</td> <td>0</td> <td>1.6</td> <td>40</td> <td>62 %</td> <td>0.00 %</td> </tr> <tr> <td>232</td> <td style=\"font-weight: bold; font-size:15px; text-align:left\"><a href=\"/world-population/niue-population/\">Niue</a></td> <td style=\"font-weight: bold;\">1,935</td> <td>0.05 %</td> <td>1</td> <td>7</td> <td>260</td> <td>0</td> <td>2.4</td> <td>36</td> <td>41 %</td> <td>0.00 %</td> </tr> <tr> <td>233</td> <td style=\"font-weight: bold; font-size:15px; text-align:left\"><a href=\"/world-population/tokelau-population/\">Tokelau</a></td> <td style=\"font-weight: bold;\">1,893</td> <td>1.18 %</td> <td>22</td> <td>189</td> <td>10</td> <td>0</td> <td>2.6</td> <td>27</td> <td>0 %</td> <td>0.00 %</td> </tr> <tr> <td>234</td> <td style=\"font-weight: bold; font-size:15px; text-align:left\"><a href=\"/world-population/holy-see-population/\">Holy See</a></td> <td style=\"font-weight: bold;\">518</td> <td>1.57 %</td> <td>8</td> <td>1,295</td> <td>0</td> <td>0</td> <td></td> <td></td> <td>N.A.</td> <td>0.00 %</td> </tr> </tbody></table>"
            ]
          },
          "metadata": {},
          "execution_count": 26
        }
      ],
      "source": [
        "worldtable"
      ]
    },
    {
      "cell_type": "code",
      "execution_count": null,
      "id": "694e656a",
      "metadata": {
        "id": "694e656a",
        "outputId": "3d1cfe45-10de-45e7-df41-8cb6a917cb9b",
        "colab": {
          "base_uri": "https://localhost:8080/",
          "height": 369
        }
      },
      "outputs": [
        {
          "output_type": "error",
          "ename": "TypeError",
          "evalue": "argument of type 'NoneType' is not iterable",
          "traceback": [
            "\u001b[0;31m---------------------------------------------------------------------------\u001b[0m",
            "\u001b[0;31mTypeError\u001b[0m                                 Traceback (most recent call last)",
            "\u001b[0;32m<ipython-input-29-1233d07330a0>\u001b[0m in \u001b[0;36m<cell line: 1>\u001b[0;34m()\u001b[0m\n\u001b[0;32m----> 1\u001b[0;31m \u001b[0mdf\u001b[0m\u001b[0;34m=\u001b[0m\u001b[0mpd\u001b[0m\u001b[0;34m.\u001b[0m\u001b[0mread_table\u001b[0m\u001b[0;34m(\u001b[0m\u001b[0mworldtable\u001b[0m\u001b[0;34m)\u001b[0m\u001b[0;34m\u001b[0m\u001b[0;34m\u001b[0m\u001b[0m\n\u001b[0m\u001b[1;32m      2\u001b[0m \u001b[0mdf\u001b[0m\u001b[0;34m\u001b[0m\u001b[0;34m\u001b[0m\u001b[0m\n\u001b[1;32m      3\u001b[0m \u001b[0;31m# convert list to dataframe\u001b[0m\u001b[0;34m\u001b[0m\u001b[0;34m\u001b[0m\u001b[0m\n\u001b[1;32m      4\u001b[0m \u001b[0mdf\u001b[0m\u001b[0;34m=\u001b[0m\u001b[0mpd\u001b[0m\u001b[0;34m.\u001b[0m\u001b[0mDataFrame\u001b[0m\u001b[0;34m(\u001b[0m\u001b[0mdf\u001b[0m\u001b[0;34m[\u001b[0m\u001b[0;36m0\u001b[0m\u001b[0;34m]\u001b[0m\u001b[0;34m,\u001b[0m\u001b[0;34m)\u001b[0m\u001b[0;34m\u001b[0m\u001b[0;34m\u001b[0m\u001b[0m\n\u001b[1;32m      5\u001b[0m \u001b[0mdf\u001b[0m\u001b[0;34m\u001b[0m\u001b[0;34m\u001b[0m\u001b[0m\n",
            "\u001b[0;32m/usr/local/lib/python3.10/dist-packages/pandas/io/parsers/readers.py\u001b[0m in \u001b[0;36mread_table\u001b[0;34m(filepath_or_buffer, sep, delimiter, header, names, index_col, usecols, dtype, engine, converters, true_values, false_values, skipinitialspace, skiprows, skipfooter, nrows, na_values, keep_default_na, na_filter, verbose, skip_blank_lines, parse_dates, infer_datetime_format, keep_date_col, date_parser, date_format, dayfirst, cache_dates, iterator, chunksize, compression, thousands, decimal, lineterminator, quotechar, quoting, doublequote, escapechar, comment, encoding, encoding_errors, dialect, on_bad_lines, delim_whitespace, low_memory, memory_map, float_precision, storage_options, dtype_backend)\u001b[0m\n\u001b[1;32m   1240\u001b[0m     \u001b[0mkwds\u001b[0m\u001b[0;34m.\u001b[0m\u001b[0mupdate\u001b[0m\u001b[0;34m(\u001b[0m\u001b[0mkwds_defaults\u001b[0m\u001b[0;34m)\u001b[0m\u001b[0;34m\u001b[0m\u001b[0;34m\u001b[0m\u001b[0m\n\u001b[1;32m   1241\u001b[0m \u001b[0;34m\u001b[0m\u001b[0m\n\u001b[0;32m-> 1242\u001b[0;31m     \u001b[0;32mreturn\u001b[0m \u001b[0m_read\u001b[0m\u001b[0;34m(\u001b[0m\u001b[0mfilepath_or_buffer\u001b[0m\u001b[0;34m,\u001b[0m \u001b[0mkwds\u001b[0m\u001b[0;34m)\u001b[0m\u001b[0;34m\u001b[0m\u001b[0;34m\u001b[0m\u001b[0m\n\u001b[0m\u001b[1;32m   1243\u001b[0m \u001b[0;34m\u001b[0m\u001b[0m\n\u001b[1;32m   1244\u001b[0m \u001b[0;34m\u001b[0m\u001b[0m\n",
            "\u001b[0;32m/usr/local/lib/python3.10/dist-packages/pandas/io/parsers/readers.py\u001b[0m in \u001b[0;36m_read\u001b[0;34m(filepath_or_buffer, kwds)\u001b[0m\n\u001b[1;32m    575\u001b[0m \u001b[0;34m\u001b[0m\u001b[0m\n\u001b[1;32m    576\u001b[0m     \u001b[0;31m# Create the parser.\u001b[0m\u001b[0;34m\u001b[0m\u001b[0;34m\u001b[0m\u001b[0m\n\u001b[0;32m--> 577\u001b[0;31m     \u001b[0mparser\u001b[0m \u001b[0;34m=\u001b[0m \u001b[0mTextFileReader\u001b[0m\u001b[0;34m(\u001b[0m\u001b[0mfilepath_or_buffer\u001b[0m\u001b[0;34m,\u001b[0m \u001b[0;34m**\u001b[0m\u001b[0mkwds\u001b[0m\u001b[0;34m)\u001b[0m\u001b[0;34m\u001b[0m\u001b[0;34m\u001b[0m\u001b[0m\n\u001b[0m\u001b[1;32m    578\u001b[0m \u001b[0;34m\u001b[0m\u001b[0m\n\u001b[1;32m    579\u001b[0m     \u001b[0;32mif\u001b[0m \u001b[0mchunksize\u001b[0m \u001b[0;32mor\u001b[0m \u001b[0miterator\u001b[0m\u001b[0;34m:\u001b[0m\u001b[0;34m\u001b[0m\u001b[0;34m\u001b[0m\u001b[0m\n",
            "\u001b[0;32m/usr/local/lib/python3.10/dist-packages/pandas/io/parsers/readers.py\u001b[0m in \u001b[0;36m__init__\u001b[0;34m(self, f, engine, **kwds)\u001b[0m\n\u001b[1;32m   1405\u001b[0m \u001b[0;34m\u001b[0m\u001b[0m\n\u001b[1;32m   1406\u001b[0m         \u001b[0mself\u001b[0m\u001b[0;34m.\u001b[0m\u001b[0mhandles\u001b[0m\u001b[0;34m:\u001b[0m \u001b[0mIOHandles\u001b[0m \u001b[0;34m|\u001b[0m \u001b[0;32mNone\u001b[0m \u001b[0;34m=\u001b[0m \u001b[0;32mNone\u001b[0m\u001b[0;34m\u001b[0m\u001b[0;34m\u001b[0m\u001b[0m\n\u001b[0;32m-> 1407\u001b[0;31m         \u001b[0mself\u001b[0m\u001b[0;34m.\u001b[0m\u001b[0m_engine\u001b[0m \u001b[0;34m=\u001b[0m \u001b[0mself\u001b[0m\u001b[0;34m.\u001b[0m\u001b[0m_make_engine\u001b[0m\u001b[0;34m(\u001b[0m\u001b[0mf\u001b[0m\u001b[0;34m,\u001b[0m \u001b[0mself\u001b[0m\u001b[0;34m.\u001b[0m\u001b[0mengine\u001b[0m\u001b[0;34m)\u001b[0m\u001b[0;34m\u001b[0m\u001b[0;34m\u001b[0m\u001b[0m\n\u001b[0m\u001b[1;32m   1408\u001b[0m \u001b[0;34m\u001b[0m\u001b[0m\n\u001b[1;32m   1409\u001b[0m     \u001b[0;32mdef\u001b[0m \u001b[0mclose\u001b[0m\u001b[0;34m(\u001b[0m\u001b[0mself\u001b[0m\u001b[0;34m)\u001b[0m \u001b[0;34m->\u001b[0m \u001b[0;32mNone\u001b[0m\u001b[0;34m:\u001b[0m\u001b[0;34m\u001b[0m\u001b[0;34m\u001b[0m\u001b[0m\n",
            "\u001b[0;32m/usr/local/lib/python3.10/dist-packages/pandas/io/parsers/readers.py\u001b[0m in \u001b[0;36m_make_engine\u001b[0;34m(self, f, engine)\u001b[0m\n\u001b[1;32m   1659\u001b[0m                 \u001b[0;32mif\u001b[0m \u001b[0;34m\"b\"\u001b[0m \u001b[0;32mnot\u001b[0m \u001b[0;32min\u001b[0m \u001b[0mmode\u001b[0m\u001b[0;34m:\u001b[0m\u001b[0;34m\u001b[0m\u001b[0;34m\u001b[0m\u001b[0m\n\u001b[1;32m   1660\u001b[0m                     \u001b[0mmode\u001b[0m \u001b[0;34m+=\u001b[0m \u001b[0;34m\"b\"\u001b[0m\u001b[0;34m\u001b[0m\u001b[0;34m\u001b[0m\u001b[0m\n\u001b[0;32m-> 1661\u001b[0;31m             self.handles = get_handle(\n\u001b[0m\u001b[1;32m   1662\u001b[0m                 \u001b[0mf\u001b[0m\u001b[0;34m,\u001b[0m\u001b[0;34m\u001b[0m\u001b[0;34m\u001b[0m\u001b[0m\n\u001b[1;32m   1663\u001b[0m                 \u001b[0mmode\u001b[0m\u001b[0;34m,\u001b[0m\u001b[0;34m\u001b[0m\u001b[0;34m\u001b[0m\u001b[0m\n",
            "\u001b[0;32m/usr/local/lib/python3.10/dist-packages/pandas/io/common.py\u001b[0m in \u001b[0;36mget_handle\u001b[0;34m(path_or_buf, mode, encoding, compression, memory_map, is_text, errors, storage_options)\u001b[0m\n\u001b[1;32m    705\u001b[0m \u001b[0;34m\u001b[0m\u001b[0m\n\u001b[1;32m    706\u001b[0m     \u001b[0;31m# read_csv does not know whether the buffer is opened in binary/text mode\u001b[0m\u001b[0;34m\u001b[0m\u001b[0;34m\u001b[0m\u001b[0m\n\u001b[0;32m--> 707\u001b[0;31m     \u001b[0;32mif\u001b[0m \u001b[0m_is_binary_mode\u001b[0m\u001b[0;34m(\u001b[0m\u001b[0mpath_or_buf\u001b[0m\u001b[0;34m,\u001b[0m \u001b[0mmode\u001b[0m\u001b[0;34m)\u001b[0m \u001b[0;32mand\u001b[0m \u001b[0;34m\"b\"\u001b[0m \u001b[0;32mnot\u001b[0m \u001b[0;32min\u001b[0m \u001b[0mmode\u001b[0m\u001b[0;34m:\u001b[0m\u001b[0;34m\u001b[0m\u001b[0;34m\u001b[0m\u001b[0m\n\u001b[0m\u001b[1;32m    708\u001b[0m         \u001b[0mmode\u001b[0m \u001b[0;34m+=\u001b[0m \u001b[0;34m\"b\"\u001b[0m\u001b[0;34m\u001b[0m\u001b[0;34m\u001b[0m\u001b[0m\n\u001b[1;32m    709\u001b[0m \u001b[0;34m\u001b[0m\u001b[0m\n",
            "\u001b[0;32m/usr/local/lib/python3.10/dist-packages/pandas/io/common.py\u001b[0m in \u001b[0;36m_is_binary_mode\u001b[0;34m(handle, mode)\u001b[0m\n\u001b[1;32m   1165\u001b[0m         \u001b[0;32mreturn\u001b[0m \u001b[0;32mFalse\u001b[0m\u001b[0;34m\u001b[0m\u001b[0;34m\u001b[0m\u001b[0m\n\u001b[1;32m   1166\u001b[0m \u001b[0;34m\u001b[0m\u001b[0m\n\u001b[0;32m-> 1167\u001b[0;31m     return isinstance(handle, _get_binary_io_classes()) or \"b\" in getattr(\n\u001b[0m\u001b[1;32m   1168\u001b[0m         \u001b[0mhandle\u001b[0m\u001b[0;34m,\u001b[0m \u001b[0;34m\"mode\"\u001b[0m\u001b[0;34m,\u001b[0m \u001b[0mmode\u001b[0m\u001b[0;34m\u001b[0m\u001b[0;34m\u001b[0m\u001b[0m\n\u001b[1;32m   1169\u001b[0m     )\n",
            "\u001b[0;31mTypeError\u001b[0m: argument of type 'NoneType' is not iterable"
          ]
        }
      ],
      "source": [
        "df=pd.read_table(worldtable)\n",
        "df\n",
        "# convert list to dataframe\n",
        "df=pd.DataFrame(df[0],)\n",
        "df"
      ]
    },
    {
      "cell_type": "code",
      "execution_count": null,
      "id": "358dcd42",
      "metadata": {
        "id": "358dcd42"
      },
      "outputs": [],
      "source": [
        "# drop the unwanted columns\n",
        "data = df.drop([\"#\"], axis=1)\n",
        "# rename columns for ease\n",
        "#data = data.rename(columns={\"State or union territory\": \"State\",\"Population(2011)[3]\": \"Population\"})\n",
        "data"
      ]
    },
    {
      "cell_type": "code",
      "execution_count": null,
      "id": "6f8383b9",
      "metadata": {
        "id": "6f8383b9"
      },
      "outputs": [],
      "source": [
        "#geek for geeks--https://www.geeksforgeeks.org/python-web-scraping-tutorial/"
      ]
    },
    {
      "cell_type": "code",
      "execution_count": null,
      "id": "33102f59",
      "metadata": {
        "id": "33102f59"
      },
      "outputs": [],
      "source": [
        "import requests\n",
        "\n",
        "# Making a GET request\n",
        "r = requests.get('https://www.geeksforgeeks.org/python-programming-language/')\n",
        "\n",
        "# check status code for response received\n",
        "# success code - 200\n",
        "print(r)\n",
        "\n",
        "# print content of request\n",
        "print(r.content)\n"
      ]
    },
    {
      "cell_type": "code",
      "execution_count": null,
      "id": "2ccd75f5",
      "metadata": {
        "id": "2ccd75f5"
      },
      "outputs": [],
      "source": [
        "\"\"\"\n",
        "Response object\n",
        "\n",
        "\n",
        "When one makes a request to a URI, it returns a response. This Response object in terms of python is returned by requests.method(), method being – get, post, put, etc. Response is a powerful object with lots of functions and attributes that assist in normalizing data or creating ideal portions of code. For example, response.status_code returns the status code from the headers itself, and one can check if the request was processed successfully or not.\n",
        "Response objects can be used to imply lots of features, methods, and functionalities.\n",
        "\"\"\"\n",
        "\n",
        "import requests\n",
        "\n",
        "# Making a GET request\n",
        "r = requests.get('https://www.geeksforgeeks.org/python-programming-language/')\n",
        "\n",
        "# print request object\n",
        "print(r.url)\n",
        "\n",
        "# print status code\n",
        "print(r.status_code)\n"
      ]
    },
    {
      "cell_type": "code",
      "execution_count": null,
      "id": "e405006c",
      "metadata": {
        "id": "e405006c"
      },
      "outputs": [],
      "source": [
        "\"\"\"\n",
        "Requests library is one of the integral part of Python for making HTTP requests to a specified URL. Whether it be REST APIs or Web Scraping, requests is must to be learned for proceeding further with these technologies. When one makes a request to a URI, it returns a response. Python requests provides inbuilt functionalities for managing both the request and response.\n",
        "Why learn Python requests module?\n",
        "Requests is an Apache2 Licensed HTTP library, that allows to send HTTP/1.1 requests using Python.\n",
        "To play with web, Python Requests is must. Whether it be hitting APIs, downloading entire facebook pages, and much more cool stuff, one will have\n",
        "to make a request to the URL.\n",
        "Requests play a major role is dealing with REST APIs, and Web Scraping.\n",
        "Checkout an Example Python Script using Requests and Web Scraping\n",
        "\n",
        "Response object\n",
        "When one makes a request to a URI, it returns a response. This Response object in terms of python is returned by\n",
        "requests.method(), method being – get, post, put, etc. Response is a powerful object with lots of functions and attributes that assist in\n",
        "normalizing data or creating ideal portions of code. For example, response.status_code returns the status code from the headers itself,\n",
        "and one can check if the request was processed successfully or not.\n",
        "Response object can be used to imply lots of features, methods, and functionalities.\n",
        "\n",
        "\n",
        "\"\"\""
      ]
    },
    {
      "cell_type": "code",
      "execution_count": null,
      "id": "eb9e2f88",
      "metadata": {
        "id": "eb9e2f88"
      },
      "outputs": [],
      "source": [
        "\"\"\"\n",
        "BeautifulSoup Library\n",
        "BeautifulSoup is used extract information from the HTML and XML files.\n",
        "It provides a parse tree and the functions to navigate, search or modify this parse tree.\n",
        "\n",
        "Beautiful Soup is a Python library used to pull the data out of HTML and XML files for web scraping purposes.\n",
        "It produces a parse tree from page source code that can be utilized to drag data hierarchically and more legibly.\n",
        "It was first presented by Leonard Richardson, who is still donating to this project, and this project is also supported\n",
        "by Tide lift (a paid subscription tool for open-source supervision).\n",
        "Beautiful soup3 was officially released in May 2006, Latest version released by Beautiful Soup is 4.9.2, and\n",
        "it supports Python 3 and Python 2.4 as well.\n",
        "\n",
        "Features of Beautiful Soup\n",
        "Beautiful Soup is a Python library developed for quick reversal projects like screen-scraping. Three features make it powerful:\n",
        "\n",
        "1. Beautiful Soup provides a few simple methods and Pythonic phrases for guiding, searching, and changing a parse tree: a toolkit for studying a document and removing what you need. It doesn’t take much code to document an application.\n",
        "\n",
        "2. Beautiful Soup automatically converts incoming records to Unicode and outgoing forms to UTF-8. You don’t have to think about encodings unless the document doesn’t define an encoding, and Beautiful Soup can’t catch one. Then you just have to choose the original encoding.\n",
        "\n",
        "3. Beautiful Soup sits on top of famous Python parsers like LXML and HTML,allowing you to try different parsing strategies or trade speed for flexibility.\n",
        "\n",
        "pip install beautifulsoup4\n",
        "\n",
        "Inspecting Website\n",
        "\n",
        "\n",
        "Before getting out any information from the HTML of the page, we must understand the structure of the page. This is needed to be done in order to select the desired data from the entire page. We can do this by right-clicking on the page we want to scrape and select inspect element.\n",
        "\n",
        " Parsing the HTML\n",
        "\n",
        "\n",
        "After getting the HTML of the page let’s see how to parse this raw HTML code into some useful information. First of all, we will create a BeautifulSoup object by specifying the parser we want to use.\n",
        "\n",
        "\n",
        "\n",
        "Note: BeautifulSoup library is built on top of the HTML parsing libraries like html5lib, lxml, html.parser, etc.\n",
        "So BeautifulSoup object and specify the parser library can be created at the same time.\n",
        "\n",
        "\n",
        "\n",
        "Example: Python BeautifulSoup Parsing HTML\n",
        "\n",
        "import requests\n",
        "from bs4 import BeautifulSoup\n",
        "\n",
        "\n",
        "# Making a GET request\n",
        "r = requests.get('https://www.geeksforgeeks.org/python-programming-language/')\n",
        "\n",
        "# check status code for response received\n",
        "# success code - 200\n",
        "print(r)\n",
        "\n",
        "# Parsing the HTML\n",
        "soup = BeautifulSoup(r.content, 'html.parser')\n",
        "print(soup.prettify())\n",
        "\n",
        "\"\"\""
      ]
    },
    {
      "cell_type": "code",
      "execution_count": null,
      "id": "8cd8ab4d",
      "metadata": {
        "id": "8cd8ab4d"
      },
      "outputs": [],
      "source": [
        "import requests\n",
        "from bs4 import BeautifulSoup\n",
        "\n",
        "\n",
        "# Making a GET request\n",
        "r = requests.get('https://www.geeksforgeeks.org/python-programming-language/')\n",
        "\n",
        "# check status code for response received\n",
        "# success code - 200\n",
        "print(r)\n",
        "\n",
        "# Parsing the HTML\n",
        "soup = BeautifulSoup(r.content, 'html.parser')\n",
        "print(soup.prettify())\n"
      ]
    },
    {
      "cell_type": "code",
      "execution_count": null,
      "id": "dc60472e",
      "metadata": {
        "id": "dc60472e"
      },
      "outputs": [],
      "source": [
        "\"\"\"\n",
        "This information is still not useful to us, let’s see another example to make some clear picture from this.\n",
        "\"\"\"\n",
        "\n",
        "import requests\n",
        "from bs4 import BeautifulSoup\n",
        "\n",
        "\n",
        "# Making a GET request\n",
        "r = requests.get('https://www.geeksforgeeks.org/python-programming-language/')\n",
        "\n",
        "# Parsing the HTML\n",
        "soup = BeautifulSoup(r.content, 'html.parser')\n",
        "\n",
        "# Getting the title tag\n",
        "print(soup.title)\n",
        "\n",
        "# Getting the name of the tag\n",
        "print(soup.title.name)\n",
        "\n",
        "# Getting the name of parent tag\n",
        "print(soup.title.parent.name)\n",
        "\n",
        "# use the child attribute to get\n",
        "# the name of the child tag\n"
      ]
    },
    {
      "cell_type": "code",
      "execution_count": null,
      "id": "54ac9c66",
      "metadata": {
        "id": "54ac9c66"
      },
      "outputs": [],
      "source": [
        "#Finding Elements by class\n",
        "import requests\n",
        "from bs4 import BeautifulSoup\n",
        "\n",
        "\n",
        "# Making a GET request\n",
        "r = requests.get('https://www.geeksforgeeks.org/python-programming-language/')\n",
        "\n",
        "# Parsing the HTML\n",
        "soup = BeautifulSoup(r.content, 'html.parser')\n",
        "\n",
        "s = soup.find('div', class_='entry-content')\n",
        "content = s.find_all('p')\n",
        "\n",
        "print(content)\n",
        "\n"
      ]
    },
    {
      "cell_type": "code",
      "execution_count": null,
      "id": "429e5184",
      "metadata": {
        "id": "429e5184"
      },
      "outputs": [],
      "source": [
        "#Finding Elements by ID\n",
        "\"\"\"\n",
        "Now for this task let’s scrape the content of the leftbar of the page. The first step is to inspect the page and see the\n",
        "leftbar falls under which tag.\n",
        "The above image shows that the leftbar falls under the <div> tag with id as main.\n",
        "\n",
        "We can see that the list in the leftbar is under the <ul> tag with\n",
        "the class as leftBarList and our task is to find all the li under this ul.\n",
        "\"\"\"\n",
        "import requests\n",
        "from bs4 import BeautifulSoup\n",
        "\n",
        "\n",
        "# Making a GET request\n",
        "r = requests.get('https://www.geeksforgeeks.org/python-programming-language/')\n",
        "\n",
        "# Parsing the HTML\n",
        "soup = BeautifulSoup(r.content, 'html.parser')\n",
        "\n",
        "# Finding by id\n",
        "s = soup.find('div', id= 'main')\n",
        "\n",
        "# Getting the leftbar\n",
        "leftbar = s.find('ul', class_='leftBarList')\n",
        "\n",
        "# All the li under the above ul\n",
        "content = leftbar.find_all('li')\n",
        "\n",
        "print(content)\n"
      ]
    },
    {
      "cell_type": "code",
      "execution_count": null,
      "id": "326baa81",
      "metadata": {
        "id": "326baa81"
      },
      "outputs": [],
      "source": [
        "#Example 2: Removing the tags from the content of the leftbar\n",
        "import requests\n",
        "from bs4 import BeautifulSoup\n",
        "\n",
        "\n",
        "# Making a GET request\n",
        "r = requests.get('https://www.geeksforgeeks.org/python-programming-language/')\n",
        "\n",
        "# Parsing the HTML\n",
        "soup = BeautifulSoup(r.content, 'html.parser')\n",
        "\n",
        "# Finding by id\n",
        "s = soup.find('div', id= 'main')\n",
        "\n",
        "# Getting the leftbar\n",
        "leftbar = s.find('ul', class_='leftBarList')\n",
        "\n",
        "# All the li under the above ul\n",
        "lines = leftbar.find_all('li')\n",
        "\n",
        "for line in lines:\n",
        "\tprint(line.text)\n"
      ]
    },
    {
      "cell_type": "code",
      "execution_count": null,
      "id": "83b20be6",
      "metadata": {
        "id": "83b20be6"
      },
      "outputs": [],
      "source": [
        "\"\"\"\n",
        "Extracting Links\n",
        "\n",
        "\n",
        "Till now we have seen how to extract text, let’s now see how to extract the links from the page.\n",
        "\n",
        "\n",
        "\n",
        "Example: Python BeautifulSoup Extracting Links\n",
        "\n",
        "\"\"\"\n",
        "\n",
        "import requests\n",
        "from bs4 import BeautifulSoup\n",
        "\n",
        "\n",
        "# Making a GET request\n",
        "r = requests.get('https://www.geeksforgeeks.org/python-programming-language/')\n",
        "\n",
        "# Parsing the HTML\n",
        "soup = BeautifulSoup(r.content, 'html.parser')\n",
        "\n",
        "# find all the anchor tags with \"href\"\n",
        "for link in soup.find_all('a'):\n",
        "\tprint(link.get('href'))\n"
      ]
    },
    {
      "cell_type": "code",
      "execution_count": null,
      "id": "9b36afbf",
      "metadata": {
        "id": "9b36afbf"
      },
      "outputs": [],
      "source": [
        "import requests\n",
        "from bs4 import BeautifulSoup as bs\n",
        "import csv\n",
        "\n",
        "URL = 'https://www.geeksforgeeks.org/page/'\n",
        "\n",
        "soup = bs(req.text, 'html.parser')\n",
        "\n",
        "titles = soup.find_all('div', attrs={'class', 'head'})\n",
        "titles_list = []\n",
        "\n",
        "count = 1\n",
        "for title in titles:\n",
        "\td = {}\n",
        "\td['Title Number'] = f'Title {count}'\n",
        "\td['Title Name'] = title.text\n",
        "\tcount += 1\n",
        "\ttitles_list.append(d)\n",
        "\n",
        "filename = 'titles.csv'\n",
        "with open(filename, 'w', newline='') as f:\n",
        "\tw = csv.DictWriter(f,['Title Number','Title Name'])\n",
        "\tw.writeheader()\n",
        "\n",
        "\tw.writerows(titles_list)\n"
      ]
    },
    {
      "cell_type": "code",
      "execution_count": null,
      "id": "7010e158",
      "metadata": {
        "id": "7010e158"
      },
      "outputs": [],
      "source": [
        "import requests\n",
        "from selenium import webdriver\n",
        "from bs4 import BeautifulSoup\n",
        "import time\n",
        "\n",
        "from selenium import webdriver\n",
        "from bs4 import BeautifulSoup\n",
        "import time\n",
        "import pandas as pd"
      ]
    },
    {
      "cell_type": "code",
      "execution_count": null,
      "id": "f9b4fb13",
      "metadata": {
        "id": "f9b4fb13",
        "colab": {
          "base_uri": "https://localhost:8080/"
        },
        "outputId": "d290fad7-5636-4d5d-f122-6b3871e59175"
      },
      "outputs": [
        {
          "output_type": "stream",
          "name": "stdout",
          "text": [
            "Requirement already satisfied: requests in /usr/local/lib/python3.10/dist-packages (2.31.0)\n",
            "Requirement already satisfied: beautifulsoup4 in /usr/local/lib/python3.10/dist-packages (4.12.3)\n",
            "Requirement already satisfied: charset-normalizer<4,>=2 in /usr/local/lib/python3.10/dist-packages (from requests) (3.3.2)\n",
            "Requirement already satisfied: idna<4,>=2.5 in /usr/local/lib/python3.10/dist-packages (from requests) (3.7)\n",
            "Requirement already satisfied: urllib3<3,>=1.21.1 in /usr/local/lib/python3.10/dist-packages (from requests) (2.0.7)\n",
            "Requirement already satisfied: certifi>=2017.4.17 in /usr/local/lib/python3.10/dist-packages (from requests) (2024.2.2)\n",
            "Requirement already satisfied: soupsieve>1.2 in /usr/local/lib/python3.10/dist-packages (from beautifulsoup4) (2.5)\n"
          ]
        }
      ],
      "source": [
        "!pip install requests beautifulsoup4\n"
      ]
    },
    {
      "cell_type": "code",
      "execution_count": null,
      "id": "43359115",
      "metadata": {
        "id": "43359115",
        "colab": {
          "base_uri": "https://localhost:8080/",
          "height": 218
        },
        "outputId": "59e6f810-3b2f-4244-db89-dd3791b962e8"
      },
      "outputs": [
        {
          "output_type": "error",
          "ename": "AttributeError",
          "evalue": "'NoneType' object has no attribute 'find_all'",
          "traceback": [
            "\u001b[0;31m---------------------------------------------------------------------------\u001b[0m",
            "\u001b[0;31mAttributeError\u001b[0m                            Traceback (most recent call last)",
            "\u001b[0;32m<ipython-input-31-a5173cb234f7>\u001b[0m in \u001b[0;36m<cell line: 12>\u001b[0;34m()\u001b[0m\n\u001b[1;32m     22\u001b[0m \u001b[0;34m\u001b[0m\u001b[0m\n\u001b[1;32m     23\u001b[0m     \u001b[0;31m# Iterate over the rows in the table (skipping the header row)\u001b[0m\u001b[0;34m\u001b[0m\u001b[0;34m\u001b[0m\u001b[0m\n\u001b[0;32m---> 24\u001b[0;31m     \u001b[0;32mfor\u001b[0m \u001b[0mrow\u001b[0m \u001b[0;32min\u001b[0m \u001b[0mtable\u001b[0m\u001b[0;34m.\u001b[0m\u001b[0mfind_all\u001b[0m\u001b[0;34m(\u001b[0m\u001b[0;34m'tr'\u001b[0m\u001b[0;34m)\u001b[0m\u001b[0;34m[\u001b[0m\u001b[0;36m1\u001b[0m\u001b[0;34m:\u001b[0m\u001b[0;34m]\u001b[0m\u001b[0;34m:\u001b[0m\u001b[0;34m\u001b[0m\u001b[0;34m\u001b[0m\u001b[0m\n\u001b[0m\u001b[1;32m     25\u001b[0m         \u001b[0mcolumns\u001b[0m \u001b[0;34m=\u001b[0m \u001b[0mrow\u001b[0m\u001b[0;34m.\u001b[0m\u001b[0mfind_all\u001b[0m\u001b[0;34m(\u001b[0m\u001b[0;34m'td'\u001b[0m\u001b[0;34m)\u001b[0m\u001b[0;34m\u001b[0m\u001b[0;34m\u001b[0m\u001b[0m\n\u001b[1;32m     26\u001b[0m         \u001b[0;32mif\u001b[0m \u001b[0mlen\u001b[0m\u001b[0;34m(\u001b[0m\u001b[0mcolumns\u001b[0m\u001b[0;34m)\u001b[0m \u001b[0;34m>\u001b[0m \u001b[0;36m0\u001b[0m\u001b[0;34m:\u001b[0m\u001b[0;34m\u001b[0m\u001b[0;34m\u001b[0m\u001b[0m\n",
            "\u001b[0;31mAttributeError\u001b[0m: 'NoneType' object has no attribute 'find_all'"
          ]
        }
      ],
      "source": [
        "import requests\n",
        "from bs4 import BeautifulSoup\n",
        "import pandas as pd\n",
        "\n",
        "# URL of the Wikipedia page\n",
        "url = \"https://en.wikipedia.org/wiki/List_of_cities_in_India_by_population\"\n",
        "\n",
        "# Send a GET request to the URL\n",
        "response = requests.get(url)\n",
        "\n",
        "# Check if the request was successful\n",
        "if response.status_code == 200:\n",
        "    # Parse the HTML content of the page\n",
        "    soup = BeautifulSoup(response.content, \"html.parser\")\n",
        "\n",
        "    # Find the first table in the page (which is the main table for the cities list)\n",
        "    table = soup.find('table', {'class': 'wikitable sortable'})\n",
        "\n",
        "    # Initialize lists to store table data\n",
        "    cities = []\n",
        "    populations = []\n",
        "\n",
        "    # Iterate over the rows in the table (skipping the header row)\n",
        "    for row in table.find_all('tr')[1:]:\n",
        "        columns = row.find_all('td')\n",
        "        if len(columns) > 0:\n",
        "            city = columns[1].get_text(strip=True)\n",
        "            population = columns[2].get_text(strip=True)\n",
        "            cities.append(city)\n",
        "            populations.append(population)\n",
        "\n",
        "    # Create a DataFrame from the lists\n",
        "    df = pd.DataFrame({\n",
        "        'City': cities,\n",
        "        'Population': populations\n",
        "    })\n",
        "\n",
        "    # Print the DataFrame\n",
        "    print(df)\n",
        "\n",
        "else:\n",
        "    print(f\"Failed to retrieve the page. Status code: {response.status_code}\")\n"
      ]
    },
    {
      "cell_type": "code",
      "execution_count": null,
      "id": "8627e2a8",
      "metadata": {
        "id": "8627e2a8"
      },
      "outputs": [],
      "source": []
    },
    {
      "cell_type": "code",
      "execution_count": null,
      "id": "97befcd1",
      "metadata": {
        "id": "97befcd1"
      },
      "outputs": [],
      "source": []
    },
    {
      "cell_type": "code",
      "execution_count": null,
      "id": "ccd32fbb",
      "metadata": {
        "id": "ccd32fbb"
      },
      "outputs": [],
      "source": []
    }
  ],
  "metadata": {
    "kernelspec": {
      "display_name": "Python 3 (ipykernel)",
      "language": "python",
      "name": "python3"
    },
    "language_info": {
      "codemirror_mode": {
        "name": "ipython",
        "version": 3
      },
      "file_extension": ".py",
      "mimetype": "text/x-python",
      "name": "python",
      "nbconvert_exporter": "python",
      "pygments_lexer": "ipython3",
      "version": "3.9.15"
    },
    "colab": {
      "provenance": [],
      "include_colab_link": true
    }
  },
  "nbformat": 4,
  "nbformat_minor": 5
}