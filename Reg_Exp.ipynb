{
 "cells": [
  {
   "cell_type": "code",
   "execution_count": 5,
   "id": "e9505af6",
   "metadata": {},
   "outputs": [
    {
     "name": "stdout",
     "output_type": "stream",
     "text": [
      "10\n",
      "20\n"
     ]
    }
   ],
   "source": [
    "a=10\n",
    "print(a)\n",
    "b=20\n",
    "print(b)"
   ]
  },
  {
   "cell_type": "code",
   "execution_count": 6,
   "id": "8fec9b4c",
   "metadata": {},
   "outputs": [
    {
     "data": {
      "text/plain": [
       "10"
      ]
     },
     "execution_count": 6,
     "metadata": {},
     "output_type": "execute_result"
    }
   ],
   "source": [
    "a"
   ]
  },
  {
   "cell_type": "code",
   "execution_count": 7,
   "id": "4fbefaa0",
   "metadata": {},
   "outputs": [
    {
     "data": {
      "text/plain": [
       "'\\n\\n'"
      ]
     },
     "execution_count": 7,
     "metadata": {},
     "output_type": "execute_result"
    }
   ],
   "source": [
    "#\n",
    "\"\"\"\n",
    "\n",
    "\"\"\""
   ]
  },
  {
   "cell_type": "code",
   "execution_count": 8,
   "id": "736a8627",
   "metadata": {},
   "outputs": [],
   "source": [
    "import re"
   ]
  },
  {
   "cell_type": "code",
   "execution_count": 9,
   "id": "ec0232f3",
   "metadata": {},
   "outputs": [
    {
     "name": "stdout",
     "output_type": "stream",
     "text": [
      "The pattern found 12345\n"
     ]
    }
   ],
   "source": [
    "pattern=re.compile('\\w+')\n",
    "string='12345 this is my number 09876'\n",
    "match=re.match(pattern,string)\n",
    "if match:\n",
    "    print(f\"The pattern found {match.group()}\")\n",
    "else:\n",
    "    print(\"Not found\")"
   ]
  },
  {
   "cell_type": "code",
   "execution_count": 10,
   "id": "45df00ee",
   "metadata": {},
   "outputs": [
    {
     "name": "stdout",
     "output_type": "stream",
     "text": [
      "['M', 'y', ' ', 'p', 'h', 'o', 'n', 'e', ' ', 'n', 'u', 'm', 'b', 'e', 'r', ' ', 'i', 's', ' ']\n"
     ]
    }
   ],
   "source": [
    "#pattern=re.compile('[abc]') -- ['b', 'a', 'c']\n",
    "pattern=re.compile(\"[a-zA-Z ]\")\n",
    "string=\"My phone number is 12345\"\n",
    "result=re.findall(pattern,string)\n",
    "print(result)"
   ]
  },
  {
   "cell_type": "code",
   "execution_count": 11,
   "id": "dbebed56",
   "metadata": {},
   "outputs": [
    {
     "name": "stdout",
     "output_type": "stream",
     "text": [
      "['8', '45']\n"
     ]
    }
   ],
   "source": [
    "pattern=re.compile(\"[^1-3]+\") \n",
    "string=\"82345\"\n",
    "result=re.findall(pattern,string)\n",
    "print(result)"
   ]
  },
  {
   "cell_type": "code",
   "execution_count": 12,
   "id": "ce72fac2",
   "metadata": {},
   "outputs": [
    {
     "name": "stdout",
     "output_type": "stream",
     "text": [
      "['y ph', 'one ', 'numb', 'er i', 's ']\n"
     ]
    }
   ],
   "source": [
    "pattern=re.compile(\"[a-z ]{2,4}\")\n",
    "string=\"My phone number is 12345\"\n",
    "result=re.findall(pattern,string)\n",
    "print(result)"
   ]
  },
  {
   "cell_type": "code",
   "execution_count": 13,
   "id": "708050a2",
   "metadata": {},
   "outputs": [
    {
     "name": "stdout",
     "output_type": "stream",
     "text": [
      "The pattern found aazxs\n"
     ]
    }
   ],
   "source": [
    "pattern=re.compile(\"^a...s$\")\n",
    "string=\"aazxs\"\n",
    "match=re.match(pattern,string)\n",
    "if match:\n",
    "    print(f\"The pattern found {match.group()}\")\n",
    "else:\n",
    "    print(\"Not found\")"
   ]
  },
  {
   "cell_type": "code",
   "execution_count": 14,
   "id": "53052865",
   "metadata": {},
   "outputs": [],
   "source": [
    "pattern=re.compile(\"[6-9]{1}\\d{9}\") #---"
   ]
  },
  {
   "cell_type": "code",
   "execution_count": 18,
   "id": "b8d2c3e8",
   "metadata": {},
   "outputs": [
    {
     "name": "stdout",
     "output_type": "stream",
     "text": [
      "['Hello,', 'I', 'am', 'studying', 'Python']\n"
     ]
    }
   ],
   "source": [
    "pattern = \"Hello, I am studying Python\"\n",
    "#x=re.split(\"\\s\",pattern)\n",
    "x=re.split(\" \",pattern)\n",
    "print(x)"
   ]
  },
  {
   "cell_type": "code",
   "execution_count": 19,
   "id": "7fa46060",
   "metadata": {},
   "outputs": [
    {
     "name": "stdout",
     "output_type": "stream",
     "text": [
      "Enter your name : Parinita Jain\n",
      "['Parinita', 'Jain']\n"
     ]
    }
   ],
   "source": [
    "x=input(\"Enter your name : \").split()\n",
    "print(x)"
   ]
  },
  {
   "cell_type": "code",
   "execution_count": 29,
   "id": "8feb6de9",
   "metadata": {},
   "outputs": [
    {
     "name": "stdout",
     "output_type": "stream",
     "text": [
      "Pattern found\n",
      "Pattern's position  6\n",
      "Pattern found\n",
      "['lear', 'lear', 'lear'] 3\n"
     ]
    }
   ],
   "source": [
    "txt = \"I am learning Python learn learn\"\n",
    "X=re.search(\"lear\",txt)\n",
    "if X:\n",
    "    print(\"Pattern found\")\n",
    "    print(\"Pattern's position \",X.start()+1)\n",
    "else:\n",
    "    print(\"Pattern not found\")\n",
    "    \n",
    "    \n",
    "X=re.findall(\"lear\",txt)\n",
    "if X:\n",
    "    print(\"Pattern found\")\n",
    "    print(X,len(X))\n",
    "else:\n",
    "    print(\"Pattern not found\")"
   ]
  },
  {
   "cell_type": "code",
   "execution_count": null,
   "id": "41f663a3",
   "metadata": {},
   "outputs": [],
   "source": []
  },
  {
   "cell_type": "code",
   "execution_count": null,
   "id": "3b1eb126",
   "metadata": {},
   "outputs": [],
   "source": []
  }
 ],
 "metadata": {
  "kernelspec": {
   "display_name": "Python 3 (ipykernel)",
   "language": "python",
   "name": "python3"
  },
  "language_info": {
   "codemirror_mode": {
    "name": "ipython",
    "version": 3
   },
   "file_extension": ".py",
   "mimetype": "text/x-python",
   "name": "python",
   "nbconvert_exporter": "python",
   "pygments_lexer": "ipython3",
   "version": "3.9.7"
  }
 },
 "nbformat": 4,
 "nbformat_minor": 5
}
